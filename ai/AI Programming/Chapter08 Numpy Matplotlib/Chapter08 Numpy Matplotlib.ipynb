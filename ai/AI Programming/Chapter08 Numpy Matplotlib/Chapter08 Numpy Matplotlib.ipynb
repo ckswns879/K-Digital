{
 "cells": [
  {
   "attachments": {},
   "cell_type": "markdown",
   "metadata": {},
   "source": [
    "Numpy"
   ]
  },
  {
   "cell_type": "code",
   "execution_count": 6,
   "metadata": {},
   "outputs": [
    {
     "name": "stdout",
     "output_type": "stream",
     "text": [
      "[1 2 3]\n",
      "[[1 2]\n",
      " [3 4]]\n",
      "[[1 2 3 4 5]]\n",
      "[1. 2. 3.]\n",
      "3\n"
     ]
    },
    {
     "data": {
      "text/plain": [
       "array([[1, 2],\n",
       "       [3, 4]])"
      ]
     },
     "execution_count": 6,
     "metadata": {},
     "output_type": "execute_result"
    }
   ],
   "source": [
    "import numpy as np\n",
    "# arrays\n",
    "a = np.array([1, 2, 3])\n",
    "b = np.array([[1, 2], [3, 4]])\n",
    "c = np.array([1, 2, 3, 4, 5], ndmin = 2)\n",
    "d = np.array([1, 2, 3], dtype = float)\n",
    "\n",
    "print(a)\n",
    "print(b)\n",
    "print(c)\n",
    "print(d)\n",
    "print(a[2])\n",
    "a\n",
    "b"
   ]
  },
  {
   "cell_type": "code",
   "execution_count": 7,
   "metadata": {},
   "outputs": [
    {
     "name": "stdout",
     "output_type": "stream",
     "text": [
      "[0 1 2 3 4]\n",
      "[2 4 6 8]\n",
      "[0. 0. 0. 0. 0.]\n",
      "[1. 1. 1. 1. 1.]\n"
     ]
    }
   ],
   "source": [
    "# Array Creation\n",
    "# 기본적으로 floating point로 나오기 떄문에 1.0\n",
    "a = np.arange(5)\n",
    "b = np.arange(2, 9, 2)\n",
    "c = np.zeros(5)\n",
    "d = np.ones(5)\n",
    "\n",
    "print(a)\n",
    "print(b)\n",
    "print(c)\n",
    "print(d)"
   ]
  },
  {
   "cell_type": "code",
   "execution_count": 10,
   "metadata": {},
   "outputs": [
    {
     "name": "stdout",
     "output_type": "stream",
     "text": [
      "[[1. 0. 0.]\n",
      " [0. 1. 0.]\n",
      " [0. 0. 1.]]\n",
      "[[1. 0. 0. 0.]\n",
      " [0. 1. 0. 0.]\n",
      " [0. 0. 1. 0.]]\n",
      "[10.  12.5 15.  17.5 20. ]\n"
     ]
    }
   ],
   "source": [
    "a = np.eye(3)\n",
    "b = np.eye(3, 4)\n",
    "c = np.linspace(10, 20, 5)\n",
    "\n",
    "print(a)\n",
    "print(b)\n",
    "print(c)"
   ]
  },
  {
   "cell_type": "code",
   "execution_count": 10,
   "metadata": {},
   "outputs": [
    {
     "name": "stdout",
     "output_type": "stream",
     "text": [
      "[0 1 2 3 4 5]\n",
      "[[0 1]\n",
      " [2 3]\n",
      " [4 5]]\n",
      "b[2, 1]은  5\n",
      "b[:, 1]은  [1 3 5]\n",
      "(3, 2)\n",
      "6\n",
      "2\n",
      "[[0 2 4]\n",
      " [1 3 5]]\n",
      "[[0 1]\n",
      " [2 3]\n",
      " [4 5]]\n",
      "[0 1 2 3 4 5]\n"
     ]
    }
   ],
   "source": [
    "# Getting information and Changing Shapes\n",
    "\n",
    "a = np.arange(6)\n",
    "b = a.reshape(3, 2)\n",
    "print(a)\n",
    "print(b)\n",
    "print('b[2, 1]은 ', b[2, 1])\n",
    "print('b[:, 1]은 ', b[:, 1])\n",
    "print(np.shape(b)) # 튜플의 행렬 차원\n",
    "print(np.size(b))  # 요소의 총 숫자\n",
    "print(np.ndim(b))  # 차원의 숫자\n",
    "print(np.transpose(b))\n",
    "\n",
    "c = np.copy(b)\n",
    "print(c)\n",
    "print(np.ravel(c))  # 행렬을 한차원으로"
   ]
  },
  {
   "cell_type": "code",
   "execution_count": 26,
   "metadata": {},
   "outputs": [
    {
     "name": "stdout",
     "output_type": "stream",
     "text": [
      "[[12 14]\n",
      " [16 18]]\n",
      "[[11 24]\n",
      " [39 56]]\n",
      "[[37 40]\n",
      " [85 92]]\n",
      "[[35 41]\n",
      " [81 95]]\n"
     ]
    }
   ],
   "source": [
    "# Mathematical Functions\n",
    "a = np.array([[1,2], [3,4]])\n",
    "b = np.array([[11, 12], [13, 14]])\n",
    "\n",
    "print(a + b)\n",
    "print(a * b) # 행렬 요소들을 직접 곱함\n",
    "print(np.dot(a,b))  # 행렬 내적, 스칼라 곱\n",
    "print(np.inner(a,b))  # 행렬 내적인데 dot과 다른방향"
   ]
  },
  {
   "cell_type": "code",
   "execution_count": 27,
   "metadata": {},
   "outputs": [
    {
     "name": "stdout",
     "output_type": "stream",
     "text": [
      "[-2.  2. -0.  1. 10.]\n",
      "[-2.  1. -1.  0. 10.]\n",
      "[-1.  2. -0.  1. 10.]\n"
     ]
    }
   ],
   "source": [
    "a = np.array([-1.7, 1.5, -0.2, 0.6, 10])\n",
    "b = np.around(a) # 소숫점 반올림\n",
    "c = np.floor(a) # floor 은 소숫점 버림\n",
    "d = np.ceil(a) # ceil 은 소숫점 올림\n",
    "\n",
    "print(b)\n",
    "print(c)\n",
    "print(d)"
   ]
  },
  {
   "cell_type": "code",
   "execution_count": 35,
   "metadata": {},
   "outputs": [
    {
     "name": "stdout",
     "output_type": "stream",
     "text": [
      "[  1.   6. 123.   1.  26.]\n",
      "[  1.    5.6 123.    0.6  25.5]\n",
      "[  0.  10. 120.   0.  30.]\n"
     ]
    }
   ],
   "source": [
    "a = np.array([1.0, 5.55, 123, 0.567, 25.532])\n",
    "b = np.around(a)  # 소숫점 반올림\n",
    "c = np.around(a, decimals = 1) # decimals = 반올림하는 위치\n",
    "d = np.around(a, decimals = -1)\n",
    "\n",
    "print(b)\n",
    "print(c)\n",
    "print(d)"
   ]
  },
  {
   "cell_type": "code",
   "execution_count": 152,
   "metadata": {},
   "outputs": [
    {
     "name": "stdout",
     "output_type": "stream",
     "text": [
      "[3 3 2]\n",
      "[2 4 3]\n",
      "2\n",
      "[7 8 9]\n",
      "[8 7 9]\n"
     ]
    }
   ],
   "source": [
    "a = np.array([[3, 7, 5], [8, 4, 3], [2, 4, 9]])\n",
    "b = np.amin(a, 1) # 가장 작은 값들을 추출,  행을 돌아가면서 찾음\n",
    "c = np.amin(a, 0) # 가장 작은 값들을 추출,  열을 돌아가면서 찾음\n",
    "d = np.amin(a) # a에서 가장 작은 값 출력\n",
    "e = np.amax(a, 1)\n",
    "f = np.amax(a, 0)\n",
    "\n",
    "print(b)\n",
    "print(c)\n",
    "print(d)\n",
    "print(e)\n",
    "print(f)"
   ]
  },
  {
   "cell_type": "code",
   "execution_count": 41,
   "metadata": {},
   "outputs": [
    {
     "name": "stdout",
     "output_type": "stream",
     "text": [
      "[[0.25478078 0.94977666]\n",
      " [0.26361509 0.32350673]\n",
      " [0.26794956 0.88767747]]\n",
      "[[4 6 3 4]\n",
      " [6 3 4 7]]\n"
     ]
    }
   ],
   "source": [
    "# Random Numbers\n",
    "b = np.random.rand(3,2) # 3행 2열짜리 행렬에 랜덤수 채움\n",
    "c = np.random.randint(3, 9, size=(2,4)) # 2 x 4 행렬에 3~9 랜덤수 채움\n",
    "\n",
    "print(b)\n",
    "print(c)"
   ]
  },
  {
   "cell_type": "code",
   "execution_count": 42,
   "metadata": {},
   "outputs": [
    {
     "name": "stdout",
     "output_type": "stream",
     "text": [
      "[[-2.   1. ]\n",
      " [ 1.5 -0.5]]\n",
      "[[ 9. ]\n",
      " [-6.5]]\n",
      "-2.0000000000000004\n",
      "(array([-0.37228132,  5.37228132]), array([[-0.82456484, -0.41597356],\n",
      "       [ 0.56576746, -0.90937671]]))\n"
     ]
    }
   ],
   "source": [
    "# Linear Algebra 선형 대수\n",
    "\n",
    "a = np.array([[1,2], [3,4]])\n",
    "b = np.array([[-4], [1]])\n",
    "linv_a = np.linalg.inv(a)  # 역행렬\n",
    "c = np.linalg.solve(a, b)  # a,b값을 주고 ax = b에서 x 값 구함\n",
    "d = np.linalg.det(a)  # a의 행렬 식\n",
    "e = np.linalg.eig(a) # a의 고유값과 고유벡터\n",
    "\n",
    "print(linv_a)\n",
    "print(c)\n",
    "print(d)\n",
    "print(e)"
   ]
  },
  {
   "cell_type": "code",
   "execution_count": 43,
   "metadata": {},
   "outputs": [],
   "source": [
    "from matplotlib import pyplot as plt"
   ]
  },
  {
   "attachments": {},
   "cell_type": "markdown",
   "metadata": {},
   "source": [
    "Matplotlib"
   ]
  },
  {
   "cell_type": "code",
   "execution_count": 63,
   "metadata": {},
   "outputs": [
    {
     "data": {
      "image/png": "[encoded data removed]",
      "text/plain": [
       "<Figure size 640x480 with 1 Axes>"
      ]
     },
     "metadata": {},
     "output_type": "display_data"
    }
   ],
   "source": [
    "plt.plot([1, 2, 3], [1, 4, 9], 'c+', markersize=20, linewidth=5) # g는 녹색, r은 빨간색, b는 푸른색\n",
    "# c--는 점선, c*--는 * 들어간것, c*는 점선은 사라지고 포인트만 남음, c+는 +가 남음\n",
    "# markersize는 *, +의 사이즈\n",
    "# linewidth 선 굵기\n",
    "plt.plot([2, 3, 4], [5, 6, 7])\n",
    "plt.xlabel('sequence') # x 축 입력\n",
    "plt.ylabel('Time(sec)') # y 축 입력\n",
    "plt.title('Experimental Result')  # 제목 입력\n",
    "plt.legend(['Mouse', 'Cat']) # legend는 범례\n",
    "plt.grid()  # 그래프에 격자 표시\n",
    "plt.show()"
   ]
  },
  {
   "cell_type": "code",
   "execution_count": 65,
   "metadata": {},
   "outputs": [
    {
     "data": {
      "image/png": "[encoded data removed]",
      "text/plain": [
       "<Figure size 640x480 with 1 Axes>"
      ]
     },
     "metadata": {},
     "output_type": "display_data"
    }
   ],
   "source": [
    "import numpy as np\n",
    "import matplotlib.pyplot as plt\n",
    "def gaussian(x):\n",
    "  return np.exp(-(0.5 - x) ** 2 /1.5)\n",
    "\n",
    "x = np.arange(-2, 2.5, 0.01)\n",
    "y = gaussian(x)\n",
    "\n",
    "plt.plot(x, y)\n",
    "plt.xlabel('x values')\n",
    "plt.ylabel('exp(-(0.5-x) ** 2 / 1.5')\n",
    "plt.title('Gaussian Function')\n",
    "plt.show()"
   ]
  },
  {
   "attachments": {},
   "cell_type": "markdown",
   "metadata": {},
   "source": [
    "Homework 6"
   ]
  },
  {
   "cell_type": "code",
   "execution_count": 2,
   "metadata": {},
   "outputs": [
    {
     "name": "stdout",
     "output_type": "stream",
     "text": [
      "[[2. 2. 2. 2.]\n",
      " [2. 2. 2. 2.]\n",
      " [2. 2. 2. 2.]\n",
      " [2. 2. 2. 2.]\n",
      " [2. 2. 2. 2.]\n",
      " [2. 2. 2. 2.]]\n"
     ]
    }
   ],
   "source": [
    "# 1번 \n",
    "# 1.1 Make an array a of size 6´4 where every element is a 2.\n",
    "import numpy as np\n",
    "a = np.ones((6, 4)) * 2\n",
    "print(a)"
   ]
  },
  {
   "cell_type": "code",
   "execution_count": 3,
   "metadata": {},
   "outputs": [
    {
     "name": "stdout",
     "output_type": "stream",
     "text": [
      "[[3. 1. 1. 1.]\n",
      " [1. 3. 1. 1.]\n",
      " [1. 1. 3. 1.]\n",
      " [1. 1. 1. 3.]\n",
      " [1. 1. 1. 1.]\n",
      " [1. 1. 1. 1.]]\n"
     ]
    }
   ],
   "source": [
    "# 1.2 Make an array b of size 6´4 that has 3 on the leading diagonal\n",
    "#  and 1 everywhere else. (Do not use loops.)\n",
    "b = np.ones((6, 4)) + np.eye(6, 4) * 2\n",
    "\n",
    "print(b)"
   ]
  },
  {
   "cell_type": "code",
   "execution_count": 4,
   "metadata": {},
   "outputs": [
    {
     "name": "stdout",
     "output_type": "stream",
     "text": [
      "[[6. 2. 2. 2.]\n",
      " [2. 6. 2. 2.]\n",
      " [2. 2. 6. 2.]\n",
      " [2. 2. 2. 6.]\n",
      " [2. 2. 2. 2.]\n",
      " [2. 2. 2. 2.]]\n"
     ]
    }
   ],
   "source": [
    "# 1.3 Can you multiply these two arrays together? Then, \n",
    "# explain why a * b works, but dot(a, b) does not.\n",
    "\n",
    "print(a * b)\n",
    "# np.dot(a,b)는 내적인데 행렬이 6*4 행렬인데 곱할 때 열의 갯수가 맞지 않다.\n",
    "# a * b는 원소들 끼리 곱이라서 값만 각각 곱해서 된다."
   ]
  },
  {
   "cell_type": "code",
   "execution_count": 6,
   "metadata": {},
   "outputs": [
    {
     "name": "stdout",
     "output_type": "stream",
     "text": [
      "[[16. 16. 16. 16.]\n",
      " [16. 16. 16. 16.]\n",
      " [16. 16. 16. 16.]\n",
      " [16. 16. 16. 16.]]\n",
      "[[12. 12. 12. 12.  8.  8.]\n",
      " [12. 12. 12. 12.  8.  8.]\n",
      " [12. 12. 12. 12.  8.  8.]\n",
      " [12. 12. 12. 12.  8.  8.]\n",
      " [12. 12. 12. 12.  8.  8.]\n",
      " [12. 12. 12. 12.  8.  8.]]\n"
     ]
    }
   ],
   "source": [
    "# 1.4 d) Compute dot(a.transpose(), b) and dot(a, b.transpose()). \n",
    "# Explain why the results are in different shapes?\n",
    "\n",
    "print(np.dot(a.transpose(), b))\n",
    "print(np.dot(a, b.transpose()))\n",
    "# transpose는 행과 열을 바꿔준다."
   ]
  },
  {
   "cell_type": "code",
   "execution_count": 177,
   "metadata": {},
   "outputs": [
    {
     "name": "stdout",
     "output_type": "stream",
     "text": [
      "(4, 6)\n",
      "[[   1 2104    5    1   45  460]\n",
      " [   1 1416    3    2   40  232]\n",
      " [   1 1544    3    2   30  315]\n",
      " [   1  852    2    1   36  178]]\n"
     ]
    }
   ],
   "source": [
    "# 2번 \n",
    "# 2.1 Make an array X that has the same data as the above \n",
    "# table (shape of X:(4, 6)). Check whether the shape of \n",
    "# X is (4, 6) by using assert() function.\n",
    "# (Note: assert(cond)gives an error if cond is not True.)\n",
    "x = np.array([[1, 2104, 5, 1, 45, 460], \n",
    "[1, 1416, 3, 2, 40, 232], \n",
    "[1, 1544, 3, 2, 30, 315], \n",
    "[1, 852, 2, 1, 36, 178]])\n",
    "# list1 = [1, 2104, 5, 1, 45, 460]\n",
    "# list2 = [1, 1416, 3, 2, 40, 232]\n",
    "# list3 = [1, 1544, 3, 2, 30, 315]\n",
    "# list4 = [1, 852, 2, 1, 36, 178]\n",
    "# z = np.array([list1, list2, list3, list4])\n",
    "# print(z)\n",
    "\n",
    "#assert 함수는 true이면 아무 일 없음, false이면 error\n",
    "print(x.shape)\n",
    "assert x.shape == (4, 6), \"모양이 잘못됨\"\n",
    "\n",
    "print(x)"
   ]
  },
  {
   "cell_type": "code",
   "execution_count": 180,
   "metadata": {},
   "outputs": [
    {
     "name": "stdout",
     "output_type": "stream",
     "text": [
      "(4, 4)\n",
      "[[2104    5    1   45]\n",
      " [1416    3    2   40]\n",
      " [1544    3    2   30]\n",
      " [ 852    2    1   36]]\n"
     ]
    }
   ],
   "source": [
    "# 2.2번 b) Then, extract 4 parameters (size, # of bedrooms, floors, \n",
    "# age of house) from X and put them into a new matrix P. \n",
    "# Check if the shape of P is (4, 4) by using assert() function.\n",
    "# 데이터 슬라이싱\n",
    "p = x[:, 1:5]\n",
    "\n",
    "print(p.shape)\n",
    "assert p.shape == (4,4) , \"모양이 잘못됨\"\n",
    "print(p)"
   ]
  },
  {
   "cell_type": "code",
   "execution_count": 181,
   "metadata": {},
   "outputs": [
    {
     "name": "stdout",
     "output_type": "stream",
     "text": [
      "[1.0000e+00 1.4790e+03 3.2500e+00 1.5000e+00 3.7750e+01 2.9625e+02]\n"
     ]
    }
   ],
   "source": [
    "# 2.3 Find the mean value of each parameter using the numpy mean function.\n",
    "# axis = 0 -> 행:0  ->> 행들의 값\n",
    "# axis = 1 -> 열:1  ->> 열들의 값\n",
    "# 각 열의 평균값\n",
    "mean_value = np.mean(x, axis=0)\n",
    "print(mean_value)"
   ]
  },
  {
   "cell_type": "code",
   "execution_count": null,
   "metadata": {},
   "outputs": [],
   "source": [
    "# 3번 \n",
    "# 3.1 Create a 4´4 array a using np.ones, \n",
    "# another 4´4 array b using np.eye, and a list c that \n",
    "# have 4 elements each of which is a list of 4 numbers. Now, \n",
    "# execute sum_ = a + b and sub = a – c and then calculate the mean of \n",
    "# sum_. (Note: We use the variable name sum_ because sum is the name of\n",
    "#  a python library function.)"
   ]
  },
  {
   "cell_type": "code",
   "execution_count": 193,
   "metadata": {},
   "outputs": [
    {
     "name": "stdout",
     "output_type": "stream",
     "text": [
      "[[1. 1. 1. 1.]\n",
      " [1. 1. 1. 1.]\n",
      " [1. 1. 1. 1.]\n",
      " [1. 1. 1. 1.]]\n"
     ]
    }
   ],
   "source": [
    "a = np.ones((4,4))\n",
    "print(a)"
   ]
  },
  {
   "cell_type": "code",
   "execution_count": 194,
   "metadata": {},
   "outputs": [
    {
     "name": "stdout",
     "output_type": "stream",
     "text": [
      "[[1. 0. 0. 0.]\n",
      " [0. 1. 0. 0.]\n",
      " [0. 0. 1. 0.]\n",
      " [0. 0. 0. 1.]]\n"
     ]
    }
   ],
   "source": [
    "b = np.eye(4, 4)\n",
    "print(b)"
   ]
  },
  {
   "cell_type": "code",
   "execution_count": 195,
   "metadata": {},
   "outputs": [
    {
     "name": "stdout",
     "output_type": "stream",
     "text": [
      "[[[1, 2, 3, 4], [1, 2, 3, 4], [1, 2, 3, 4], [1, 2, 3, 4]], [[1, 2, 3, 4], [1, 2, 3, 4], [1, 2, 3, 4], [1, 2, 3, 4]], [[1, 2, 3, 4], [1, 2, 3, 4], [1, 2, 3, 4], [1, 2, 3, 4]], [[1, 2, 3, 4], [1, 2, 3, 4], [1, 2, 3, 4], [1, 2, 3, 4]]]\n"
     ]
    }
   ],
   "source": [
    "import random\n",
    "c = [[[1, 2, 3, 4] for _ in range(4)] for _ in range(4)]\n",
    "print(c)\n",
    "\n",
    "# c = [list(np.random.randint(0, 10, size=(4)) for _ in range(4))]\n",
    "# print(c)"
   ]
  },
  {
   "cell_type": "code",
   "execution_count": 196,
   "metadata": {},
   "outputs": [
    {
     "name": "stdout",
     "output_type": "stream",
     "text": [
      "[[2. 1. 1. 1.]\n",
      " [1. 2. 1. 1.]\n",
      " [1. 1. 2. 1.]\n",
      " [1. 1. 1. 2.]]\n"
     ]
    }
   ],
   "source": [
    "sum_ = a + b\n",
    "print(sum_)"
   ]
  },
  {
   "cell_type": "code",
   "execution_count": 197,
   "metadata": {},
   "outputs": [
    {
     "name": "stdout",
     "output_type": "stream",
     "text": [
      "[[[ 0. -1. -2. -3.]\n",
      "  [ 0. -1. -2. -3.]\n",
      "  [ 0. -1. -2. -3.]\n",
      "  [ 0. -1. -2. -3.]]\n",
      "\n",
      " [[ 0. -1. -2. -3.]\n",
      "  [ 0. -1. -2. -3.]\n",
      "  [ 0. -1. -2. -3.]\n",
      "  [ 0. -1. -2. -3.]]\n",
      "\n",
      " [[ 0. -1. -2. -3.]\n",
      "  [ 0. -1. -2. -3.]\n",
      "  [ 0. -1. -2. -3.]\n",
      "  [ 0. -1. -2. -3.]]\n",
      "\n",
      " [[ 0. -1. -2. -3.]\n",
      "  [ 0. -1. -2. -3.]\n",
      "  [ 0. -1. -2. -3.]\n",
      "  [ 0. -1. -2. -3.]]]\n"
     ]
    }
   ],
   "source": [
    "sub_ = a-c\n",
    "print(sub_)"
   ]
  },
  {
   "cell_type": "code",
   "execution_count": 199,
   "metadata": {},
   "outputs": [
    {
     "name": "stdout",
     "output_type": "stream",
     "text": [
      "1.25\n"
     ]
    }
   ],
   "source": [
    "mean_sum_ = np.mean(sum_)\n",
    "print(mean_sum_)"
   ]
  },
  {
   "cell_type": "code",
   "execution_count": 233,
   "metadata": {},
   "outputs": [
    {
     "name": "stdout",
     "output_type": "stream",
     "text": [
      "[[6 8 3 1 1]\n",
      " [2 7 1 8 3]\n",
      " [2 1 4 6 7]\n",
      " [1 5 6 7 0]\n",
      " [1 1 6 3 6]]\n",
      "7\n",
      "0\n",
      "Num ones : 7\n"
     ]
    }
   ],
   "source": [
    "#3-2번 ) Define a function findOne that receives an array and counts \n",
    "# the number of ones in it. Make a 5´5 array of random integers and\n",
    "# count the number of ones in it using findOne. Do the same thing \n",
    "# using the 'where()' function of NumPy. \n",
    "# (Note: Use help(np.where) to find out how to use it.)\n",
    "\n",
    "m = np.random.randint(0, 10, size=(5, 5))\n",
    "print(m)\n",
    "\n",
    "A, _ = np.where(m == 1)\n",
    "print(len(A))\n",
    "print(A[1])\n",
    "\n",
    "# 그냥 이렇게 하자\n",
    "rows, cols = m.shape\n",
    "\n",
    "cnt = 0\n",
    "for r in range(rows):\n",
    "  for c in range(cols):\n",
    "    if m[r, c] == 1:\n",
    "     cnt += 1\n",
    "\n",
    "print('Num ones : {}'.format(cnt))\n",
    "  \n"
   ]
  },
  {
   "cell_type": "code",
   "execution_count": 238,
   "metadata": {},
   "outputs": [],
   "source": [
    "# 4번\n",
    "import pandas as pd"
   ]
  },
  {
   "cell_type": "code",
   "execution_count": 237,
   "metadata": {},
   "outputs": [
    {
     "name": "stdout",
     "output_type": "stream",
     "text": [
      "[-2.00000000e+00 -1.99000000e+00 -1.98000000e+00 -1.97000000e+00\n",
      " -1.96000000e+00 -1.95000000e+00 -1.94000000e+00 -1.93000000e+00\n",
      " -1.92000000e+00 -1.91000000e+00 -1.90000000e+00 -1.89000000e+00\n",
      " -1.88000000e+00 -1.87000000e+00 -1.86000000e+00 -1.85000000e+00\n",
      " -1.84000000e+00 -1.83000000e+00 -1.82000000e+00 -1.81000000e+00\n",
      " -1.80000000e+00 -1.79000000e+00 -1.78000000e+00 -1.77000000e+00\n",
      " -1.76000000e+00 -1.75000000e+00 -1.74000000e+00 -1.73000000e+00\n",
      " -1.72000000e+00 -1.71000000e+00 -1.70000000e+00 -1.69000000e+00\n",
      " -1.68000000e+00 -1.67000000e+00 -1.66000000e+00 -1.65000000e+00\n",
      " -1.64000000e+00 -1.63000000e+00 -1.62000000e+00 -1.61000000e+00\n",
      " -1.60000000e+00 -1.59000000e+00 -1.58000000e+00 -1.57000000e+00\n",
      " -1.56000000e+00 -1.55000000e+00 -1.54000000e+00 -1.53000000e+00\n",
      " -1.52000000e+00 -1.51000000e+00 -1.50000000e+00 -1.49000000e+00\n",
      " -1.48000000e+00 -1.47000000e+00 -1.46000000e+00 -1.45000000e+00\n",
      " -1.44000000e+00 -1.43000000e+00 -1.42000000e+00 -1.41000000e+00\n",
      " -1.40000000e+00 -1.39000000e+00 -1.38000000e+00 -1.37000000e+00\n",
      " -1.36000000e+00 -1.35000000e+00 -1.34000000e+00 -1.33000000e+00\n",
      " -1.32000000e+00 -1.31000000e+00 -1.30000000e+00 -1.29000000e+00\n",
      " -1.28000000e+00 -1.27000000e+00 -1.26000000e+00 -1.25000000e+00\n",
      " -1.24000000e+00 -1.23000000e+00 -1.22000000e+00 -1.21000000e+00\n",
      " -1.20000000e+00 -1.19000000e+00 -1.18000000e+00 -1.17000000e+00\n",
      " -1.16000000e+00 -1.15000000e+00 -1.14000000e+00 -1.13000000e+00\n",
      " -1.12000000e+00 -1.11000000e+00 -1.10000000e+00 -1.09000000e+00\n",
      " -1.08000000e+00 -1.07000000e+00 -1.06000000e+00 -1.05000000e+00\n",
      " -1.04000000e+00 -1.03000000e+00 -1.02000000e+00 -1.01000000e+00\n",
      " -1.00000000e+00 -9.90000000e-01 -9.80000000e-01 -9.70000000e-01\n",
      " -9.60000000e-01 -9.50000000e-01 -9.40000000e-01 -9.30000000e-01\n",
      " -9.20000000e-01 -9.10000000e-01 -9.00000000e-01 -8.90000000e-01\n",
      " -8.80000000e-01 -8.70000000e-01 -8.60000000e-01 -8.50000000e-01\n",
      " -8.40000000e-01 -8.30000000e-01 -8.20000000e-01 -8.10000000e-01\n",
      " -8.00000000e-01 -7.90000000e-01 -7.80000000e-01 -7.70000000e-01\n",
      " -7.60000000e-01 -7.50000000e-01 -7.40000000e-01 -7.30000000e-01\n",
      " -7.20000000e-01 -7.10000000e-01 -7.00000000e-01 -6.90000000e-01\n",
      " -6.80000000e-01 -6.70000000e-01 -6.60000000e-01 -6.50000000e-01\n",
      " -6.40000000e-01 -6.30000000e-01 -6.20000000e-01 -6.10000000e-01\n",
      " -6.00000000e-01 -5.90000000e-01 -5.80000000e-01 -5.70000000e-01\n",
      " -5.60000000e-01 -5.50000000e-01 -5.40000000e-01 -5.30000000e-01\n",
      " -5.20000000e-01 -5.10000000e-01 -5.00000000e-01 -4.90000000e-01\n",
      " -4.80000000e-01 -4.70000000e-01 -4.60000000e-01 -4.50000000e-01\n",
      " -4.40000000e-01 -4.30000000e-01 -4.20000000e-01 -4.10000000e-01\n",
      " -4.00000000e-01 -3.90000000e-01 -3.80000000e-01 -3.70000000e-01\n",
      " -3.60000000e-01 -3.50000000e-01 -3.40000000e-01 -3.30000000e-01\n",
      " -3.20000000e-01 -3.10000000e-01 -3.00000000e-01 -2.90000000e-01\n",
      " -2.80000000e-01 -2.70000000e-01 -2.60000000e-01 -2.50000000e-01\n",
      " -2.40000000e-01 -2.30000000e-01 -2.20000000e-01 -2.10000000e-01\n",
      " -2.00000000e-01 -1.90000000e-01 -1.80000000e-01 -1.70000000e-01\n",
      " -1.60000000e-01 -1.50000000e-01 -1.40000000e-01 -1.30000000e-01\n",
      " -1.20000000e-01 -1.10000000e-01 -1.00000000e-01 -9.00000000e-02\n",
      " -8.00000000e-02 -7.00000000e-02 -6.00000000e-02 -5.00000000e-02\n",
      " -4.00000000e-02 -3.00000000e-02 -2.00000000e-02 -1.00000000e-02\n",
      "  1.77635684e-15  1.00000000e-02  2.00000000e-02  3.00000000e-02\n",
      "  4.00000000e-02  5.00000000e-02  6.00000000e-02  7.00000000e-02\n",
      "  8.00000000e-02  9.00000000e-02  1.00000000e-01  1.10000000e-01\n",
      "  1.20000000e-01  1.30000000e-01  1.40000000e-01  1.50000000e-01\n",
      "  1.60000000e-01  1.70000000e-01  1.80000000e-01  1.90000000e-01\n",
      "  2.00000000e-01  2.10000000e-01  2.20000000e-01  2.30000000e-01\n",
      "  2.40000000e-01  2.50000000e-01  2.60000000e-01  2.70000000e-01\n",
      "  2.80000000e-01  2.90000000e-01  3.00000000e-01  3.10000000e-01\n",
      "  3.20000000e-01  3.30000000e-01  3.40000000e-01  3.50000000e-01\n",
      "  3.60000000e-01  3.70000000e-01  3.80000000e-01  3.90000000e-01\n",
      "  4.00000000e-01  4.10000000e-01  4.20000000e-01  4.30000000e-01\n",
      "  4.40000000e-01  4.50000000e-01  4.60000000e-01  4.70000000e-01\n",
      "  4.80000000e-01  4.90000000e-01  5.00000000e-01  5.10000000e-01\n",
      "  5.20000000e-01  5.30000000e-01  5.40000000e-01  5.50000000e-01\n",
      "  5.60000000e-01  5.70000000e-01  5.80000000e-01  5.90000000e-01\n",
      "  6.00000000e-01  6.10000000e-01  6.20000000e-01  6.30000000e-01\n",
      "  6.40000000e-01  6.50000000e-01  6.60000000e-01  6.70000000e-01\n",
      "  6.80000000e-01  6.90000000e-01  7.00000000e-01  7.10000000e-01\n",
      "  7.20000000e-01  7.30000000e-01  7.40000000e-01  7.50000000e-01\n",
      "  7.60000000e-01  7.70000000e-01  7.80000000e-01  7.90000000e-01\n",
      "  8.00000000e-01  8.10000000e-01  8.20000000e-01  8.30000000e-01\n",
      "  8.40000000e-01  8.50000000e-01  8.60000000e-01  8.70000000e-01\n",
      "  8.80000000e-01  8.90000000e-01  9.00000000e-01  9.10000000e-01\n",
      "  9.20000000e-01  9.30000000e-01  9.40000000e-01  9.50000000e-01\n",
      "  9.60000000e-01  9.70000000e-01  9.80000000e-01  9.90000000e-01\n",
      "  1.00000000e+00  1.01000000e+00  1.02000000e+00  1.03000000e+00\n",
      "  1.04000000e+00  1.05000000e+00  1.06000000e+00  1.07000000e+00\n",
      "  1.08000000e+00  1.09000000e+00  1.10000000e+00  1.11000000e+00\n",
      "  1.12000000e+00  1.13000000e+00  1.14000000e+00  1.15000000e+00\n",
      "  1.16000000e+00  1.17000000e+00  1.18000000e+00  1.19000000e+00\n",
      "  1.20000000e+00  1.21000000e+00  1.22000000e+00  1.23000000e+00\n",
      "  1.24000000e+00  1.25000000e+00  1.26000000e+00  1.27000000e+00\n",
      "  1.28000000e+00  1.29000000e+00  1.30000000e+00  1.31000000e+00\n",
      "  1.32000000e+00  1.33000000e+00  1.34000000e+00  1.35000000e+00\n",
      "  1.36000000e+00  1.37000000e+00  1.38000000e+00  1.39000000e+00\n",
      "  1.40000000e+00  1.41000000e+00  1.42000000e+00  1.43000000e+00\n",
      "  1.44000000e+00  1.45000000e+00  1.46000000e+00  1.47000000e+00\n",
      "  1.48000000e+00  1.49000000e+00  1.50000000e+00  1.51000000e+00\n",
      "  1.52000000e+00  1.53000000e+00  1.54000000e+00  1.55000000e+00\n",
      "  1.56000000e+00  1.57000000e+00  1.58000000e+00  1.59000000e+00\n",
      "  1.60000000e+00  1.61000000e+00  1.62000000e+00  1.63000000e+00\n",
      "  1.64000000e+00  1.65000000e+00  1.66000000e+00  1.67000000e+00\n",
      "  1.68000000e+00  1.69000000e+00  1.70000000e+00  1.71000000e+00\n",
      "  1.72000000e+00  1.73000000e+00  1.74000000e+00  1.75000000e+00\n",
      "  1.76000000e+00  1.77000000e+00  1.78000000e+00  1.79000000e+00\n",
      "  1.80000000e+00  1.81000000e+00  1.82000000e+00  1.83000000e+00\n",
      "  1.84000000e+00  1.85000000e+00  1.86000000e+00  1.87000000e+00\n",
      "  1.88000000e+00  1.89000000e+00  1.90000000e+00  1.91000000e+00\n",
      "  1.92000000e+00  1.93000000e+00  1.94000000e+00  1.95000000e+00\n",
      "  1.96000000e+00  1.97000000e+00  1.98000000e+00  1.99000000e+00]\n",
      "[0.11920292 0.12025686 0.12131884 0.12238889 0.12346705 0.12455336\n",
      " 0.12564786 0.12675058 0.12786157 0.12898085 0.13010847 0.13124447\n",
      " 0.13238887 0.13354172 0.13470305 0.1358729  0.13705129 0.13823827\n",
      " 0.13943387 0.14063813 0.14185106 0.14307272 0.14430313 0.14554233\n",
      " 0.14679034 0.1480472  0.14931293 0.15058758 0.15187116 0.15316372\n",
      " 0.15446527 0.15577584 0.15709547 0.15842418 0.159762   0.16110895\n",
      " 0.16246506 0.16383036 0.16520487 0.16658861 0.16798161 0.1693839\n",
      " 0.17079548 0.17221639 0.17364665 0.17508627 0.17653527 0.17799369\n",
      " 0.17946152 0.18093879 0.18242552 0.18392173 0.18542742 0.18694261\n",
      " 0.18846733 0.19000157 0.19154535 0.19309868 0.19466158 0.19623406\n",
      " 0.19781611 0.19940776 0.201009   0.20261985 0.2042403  0.20587037\n",
      " 0.20751006 0.20915937 0.21081829 0.21248684 0.21416502 0.21585281\n",
      " 0.21755022 0.21925725 0.22097389 0.22270014 0.22443599 0.22618143\n",
      " 0.22793645 0.22970105 0.23147522 0.23325894 0.2350522  0.23685498\n",
      " 0.23866729 0.24048908 0.24232036 0.2441611  0.24601128 0.24787089\n",
      " 0.24973989 0.25161828 0.25350602 0.25540308 0.25730945 0.2592251\n",
      " 0.26114999 0.2630841  0.2650274  0.26697985 0.26894142 0.27091208\n",
      " 0.27289178 0.2748805  0.27687819 0.27888482 0.28090034 0.28292471\n",
      " 0.28495789 0.28699984 0.2890505  0.29110983 0.29317778 0.2952543\n",
      " 0.29733935 0.29943286 0.30153478 0.30364507 0.30576366 0.3078905\n",
      " 0.31002552 0.31216867 0.31431989 0.31647911 0.31864627 0.3208213\n",
      " 0.32300414 0.32519473 0.32739298 0.32959884 0.33181223 0.33403307\n",
      " 0.3362613  0.33849684 0.34073961 0.34298954 0.34524654 0.34751054\n",
      " 0.34978145 0.3520592  0.35434369 0.35663485 0.35893259 0.36123682\n",
      " 0.36354746 0.36586441 0.36818758 0.37051689 0.37285223 0.37519353\n",
      " 0.37754067 0.37989357 0.38225213 0.38461624 0.38698582 0.38936077\n",
      " 0.39174097 0.39412633 0.39651675 0.39891212 0.40131234 0.4037173\n",
      " 0.4061269  0.40854102 0.41095957 0.41338242 0.41580948 0.41824062\n",
      " 0.42067575 0.42311474 0.42555748 0.42800387 0.43045378 0.4329071\n",
      " 0.43536371 0.4378235  0.44028635 0.44275215 0.44522076 0.44769209\n",
      " 0.450166   0.45264238 0.45512111 0.45760206 0.46008512 0.46257015\n",
      " 0.46505705 0.46754569 0.47003595 0.4725277  0.47502081 0.47751518\n",
      " 0.48001066 0.48250714 0.4850045  0.4875026  0.49000133 0.49250056\n",
      " 0.49500017 0.49750002 0.5        0.50249998 0.50499983 0.50749944\n",
      " 0.50999867 0.5124974  0.5149955  0.51749286 0.51998934 0.52248482\n",
      " 0.52497919 0.5274723  0.52996405 0.53245431 0.53494295 0.53742985\n",
      " 0.53991488 0.54239794 0.54487889 0.54735762 0.549834   0.55230791\n",
      " 0.55477924 0.55724785 0.55971365 0.5621765  0.56463629 0.5670929\n",
      " 0.56954622 0.57199613 0.57444252 0.57688526 0.57932425 0.58175938\n",
      " 0.58419052 0.58661758 0.58904043 0.59145898 0.5938731  0.5962827\n",
      " 0.59868766 0.60108788 0.60348325 0.60587367 0.60825903 0.61063923\n",
      " 0.61301418 0.61538376 0.61774787 0.62010643 0.62245933 0.62480647\n",
      " 0.62714777 0.62948311 0.63181242 0.63413559 0.63645254 0.63876318\n",
      " 0.64106741 0.64336515 0.64565631 0.6479408  0.65021855 0.65248946\n",
      " 0.65475346 0.65701046 0.65926039 0.66150316 0.6637387  0.66596693\n",
      " 0.66818777 0.67040116 0.67260702 0.67480527 0.67699586 0.6791787\n",
      " 0.68135373 0.68352089 0.68568011 0.68783133 0.68997448 0.6921095\n",
      " 0.69423634 0.69635493 0.69846522 0.70056714 0.70266065 0.7047457\n",
      " 0.70682222 0.70889017 0.7109495  0.71300016 0.71504211 0.71707529\n",
      " 0.71909966 0.72111518 0.72312181 0.7251195  0.72710822 0.72908792\n",
      " 0.73105858 0.73302015 0.7349726  0.7369159  0.73885001 0.7407749\n",
      " 0.74269055 0.74459692 0.74649398 0.74838172 0.75026011 0.75212911\n",
      " 0.75398872 0.7558389  0.75767964 0.75951092 0.76133271 0.76314502\n",
      " 0.7649478  0.76674106 0.76852478 0.77029895 0.77206355 0.77381857\n",
      " 0.77556401 0.77729986 0.77902611 0.78074275 0.78244978 0.78414719\n",
      " 0.78583498 0.78751316 0.78918171 0.79084063 0.79248994 0.79412963\n",
      " 0.7957597  0.79738015 0.798991   0.80059224 0.80218389 0.80376594\n",
      " 0.80533842 0.80690132 0.80845465 0.80999843 0.81153267 0.81305739\n",
      " 0.81457258 0.81607827 0.81757448 0.81906121 0.82053848 0.82200631\n",
      " 0.82346473 0.82491373 0.82635335 0.82778361 0.82920452 0.8306161\n",
      " 0.83201839 0.83341139 0.83479513 0.83616964 0.83753494 0.83889105\n",
      " 0.840238   0.84157582 0.84290453 0.84422416 0.84553473 0.84683628\n",
      " 0.84812884 0.84941242 0.85068707 0.8519528  0.85320966 0.85445767\n",
      " 0.85569687 0.85692728 0.85814894 0.85936187 0.86056613 0.86176173\n",
      " 0.86294871 0.8641271  0.86529695 0.86645828 0.86761113 0.86875553\n",
      " 0.86989153 0.87101915 0.87213843 0.87324942 0.87435214 0.87544664\n",
      " 0.87653295 0.87761111 0.87868116 0.87974314]\n"
     ]
    },
    {
     "data": {
      "image/png": "[encoded data removed]",
      "text/plain": [
       "<Figure size 640x480 with 1 Axes>"
      ]
     },
     "metadata": {},
     "output_type": "display_data"
    }
   ],
   "source": [
    "# 4.1 Plot the sigmoid function σ(x) = 1 / (1 + e–x) \n",
    "# using np.arange(-2, 2, 0.01).\n",
    "\n",
    "def sigmoid(x):\n",
    "  y = 1.0 / (1.0 + np.exp(-x))\n",
    "  return y\n",
    "\n",
    "# sigmoid =lambda x: 1.0 / (1.0 + exp(-x))\n",
    "\n",
    "x = np.arange(-2, 2, 0.01)\n",
    "print(x)\n",
    "y = sigmoid(x)\n",
    "print(y)\n",
    "\n",
    "import matplotlib\n",
    "from matplotlib import pyplot as plt\n",
    "plt.plot(x, y, 'b')\n",
    "plt.title('Sigmoid')\n",
    "plt.grid()\n",
    "plt.show()"
   ]
  },
  {
   "cell_type": "code",
   "execution_count": 244,
   "metadata": {},
   "outputs": [
    {
     "name": "stdout",
     "output_type": "stream",
     "text": [
      "[52.0, 42.5, 26.3, 14.7, 7.8, 5.5, 4.3, 5.6, 8.0, 18.8]\n",
      "[38.5, 22.2, 17.3, 9.9, 6.1, 3.8, 1.6, 0]\n"
     ]
    },
    {
     "data": {
      "image/png": "[encoded data removed]",
      "text/plain": [
       "<Figure size 640x480 with 1 Axes>"
      ]
     },
     "metadata": {},
     "output_type": "display_data"
    }
   ],
   "source": [
    "# 4.2 You are given some experimental result data recorded in two text\n",
    "#  files “tError.txt” and “vError.txt”, where there is one float number\n",
    "#  in each line. Plot both data on a single graph. The horizontal and \n",
    "# vertical axes represent ‘model complexity’ and ‘error rate’, respectively.\n",
    "\n",
    "f1 = open(\"./data/vError.txt\", 'r')\n",
    "v1 = [eval(line.rstrip()) for line in f1] #rstrip() 공백과 문자 제거 함수\n",
    "f1.close()\n",
    "\n",
    "f2 = open(\"./data/tError.txt\", 'r')\n",
    "v2 = [eval(line.rstrip()) for line in f2]\n",
    "f2.close()\n",
    "\n",
    "print(v1)\n",
    "print(v2)\n",
    "\n",
    "plt.plot(v1)\n",
    "plt.plot(v2)\n",
    "plt.xlabel('Model Complecity')\n",
    "plt.ylabel('Error Rate')\n",
    "plt.grid()\n",
    "plt.show()"
   ]
  }
 ],
 "metadata": {
  "kernelspec": {
   "display_name": "base",
   "language": "python",
   "name": "python3"
  },
  "language_info": {
   "codemirror_mode": {
    "name": "ipython",
    "version": 3
   },
   "file_extension": ".py",
   "mimetype": "text/x-python",
   "name": "python",
   "nbconvert_exporter": "python",
   "pygments_lexer": "ipython3",
   "version": "3.9.13"
  },
  "orig_nbformat": 4,
  "vscode": {
   "interpreter": {
    "hash": "ad2bdc8ecc057115af97d19610ffacc2b4e99fae6737bb82f5d7fb13d2f2c186"
   }
  }
 },
 "nbformat": 4,
 "nbformat_minor": 2
}
