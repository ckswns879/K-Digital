{
 "cells": [
  {
   "attachments": {},
   "cell_type": "markdown",
   "metadata": {},
   "source": [
    "Object-Oriented Programming"
   ]
  },
  {
   "cell_type": "code",
   "execution_count": 1,
   "metadata": {},
   "outputs": [],
   "source": [
    "class Rectangle:\n",
    "  # class에는 self가 들어가는데 첫째인자는 무조건 들어간다.\n",
    "  def __init__(self, width=1, height=1):\n",
    "    self._width = width\n",
    "    self._height = height\n",
    "\n",
    "  def setWidth(self, width):\n",
    "    self._width = width\n",
    "\n",
    "  def setHeight(self, height):\n",
    "    self._height = height\n",
    "\n",
    "  def getWidth(self):\n",
    "    return self._width\n",
    "\n",
    "  def getHeight(self):\n",
    "    return self._height\n",
    "\n",
    "  def area(self):\n",
    "    return self._width * self._height\n",
    "\n",
    "  def perimeter(self):\n",
    "    return 2 * (self._width + self._height)\n",
    "\n",
    "  def __str__(self):\n",
    "    return (\"Width: \" + str(self._width) + \"\\nHeight: \" \n",
    "    + str(self._height))\n"
   ]
  },
  {
   "cell_type": "code",
   "execution_count": 4,
   "metadata": {},
   "outputs": [
    {
     "name": "stdout",
     "output_type": "stream",
     "text": [
      "Width: 1\n",
      "Height: 1\n",
      "The rectangle has the following measurements:\n",
      "Width is 4\n",
      "Height is 5\n",
      "Area is 20\n",
      "Perimeter is 18\n"
     ]
    }
   ],
   "source": [
    "r = Rectangle()\n",
    "print(r)\n",
    "\n",
    "r.setWidth(4)\n",
    "r.setHeight(5)\n",
    "print(\"The rectangle has the following measurements:\")\n",
    "\n",
    "print(\"Width is\", r.getWidth())\n",
    "print(\"Height is\", r.getHeight())\n",
    "\n",
    "print(\"Area is\", r.area())\n",
    "print(\"Perimeter is\", r.perimeter())"
   ]
  },
  {
   "cell_type": "code",
   "execution_count": 8,
   "metadata": {},
   "outputs": [
    {
     "name": "stdout",
     "output_type": "stream",
     "text": [
      "Width is 40\n",
      "Height is 50\n",
      "Width is 40\n",
      "Height is 50\n"
     ]
    }
   ],
   "source": [
    "r.setWidth(40)\n",
    "r.setHeight(50)\n",
    "\n",
    "print(\"Width is\", r.getWidth())\n",
    "print(\"Height is\", r.getHeight())\n",
    "print(\"Width is\", r._width)\n",
    "print(\"Height is\", r._height)"
   ]
  },
  {
   "cell_type": "code",
   "execution_count": 14,
   "metadata": {},
   "outputs": [
    {
     "name": "stdout",
     "output_type": "stream",
     "text": [
      "\n",
      "NAME\tGRADE\n",
      "Fred\tA\n"
     ]
    }
   ],
   "source": [
    "def main():\n",
    " # 학생의 이름과 등급을 출력\n",
    "  name = input(\"Enter student's name: \")\n",
    "  midterm = float(input(\"Enter grade on miterm exam: \"))\n",
    "  final = float(input(\"Enter grade on final exam: \"))\n",
    " \n",
    "  st = LGstudent(name, midterm, final)\n",
    "  print(\"\\nNAME\\tGRADE\")\n",
    "  print(st)\n",
    "\n",
    "class LGstudent:\n",
    "  def __init__(self, name=\"\", midterm=0, final=0):\n",
    "    self._name=name\n",
    "    self._midterm = midterm\n",
    "    self._final = final\n",
    "\n",
    "  def setName(self, name):\n",
    "    self._name = name\n",
    "\n",
    "  def setMidterm(self, midterm):\n",
    "    self._midterm = midterm\n",
    "\n",
    "  def setFinal(self, final):\n",
    "    self._final = final\n",
    "  \n",
    "  def calcSemGrade(self):\n",
    "    grade = (self._midterm + self._final) / 2\n",
    "    grade = round(grade)\n",
    "    if grade >= 90:\n",
    "      return \"A\"\n",
    "    elif grade >= 80:\n",
    "      return \"B\"\n",
    "    elif grade >= 70:\n",
    "      return \"C\"\n",
    "    elif grade >= 60:\n",
    "      return \"D\"\n",
    "    else:\n",
    "      return \"F\"\n",
    "\n",
    "  def __str__(self):\n",
    "    return self._name + \"\\t\" + self.calcSemGrade()\n",
    "\n",
    "main()\n",
    "\n",
    "\n"
   ]
  },
  {
   "cell_type": "code",
   "execution_count": 18,
   "metadata": {},
   "outputs": [
    {
     "name": "stdout",
     "output_type": "stream",
     "text": [
      "\n",
      "NAME\t GRADE\n",
      "Alice\tA\n",
      "Bob\tB\n"
     ]
    }
   ],
   "source": [
    "def main():\n",
    "  listOfStudents = []\n",
    "  carryOn = 'Y'\n",
    "\n",
    "# N을 할 때까지 반복해서 입력\n",
    "  while carryOn == 'Y':\n",
    "    st = LGstudent()\n",
    "    # 학생 이름과 성적을 입력\n",
    "    name = input(\"Enter students' name: \")\n",
    "    midterm = float(input(\"Enter student's grade on midterm exam: \"))\n",
    "    final = float(input(\"Enter student's grade on final exam: \"))\n",
    "\n",
    "    # LGstudent 오브젝트 생성\n",
    "    st = LGstudent(name, midterm, final)\n",
    "    # st오브젝트를 list에 넣음\n",
    "    listOfStudents.append(st)\n",
    "    carryOn = input(\"Do you want to continue (Y/N)?\")\n",
    "    carryOn = carryOn.upper()\n",
    "  \n",
    "  print(\"\\nNAME\\t GRADE\")\n",
    "  # 출력 부분\n",
    "  for pupil in listOfStudents:\n",
    "    print(pupil)\n",
    "\n",
    "\n",
    "main()"
   ]
  },
  {
   "attachments": {},
   "cell_type": "markdown",
   "metadata": {},
   "source": [
    "Inheritance"
   ]
  },
  {
   "cell_type": "code",
   "execution_count": 19,
   "metadata": {},
   "outputs": [],
   "source": [
    "class Student:\n",
    "  def __init__(self, name=\"\", midterm=0, final=0):\n",
    "    self._name=name\n",
    "    self._midterm = midterm\n",
    "    self._final = final\n",
    "\n",
    "  def setName(self, name):\n",
    "    self._name = name\n",
    "\n",
    "  def setMidterm(self, midterm):\n",
    "    self._midterm = midterm\n",
    "\n",
    "  def setFinal(self, final):\n",
    "    self._final = final\n",
    "  \n",
    "  def getName(self):\n",
    "    return self._name\n",
    "\n",
    "  def __str__(self):\n",
    "    return self._name + \"\\t\" + self.calcSemGrade()\n",
    "\n",
    "class LGstudent(Student): # Subclass of Student\n",
    "  def calcSemGrade(self):\n",
    "    grade = (self._midterm + self._final) / 2\n",
    "    grade = round(grade)\n",
    "    if grade >= 90:\n",
    "      return \"A\"\n",
    "    elif grade >= 80:\n",
    "      return \"B\"\n",
    "    elif grade >= 70:\n",
    "      return \"C\"\n",
    "    elif grade >= 60:\n",
    "      return \"D\"\n",
    "    else:\n",
    "      return \"F\"\n",
    "\n",
    "\n",
    "class PFstudent(Student): # Subclass of Student\n",
    "  def calcSemGrade(self):\n",
    "    average = round((self._midterm + self._final) / 2)\n",
    "    if average >= 60:\n",
    "      return \"Pass\"\n",
    "    else:\n",
    "      return \"Fail\""
   ]
  },
  {
   "cell_type": "code",
   "execution_count": 22,
   "metadata": {},
   "outputs": [
    {
     "name": "stdout",
     "output_type": "stream",
     "text": [
      "\n",
      "NAME\t GRADE\n",
      "Alice\tPass\n",
      "Bob\tB\n",
      "Carol\tC\n"
     ]
    }
   ],
   "source": [
    "def main():\n",
    "  listOfStudents = obtainListOfStudents()\n",
    "  dispalyResults(listOfStudents)\n",
    "\n",
    "def obtainListOfStudents():\n",
    "  listOfStudents = []\n",
    "  carryOn = 'Y'\n",
    "  while carryOn == 'Y':\n",
    "    name = input(\"Enter students' name: \")\n",
    "    midterm = float(input(\"Enter student's grade on midterm exam: \"))\n",
    "    final = float(input(\"Enter student's grade on final exam: \"))\n",
    "    # category 추가\n",
    "    category = input(\"Enter category (LG or PF): \")\n",
    "\n",
    "    # category 경우의 수에 따라 입력하는 클래스 다름\n",
    "    if category.upper() == \"LG\":\n",
    "      st = LGstudent(name, midterm, final)\n",
    "    else:\n",
    "      st = PFstudent(name, midterm, final)\n",
    "\n",
    "    # st오브젝트를 list에 넣음\n",
    "    listOfStudents.append(st)\n",
    "    carryOn = input(\"Do you want to continue (Y/N)?\")\n",
    "    carryOn = carryOn.upper()\n",
    "  return listOfStudents\n",
    "  \n",
    "def dispalyResults(listOfStudents):\n",
    "  print(\"\\nNAME\\tGRADE\")\n",
    "  # 출력 부분\n",
    "  listOfStudents.sort(key = lambda x: x.getName())\n",
    "  for pupil in listOfStudents:\n",
    "    print(pupil)\n",
    "\n",
    "\n",
    "main()"
   ]
  },
  {
   "attachments": {},
   "cell_type": "markdown",
   "metadata": {},
   "source": [
    "\"is-a\" Relationship"
   ]
  },
  {
   "cell_type": "code",
   "execution_count": 29,
   "metadata": {},
   "outputs": [
    {
     "data": {
      "text/plain": [
       "False"
      ]
     },
     "execution_count": 29,
     "metadata": {},
     "output_type": "execute_result"
    }
   ],
   "source": [
    "isinstance(object, Student)"
   ]
  },
  {
   "cell_type": "code",
   "execution_count": 30,
   "metadata": {},
   "outputs": [
    {
     "data": {
      "text/plain": [
       "True"
      ]
     },
     "execution_count": 30,
     "metadata": {},
     "output_type": "execute_result"
    }
   ],
   "source": [
    "isinstance(\"Hello\", str)"
   ]
  },
  {
   "cell_type": "code",
   "execution_count": 31,
   "metadata": {},
   "outputs": [
    {
     "data": {
      "text/plain": [
       "True"
      ]
     },
     "execution_count": 31,
     "metadata": {},
     "output_type": "execute_result"
    }
   ],
   "source": [
    "isinstance({1, 2, 3}, set)"
   ]
  },
  {
   "cell_type": "code",
   "execution_count": 32,
   "metadata": {},
   "outputs": [
    {
     "name": "stdout",
     "output_type": "stream",
     "text": [
      "\n",
      "NAME\tGRADE\n",
      "Bob\tC\n",
      "PPa\tPass\n",
      "Number of letter-grade students: 1\n",
      "Number of pass-fail students: 1\n"
     ]
    }
   ],
   "source": [
    "def dispalyResults(listOfStudents):\n",
    "  print(\"\\nNAME\\tGRADE\")\n",
    "  numberOfLGstudents = 0\n",
    "  listOfStudents.sort(key = lambda x: x.getName())\n",
    "\n",
    "  for pupil in listOfStudents:\n",
    "    print(pupil)\n",
    "    if isinstance(pupil, LGstudent):\n",
    "      numberOfLGstudents += 1\n",
    "\n",
    "  print(\"Number of letter-grade students:\", numberOfLGstudents)\n",
    "  print(\"Number of pass-fail students:\", len(listOfStudents) - numberOfLGstudents)\n",
    "\n",
    "main()"
   ]
  },
  {
   "cell_type": "code",
   "execution_count": 35,
   "metadata": {},
   "outputs": [],
   "source": [
    "class PFstudent(Student):\n",
    "  def __init__(self, name=\"\", midterm=0, final=0, fullTime=True):\n",
    "    \n",
    "    super().__init__(name, midterm, final)\n",
    "    self._fullTime=fullTime\n",
    "\n",
    "  def setFullTime(self, fullTime):\n",
    "    self._fullTime = fullTime\n",
    "\n",
    "  def calcSemGrade(self):\n",
    "    average = round((self._midterm + self._final) / 2)\n",
    "    if average >= 60:\n",
    "      return \"Pass\"\n",
    "    else:\n",
    "      return \"False\"\n",
    "\n",
    "  def __str__(self):\n",
    "    if self._fullTime:\n",
    "      status = \"Full-time student\"\n",
    "    else: \n",
    "      status = \"Part-time student\"\n",
    "      return (self._name + \"\\t\" + self.calcSemGrade() + \"\\t\" + status)\n"
   ]
  },
  {
   "cell_type": "code",
   "execution_count": 37,
   "metadata": {},
   "outputs": [
    {
     "name": "stdout",
     "output_type": "stream",
     "text": [
      "\n",
      "NAME\tGRADE\tSTATUS\n",
      "Alice\tPass\tPart-time student\n"
     ]
    }
   ],
   "source": [
    "def main():\n",
    "  name = input(\"Enter students' name: \")\n",
    "  midterm = float(input(\"Enter student's grade on midterm exam: \"))\n",
    "  final = float(input(\"Enter student's grade on final exam: \"))\n",
    "  category = input(\"Enter category (LG or PF): \")\n",
    "\n",
    "  if category.upper() == \"LG\":\n",
    "    st=LGstudent(name, midterm, final)\n",
    "  else:\n",
    "    question = input(\"Is \" + name + \" a full time students (Y/N)? \")\n",
    "    if question.upper() == 'Y':\n",
    "      fullTime = True\n",
    "    else: \n",
    "      fullTime = False\n",
    "    \n",
    "  st = PFstudent(name, midterm, final, fullTime)\n",
    "\n",
    "\n",
    "  print(\"\\nNAME\\tGRADE\\tSTATUS\")\n",
    "  print(st)\n",
    "\n",
    "\n",
    "main()\n",
    "\n",
    "  "
   ]
  },
  {
   "attachments": {},
   "cell_type": "markdown",
   "metadata": {},
   "source": [
    "Overriding a Method"
   ]
  },
  {
   "cell_type": "code",
   "execution_count": 39,
   "metadata": {},
   "outputs": [
    {
     "name": "stdout",
     "output_type": "stream",
     "text": [
      "\n",
      "NAME\tGRADE\n",
      "Alice\tPass\n",
      "Cal\tA\n"
     ]
    }
   ],
   "source": [
    "def main():\n",
    "  listOfStudents = obtainListOfStudents()\n",
    "  dispalyResults(listOfStudents)\n",
    "\n",
    "def obtainListOfStudents():\n",
    "  listOfStudents = []\n",
    "  carryOn = 'Y'\n",
    "  while carryOn == 'Y':\n",
    "    name = input(\"Enter students' name: \")\n",
    "    midterm = float(input(\"Enter student's grade on midterm exam: \"))\n",
    "    final = float(input(\"Enter student's grade on final exam: \"))\n",
    "    category = input(\"Enter category (LG or PF): \")\n",
    "\n",
    "    # category 경우의 수에 따라 입력하는 클래스 다름\n",
    "    if category.upper() == \"LG\":\n",
    "      st = LGstudent(name, midterm, final)\n",
    "    else:\n",
    "      st = PFstudent(name, midterm, final)\n",
    "\n",
    "    # st오브젝트를 list에 넣음\n",
    "    listOfStudents.append(st)\n",
    "    carryOn = input(\"Do you want to continue (Y/N)?\")\n",
    "    carryOn = carryOn.upper()\n",
    "  return listOfStudents\n",
    "  \n",
    "def dispalyResults(listOfStudents):\n",
    "  print(\"\\nNAME\\tGRADE\")\n",
    "  # 출력 부분\n",
    "  listOfStudents.sort(key = lambda x: x.getName())\n",
    "  for pupil in listOfStudents:\n",
    "    print(pupil)\n",
    "\n",
    "\n",
    "class LGStudent:\n",
    "  def __init__(self, name=\"\", midterm=0, final=0):\n",
    "    self._name=name\n",
    "    self._midterm = midterm\n",
    "    self._final = final\n",
    "\n",
    "  def setName(self, name):\n",
    "    self._name = name\n",
    "\n",
    "  def setMidterm(self, midterm):\n",
    "    self._midterm = midterm\n",
    "\n",
    "  def setFinal(self, final):\n",
    "    self._final = final\n",
    "  \n",
    "  def getName(self):\n",
    "    return self._name\n",
    "\n",
    "  def calcSemGrade(self):\n",
    "    average = round((self._midterm + self._final) / 2)\n",
    "    \n",
    "    if average >= 90:\n",
    "      return \"A\"\n",
    "    elif average >= 80:\n",
    "      return \"B\"\n",
    "    elif average >= 70:\n",
    "      return \"C\"\n",
    "    elif average >= 60:\n",
    "      return \"D\"\n",
    "    else:\n",
    "      return \"F\"\n",
    "  \n",
    "  def __str__(self):\n",
    "    return self._name + \"\\t\" + self.calcSemGrade()\n",
    "\n",
    "class PFstudent(Student): \n",
    "  def calcSemGrade(self):\n",
    "    average = round((self._midterm + self._final) / 2)\n",
    "    if average >= 60:\n",
    "      return \"Pass\"\n",
    "    else:\n",
    "      return \"Fail\"\n",
    "\n",
    "main()"
   ]
  },
  {
   "cell_type": "code",
   "execution_count": 40,
   "metadata": {},
   "outputs": [
    {
     "name": "stdout",
     "output_type": "stream",
     "text": [
      "Reduction to lowest terms: 2/5\n"
     ]
    }
   ],
   "source": [
    "# Exercises 7.1, Schneider\n",
    "\n",
    "class Fraction:\n",
    "  def __init__(self, numerator=0, denominator=1):\n",
    "    self._numerator = numerator\n",
    "    self._denominator = denominator\n",
    "  \n",
    "  def setNumerator(self, numerator):\n",
    "    self._numerator = numerator\n",
    "\n",
    "  def getNumerator(self):\n",
    "    return self._numerator\n",
    "\n",
    "  def setDenominator(self, denominator):\n",
    "    self._denominator = denominator\n",
    "\n",
    "  def getDenominator(self):\n",
    "    return self._denominator\n",
    "\n",
    "  def GCD(self, m, n):\n",
    "    while n != 0:\n",
    "      t = n\n",
    "      n = m % n\n",
    "      m = t\n",
    "    return m\n",
    "\n",
    "  def reduce(self):\n",
    "    gcd = self.GCD(self._numerator, self._denominator)\n",
    "    self._numerator = self._numerator // gcd\n",
    "    self._denominator = self._denominator // gcd\n",
    "\n",
    "\n",
    "def main():\n",
    "  f = Fraction()\n",
    "  numerator = int(input(\"Enter numerator of fraction: \"))\n",
    "  f.setNumerator(numerator)\n",
    "  denominator = int(input(\"Enter denominator of fraction: \"))\n",
    "  f.setDenominator(denominator)\n",
    "  f.reduce()\n",
    "  msg = \"Reduction to lowest terms:\"\n",
    "  if f.getDenominator() != 1:\n",
    "    print(msg, str(f.getNumerator()) + '/' + str(f.getDenominator()))\n",
    "  else:\n",
    "    print(msg, f.getNumerator())\n",
    "\n",
    "\n",
    "main()\n"
   ]
  }
 ],
 "metadata": {
  "kernelspec": {
   "display_name": "Python 3",
   "language": "python",
   "name": "python3"
  },
  "language_info": {
   "codemirror_mode": {
    "name": "ipython",
    "version": 3
   },
   "file_extension": ".py",
   "mimetype": "text/x-python",
   "name": "python",
   "nbconvert_exporter": "python",
   "pygments_lexer": "ipython3",
   "version": "3.10.9 (tags/v3.10.9:1dd9be6, Dec  6 2022, 20:01:21) [MSC v.1934 64 bit (AMD64)]"
  },
  "orig_nbformat": 4,
  "vscode": {
   "interpreter": {
    "hash": "7b1f2b33e866b0bf2409397e5f58ba9cdf170d3b7f64c8f359c79998e2f88ad4"
   }
  }
 },
 "nbformat": 4,
 "nbformat_minor": 2
}
