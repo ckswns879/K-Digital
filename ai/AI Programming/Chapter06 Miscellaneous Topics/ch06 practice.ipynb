{
 "cells": [
  {
   "cell_type": "code",
   "execution_count": null,
   "metadata": {},
   "outputs": [],
   "source": [
    "#알파벳에서 무작위로 선택한 세글자를 표시\n",
    "import random\n",
    "Alphabet = ['a','b','c','d','e','f','g','h','i','j','k','l','m','n','o','p','q','r','s','t','u','v','w','x','y','z']\n",
    "print('무작위로 선택한 세 알파벳: ', random.sample(Alphabet,3))\n",
    "\n",
    "# 9번\n",
    "alphabets = [chr(c) for c in range(ord('a'), ord('z') +1 )]\n",
    "\n",
    "# 중복 NO\n",
    "selected = random.sample(alphabets, 3)\n",
    "print(' '.join(selected))\n",
    "\n",
    "# 중복 YES\n",
    "select = random.choices(alphabets, k = 3)\n",
    "print(' '.join(select))\n",
    "\n",
    "\n"
   ]
  },
  {
   "cell_type": "code",
   "execution_count": null,
   "metadata": {},
   "outputs": [],
   "source": [
    "# 10번, 동전 100번 던져서 앞면 나올 경우\n",
    "import random\n",
    "cnt = 0\n",
    "for _ in range(100):\n",
    "  if random.randint(0, 1):\n",
    "    cnt += 1\n",
    "\n",
    "print('앞면일 경우 : ', cnt)\n",
    "\n",
    "\n",
    "# 앞면일 경우 60%, 뒷면일 경우 40%일 떄는\n",
    "cnt1 = 0\n",
    "for _ in range(100):\n",
    "  if random.uniform(0, 1) < 0.6:\n",
    "    cnt1 += 1\n",
    "\n",
    "print('60% 확률일 때 앞면일 경우 : ', cnt1)"
   ]
  },
  {
   "cell_type": "code",
   "execution_count": 2,
   "metadata": {},
   "outputs": [
    {
     "name": "stdout",
     "output_type": "stream",
     "text": [
      "5\n",
      "6\n",
      "7\n",
      "8\n",
      "9\n",
      "10\n",
      "5\n",
      "6\n",
      "7\n",
      "8\n",
      "9\n",
      "10\n"
     ]
    }
   ],
   "source": [
    "# 11번, Sequence of Numbers\n",
    "\n",
    "# 비재귀로 구현\n",
    "def displaySequenceOfNumbers(m, n):\n",
    "  while m <= n:\n",
    "    print(m)\n",
    "    m = m + 1\n",
    "\n",
    "# 재귀로 구현\n",
    "def recursiveDisplaySequenceOfNumbers(m, n):\n",
    "  if m <= n:\n",
    "    print(m)\n",
    "    recursiveDisplaySequenceOfNumbers(m+1, n)\n",
    "\n",
    "# 비재귀 출력\n",
    "displaySequenceOfNumbers(5, 10)\n",
    "\n",
    "#재귀로 출력\n",
    "recursiveDisplaySequenceOfNumbers(5, 10)"
   ]
  }
 ],
 "metadata": {
  "kernelspec": {
   "display_name": "Python 3",
   "language": "python",
   "name": "python3"
  },
  "language_info": {
   "codemirror_mode": {
    "name": "ipython",
    "version": 3
   },
   "file_extension": ".py",
   "mimetype": "text/x-python",
   "name": "python",
   "nbconvert_exporter": "python",
   "pygments_lexer": "ipython3",
   "version": "3.10.9"
  },
  "orig_nbformat": 4,
  "vscode": {
   "interpreter": {
    "hash": "7b1f2b33e866b0bf2409397e5f58ba9cdf170d3b7f64c8f359c79998e2f88ad4"
   }
  }
 },
 "nbformat": 4,
 "nbformat_minor": 2
}
