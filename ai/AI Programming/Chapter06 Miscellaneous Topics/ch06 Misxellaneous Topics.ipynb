{
 "cells": [
  {
   "attachments": {},
   "cell_type": "markdown",
   "metadata": {},
   "source": [
    "Exception Handling\n"
   ]
  },
  {
   "cell_type": "code",
   "execution_count": 1,
   "metadata": {},
   "outputs": [
    {
     "name": "stdout",
     "output_type": "stream",
     "text": [
      "[Errno 2] No such file or directory: ''\n"
     ]
    }
   ],
   "source": [
    "# Except\n",
    "def main():\n",
    "  try:\n",
    "    fileName = input(\"Enter the name of a file: \")\n",
    "    infile = open(fileName, 'r')\n",
    "    num = float(infile.readline())\n",
    "    print(1 / num)\n",
    "  except FileNotFoundError as exc1:\n",
    "    print(exc1)\n",
    "  except TypeError as exc2:\n",
    "    print(exc2)\n",
    "\n",
    "main()"
   ]
  },
  {
   "attachments": {},
   "cell_type": "markdown",
   "metadata": {},
   "source": [
    "Except\n"
   ]
  },
  {
   "cell_type": "code",
   "execution_count": null,
   "metadata": {},
   "outputs": [],
   "source": [
    "# 에러가 어디서 나는지 잘 알아보자\n",
    "def main():\n",
    "  total = 0\n",
    "  count = 0\n",
    "  foundFlag = True\n",
    "  try:\n",
    "    infile = open(\"Numbers.txt\", 'r')\n",
    "  except FileNotFoundError:\n",
    "    print(\"File not found.\")\n",
    "    foundFlag = False\n",
    "  if foundFlag:\n",
    "    try:\n",
    "      for line in infile:\n",
    "        count += 1\n",
    "        total += float(line)\n",
    "      print(\"average:\", total / count)\n",
    "    except ValueError:\n",
    "      print(\"Line\", count, \"could not be converted to a float\")\n",
    "      if count > 1:\n",
    "        print(\"Average so far:\", total / (count - 1))\n",
    "        print(\"total so far:\", total)\n",
    "      else:\n",
    "        print(\"No average can be calculated.\")\n",
    "    except ZeroDivisionError:\n",
    "      print(\"File was empty.\")\n",
    "    else:\n",
    "      print(\"Total:\", total)\n",
    "    finally:\n",
    "      infile.close()\n",
    "\n",
    "main()\n"
   ]
  },
  {
   "attachments": {},
   "cell_type": "markdown",
   "metadata": {},
   "source": [
    "Selecting Random Values"
   ]
  },
  {
   "cell_type": "code",
   "execution_count": null,
   "metadata": {},
   "outputs": [],
   "source": [
    "import random\n",
    "\n",
    "elements = [\"earth\", \"air\", \"fire\", \"water\"]\n",
    "\n",
    "# 랜덤 선택\n",
    "print(random.choice(elements))\n",
    "# 랜덤으로 숫자만큼 선택\n",
    "print(random.sample(elements, 2))\n",
    "# shuffle => 섞음\n",
    "random.shuffle(elements)\n",
    "print(elements)\n",
    "# 랜덤 숫자 출력, 범위 포함\n",
    "print(random.randint(1, 5))"
   ]
  },
  {
   "cell_type": "code",
   "execution_count": null,
   "metadata": {},
   "outputs": [],
   "source": [
    "# 랜덤수 확률\n",
    "import random\n",
    "\n",
    "def main():\n",
    "  for i in range(3):\n",
    "    outcome = spinWheel()\n",
    "    print(outcome, end= \" \")\n",
    "# 해보면 Cherries, Orange, Plum이 많이 나온다. 범위가 넓음\n",
    "def spinWheel():\n",
    "  n = random.randint(1, 20)\n",
    "  if n > 15:\n",
    "    return \"Cherries\"\n",
    "  elif n > 10:\n",
    "    return \"Orange\"\n",
    "  elif n > 5:\n",
    "    return \"Plum\"\n",
    "  elif n > 2:\n",
    "    return \"Melon\"\n",
    "  elif n > 1:\n",
    "    return \"Bell\"\n",
    "  else:\n",
    "    return \"Bar\"\n",
    "\n",
    "main()"
   ]
  },
  {
   "cell_type": "code",
   "execution_count": null,
   "metadata": {},
   "outputs": [],
   "source": [
    "# 랜덤 수\n",
    "cnt = 0\n",
    "for _ in range(10):\n",
    "  if random.uniform(0, 1) < 0.7:\n",
    "    cnt += 1\n",
    "\n",
    "print(cnt)"
   ]
  },
  {
   "cell_type": "code",
   "execution_count": null,
   "metadata": {},
   "outputs": [],
   "source": [
    "# Palinderome == 거꾸로 읽어도 제대로 읽는 것과 같은 문자열\n",
    "def isPalindrome(word):\n",
    "  # 소문자로 통일\n",
    "  word = word.lower()\n",
    "  # 단어 한개짜리는 True\n",
    "  if len(word) <= 1:\n",
    "    return True\n",
    "  #맨 첫글자와 끝 글자를 비교\n",
    "  elif word[0] == word[-1]:\n",
    "    #다음 글자들을 비교\n",
    "    word = word[1:-1]\n",
    "    #재귀로 다시 실행\n",
    "    return isPalindrome(word)\n",
    "  else:\n",
    "    return False\n",
    "\n",
    "print(isPalindrome('kayak'))\n",
    "print(isPalindrome('abcd'))\n",
    "print(isPalindrome('a'))\n",
    "print(isPalindrome('abc'))"
   ]
  }
 ],
 "metadata": {
  "kernelspec": {
   "display_name": "Python 3",
   "language": "python",
   "name": "python3"
  },
  "language_info": {
   "codemirror_mode": {
    "name": "ipython",
    "version": 3
   },
   "file_extension": ".py",
   "mimetype": "text/x-python",
   "name": "python",
   "nbconvert_exporter": "python",
   "pygments_lexer": "ipython3",
   "version": "3.10.9"
  },
  "orig_nbformat": 4,
  "vscode": {
   "interpreter": {
    "hash": "7b1f2b33e866b0bf2409397e5f58ba9cdf170d3b7f64c8f359c79998e2f88ad4"
   }
  }
 },
 "nbformat": 4,
 "nbformat_minor": 2
}
