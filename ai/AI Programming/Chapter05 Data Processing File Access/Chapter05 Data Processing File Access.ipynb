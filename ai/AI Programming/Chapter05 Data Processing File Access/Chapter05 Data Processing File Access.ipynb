{
 "cells": [
  {
   "attachments": {},
   "cell_type": "markdown",
   "metadata": {},
   "source": [
    "# txt파일 읽기"
   ]
  },
  {
   "cell_type": "code",
   "execution_count": 2,
   "metadata": {},
   "outputs": [
    {
     "name": "stdout",
     "output_type": "stream",
     "text": [
      "George Washington\n",
      "John Adams\n",
      "Thomas Jefferson\n",
      "John Q. Adams\n",
      "\n",
      "['George Washington', 'John Adams', 'Thomas Jefferson', 'John Q. Adams']\n",
      "\n",
      "George Washington\n",
      "John Adams\n",
      "Thomas Jefferson\n",
      "John Q. Adams\n"
     ]
    }
   ],
   "source": [
    "def main():\n",
    "  file = 'FirstPresidents.txt'\n",
    "  displayWithForLoop(file)\n",
    "  print()\n",
    "  displayWithListComprehension(file)\n",
    "  print()\n",
    "  displayWithReadLine(file)\n",
    "\n",
    "def displayWithForLoop(file):\n",
    "  infile = open(file, 'r')\n",
    "  for line in infile:\n",
    "    print(line.rstrip())\n",
    "  infile.close()\n",
    "\n",
    "def displayWithListComprehension(file):\n",
    "  infile = open(file, 'r')\n",
    "  listPres = [line.rstrip() for line in infile]\n",
    "  infile.close()\n",
    "  print(listPres)\n",
    "\n",
    "def displayWithReadLine(file):\n",
    "  infile = open(file,'r')\n",
    "  line = infile.readline()\n",
    "  while line != \"\":\n",
    "    print(line.rstrip())\n",
    "    line=infile.readline()\n",
    "  infile.close()\n",
    "\n",
    "main()"
   ]
  },
  {
   "attachments": {},
   "cell_type": "markdown",
   "metadata": {},
   "source": [
    "### txt파일 생성\n",
    "- 'w' 모드\n",
    "  - 없는 파일 : 새로 생성\n",
    "  - 있는 파일 : 열어서 수정\n",
    "- writelines() : list로 작성\n",
    "- write() : value로 작성\n",
    "- write / writelines"
   ]
  },
  {
   "attachments": {},
   "cell_type": "markdown",
   "metadata": {},
   "source": [
    "write/writelines"
   ]
  },
  {
   "cell_type": "code",
   "execution_count": 7,
   "metadata": {},
   "outputs": [],
   "source": [
    "def main():\n",
    "  L = [\"George Washington\", \"John Adams\", \"Thomas Jefferson\"]\n",
    "  \n",
    "  outfile = open(\"FirstPresidents2.txt\", 'w')\n",
    "  createWithWrite(L, outfile)\n",
    "  outfile = open(\"FirstPresidents3.txt\", 'w')\n",
    "  createWithWritelines(L, outfile)\n",
    "  \n",
    "def createWithWrite(L, outfile):\n",
    "  for i in range(len(L)):\n",
    "    outfile.write(L[i]+\"\\n\")\n",
    "  outfile.close()\n",
    "\n",
    "def createWithWritelines(L, outfile):\n",
    "  for i in range(len(L)):\n",
    "    L[i] = L[i] + \"\\n\"\n",
    "  outfile.writelines(L)\n",
    "  outfile.close()\n",
    "  \n",
    "main()"
   ]
  },
  {
   "cell_type": "code",
   "execution_count": 3,
   "metadata": {},
   "outputs": [],
   "source": [
    "# States.txt 파일 내용 정렬하여 StatesAlpha.txt 생성\n",
    "def main():\n",
    "  statesList = createListFromFile('States.txt')\n",
    "  createSortedFile(statesList,\"StatesAlpha.txt\")\n",
    "\n",
    "def createListFromFile(fileName):\n",
    "  infile = open(fileName,'r')\n",
    "  desiredList = [line.rstrip() for line in infile]\n",
    "  infile.close()\n",
    "  return desiredList\n",
    "\n",
    "def createSortedFile(listName, fileName):\n",
    "  listName.sort()\n",
    "  for i in range(len(listName)):\n",
    "    listName[i] = listName[i] + '\\n'\n",
    "  outfile = open(fileName, 'w')\n",
    "  outfile.writelines(listName)\n",
    "  outfile.close()\n",
    "\n",
    "main()"
   ]
  },
  {
   "cell_type": "code",
   "execution_count": 4,
   "metadata": {},
   "outputs": [],
   "source": [
    "# USPres.txt(대통령), VPres.txt(부통령) 교집합 파일(Both.txt) 생성\n",
    "def main():\n",
    "  vicePresList =  createListFromFile(\"VPres.txt\")\n",
    "  createNewFile(vicePresList, \"USPres.txt\", \"Both.txt\")\n",
    "\n",
    "def createListFromFile(fileName):\n",
    "  infile = open(fileName,'r')\n",
    "  desiredList = [line.rstrip() for line in infile]\n",
    "  infile.close()\n",
    "  return desiredList\n",
    "\n",
    "def createNewFile(listName, oldFileName, newFileName):\n",
    "  infile = open(oldFileName,'r')\n",
    "  outfile = open(newFileName,'w')\n",
    "  for person in infile:\n",
    "    if person.rstrip() in listName:\n",
    "      outfile.write(person)\n",
    "  infile.close()\n",
    "  outfile.close()\n",
    "\n",
    "main()"
   ]
  },
  {
   "attachments": {},
   "cell_type": "markdown",
   "metadata": {},
   "source": [
    "### 기존 txt파일에 추가 작성\n",
    "- 'a' 모드 : append모드"
   ]
  },
  {
   "cell_type": "code",
   "execution_count": 4,
   "metadata": {},
   "outputs": [],
   "source": [
    "def main():\n",
    "  outfile = open(\"FirstPresidents.txt\", 'a')\n",
    "  list1 = [\"James Madison\\n\", \"James Monroe\\n\"]\n",
    "  outfile.write(\"John Q. Adams\\n\")\n",
    "  outfile.close()\n",
    "\n",
    "main()"
   ]
  },
  {
   "attachments": {},
   "cell_type": "markdown",
   "metadata": {},
   "source": [
    "### txt파일 변경\n",
    "1. 기존 파일 읽기\n",
    "2. 새 파일 생성\n",
    "3. 새 파일에 기존 내용 복사하여 수정\n",
    "4. 새 파일 저장\n",
    "5. 시스템 커맨드\n",
    "- 기존 파일 삭제 : os.remove(fileName)\n",
    "- 새 파일명 변경 : os.rename(oldFileName, newFileName)\n",
    "- 존재여부 확인 : os.path.isfile(fileName)\n",
    "- fileName 작성할 때 경로 미기재 시 현재 위치로 인식"
   ]
  },
  {
   "cell_type": "code",
   "execution_count": 6,
   "metadata": {},
   "outputs": [],
   "source": [
    "import os.path\n",
    "\n",
    "if os.path.isfile(\"ABC.txt\"):\n",
    "  print(\"File already exists.\")\n",
    "else:\n",
    "  infile = open(\"ABC.txt\", 'w')\n",
    "  infile.write(\"a\\nb\\nc\\n\")\n",
    "  infile.close()"
   ]
  },
  {
   "attachments": {},
   "cell_type": "markdown",
   "metadata": {},
   "source": [
    "### Sets : 집합\n",
    "- {}로 선언\n",
    "- 중복 불가\n",
    "- 각 요소의 형식은 자유\n",
    "- list나 set은 요소로 올 수 없음 / tuple은 가능\n",
    "  : immutable만 요소로 사용 가능\n",
    "- 순서 의미 X\n",
    "- 인덱스 사용 불가\n",
    "- empty set 선언 : a = set()"
   ]
  },
  {
   "cell_type": "code",
   "execution_count": 1,
   "metadata": {},
   "outputs": [
    {
     "data": {
      "text/plain": [
       "True"
      ]
     },
     "execution_count": 1,
     "metadata": {},
     "output_type": "execute_result"
    }
   ],
   "source": [
    "bri = {'brazil', 'russia', 'india'}\n",
    "'india' in bri"
   ]
  },
  {
   "cell_type": "code",
   "execution_count": 2,
   "metadata": {},
   "outputs": [
    {
     "data": {
      "text/plain": [
       "False"
      ]
     },
     "execution_count": 2,
     "metadata": {},
     "output_type": "execute_result"
    }
   ],
   "source": [
    "'usa' in bri"
   ]
  },
  {
   "cell_type": "code",
   "execution_count": 3,
   "metadata": {},
   "outputs": [
    {
     "data": {
      "text/plain": [
       "{'brazil', 'india'}"
      ]
     },
     "execution_count": 3,
     "metadata": {},
     "output_type": "execute_result"
    }
   ],
   "source": [
    "# 요소 수정 가능\n",
    "bric = bri.copy()\n",
    "bric.add('china')\n",
    "bri.remove('russia')\n",
    "bri"
   ]
  },
  {
   "cell_type": "code",
   "execution_count": 5,
   "metadata": {},
   "outputs": [
    {
     "data": {
      "text/plain": [
       "{'brazil', 'china', 'india', 'russia'}"
      ]
     },
     "execution_count": 5,
     "metadata": {},
     "output_type": "execute_result"
    }
   ],
   "source": [
    "bric"
   ]
  },
  {
   "cell_type": "code",
   "execution_count": 6,
   "metadata": {},
   "outputs": [
    {
     "data": {
      "text/plain": [
       "{'brazil', 'india'}"
      ]
     },
     "execution_count": 6,
     "metadata": {},
     "output_type": "execute_result"
    }
   ],
   "source": [
    "bri"
   ]
  },
  {
   "cell_type": "code",
   "execution_count": 7,
   "metadata": {},
   "outputs": [
    {
     "data": {
      "text/plain": [
       "{'brazil', 'india'}"
      ]
     },
     "execution_count": 7,
     "metadata": {},
     "output_type": "execute_result"
    }
   ],
   "source": [
    "# 두개의 교집합\n",
    "bri & bric"
   ]
  },
  {
   "cell_type": "code",
   "execution_count": 8,
   "metadata": {},
   "outputs": [
    {
     "data": {
      "text/plain": [
       "{'china', 'russia'}"
      ]
     },
     "execution_count": 8,
     "metadata": {},
     "output_type": "execute_result"
    }
   ],
   "source": [
    "# 차이나는 요소\n",
    "bric.difference(bri)"
   ]
  },
  {
   "cell_type": "code",
   "execution_count": 10,
   "metadata": {},
   "outputs": [
    {
     "data": {
      "text/plain": [
       "{'brazil', 'china', 'india', 'russia'}"
      ]
     },
     "execution_count": 10,
     "metadata": {},
     "output_type": "execute_result"
    }
   ],
   "source": [
    "# bric과 bri를 합침\n",
    "bric.union(bri)"
   ]
  },
  {
   "attachments": {},
   "cell_type": "markdown",
   "metadata": {},
   "source": [
    "list, tuple, set 간의 전환"
   ]
  },
  {
   "cell_type": "code",
   "execution_count": 12,
   "metadata": {},
   "outputs": [
    {
     "data": {
      "text/plain": [
       "('nudge', 'nudge', 'wink', 'wink')"
      ]
     },
     "execution_count": 12,
     "metadata": {},
     "output_type": "execute_result"
    }
   ],
   "source": [
    "# 리스트인 words를 tuple로 변환\n",
    "words = ['nudge', 'nudge', 'wink', 'wink']\n",
    "tuple(words)"
   ]
  },
  {
   "cell_type": "code",
   "execution_count": 13,
   "metadata": {},
   "outputs": [
    {
     "name": "stdout",
     "output_type": "stream",
     "text": [
      "{'wink', 'nudge'}\n"
     ]
    }
   ],
   "source": [
    "# tuple인 words를 set으로 바꿈 ==> set은 중복제거 됨\n",
    "terms = set(words)\n",
    "print(terms)"
   ]
  },
  {
   "cell_type": "code",
   "execution_count": 14,
   "metadata": {},
   "outputs": [
    {
     "data": {
      "text/plain": [
       "['wink', 'nudge']"
      ]
     },
     "execution_count": 14,
     "metadata": {},
     "output_type": "execute_result"
    }
   ],
   "source": [
    "# 중복 제거되어서 리스트로 변환 가능\n",
    "list(terms)"
   ]
  },
  {
   "cell_type": "code",
   "execution_count": 15,
   "metadata": {},
   "outputs": [
    {
     "data": {
      "text/plain": [
       "('wink', 'nudge')"
      ]
     },
     "execution_count": 15,
     "metadata": {},
     "output_type": "execute_result"
    }
   ],
   "source": [
    "tuple(terms)"
   ]
  },
  {
   "cell_type": "code",
   "execution_count": 16,
   "metadata": {},
   "outputs": [
    {
     "data": {
      "text/plain": [
       "{'a', 'b', 'c'}"
      ]
     },
     "execution_count": 16,
     "metadata": {},
     "output_type": "execute_result"
    }
   ],
   "source": [
    "alpha = ('a', 'b', 'c')\n",
    "set(alpha)"
   ]
  },
  {
   "cell_type": "code",
   "execution_count": 17,
   "metadata": {},
   "outputs": [
    {
     "data": {
      "text/plain": [
       "set()"
      ]
     },
     "execution_count": 17,
     "metadata": {},
     "output_type": "execute_result"
    }
   ],
   "source": [
    "# clear : set의 내용 비우기\n",
    "terms.clear()\n",
    "terms # set() : empty set을 의미"
   ]
  },
  {
   "attachments": {},
   "cell_type": "markdown",
   "metadata": {},
   "source": [
    "## sort() / sorted\n",
    "\n",
    "- sort() : method\n",
    "  - 사용형태 : a.sort()\n",
    "  - 리턴(출력)형태 : 없음\n",
    "- sorted : function\n",
    "  - 사용형태 : sorted(a)\n",
    "  - 리턴(출력)형태 : list"
   ]
  },
  {
   "cell_type": "code",
   "execution_count": 18,
   "metadata": {},
   "outputs": [
    {
     "data": {
      "text/plain": [
       "{'brazil', 'china', 'india', 'russia'}"
      ]
     },
     "execution_count": 18,
     "metadata": {},
     "output_type": "execute_result"
    }
   ],
   "source": [
    "# bric이라는 sets를 만듦\n",
    "bric = {'brazil', 'china', 'india', 'russia'}\n",
    "bric"
   ]
  },
  {
   "cell_type": "code",
   "execution_count": 19,
   "metadata": {},
   "outputs": [
    {
     "data": {
      "text/plain": [
       "['brazil', 'china', 'india', 'russia']"
      ]
     },
     "execution_count": 19,
     "metadata": {},
     "output_type": "execute_result"
    }
   ],
   "source": [
    "# sorted 메소드로 정렬\n",
    "sorted(bric)"
   ]
  },
  {
   "cell_type": "code",
   "execution_count": 21,
   "metadata": {},
   "outputs": [
    {
     "data": {
      "text/plain": [
       "['russia', 'brazil', 'china', 'india']"
      ]
     },
     "execution_count": 21,
     "metadata": {},
     "output_type": "execute_result"
    }
   ],
   "source": [
    "# 역순으로 정렬\n",
    "sorted(bric, key = len, reverse=True)"
   ]
  },
  {
   "cell_type": "code",
   "execution_count": 22,
   "metadata": {},
   "outputs": [
    {
     "data": {
      "text/plain": [
       "{'brazil', 'china', 'india', 'russia'}"
      ]
     },
     "execution_count": 22,
     "metadata": {},
     "output_type": "execute_result"
    }
   ],
   "source": [
    "# function으로 정렬을 했기 때문에 원본인 bric은 그대로\n",
    "bric"
   ]
  },
  {
   "cell_type": "code",
   "execution_count": null,
   "metadata": {},
   "outputs": [],
   "source": [
    "# sort ==>> method  -> list자체가 바뀐다.  a.sort()\n",
    "# sorted ==>> function -> 원본은 변하지 않는다.  sorted(a)\n",
    "#                      -> list형태로 출력이 된다."
   ]
  },
  {
   "attachments": {},
   "cell_type": "markdown",
   "metadata": {},
   "source": [
    "### list comprehension 활용"
   ]
  },
  {
   "cell_type": "code",
   "execution_count": 23,
   "metadata": {},
   "outputs": [
    {
     "data": {
      "text/plain": [
       "{0, 1, 4, 9}"
      ]
     },
     "execution_count": 23,
     "metadata": {},
     "output_type": "execute_result"
    }
   ],
   "source": [
    "{x * x for x in range(-3, 3)}"
   ]
  },
  {
   "cell_type": "code",
   "execution_count": 24,
   "metadata": {},
   "outputs": [],
   "source": [
    "# 함수 활용하여 중복코드 줄이기"
   ]
  },
  {
   "cell_type": "code",
   "execution_count": 43,
   "metadata": {},
   "outputs": [],
   "source": [
    "def main():\n",
    "  vicePresSet = createSetFromFile(\"VPres.txt\")\n",
    "  presSet = createSetFromFile(\"USPres.txt\")\n",
    "  bothPresAndVPresSet = createIntersection(vicePresSet, presSet)\n",
    "  writeNameToFile(bothPresAndVPresSet, \"PresAndVPres.txt\")\n",
    "\n",
    "def createSetFromFile(fileName):\n",
    "  infile = open(fileName,'r')\n",
    "  nameSet = {name for name in infile}\n",
    "  infile.close()\n",
    "  return nameSet\n",
    "\n",
    "def createIntersection(set1, set2):\n",
    "  return set1.intersection(set2)\n",
    "\n",
    "def writeNameToFile(setName, fileName):\n",
    "  outfile = open(fileName,'w')\n",
    "  outfile.writelines(setName)\n",
    "  outfile.close()\n",
    "\n",
    "main()"
   ]
  },
  {
   "cell_type": "code",
   "execution_count": 25,
   "metadata": {},
   "outputs": [
    {
     "name": "stdout",
     "output_type": "stream",
     "text": [
      "u {1, 2, 3, 4}\n",
      "i {3}\n",
      "diff {1, 2}\n",
      "symm {1, 2, 4}\n",
      "x {1, 2}\n",
      "add {1, 2, 5}\n",
      "y {2, 5}\n",
      "x {1, 2, 5}\n"
     ]
    }
   ],
   "source": [
    "### Set연산\n",
    "# set union\n",
    "u = {1,2,3} | {3,4}\n",
    "print('u',u)\n",
    "\n",
    "# set intersection\n",
    "# 공통부분\n",
    "i = {1,2,3} & {3,4}\n",
    "print('i',i)\n",
    "\n",
    "#set difference\n",
    "# 차집함\n",
    "diff = {1,2,3} - {3,4}\n",
    "print('diff',diff)\n",
    "\n",
    "# symmetric difference\n",
    "# 여집합\n",
    "symm = {1,2,3} ^ {3,4}\n",
    "print('symm',symm)\n",
    "\n",
    "# is an element of\n",
    "# 계산\n",
    "x = {1,2,3} - {3,4}\n",
    "print('x',x)\n",
    "x.add(5)\n",
    "print('add',x)\n",
    "\n",
    "# y is a copy of x\n",
    "y = x.copy()\n",
    "y.discard(1)\n",
    "print('y',y)\n",
    "print('x',x)"
   ]
  },
  {
   "attachments": {},
   "cell_type": "markdown",
   "metadata": {},
   "source": [
    "## CSV Files\n",
    "- 테이블형 데이터\n",
    "- 각 열은 콤마(,)로 분리되어있음\n",
    "- 각 행의 콤마 수가 같지 않다면 logical error 발생 우려\n"
   ]
  },
  {
   "cell_type": "code",
   "execution_count": 46,
   "metadata": {},
   "outputs": [
    {
     "name": "stdout",
     "output_type": "stream",
     "text": [
      "Argentina\n",
      "Bolivia\n",
      "Brazil\n",
      "Chile\n",
      "Colombia\n",
      "Ecuador\n",
      "Guyana\n",
      "Paraguay\n",
      "Peru\n",
      "Suriname\n",
      "Uruguay\n",
      "Venezuela\n"
     ]
    }
   ],
   "source": [
    "## CSV파일 내 데이터로 접근\n",
    "def main():\n",
    "\n",
    "  continent = input(\"Enter the name of a continent : \")\n",
    "  continent = continent.title()\n",
    "  if continent != \"Antarctica\":\n",
    "    infile = open(\"UN.txt\", 'r')\n",
    "    for line in infile:\n",
    "      data = line.split(',')\n",
    "      if data[1] == continent:\n",
    "        print(data[0])\n",
    "  else:\n",
    "    print(\"There are no countries in Antarctica\")\n",
    "\n",
    "main()"
   ]
  },
  {
   "cell_type": "code",
   "execution_count": 49,
   "metadata": {},
   "outputs": [
    {
     "name": "stdout",
     "output_type": "stream",
     "text": [
      "Country             Area (sq. mi.)\n",
      "Russian Federation  6,592,800\n",
      "Canada              3,855,000\n",
      "United States       3,794,066\n",
      "China               3,696,100\n",
      "Brazil              3,287,597\n"
     ]
    }
   ],
   "source": [
    "### CSV 파일 내 데이터 분석\n",
    "def main():\n",
    "\n",
    "  countries = placeRecordsIntoList(\"UN.txt\")\n",
    "  countries.sort(key=lambda country: country[3], reverse = True)\n",
    "  displayFiveLargestCountries(countries)\n",
    "  createNewFile(countries)\n",
    "\n",
    "def placeRecordsIntoList(fileName):\n",
    "  infile = open(fileName, 'r')\n",
    "  # 파일 내용 list로 읽어오기\n",
    "  listofRecords = [line.rstrip() for line in infile]\n",
    "  infile.close()\n",
    "  for i in range(len(listofRecords)):\n",
    "    # 각 라인을 쉼표로 분리, list로 리턴하기\n",
    "    # eval : 다양한 expression(키보드 인풋)을 명령어로 실행\n",
    "    listofRecords[i] = listofRecords[i].split(',')\n",
    "    listofRecords[i][2] = eval(listofRecords[i][2])\n",
    "    listofRecords[i][3] = eval(listofRecords[i][3])\n",
    "  return listofRecords\n",
    "\n",
    "def displayFiveLargestCountries(countries):\n",
    "  print(\"{0:20}{1:9}\".format(\"Country\", \"Area (sq. mi.)\"))\n",
    "  for i in range(5):\n",
    "    print(\"{0:20}{1:9,d}\".format(countries[i][0], countries[i][3]))\n",
    "\n",
    "def createNewFile(countries):\n",
    "  outfile = open(\"UNbyArea.txt\", 'w')\n",
    "  for country in countries:\n",
    "    outfile.write(country[0] + ',' + str(country[3]) + \"\\n\")\n",
    "  outfile.close()\n",
    "\n",
    "main()"
   ]
  },
  {
   "attachments": {},
   "cell_type": "markdown",
   "metadata": {},
   "source": [
    "- eval의 위험성\n",
    "\n",
    "- eval은 입력받은 내용을 명령어로써 그대로 실행시킴\n",
    "- input으로 받은 값에 os.remove(*)가 입력되면 모든 코드가 삭제될 수도 있음"
   ]
  },
  {
   "attachments": {},
   "cell_type": "markdown",
   "metadata": {},
   "source": [
    "# Dictionary (키, 밸류의 조합)\n",
    "\n",
    "- 사전(단어-뜻)과 같이 key-value의 조합으로 이루어짐\n",
    "- key : unique immutable object\n",
    "- value : 제한없음\n",
    "- empty dict 선언 : a = {}"
   ]
  },
  {
   "cell_type": "code",
   "execution_count": 52,
   "metadata": {},
   "outputs": [
    {
     "data": {
      "text/plain": [
       "{'one': 1, 'two': 2, 'three': 3}"
      ]
     },
     "execution_count": 52,
     "metadata": {},
     "output_type": "execute_result"
    }
   ],
   "source": [
    "list1 = [[\"one\", 1], [\"two\", 2], [\"three\", 3]]\n",
    "dict(list1)"
   ]
  },
  {
   "cell_type": "code",
   "execution_count": 53,
   "metadata": {},
   "outputs": [
    {
     "data": {
      "text/plain": [
       "{'one': 1, 'two': 2, 'three': 3}"
      ]
     },
     "execution_count": 53,
     "metadata": {},
     "output_type": "execute_result"
    }
   ],
   "source": [
    "list2 = [(\"one\", 1), (\"two\", 2), (\"three\", 3)]\n",
    "dict(list2)"
   ]
  },
  {
   "cell_type": "code",
   "execution_count": 55,
   "metadata": {},
   "outputs": [
    {
     "name": "stdout",
     "output_type": "stream",
     "text": [
      "Swaroop's address is swaroop@swaroopch.com\n"
     ]
    }
   ],
   "source": [
    "addr = { 'Swaroop' : 'swaroop@swaroopch.com',\n",
    "          'Larry' : 'larry@wall.org',\n",
    "          'Matsumoto' : 'matz@ruby-lang.org',\n",
    "          'Spammer' : 'spammer@hotmail.com'\n",
    "        }\n",
    "print(\"Swaroop's address is\", addr['Swaroop'])"
   ]
  },
  {
   "cell_type": "code",
   "execution_count": 58,
   "metadata": {},
   "outputs": [
    {
     "name": "stdout",
     "output_type": "stream",
     "text": [
      "Swaroop's address is swaroop@swaroopch.com\n",
      "\n",
      "There are 3 contracts in the address-book\n",
      "\n",
      "Contact Swaroop at swaroop@swaroopch.com\n",
      "Contact Larry at larry@wall.org\n",
      "Contact Matsumoto at matz@ruby-lang.org\n",
      "\n",
      "Guido's address is guido@python.org\n"
     ]
    }
   ],
   "source": [
    "addr = { 'Swaroop' : 'swaroop@swaroopch.com',\n",
    "          'Larry' : 'larry@wall.org',\n",
    "          'Matsumoto' : 'matz@ruby-lang.org',\n",
    "          'Spammer' : 'spammer@hotmail.com'\n",
    "        }\n",
    "print(\"Swaroop's address is\", addr['Swaroop'])\n",
    "\n",
    "# Deleting a key-value pair\n",
    "del addr['Spammer']\n",
    "print('\\nThere are {} contracts in the address-book\\n' \\\n",
    "      .format(len(addr)))\n",
    "\n",
    "for name, address in list(addr.items()):\n",
    "  print('Contact {} at {}'.format(name, address))\n",
    "\n",
    "# Adding a key-value pair\n",
    "addr['Guido'] = 'guido@python.org'\n",
    "if 'Guido' in addr:\n",
    "  print(\"\\nGuido's address is\", addr['Guido'])"
   ]
  },
  {
   "cell_type": "code",
   "execution_count": 61,
   "metadata": {},
   "outputs": [
    {
     "data": {
      "text/plain": [
       "{1, 2}"
      ]
     },
     "execution_count": 61,
     "metadata": {},
     "output_type": "execute_result"
    }
   ],
   "source": [
    "a = {1, 2}\n",
    "a"
   ]
  },
  {
   "cell_type": "code",
   "execution_count": 63,
   "metadata": {},
   "outputs": [
    {
     "data": {
      "text/plain": [
       "''"
      ]
     },
     "execution_count": 63,
     "metadata": {},
     "output_type": "execute_result"
    }
   ],
   "source": [
    "# empty set\n",
    "a = str()\n",
    "a"
   ]
  },
  {
   "attachments": {},
   "cell_type": "markdown",
   "metadata": {},
   "source": [
    "- Dictionary로 if-elif문 단순화"
   ]
  },
  {
   "cell_type": "code",
   "execution_count": 69,
   "metadata": {},
   "outputs": [
    {
     "name": "stdout",
     "output_type": "stream",
     "text": [
      "Enter the person's age group The admission fee is 0 dollars.\n"
     ]
    }
   ],
   "source": [
    "# if-elif문\n",
    "def main():\n",
    "  print(\"Enter the person's age group \", end=\"\")\n",
    "  ageGroup = input(\"(child, minor, adult, or seniot): \")\n",
    "  print(\"The admission fee is\",\n",
    "  determineAdmissionFee(ageGroup), \"dollars.\")\n",
    "\n",
    "def determineAdmissionFee(ageGroup) :\n",
    "  if ageGroup == \"child\":\n",
    "    return 0\n",
    "  elif ageGroup == \"minor\":\n",
    "    return 5\n",
    "  elif ageGroup == \"adult\":\n",
    "    return 10\n",
    "  elif ageGroup == \"senior\":\n",
    "    return 8\n",
    "  \n",
    "main()\n",
    "\n"
   ]
  },
  {
   "cell_type": "code",
   "execution_count": 28,
   "metadata": {},
   "outputs": [
    {
     "name": "stdout",
     "output_type": "stream",
     "text": [
      "Enter the person's age group The admission fee is 0 dollars.\n"
     ]
    }
   ],
   "source": [
    "# if-elif문을 dictionary로 표현\n",
    "def main():\n",
    "  print(\"Enter the person's age group \", end=\"\")\n",
    "  ageGroup = input(\"(child, minor, adult, or seniot): \")\n",
    "  print(\"The admission fee is\",\n",
    "  determineAdmissionFee(ageGroup), \"dollars.\")\n",
    "\n",
    "def determineAdmissionFee(ageGroup) :\n",
    "\n",
    "  dict = {\"child\" : 0, \"minor\":5, \"adult\":10, \"senior\":8}\n",
    "\n",
    "  return dict[ageGroup]\n",
    "  \n",
    "main()"
   ]
  },
  {
   "attachments": {},
   "cell_type": "markdown",
   "metadata": {},
   "source": [
    "- Dictionary로 단어들의 빈도수 계산"
   ]
  },
  {
   "cell_type": "code",
   "execution_count": 93,
   "metadata": {},
   "outputs": [
    {
     "name": "stdout",
     "output_type": "stream",
     "text": [
      "The Gettyburg Address contains 268 words.\n",
      "the Gettyburg Address contains 139 different words.\n",
      "\n",
      "the most common words and their frequencies are: \n",
      "   that: 13\n",
      "   the: 11\n",
      "   we: 10\n",
      "   to: 8\n",
      "   here: 8\n",
      "   a: 7\n",
      "   and: 6\n"
     ]
    }
   ],
   "source": [
    "# Dictionary로 단어들의 빈도수 계산\n",
    "def main():\n",
    "  listOfWords = formListOfWords(\"Gettysburg.txt\")\n",
    "  freq = createFrequencyDictionary(listOfWords)\n",
    "  displayWordCount(listOfWords, freq)\n",
    "  displayMostCommonWords(freq)\n",
    "\n",
    "# 파일 내 단어로 리스트 생성\n",
    "def formListOfWords(fileName) :\n",
    "  infile = open(fileName)\n",
    "  # 대소문자 구분없앰\n",
    "  originalLine = infile.readline().lower()\n",
    "  line = \"\"\n",
    "  for ch in originalLine:\n",
    "    if ('a' <= ch <= 'z') or (ch == \" \"):\n",
    "      line += ch\n",
    "  listOfWords = line.split()\n",
    "  return listOfWords\n",
    "\n",
    "# 단어별 빈도수를 나타내는 dict 생성\n",
    "def createFrequencyDictionary(listOfWords):\n",
    "  # empty dict 생성\n",
    "  freq = {}\n",
    "  # word를 key로 넣어주기\n",
    "  for word in listOfWords:\n",
    "    freq[word] = 0\n",
    "  # word의 빈도수를 value로 넣어주기\n",
    "  for word in listOfWords:\n",
    "    freq[word] = freq[word] + 1\n",
    "  return freq\n",
    "\n",
    "# 출력문\n",
    "def displayWordCount(listOfWords, freq):\n",
    "  print(\"The Gettyburg Address contains\", len(listOfWords), \"words.\")\n",
    "  print(\"the Gettyburg Address contains\", len(freq), \"different words.\")\n",
    "  print()\n",
    "\n",
    "# 가장 빈도수가 높은 단어 출력\n",
    "def displayMostCommonWords(freq):\n",
    "  print(\"the most common words and their frequencies are: \")\n",
    "  listOfMostCommonWords = []\n",
    "  for word in freq.keys():\n",
    "    if freq[word] >= 6:\n",
    "      listOfMostCommonWords.append((word, freq[word])) \n",
    "      # (lambda) input: x, output: x[1]\n",
    "      listOfMostCommonWords.sort(key=lambda x: x[1], reverse = True)\n",
    "  for item in listOfMostCommonWords:\n",
    "    print(\"  \", item[0] + ':', item[1])\n",
    "  \n",
    "main()"
   ]
  },
  {
   "attachments": {},
   "cell_type": "markdown",
   "metadata": {},
   "source": [
    "Storing dictionaries in Binary Files\n",
    "2진 파일(bin)로 dictionary 저장"
   ]
  },
  {
   "cell_type": "code",
   "execution_count": null,
   "metadata": {},
   "outputs": [],
   "source": [
    "import pickle\n",
    "outfile = open(filename,'wb')\n",
    "pickle.dump(dictionaryName, outfile)\n",
    "outfile.close()\n",
    "infile = open(filename, 'rb')\n",
    "dictionaryName = pickle.load(infile)\n",
    "infile.close()\n",
    "\n"
   ]
  },
  {
   "attachments": {},
   "cell_type": "markdown",
   "metadata": {},
   "source": [
    "txt파일 vs dat(bin)파일\n",
    "\n",
    "txt\n",
    "\n",
    "12345\n",
    "\n",
    "각각의 letter로 저장\n",
    "5Byte 소모\n",
    "\n",
    "dat(bin) : 저장공간의 효율성 확보\n",
    "\n",
    "12345\n",
    "\n",
    "이진수로 저장\n",
    "4Byte 소모"
   ]
  },
  {
   "attachments": {},
   "cell_type": "markdown",
   "metadata": {},
   "source": [
    "### Dictionary-Valued Dictionaries(이중 딕셔너리)"
   ]
  },
  {
   "cell_type": "code",
   "execution_count": 95,
   "metadata": {},
   "outputs": [
    {
     "name": "stdout",
     "output_type": "stream",
     "text": [
      "continent  Russian Federation: 142.50\n",
      "  Germany: 81.00\n",
      "  United Kingdom: 66.70\n",
      "  France: 66.30\n",
      "  Italy: 61.70\n",
      "  Spain: 47.70\n",
      "  Ukraine: 44.30\n",
      "  Poland: 38.30\n",
      "  Romania: 21.70\n",
      "  Netherlands: 16.59\n",
      "  Greece: 11.80\n",
      "  Portugal: 10.90\n",
      "  Czech Republic: 10.60\n",
      "  Belgium: 10.40\n",
      "  Hungary: 10.00\n",
      "  Sweden: 9.70\n",
      "  Belarus: 9.60\n",
      "  Austria: 8.20\n",
      "  Switzerland: 8.10\n",
      "  Serbia: 7.20\n",
      "  Bulgaria: 6.90\n",
      "  Denmark: 5.60\n",
      "  Slovakia: 5.40\n",
      "  Finland: 5.30\n",
      "  Norway: 5.10\n",
      "  Ireland: 4.80\n",
      "  Croatia: 4.50\n",
      "  Bosnia and Herzegovina: 3.90\n",
      "  Republic of Moldova: 3.60\n",
      "  Lithuania: 3.50\n",
      "  Albania: 3.00\n",
      "  Latvia: 2.20\n",
      "  The former Yugoslav Republic of Macedonia: 2.10\n",
      "  Slovenia: 2.00\n",
      "  Estonia: 1.30\n",
      "  Montenegro: 0.65\n",
      "  Luxembourg: 0.52\n",
      "  Malta: 0.41\n",
      "  Iceland: 0.32\n",
      "  Andorra: 0.09\n",
      "  Liechtenstein: 0.04\n",
      "  San Marino: 0.03\n",
      "  Monaco: 0.03\n"
     ]
    }
   ],
   "source": [
    "# The value of nations[\"France\"][\"cont\"] would be Europe\n",
    "import pickle\n",
    "\n",
    "def main():\n",
    "  nations = getDictionary(\"UNDict.dat\")\n",
    "  print(\"continent\", end='')\n",
    "  continent = input(\"order than antarctica:\")\n",
    "  continentDict = constructContinentNations(nations, continent)\n",
    "  displaySortedResults(continentDict)\n",
    "\n",
    "def getDictionary(fileName):\n",
    "  infile = open(fileName, 'rb')\n",
    "  countries = pickle.load(infile)\n",
    "  infile.close()\n",
    "  return countries\n",
    "\n",
    "def constructContinentNations(nations, continent):\n",
    "  continentDict = {}\n",
    "    # nation 딕셔너리 안의 key 'cont'로 찾기\n",
    "  for nation in nations:\n",
    "    if nations[nation][\"cont\"]== continent:\n",
    "      continentDict[nation] = nations[nation]\n",
    "  return continentDict\n",
    "\n",
    "def displaySortedResults(dictionaryName):\n",
    "  continentList = sorted(dictionaryName.items(), key=lambda k:k[1][\"popl\"],reverse=True)\n",
    "  for k in continentList:\n",
    "    print(\"  {0:s}: {1:,.2f}\".format(k[0], k[1][\"popl\"]))\n",
    "    \n",
    "main()"
   ]
  },
  {
   "cell_type": "code",
   "execution_count": 107,
   "metadata": {},
   "outputs": [
    {
     "name": "stdout",
     "output_type": "stream",
     "text": [
      "Presidents from Virginia:\n",
      "  Thomas Jefferson\n",
      "  James Madison\n",
      "  James Monroe\n",
      "  John Tyler\n",
      "  George Washington\n"
     ]
    }
   ],
   "source": [
    "## Tuple을 key로 갖는 Dictionary\n",
    "import pickle\n",
    "\n",
    "def main():\n",
    "  presDict = createDictFromBinaryFile(\"USpresStatesDict.dat\")\n",
    "  state = getState(presDict)\n",
    "  displayOutput(state, presDict)\n",
    "\n",
    "def createDictFromBinaryFile(fileName):\n",
    "  infile = open(fileName, 'rb')\n",
    "  dictionary = pickle.load(infile)\n",
    "  infile.close()\n",
    "  return dictionary\n",
    "\n",
    "def getState(dictName):\n",
    "  state = input(\"Enter the name of a state: \")\n",
    "  if state in dictName.values():\n",
    "    return state\n",
    "  else:\n",
    "    return \"There are no presidents from \" + state + '.'\n",
    "\n",
    "def displayOutput(state, dictName):\n",
    "  if state.startswith(\"There\"):\n",
    "    print(state)\n",
    "  else:\n",
    "    print(\"Presidents from\", state + ':')\n",
    "    for pres in sorted(dictName):\n",
    "      if dictName[pres] == state:\n",
    "        print(\"  \" + pres[1] + \" \" + pres[0])\n",
    "\n",
    "main()"
   ]
  }
 ],
 "metadata": {
  "kernelspec": {
   "display_name": "base",
   "language": "python",
   "name": "python3"
  },
  "language_info": {
   "codemirror_mode": {
    "name": "ipython",
    "version": 3
   },
   "file_extension": ".py",
   "mimetype": "text/x-python",
   "name": "python",
   "nbconvert_exporter": "python",
   "pygments_lexer": "ipython3",
   "version": "3.9.13"
  },
  "orig_nbformat": 4,
  "vscode": {
   "interpreter": {
    "hash": "ad2bdc8ecc057115af97d19610ffacc2b4e99fae6737bb82f5d7fb13d2f2c186"
   }
  }
 },
 "nbformat": 4,
 "nbformat_minor": 2
}
