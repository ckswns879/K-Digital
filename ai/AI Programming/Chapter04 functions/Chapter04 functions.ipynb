{
 "cells": [
  {
   "attachments": {},
   "cell_type": "markdown",
   "metadata": {},
   "source": [
    "# Function Definition\n",
    "- 함수 정의 form\n",
    "def functionName(par1, par2,...):\n",
    "indented block of statements\n",
    "return expression\n"
   ]
  },
  {
   "attachments": {},
   "cell_type": "markdown",
   "metadata": {},
   "source": [
    "- doc string(\"\"\")으로 어떤 내용인지 기록 필요\n",
    "- 모든 함수는 return None을 갖고있음"
   ]
  },
  {
   "cell_type": "code",
   "execution_count": 8,
   "metadata": {},
   "outputs": [
    {
     "name": "stdout",
     "output_type": "stream",
     "text": [
      "First name Flanklin\n"
     ]
    }
   ],
   "source": [
    "def main():\n",
    "\n",
    "  fullName = input(\"enter a person's full name: \")\n",
    "  print(\"First name\", firstName(fullName))\n",
    "\n",
    "def firstName(fullName):\n",
    "  firstSpace = fullName.index(\" \")\n",
    "  givenName = fullName[:firstSpace]\n",
    "  return givenName\n",
    "\n",
    "main()"
   ]
  },
  {
   "cell_type": "code",
   "execution_count": 1,
   "metadata": {},
   "outputs": [
    {
     "name": "stdout",
     "output_type": "stream",
     "text": [
      "Sum: 27,000,001\n"
     ]
    }
   ],
   "source": [
    "s = 0\n",
    "for i in range(1, 1000001):\n",
    "  while(i>0):\n",
    "    s += i% 10\n",
    "    i = i// 10\n",
    "\n",
    "print('Sum: {:,}'.format(s))"
   ]
  },
  {
   "cell_type": "code",
   "execution_count": 4,
   "metadata": {},
   "outputs": [
    {
     "name": "stdout",
     "output_type": "stream",
     "text": [
      "4 ismaximum\n",
      "7 ismaximum\n"
     ]
    }
   ],
   "source": [
    "def print_max(a, b):\n",
    "  # 이 함수는 print_max라는 이름의 함수이다.\n",
    "  # 2개의 매개변수를 받아서 비교하고 최댓값을 알려줌\n",
    "  # 같으면 같다고 알려줌\n",
    "  if a > b:\n",
    "    print(a, 'is maximum')\n",
    "  elif a == b:\n",
    "    print(a, 'is equal to', b)\n",
    "  else:\n",
    "    print(b, 'ismaximum')\n",
    "\n",
    "print_max(3, 4)\n",
    "\n",
    "x = 5\n",
    "y = 7\n",
    "print_max(x, y)"
   ]
  },
  {
   "cell_type": "code",
   "execution_count": 5,
   "metadata": {},
   "outputs": [
    {
     "name": "stdout",
     "output_type": "stream",
     "text": [
      "Help on function print_max in module __main__:\n",
      "\n",
      "print_max(a, b)\n",
      "\n"
     ]
    }
   ],
   "source": [
    "help(print_max)"
   ]
  },
  {
   "cell_type": "code",
   "execution_count": 9,
   "metadata": {},
   "outputs": [
    {
     "name": "stdout",
     "output_type": "stream",
     "text": [
      "4 ismaximum\n",
      "7 ismaximum\n"
     ]
    }
   ],
   "source": [
    "print_max(3,4)\n",
    "x=5\n",
    "y=7\n",
    "print_max(x,y)"
   ]
  },
  {
   "cell_type": "code",
   "execution_count": 8,
   "metadata": {},
   "outputs": [],
   "source": [
    "def maximum(x,y):\n",
    "  if x>y:\n",
    "    return x\n",
    "  elif x==y:\n",
    "    return 'The numbers are equal'\n",
    "  else:\n",
    "    return y"
   ]
  },
  {
   "cell_type": "code",
   "execution_count": 10,
   "metadata": {},
   "outputs": [
    {
     "name": "stdout",
     "output_type": "stream",
     "text": [
      "3\n",
      "The numbers are equal\n"
     ]
    }
   ],
   "source": [
    "print(maximum(2,3))\n",
    "print(maximum(5,5))"
   ]
  },
  {
   "cell_type": "code",
   "execution_count": 11,
   "metadata": {},
   "outputs": [
    {
     "name": "stdout",
     "output_type": "stream",
     "text": [
      "None\n",
      "None\n"
     ]
    }
   ],
   "source": [
    "def f():\n",
    "  return\n",
    "\n",
    "def g():\n",
    "  a=2\n",
    "  return\n",
    "\n",
    "print(f())\n",
    "print(g())"
   ]
  },
  {
   "attachments": {},
   "cell_type": "markdown",
   "metadata": {},
   "source": [
    "# Scope of Variables"
   ]
  },
  {
   "attachments": {},
   "cell_type": "markdown",
   "metadata": {},
   "source": [
    "Local variable(지역변수)\n",
    "- 같은 범위 내에서만 접근 가능한 변수\n",
    "- 해당 범위가 종료되면 사라짐\n",
    "- ex : 함수 내에서 만든 변수"
   ]
  },
  {
   "attachments": {},
   "cell_type": "markdown",
   "metadata": {},
   "source": [
    "Global variable(전역변수)\n",
    "- 프로그램 전체에서 접근 가능한 변수\n",
    "- 프로그램 최상단에 선언"
   ]
  },
  {
   "cell_type": "code",
   "execution_count": 13,
   "metadata": {},
   "outputs": [
    {
     "name": "stdout",
     "output_type": "stream",
     "text": [
      "x is 50\n",
      "Changed local x to 2\n",
      "x is stil 50\n"
     ]
    }
   ],
   "source": [
    "# Local 변수\n",
    "x = 50\n",
    "\n",
    "def func(x):\n",
    "  print('x is', x)\n",
    "  x = 2\n",
    "  print('Changed local x to', x)\n",
    "\n",
    "func(x)\n",
    "print('x is stil', x)"
   ]
  },
  {
   "cell_type": "code",
   "execution_count": 14,
   "metadata": {},
   "outputs": [
    {
     "name": "stdout",
     "output_type": "stream",
     "text": [
      "2:function main\n",
      "3:function trivial\n",
      "2: function main\n"
     ]
    }
   ],
   "source": [
    "def main():\n",
    "  x=2\n",
    "  print(str(x) +\":function main\")\n",
    "  trivial()\n",
    "  print(str(x) + \": function main\")\n",
    "def trivial():\n",
    "  x=3\n",
    "  print(str(x)+\":function trivial\")\n",
    "main()"
   ]
  },
  {
   "cell_type": "code",
   "execution_count": 15,
   "metadata": {},
   "outputs": [
    {
     "name": "stdout",
     "output_type": "stream",
     "text": [
      "x is  50\n",
      "Changed global x to 2\n",
      "Value of x is  2\n"
     ]
    }
   ],
   "source": [
    "x = 50\n",
    "\n",
    "def main():\n",
    "  func()\n",
    "  print('Value of x is ', x)\n",
    "\n",
    "def func():\n",
    "  global x \n",
    "\n",
    "  print('x is ', x)\n",
    "  x = 2\n",
    "  print('Changed global x to', x)\n",
    "\n",
    "main()"
   ]
  },
  {
   "attachments": {},
   "cell_type": "markdown",
   "metadata": {},
   "source": [
    "Named constant : 대문자와 under scope로 네이밍\n",
    "- 여러번 반복적으로 사용하는 상수에 이름 붙이기\n",
    "- maintenance 용이"
   ]
  },
  {
   "cell_type": "code",
   "execution_count": 16,
   "metadata": {},
   "outputs": [
    {
     "name": "stdout",
     "output_type": "stream",
     "text": [
      "3.141592 12.566368 28.274328\n"
     ]
    }
   ],
   "source": [
    "PI = 3.141592\n",
    "\n",
    "r1 = 1\n",
    "r2 = 2\n",
    "r3 = 3\n",
    "\n",
    "area1 = PI*(r1**2)\n",
    "area2 = PI*(r2**2)\n",
    "area3 = PI*(r3**2)\n",
    "\n",
    "print(area1, area2, area3)"
   ]
  },
  {
   "attachments": {},
   "cell_type": "markdown",
   "metadata": {},
   "source": [
    "More Examples"
   ]
  },
  {
   "cell_type": "code",
   "execution_count": 17,
   "metadata": {},
   "outputs": [
    {
     "name": "stdout",
     "output_type": "stream",
     "text": [
      "First name: Frankli\n"
     ]
    }
   ],
   "source": [
    "def main():\n",
    "  fullName = input(\"Enter a person's full name: \")\n",
    "  print(\"First name:\", firstName(fullName))\n",
    "  \n",
    "def firstName(fullName):\n",
    "  firstSpace = fullName.index(\" \")\n",
    "  givenName = fullName[:firstSpace]\n",
    "  return givenName\n",
    "\n",
    "main()"
   ]
  },
  {
   "cell_type": "code",
   "execution_count": 1,
   "metadata": {},
   "outputs": [
    {
     "name": "stdout",
     "output_type": "stream",
     "text": [
      "Earnings: $1,600.00\n"
     ]
    }
   ],
   "source": [
    "def main():\n",
    "  hourlyWage = float(input(\"Enter the hourly wage: \"))\n",
    "  hoursWorked = int(input(\"Enter # hours worked: \"))\n",
    "  earnings = pay(hourlyWage, hoursWorked)\n",
    "  print(\"Earnings: ${0:,.2f}\".format(earnings))\n",
    "\n",
    "def pay(wage, hours):\n",
    "  if hours <= 40:\n",
    "    amount = wage * hours\n",
    "  else:\n",
    "    amount = (wage * 40) + ((1.5) * wage * (hours - 40))\n",
    "  return amount\n",
    "\n",
    "main()"
   ]
  },
  {
   "cell_type": "code",
   "execution_count": 18,
   "metadata": {},
   "outputs": [
    {
     "name": "stdout",
     "output_type": "stream",
     "text": [
      "The following vowels occur in the word: E\n"
     ]
    }
   ],
   "source": [
    "def main(): \n",
    "  word = input(\"Enter a word: \")\n",
    "  listOfVowels = occuringVowels(word)\n",
    "  print(\"The following vowels occur in the word: \", end='')\n",
    "  stringOfVowels = \" \".join(listOfVowels)\n",
    "  print(stringOfVowels)\n",
    "\n",
    "def occuringVowels(word):\n",
    "  word = word.upper() # 대문자로 변경\n",
    "  vowels = {'A', 'E', 'I', 'O', 'U'}\n",
    "  # 빈 배열 생성\n",
    "  includedVowels = []\n",
    "  for vowel in vowels:\n",
    "    # 단어 안의 모음 중복없이 가져오기\n",
    "    if (vowel in word) and (vowel not in includedVowels):\n",
    "      includedVowels.append(vowel)\n",
    "    return includedVowels\n",
    "\n",
    "main()"
   ]
  },
  {
   "cell_type": "code",
   "execution_count": 9,
   "metadata": {},
   "outputs": [
    {
     "name": "stdout",
     "output_type": "stream",
     "text": [
      "Balance: $11,698.59  interest Earned: $1,698.59\n"
     ]
    }
   ],
   "source": [
    "INTEREST_RATE = .04 \n",
    "\n",
    "def main():\n",
    "  (deposit, numberOfYears) = getInput()\n",
    "  bal, intEarned = balAndInterest(deposit, numberOfYears)\n",
    "  displayOutput(bal, intEarned)\n",
    "\n",
    "def getInput():\n",
    "  deposit = int(input(\"Enter the amount of deposit: \"))\n",
    "  numberOfYears = int(input(\"Enter # of years: \"))\n",
    "  return (deposit, numberOfYears)\n",
    "def balAndInterest(principal, numYears):\n",
    "  balance = principal * ((1 + INTEREST_RATE) ** numYears)\n",
    "  interestEarned = balance - principal\n",
    "  return (balance, interestEarned)\n",
    "def displayOutput(bal, intEarned):\n",
    "  print(\"Balance: ${0:,.2f}  interest Earned: ${1:,.2f}\".format(bal, intEarned))\n",
    "\n",
    "main()"
   ]
  },
  {
   "cell_type": "code",
   "execution_count": 22,
   "metadata": {},
   "outputs": [
    {
     "name": "stdout",
     "output_type": "stream",
     "text": [
      "Sorted by lenght in ascending order:\n",
      "['two', 'brrr', 'break', 'equals', 'sequoia', 'democratic'] \n",
      "\n",
      "Sorted by number of vowels in decending order:\n",
      "['sequoia', 'democratic', 'equals', 'break', 'two', 'brrr']\n"
     ]
    }
   ],
   "source": [
    "def main():\n",
    "  list1 = [\"democratic\", \"sequoia\", \"equals\", \"brrr\", \"break\", \"two\"]\n",
    "  # sort() : key 속성으로 정렬의 기준 변경\n",
    "  list1.sort(key=len)\n",
    "  print(\"Sorted by lenght in ascending order:\") # ascending = 오름차순\n",
    "  print(list1, '\\n')\n",
    "  # sort() : reverse 속성으로 내림차순 정렬\n",
    "  # key에 함수로 지정\n",
    "  list1.sort(key=numberOfVowels, reverse=True)\n",
    "  print(\"Sorted by number of vowels in decending order:\")\n",
    "  print(list1)\n",
    "\n",
    "def numberOfVowels(word):\n",
    "  vowels = ('a', 'e', 'i', 'o', 'u')\n",
    "  total = 0\n",
    "  for vowel in vowels:\n",
    "    total += word.count(vowel)\n",
    "  return total\n",
    "\n",
    "main()"
   ]
  },
  {
   "cell_type": "code",
   "execution_count": 23,
   "metadata": {},
   "outputs": [
    {
     "data": {
      "text/plain": [
       "['blue', 'red', 'white']"
      ]
     },
     "execution_count": 23,
     "metadata": {},
     "output_type": "execute_result"
    }
   ],
   "source": [
    "# sorted는 새로 정렬된 복사본을 리턴, 원본을 바꾸지 않는다.\n",
    "list1 = ['white', 'blue', 'red']\n",
    "list2 = sorted(list1)\n",
    "list2 # 알파벳순으로 나옴"
   ]
  },
  {
   "attachments": {},
   "cell_type": "markdown",
   "metadata": {},
   "source": [
    "sorted : function / 원본의 복사본을 만들어서 정렬"
   ]
  },
  {
   "cell_type": "code",
   "execution_count": 24,
   "metadata": {},
   "outputs": [
    {
     "data": {
      "text/plain": [
       "['white', 'red', 'blue']"
      ]
     },
     "execution_count": 24,
     "metadata": {},
     "output_type": "execute_result"
    }
   ],
   "source": [
    "sorted(list1, reverse=True)"
   ]
  },
  {
   "cell_type": "code",
   "execution_count": 29,
   "metadata": {},
   "outputs": [
    {
     "data": {
      "text/plain": [
       "['red', 'blue', 'white']"
      ]
     },
     "execution_count": 29,
     "metadata": {},
     "output_type": "execute_result"
    }
   ],
   "source": [
    "sorted(list1, key=len)"
   ]
  },
  {
   "cell_type": "code",
   "execution_count": 30,
   "metadata": {},
   "outputs": [
    {
     "data": {
      "text/plain": [
       "['white', 'blue', 'red']"
      ]
     },
     "execution_count": 30,
     "metadata": {},
     "output_type": "execute_result"
    }
   ],
   "source": [
    "# 원본은 그대로 이다.\n",
    "list1"
   ]
  },
  {
   "cell_type": "code",
   "execution_count": 28,
   "metadata": {},
   "outputs": [
    {
     "data": {
      "text/plain": [
       "['a', 'm', 'p', 's']"
      ]
     },
     "execution_count": 28,
     "metadata": {},
     "output_type": "execute_result"
    }
   ],
   "source": [
    "sorted('spam')"
   ]
  },
  {
   "attachments": {},
   "cell_type": "markdown",
   "metadata": {},
   "source": [
    "# Library Modules : 함수 모음집"
   ]
  },
  {
   "attachments": {},
   "cell_type": "markdown",
   "metadata": {},
   "source": [
    "- 되도록 시작할 때 import\n",
    "- 모듈 내 함수 사용법\n",
    " 1. random.py 파일을 같은 위치에 저장\n",
    " 2.import\n",
    "  - 전체 함수\n",
    "    - from random import * : 함수명만 기재하여 사용\n",
    "    - import random : random.func으로 기재하여 사용\n",
    "  - 특정 함수\n",
    "    - from random import randint, choice : 특정 함수\n",
    "  - alias 활용\n",
    "    - import numpy as np\n",
    "    - from tools import - combinations_with_replacement as cwr\n",
    "    - from math import log as ln"
   ]
  },
  {
   "attachments": {},
   "cell_type": "markdown",
   "metadata": {},
   "source": [
    "# List Comprehension\n",
    "- list를 반복하며 함수를 적용하고 list로 반환"
   ]
  },
  {
   "cell_type": "code",
   "execution_count": 19,
   "metadata": {},
   "outputs": [
    {
     "data": {
      "text/plain": [
       "[2, 5, 6, 7]"
      ]
     },
     "execution_count": 19,
     "metadata": {},
     "output_type": "execute_result"
    }
   ],
   "source": [
    "list1 = ['2', '5', '6', '7']\n",
    "[int(x) for x in list1]"
   ]
  },
  {
   "cell_type": "code",
   "execution_count": 4,
   "metadata": {},
   "outputs": [
    {
     "data": {
      "text/plain": [
       "[4, 25, 36, 49]"
      ]
     },
     "execution_count": 4,
     "metadata": {},
     "output_type": "execute_result"
    }
   ],
   "source": [
    "def g(x):\n",
    "  return (int(x) ** 2)\n",
    "[g(x) for x in list1]"
   ]
  },
  {
   "cell_type": "code",
   "execution_count": 5,
   "metadata": {},
   "outputs": [
    {
     "data": {
      "text/plain": [
       "[25, 49]"
      ]
     },
     "execution_count": 5,
     "metadata": {},
     "output_type": "execute_result"
    }
   ],
   "source": [
    "[g(x) for x in list1 if int(x) % 2 == 1]"
   ]
  },
  {
   "attachments": {},
   "cell_type": "markdown",
   "metadata": {},
   "source": [
    "다양한 sequence에서 list comprehension 적용"
   ]
  },
  {
   "cell_type": "code",
   "execution_count": 22,
   "metadata": {},
   "outputs": [
    {
     "name": "stdout",
     "output_type": "stream",
     "text": [
      "[97, 98, 99]\n",
      "A\n"
     ]
    }
   ],
   "source": [
    "## ord는 아스키 코드 보여준다\n",
    "print([ord(x) for x in \"abc\"])\n",
    "# chr() : 아스키코드를 문자로 바꿔줌\n",
    "print(chr(65))"
   ]
  },
  {
   "cell_type": "code",
   "execution_count": 7,
   "metadata": {},
   "outputs": [
    {
     "data": {
      "text/plain": [
       "[2.0, 3.0]"
      ]
     },
     "execution_count": 7,
     "metadata": {},
     "output_type": "execute_result"
    }
   ],
   "source": [
    "[x ** .5 for x in (4, -1, 9) if x >= 0]"
   ]
  },
  {
   "cell_type": "code",
   "execution_count": 8,
   "metadata": {},
   "outputs": [
    {
     "data": {
      "text/plain": [
       "[0, 1, 4]"
      ]
     },
     "execution_count": 8,
     "metadata": {},
     "output_type": "execute_result"
    }
   ],
   "source": [
    "# range는 수열 \n",
    "[x ** 2 for x in range(3)]"
   ]
  },
  {
   "cell_type": "code",
   "execution_count": 9,
   "metadata": {},
   "outputs": [
    {
     "name": "stdout",
     "output_type": "stream",
     "text": [
      "65\n"
     ]
    }
   ],
   "source": [
    "# ord = 아스키 코드\n",
    "print(ord('A'))"
   ]
  },
  {
   "cell_type": "code",
   "execution_count": 10,
   "metadata": {},
   "outputs": [
    {
     "name": "stdout",
     "output_type": "stream",
     "text": [
      "A\n"
     ]
    }
   ],
   "source": [
    "# chr()는 문자변형\n",
    "print(chr(65))"
   ]
  },
  {
   "attachments": {},
   "cell_type": "markdown",
   "metadata": {},
   "source": [
    "# Default Argument Values : 기본값\n",
    "- optional(생략가능)"
   ]
  },
  {
   "cell_type": "code",
   "execution_count": 19,
   "metadata": {},
   "outputs": [
    {
     "name": "stdout",
     "output_type": "stream",
     "text": [
      "Hello\n",
      "WorldWorldWorldWorldWorld\n"
     ]
    }
   ],
   "source": [
    "def main():\n",
    "  say('Hello')\n",
    "  say('World', 5)\n",
    "\n",
    "def say(message, times=1):\n",
    "  print(message * times)\n",
    "\n",
    "main()"
   ]
  },
  {
   "attachments": {},
   "cell_type": "markdown",
   "metadata": {},
   "source": [
    "# Keyword Arguments\n",
    "- 매개변수의 위치를 명시적으로 기재해주는 것"
   ]
  },
  {
   "cell_type": "code",
   "execution_count": 21,
   "metadata": {},
   "outputs": [
    {
     "name": "stdout",
     "output_type": "stream",
     "text": [
      "a is 3 and b is 7 and c is 10\n",
      "a is 25 and b is 5 and c is 24\n",
      "a is 100 and b is 5 and c is 50\n"
     ]
    }
   ],
   "source": [
    "def main():\n",
    "  func(3, 7)  # a = 3, b = 7, c는 기본값인 10\n",
    "  func(25, c=24) # a = 25, b는 없으므로 기본값, c = 24\n",
    "  func(c=50, a=100) # a = 100, b는 기본값, c = 50\n",
    "def func(a, b=5, c=10): # a는 값을 넣어줘야하고 b,c는 넣어도 그만 안넣어도 그만\n",
    "  print('a is', a, 'and b is', b, 'and c is', c)\n",
    "\n",
    "main()"
   ]
  },
  {
   "attachments": {},
   "cell_type": "markdown",
   "metadata": {},
   "source": [
    "# Lambda Expression\n",
    "- 함수를 간략하게 ㅈ가성\n",
    "- 복잡한 건 안됨\n",
    "\n",
    "lambda par1, par22, ...: expression"
   ]
  },
  {
   "cell_type": "code",
   "execution_count": 24,
   "metadata": {},
   "outputs": [
    {
     "name": "stdout",
     "output_type": "stream",
     "text": [
      "John Backus, James Gosling, Alan Kay, Dennis Ritchis\n"
     ]
    }
   ],
   "source": [
    "names = [\"Dennis Ritchis\", \"Alan Kay\", \"John Backus\", \"James Gosling\"]\n",
    "# lambda: 함수, name: 매개변수, name.split()[-1]: 적용내용\n",
    "names.sort(key=lambda name: name.split()[-1])\n",
    "nameString = \", \".join(names)\n",
    "print(nameString)"
   ]
  }
 ],
 "metadata": {
  "kernelspec": {
   "display_name": "base",
   "language": "python",
   "name": "python3"
  },
  "language_info": {
   "codemirror_mode": {
    "name": "ipython",
    "version": 3
   },
   "file_extension": ".py",
   "mimetype": "text/x-python",
   "name": "python",
   "nbconvert_exporter": "python",
   "pygments_lexer": "ipython3",
   "version": "3.9.13 (main, Aug 25 2022, 23:51:50) [MSC v.1916 64 bit (AMD64)]"
  },
  "orig_nbformat": 4,
  "vscode": {
   "interpreter": {
    "hash": "ad2bdc8ecc057115af97d19610ffacc2b4e99fae6737bb82f5d7fb13d2f2c186"
   }
  }
 },
 "nbformat": 4,
 "nbformat_minor": 2
}
