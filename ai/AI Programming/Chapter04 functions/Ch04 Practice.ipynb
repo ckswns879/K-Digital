{
 "cells": [
  {
   "attachments": {},
   "cell_type": "markdown",
   "metadata": {},
   "source": [
    "# ch04 practice"
   ]
  },
  {
   "cell_type": "code",
   "execution_count": 1,
   "metadata": {},
   "outputs": [
    {
     "name": "stdout",
     "output_type": "stream",
     "text": [
      "First word :  Reach\n",
      "Last word :  star\n"
     ]
    }
   ],
   "source": [
    "# Exercises 2.4 Analyze a Sentence\n",
    "# Reach for the stars.\n",
    "sentence = input('Enter a sentence')\n",
    "words = sentence.split()\n",
    "print('First word : ', words[0])\n",
    "print('Last word : ', words[-1][:-1])"
   ]
  },
  {
   "cell_type": "code",
   "execution_count": 2,
   "metadata": {},
   "outputs": [
    {
     "name": "stdout",
     "output_type": "stream",
     "text": [
      "Middle name:  Andrew\n"
     ]
    }
   ],
   "source": [
    "# Name : Write a program that requests a three-part name and then displays\n",
    "# the middle name\n",
    "## Enter a 3-part name: Michael Andrew Fox\n",
    "\n",
    "name = input(\"enter a person's name: \")\n",
    "name = name.split()\n",
    "print('Middle name: ', name[1])"
   ]
  },
  {
   "cell_type": "code",
   "execution_count": 3,
   "metadata": {},
   "outputs": [
    {
     "name": "stdout",
     "output_type": "stream",
     "text": [
      "Median :  4\n"
     ]
    }
   ],
   "source": [
    "# Exercises 3.4 Median ==> 정렬된 값에서 가장 가운데 있는 값\n",
    "num = int(input('How many numbers do you want to enter?: '))\n",
    "\n",
    "numbers = []\n",
    "for k in range(num):\n",
    "  v = eval(input('Enter a number: '))\n",
    "  numbers.append(v)\n",
    "\n",
    "# 정렬\n",
    "numbers.sort()\n",
    "\n",
    "# 중간값을 찾는다\n",
    "l = len(numbers) \n",
    "if l % 2 == 0:\n",
    "  #짝수\n",
    "  v_med = (numbers[l // 2 - 1] + numbers[l // 2]) / 2\n",
    "\n",
    "else: \n",
    "  # 홀수\n",
    "  v_med = numbers[l // 2]\n",
    "\n",
    "print('Median : ', v_med)"
   ]
  },
  {
   "cell_type": "code",
   "execution_count": 4,
   "metadata": {},
   "outputs": [
    {
     "name": "stdout",
     "output_type": "stream",
     "text": [
      "Starting words :  NAISNIENLGELTETWEORRSD\n",
      "Crossed out letters :  N I N E L E T T E R S\n",
      "Remaining letters :  A S I N G L E W O R D\n"
     ]
    }
   ],
   "source": [
    "# A Puzzle ==> Starting word: NAISNIENLGELTETWEORRSD\n",
    "word = 'NAISNIENLGELTETWEORRSD'\n",
    "crossed_out = word[::2]\n",
    "remaining = word[1::2]\n",
    "\n",
    "print('Starting words : ', word)\n",
    "print('Crossed out letters : ', ' '.join(crossed_out))\n",
    "print('Remaining letters : ', ' '.join(remaining))"
   ]
  },
  {
   "cell_type": "code",
   "execution_count": 5,
   "metadata": {},
   "outputs": [
    {
     "name": "stdout",
     "output_type": "stream",
     "text": [
      "Since blah blah 2178 is 8712, it is a special number\n"
     ]
    }
   ],
   "source": [
    "# Special Number\n",
    "def special_number(num):\n",
    "\n",
    "  num_rev = int(str(num)[::-1])\n",
    " \n",
    "  if 4*num == num_rev:\n",
    "    return True\n",
    "  else:\n",
    "    return False\n",
    "\n",
    "for i in range(1000, 10000):\n",
    "  if special_number(i):\n",
    "    print('Since blah blah {} is {}, it is a special number'.format(i, i*4))"
   ]
  },
  {
   "cell_type": "code",
   "execution_count": 6,
   "metadata": {},
   "outputs": [
    {
     "name": "stdout",
     "output_type": "stream",
     "text": [
      "4\n"
     ]
    },
    {
     "data": {
      "text/plain": [
       "4"
      ]
     },
     "execution_count": 6,
     "metadata": {},
     "output_type": "execute_result"
    }
   ],
   "source": [
    "# Exercises 4.1 Count Function\n",
    "def my_count(str_orig, str_sub):\n",
    "  l_orig = len(str_orig)\n",
    "  l_sub = len(str_sub)\n",
    "\n",
    "  # Empty substring이 들어왔을 때 예외 처리\n",
    "  if l_sub == 0:\n",
    "    return l_orig + 1\n",
    "\n",
    "  idx = 0\n",
    "  cnt = 0\n",
    "  while idx <= l_orig - l_sub:\n",
    "    p_orig = str_orig[idx:idx+l_sub]\n",
    "\n",
    "    if p_orig == str_sub:\n",
    "      cnt += 1\n",
    "      idx += l_sub\n",
    "    else:\n",
    "      idx += 1\n",
    "  return cnt\n",
    "\n",
    "print(my_count('abdeffeeffeeffeeffee', 'ff'))\n",
    "# 정답 결과와 비교\n",
    "'abdeffeeffeeffeeffee'.count('ff')"
   ]
  },
  {
   "cell_type": "code",
   "execution_count": 7,
   "metadata": {},
   "outputs": [
    {
     "name": "stdout",
     "output_type": "stream",
     "text": [
      "New salary : $475668.3\n"
     ]
    }
   ],
   "source": [
    "first = input('First name:')\n",
    "last = input('Last name:')\n",
    "salary = eval(input('Current salary:'))\n",
    "\n",
    "if salary < 40000:\n",
    "  new_salary = salary*1.05\n",
    "else:\n",
    "  new_salary = salary + 2000+ (salary - 40000) * 0.02\n",
    "\n",
    "print(\"New salary : ${}\".format(new_salary))"
   ]
  },
  {
   "cell_type": "code",
   "execution_count": 9,
   "metadata": {},
   "outputs": [
    {
     "name": "stdout",
     "output_type": "stream",
     "text": [
      "George Washington\n",
      "John Adams\n",
      "Thomas Jefferson\n",
      "John Q. Adams\n",
      "\n",
      "['George Washington', 'John Adams', 'Thomas Jefferson', 'John Q. Adams']\n",
      "\n",
      "George Washington\n",
      "John Adams\n",
      "Thomas Jefferson\n",
      "John Q. Adams\n"
     ]
    }
   ],
   "source": [
    "def main():\n",
    "  file = \"./FirstPresidents.txt\"\n",
    "  #file = \"../data/FirstPresidents.txt\"\n",
    "  displayWithForLoop(file)\n",
    "  print()\n",
    "  displayWithListComprehension(file)\n",
    "  print()\n",
    "  displayWithReadline(file)\n",
    "\n",
    "def displayWithForLoop(file):\n",
    "  infile = open(file, 'r')\n",
    "  for line in infile:\n",
    "    print(line.rstrip())\n",
    "  infile.close()\n",
    "\n",
    "def displayWithListComprehension(file):\n",
    "  infile = open(file, 'r')\n",
    "  listPres = [line.rstrip() for line in infile]\n",
    "  infile.close()\n",
    "  print(listPres)\n",
    "\n",
    "def displayWithReadline(file):\n",
    "  infile = open(file, 'r')\n",
    "  line = infile.readline()\n",
    "  while line != \"\":\n",
    "    print(line.rstrip())\n",
    "    line = infile.readline()\n",
    "  infile.close()\n",
    "\n",
    "main()"
   ]
  },
  {
   "cell_type": "code",
   "execution_count": null,
   "metadata": {},
   "outputs": [],
   "source": []
  },
  {
   "cell_type": "code",
   "execution_count": null,
   "metadata": {},
   "outputs": [],
   "source": []
  }
 ],
 "metadata": {
  "kernelspec": {
   "display_name": "Python 3",
   "language": "python",
   "name": "python3"
  },
  "language_info": {
   "codemirror_mode": {
    "name": "ipython",
    "version": 3
   },
   "file_extension": ".py",
   "mimetype": "text/x-python",
   "name": "python",
   "nbconvert_exporter": "python",
   "pygments_lexer": "ipython3",
   "version": "3.10.9"
  },
  "orig_nbformat": 4,
  "vscode": {
   "interpreter": {
    "hash": "7b1f2b33e866b0bf2409397e5f58ba9cdf170d3b7f64c8f359c79998e2f88ad4"
   }
  }
 },
 "nbformat": 4,
 "nbformat_minor": 2
}
