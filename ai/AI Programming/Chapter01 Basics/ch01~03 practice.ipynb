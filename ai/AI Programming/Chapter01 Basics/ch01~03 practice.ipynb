{
 "cells": [
  {
   "cell_type": "code",
   "execution_count": 2,
   "metadata": {},
   "outputs": [
    {
     "name": "stdout",
     "output_type": "stream",
     "text": [
      "What you don't owe won't hurt you\n"
     ]
    }
   ],
   "source": [
    "#Exercies2.2\n",
    "sentence = input('Enter a sentence : ')\n",
    "word1 = input('Enter word to replace : ')\n",
    "word2 = input('Enter replacement word : ')\n",
    "\n",
    "answer = sentence.replace(word1, word2)\n",
    "print(answer)"
   ]
  },
  {
   "cell_type": "code",
   "execution_count": 3,
   "metadata": {},
   "outputs": [
    {
     "name": "stdout",
     "output_type": "stream",
     "text": [
      "Present value: $9,057.31\n"
     ]
    }
   ],
   "source": [
    "# Exercise 2.3\n",
    "# eval을 쓰면 integer, float 상관없이 쓸 수 있다.\n",
    "f = eval(input('Enter future value: '))\n",
    "r = eval(input('Enter interest rate( as %): '))\n",
    "n = eval(input('Enter number of years: '))\n",
    "\n",
    "p = f / ( 1 + r /100) ** n\n",
    " \n",
    "print('Present value: ${0:,.2f}'.format(p))"
   ]
  },
  {
   "cell_type": "code",
   "execution_count": 4,
   "metadata": {},
   "outputs": [
    {
     "name": "stdout",
     "output_type": "stream",
     "text": [
      "ipchay\n"
     ]
    }
   ],
   "source": [
    "# Exercise 3.2\n",
    "word = input('Enter word to translate : ')\n",
    "\n",
    "if word[0] in 'aeiou' :\n",
    "  #모음으로 시작될때 실행됨.\n",
    "  print(word + 'way')\n",
    "else :\n",
    "  # 자음으로 시작할때 실행됨\n",
    "  idx = 0\n",
    "  while True:\n",
    "    if len(word) == idx or word[idx] in 'aeiou':\n",
    "      break\n",
    "    else :\n",
    "      idx += 1\n",
    "  g = word[:idx]\n",
    "  word = word[idx:] + g + 'ay'\n",
    "  print(word)"
   ]
  },
  {
   "cell_type": "code",
   "execution_count": 5,
   "metadata": {},
   "outputs": [
    {
     "name": "stdout",
     "output_type": "stream",
     "text": [
      "The sum of digits in the number is 15\n"
     ]
    }
   ],
   "source": [
    "# Exercies 3.4\n",
    "\n",
    "num = int(input(\"Input a four digit numbers: \"))\n",
    "x  = num //1000000\n",
    "x1 = (num - x*1000000)//100000\n",
    "x2 = (num - x*1000000 - x1*100000)//10000\n",
    "x3 = (num - x*1000000 - x1*100000 - x2*10000)//1000\n",
    "x4 = (num - x*1000000 - x1*100000 - x2*10000 - x3*1000)//100\n",
    "x5 = (num - x*1000000 - x1*100000 - x2*10000 - x3*1000 - x4*100)//10\n",
    "x6 = num - x*1000000 - x1*100000 - x2*10000 - x3*1000 - x4*100 - x5*10\n",
    "print(\"The sum of digits in the number is\", x+x1+x2+x3+x4+x5+x6)"
   ]
  }
 ],
 "metadata": {
  "kernelspec": {
   "display_name": "Python 3",
   "language": "python",
   "name": "python3"
  },
  "language_info": {
   "codemirror_mode": {
    "name": "ipython",
    "version": 3
   },
   "file_extension": ".py",
   "mimetype": "text/x-python",
   "name": "python",
   "nbconvert_exporter": "python",
   "pygments_lexer": "ipython3",
   "version": "3.10.9"
  },
  "orig_nbformat": 4,
  "vscode": {
   "interpreter": {
    "hash": "7b1f2b33e866b0bf2409397e5f58ba9cdf170d3b7f64c8f359c79998e2f88ad4"
   }
  }
 },
 "nbformat": 4,
 "nbformat_minor": 2
}
