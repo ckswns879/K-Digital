{
  "cells": [
    {
      "attachments": {},
      "cell_type": "markdown",
      "metadata": {},
      "source": [
        "Basics of Python"
      ]
    },
    {
      "attachments": {},
      "cell_type": "markdown",
      "metadata": {},
      "source": [
        "Strings"
      ]
    },
    {
      "cell_type": "code",
      "execution_count": 2,
      "metadata": {
        "colab": {
          "base_uri": "https://localhost:8080/",
          "height": 35
        },
        "id": "c7xY4Sph6pii",
        "outputId": "7a4f96da-30c3-45c8-b35e-d95edfca8d6e"
      },
      "outputs": [
        {
          "data": {
            "text/plain": [
              "'Quote me on this'"
            ]
          },
          "execution_count": 2,
          "metadata": {},
          "output_type": "execute_result"
        }
      ],
      "source": [
        "'Quote me on this'"
      ]
    },
    {
      "cell_type": "code",
      "execution_count": 3,
      "metadata": {
        "id": "7uvJ9qAC6tXU"
      },
      "outputs": [
        {
          "data": {
            "text/plain": [
              "\"What's your name?\""
            ]
          },
          "execution_count": 3,
          "metadata": {},
          "output_type": "execute_result"
        }
      ],
      "source": [
        "\"What's your name?\""
      ]
    },
    {
      "cell_type": "code",
      "execution_count": 4,
      "metadata": {
        "colab": {
          "base_uri": "https://localhost:8080/",
          "height": 35
        },
        "id": "H_XaQXkW7Tub",
        "outputId": "8e0e32a9-1c8d-4e38-9537-a1152a09dfa2"
      },
      "outputs": [
        {
          "data": {
            "text/plain": [
              "'this is the first line.\\nthis is the second line.\\n\"What\\'s your name?,\" I asekd. He saie \"Bpmd. James Bond.\"'"
            ]
          },
          "execution_count": 4,
          "metadata": {},
          "output_type": "execute_result"
        }
      ],
      "source": [
        "x = '''this is the first line.\n",
        "this is the second line.\n",
        "\"What's your name?,\" I asekd. He saie \"Bpmd. James Bond.\"'''\n",
        "x"
      ]
    },
    {
      "cell_type": "code",
      "execution_count": 5,
      "metadata": {
        "colab": {
          "base_uri": "https://localhost:8080/",
          "height": 35
        },
        "id": "o4leAEx67uIz",
        "outputId": "f3dfd469-fae6-4685-da96-5c5b62babf6f"
      },
      "outputs": [
        {
          "data": {
            "text/plain": [
              "'goodbye'"
            ]
          },
          "execution_count": 5,
          "metadata": {},
          "output_type": "execute_result"
        }
      ],
      "source": [
        "'good' +'bye'"
      ]
    },
    {
      "cell_type": "code",
      "execution_count": 6,
      "metadata": {
        "colab": {
          "base_uri": "https://localhost:8080/",
          "height": 35
        },
        "id": "9fviF5iI7y6D",
        "outputId": "6dd3f31d-6713-4c7d-8d1d-774854962a3f"
      },
      "outputs": [
        {
          "data": {
            "text/plain": [
              "'ababab'"
            ]
          },
          "execution_count": 6,
          "metadata": {},
          "output_type": "execute_result"
        }
      ],
      "source": [
        "('a'+'b') * 3"
      ]
    },
    {
      "cell_type": "code",
      "execution_count": 7,
      "metadata": {
        "colab": {
          "base_uri": "https://localhost:8080/",
          "height": 35
        },
        "id": "OefmhwdJ72Db",
        "outputId": "ffb38306-1562-4ed3-fed1-1b632799f13a"
      },
      "outputs": [
        {
          "data": {
            "text/plain": [
              "'aaabbb'"
            ]
          },
          "execution_count": 7,
          "metadata": {},
          "output_type": "execute_result"
        }
      ],
      "source": [
        "'a' * 3 + 'b' * 3"
      ]
    },
    {
      "cell_type": "code",
      "execution_count": 8,
      "metadata": {
        "colab": {
          "base_uri": "https://localhost:8080/"
        },
        "id": "K_pWoFbz75sr",
        "outputId": "61b1b788-760a-4fe9-f638-3565e8eb73dd"
      },
      "outputs": [
        {
          "data": {
            "text/plain": [
              "6"
            ]
          },
          "execution_count": 8,
          "metadata": {},
          "output_type": "execute_result"
        }
      ],
      "source": [
        "len('string')"
      ]
    },
    {
      "cell_type": "code",
      "execution_count": 9,
      "metadata": {
        "colab": {
          "base_uri": "https://localhost:8080/"
        },
        "id": "c8EY-jRV8K07",
        "outputId": "5bd22469-f72d-4320-fdb7-3aebf7948d9d"
      },
      "outputs": [
        {
          "data": {
            "text/plain": [
              "23"
            ]
          },
          "execution_count": 9,
          "metadata": {},
          "output_type": "execute_result"
        }
      ],
      "source": [
        "int('23')"
      ]
    },
    {
      "cell_type": "code",
      "execution_count": 10,
      "metadata": {
        "colab": {
          "base_uri": "https://localhost:8080/"
        },
        "id": "ax_WBuSs8MaH",
        "outputId": "9a8f6eee-34c2-4bb0-9762-405185e6b50e"
      },
      "outputs": [
        {
          "data": {
            "text/plain": [
              "23"
            ]
          },
          "execution_count": 10,
          "metadata": {},
          "output_type": "execute_result"
        }
      ],
      "source": [
        "eval('23')\n",
        "#eval : string으로 이루어진 수식을 실행 후 결과 반환"
      ]
    },
    {
      "cell_type": "code",
      "execution_count": 11,
      "metadata": {
        "colab": {
          "base_uri": "https://localhost:8080/"
        },
        "id": "g7YmbT_B8Wir",
        "outputId": "98a60547-243a-4a66-a4cf-356b10e8a800"
      },
      "outputs": [
        {
          "data": {
            "text/plain": [
              "33"
            ]
          },
          "execution_count": 11,
          "metadata": {},
          "output_type": "execute_result"
        }
      ],
      "source": [
        "x = 5\n",
        "eval('23 + (2 * x)')"
      ]
    },
    {
      "cell_type": "code",
      "execution_count": 1,
      "metadata": {
        "id": "ZUoO7A3I8qK3"
      },
      "outputs": [],
      "source": [
        "exec('x = 2')\n",
        "#exec : string으로 이루어진 수식을 실행 / 결과값을 반환하지는 않음"
      ]
    },
    {
      "cell_type": "code",
      "execution_count": 13,
      "metadata": {
        "colab": {
          "base_uri": "https://localhost:8080/"
        },
        "id": "iY9Lve4E8yLL",
        "outputId": "6bfb8d5f-fb9f-4330-95bc-80903bcf7c8c"
      },
      "outputs": [
        {
          "data": {
            "text/plain": [
              "2"
            ]
          },
          "execution_count": 13,
          "metadata": {},
          "output_type": "execute_result"
        }
      ],
      "source": [
        "x"
      ]
    },
    {
      "cell_type": "code",
      "execution_count": 14,
      "metadata": {
        "colab": {
          "base_uri": "https://localhost:8080/"
        },
        "id": "tBdlFBoq8zSL",
        "outputId": "3d4ce5aa-e26d-4fb4-acdd-00afe7b79ed9"
      },
      "outputs": [
        {
          "data": {
            "text/plain": [
              "3"
            ]
          },
          "execution_count": 14,
          "metadata": {},
          "output_type": "execute_result"
        }
      ],
      "source": [
        "exec('y=3')\n",
        "y"
      ]
    },
    {
      "cell_type": "code",
      "execution_count": 15,
      "metadata": {
        "colab": {
          "base_uri": "https://localhost:8080/"
        },
        "id": "W760fDxt82F4",
        "outputId": "51650e6e-63d3-4644-de26-06727a13529d"
      },
      "outputs": [
        {
          "data": {
            "text/plain": [
              "5"
            ]
          },
          "execution_count": 15,
          "metadata": {},
          "output_type": "execute_result"
        }
      ],
      "source": [
        "eval('x + y')"
      ]
    },
    {
      "cell_type": "code",
      "execution_count": 16,
      "metadata": {
        "id": "b-PLehn6843D"
      },
      "outputs": [],
      "source": [
        "exec('x+y')"
      ]
    },
    {
      "cell_type": "code",
      "execution_count": 17,
      "metadata": {
        "colab": {
          "base_uri": "https://localhost:8080/",
          "height": 174
        },
        "id": "wfR7UpL49JLL",
        "outputId": "9f2b4594-de86-486d-a29d-053f242e5806"
      },
      "outputs": [
        {
          "data": {
            "text/plain": [
              "'5.6'"
            ]
          },
          "execution_count": 17,
          "metadata": {},
          "output_type": "execute_result"
        }
      ],
      "source": [
        "str(5.6)"
      ]
    },
    {
      "cell_type": "code",
      "execution_count": 3,
      "metadata": {},
      "outputs": [
        {
          "name": "stdout",
          "output_type": "stream",
          "text": [
            "PYTHON\n",
            "python\n",
            "1\n",
            "Code\n",
            "Ben Hur\n",
            "    ab\n",
            "ab\n",
            "ab    \n"
          ]
        }
      ],
      "source": [
        "strl = \"Python\"\n",
        "print(strl.upper())  #대문자로\n",
        "print(strl.lower())  #소문자로\n",
        "print(strl.count('th'))\n",
        "print('coDE'.capitalize())\n",
        "print(\"beN hur\".title())\n",
        "print('    ab    '.rstrip())  # 오른쪽 끝 공백 제거\n",
        "print('    ab    '.strip())   # 양쪽 끝 공백 제거\n",
        "print('    ab    '.lstrip())  # 왼쪽 끝 공백 제거"
      ]
    },
    {
      "attachments": {},
      "cell_type": "markdown",
      "metadata": {},
      "source": [
        "보다 파이썬다운 compact한 코드 작성"
      ]
    },
    {
      "cell_type": "code",
      "execution_count": 25,
      "metadata": {
        "id": "ueI4N6QI-iH6"
      },
      "outputs": [
        {
          "name": "stdout",
          "output_type": "stream",
          "text": [
            "3\n"
          ]
        }
      ],
      "source": [
        "praise = \"Good Doggie\".upper()\n",
        "numberofGees = praise.count('G')\n",
        "print(numberofGees)"
      ]
    },
    {
      "cell_type": "code",
      "execution_count": 26,
      "metadata": {
        "id": "pP8IYkX3-t8S"
      },
      "outputs": [
        {
          "name": "stdout",
          "output_type": "stream",
          "text": [
            "3\n"
          ]
        }
      ],
      "source": [
        "numberofGees = \"Good Doggie\".upper().count('G')\n",
        "print(numberofGees)"
      ]
    },
    {
      "attachments": {},
      "cell_type": "markdown",
      "metadata": {},
      "source": [
        "Indices and Slices"
      ]
    },
    {
      "cell_type": "code",
      "execution_count": 27,
      "metadata": {
        "id": "ZgmCUk8c_dJb"
      },
      "outputs": [
        {
          "name": "stdout",
          "output_type": "stream",
          "text": [
            "Python\n",
            "y n th\n",
            "6\n",
            "-1\n",
            "9\n"
          ]
        }
      ],
      "source": [
        "print('Python')\n",
        "print('Python'[1], 'Python'[5], 'Python'[2:4])\n",
        "str1 = \"Hello World\"\n",
        "print(str1.find('W'))\n",
        "print(str1.find('x'))\n",
        "print(str1.rfind('l'))"
      ]
    },
    {
      "cell_type": "code",
      "execution_count": 4,
      "metadata": {
        "id": "ICvoVYX8ACAa"
      },
      "outputs": [
        {
          "name": "stdout",
          "output_type": "stream",
          "text": [
            "Python\n",
            "n t yth\n",
            "6\n",
            "-1\n",
            "9\n"
          ]
        }
      ],
      "source": [
        "print('Python')\n",
        "print('Python'[-1], 'Python'[-4], 'Python'[-5:-2])\n",
        "strl = 'Hello World'\n",
        "print(strl.find('W'))   # 가장 왼쪽에 있는 W의 인덱스\n",
        "print(strl.find('x'))   # 없으면 -1 반환\n",
        "print(strl.rfind('l'))  # 가장 오른쪽에 있는 l의 인덱스"
      ]
    },
    {
      "cell_type": "code",
      "execution_count": 6,
      "metadata": {},
      "outputs": [
        {
          "name": "stdout",
          "output_type": "stream",
          "text": [
            "Python\n",
            "n t yth\n",
            "g\n",
            "m & e\n",
            "spam & egg\n"
          ]
        }
      ],
      "source": [
        "print('Python')\n",
        "print('Python'[-1], 'Python'[-4], 'Python'[-5:-2])\n",
        "strl = 'spam & eggs'\n",
        "print(strl[-2])\n",
        "print(strl[-8:-3])\n",
        "print(strl[0:-1])"
      ]
    },
    {
      "cell_type": "code",
      "execution_count": 7,
      "metadata": {},
      "outputs": [
        {
          "name": "stdout",
          "output_type": "stream",
          "text": [
            "thon Pyth Python\n",
            "hon Pyt\n"
          ]
        }
      ],
      "source": [
        "print('Python'[2:], 'Python'[:4], 'Python'[:])\n",
        "print('Python'[-3:], 'Python'[:-3])"
      ]
    },
    {
      "attachments": {},
      "cell_type": "markdown",
      "metadata": {},
      "source": [
        "Optional print Arguments"
      ]
    },
    {
      "cell_type": "code",
      "execution_count": 9,
      "metadata": {
        "id": "sEtXfIOYBBqq"
      },
      "outputs": [
        {
          "name": "stdout",
          "output_type": "stream",
          "text": [
            "5*7\n",
            "HelloWorld\n",
            "1    two    3\n"
          ]
        }
      ],
      "source": [
        "x = 5; y = 7\n",
        "print(x, y, sep='*')\n",
        "print(\"Hello\", \"World\", sep=\"\")\n",
        "print('1', 'two', 3, sep='    ')"
      ]
    },
    {
      "cell_type": "code",
      "execution_count": 10,
      "metadata": {
        "id": "59OfAvAcBXVa"
      },
      "outputs": [
        {
          "name": "stdout",
          "output_type": "stream",
          "text": [
            "Hello World\n"
          ]
        }
      ],
      "source": [
        "print(\"Hello\", end=\" \")\n",
        "print(\"World\")"
      ]
    },
    {
      "attachments": {},
      "cell_type": "markdown",
      "metadata": {},
      "source": [
        "The format Method"
      ]
    },
    {
      "cell_type": "code",
      "execution_count": 31,
      "metadata": {
        "id": "EaIIilYkBoTK"
      },
      "outputs": [
        {
          "name": "stdout",
          "output_type": "stream",
          "text": [
            "Swaroop was 20 years old when he wrote the book A Byte of Python. \n",
            "Why is Swaroop playing with that python?\n"
          ]
        }
      ],
      "source": [
        "age = 20\n",
        "name = 'Swaroop'\n",
        "# 변수 들어갈 위치에 {숫자} 기재하여 문장작성 후 .format(변수명0, 변수명1, ...)\n",
        "print('''{0} was {1} years old when he wrote the book A Byte of Python. '''.format(name, age))\n",
        "print('Why is {0} playing with that python?'.format(name))"
      ]
    },
    {
      "cell_type": "code",
      "execution_count": 11,
      "metadata": {
        "id": "8Y6eey4VEbpp"
      },
      "outputs": [
        {
          "name": "stdout",
          "output_type": "stream",
          "text": [
            "0123456789012345678901234567\n",
            "Rank Player               HR\n",
            "  1  Barry Bonde         762\n",
            "  2  Player               HR\n"
          ]
        }
      ],
      "source": [
        "print(\"0123456789012345678901234567\")\n",
        "# ^ : 가운데정렬 / < : 왼쪽정렬 / > : 오른쪽정렬\n",
        "print(\"{0:^5}{1:<20}{2:>3}\".format(\"Rank\", \"Player\", \"HR\"))\n",
        "print(\"{0:^5}{1:<20}{2:>3}\".format(1, \"Barry Bonde\", 762))\n",
        "print(\"{0:^5}{1:<20}{2:>3}\".format(2, \"Player\", \"HR\"))"
      ]
    },
    {
      "cell_type": "code",
      "execution_count": 12,
      "metadata": {
        "id": "x_Qw5FxxF68L"
      },
      "outputs": [
        {
          "name": "stdout",
          "output_type": "stream",
          "text": [
            "   1234.57\n",
            "  1,234.57\n",
            " 1,234.568\n",
            "123,456.78%\n",
            "123,456.780%\n",
            "12,345,678\n",
            "___hello___\n",
            "hello______\n",
            "______hello\n",
            "Swaroop wrote A Byte of Python\n",
            "0.3333333333333333\n",
            "0.3333333333333333\n"
          ]
        }
      ],
      "source": [
        "print('{0:10.2f}'.format(1234.5678))    # f : 부동소수점\n",
        "print('{0:10,.2f}'.format(1234.5678))\n",
        "print('{0:10,.3f}'.format(1234.5678))\n",
        "print('{0:10,.2%}'.format(1234.5678))   # % : 백분율로 표기\n",
        "print('{0:10,.3%}'.format(1234.5678))\n",
        "print('{0:10,}'.format(12345678))\n",
        "print('{0:_^11}'.format('hello'))       # 빈칸에 _ 기재\n",
        "print('{0:_<11}'.format('hello'))\n",
        "print('{0:_>11}'.format('hello'))\n",
        "print('{name} wrote {book}'.format(name='Swaroop',\n",
        "                                   book='A Byte of Python'))\n",
        "print(1.0/3)\n",
        "print(1/3)"
      ]
    },
    {
      "cell_type": "code",
      "execution_count": 34,
      "metadata": {
        "id": "P-On4h0qGwJn"
      },
      "outputs": [
        {
          "name": "stdout",
          "output_type": "stream",
          "text": [
            "0.333\n",
            "___hello___\n",
            "Swaroop wrote A Byte of Python\n"
          ]
        }
      ],
      "source": [
        "print('{0:.3f}'.format(1.0/3))\n",
        "print('{0:_^11}'.format('hello'))\n",
        "print('{name} wrote {book}'.format(name = 'Swaroop', book = 'A Byte of Python'))"
      ]
    },
    {
      "attachments": {},
      "cell_type": "markdown",
      "metadata": {},
      "source": [
        "Escape Sequences"
      ]
    },
    {
      "cell_type": "code",
      "execution_count": 35,
      "metadata": {
        "id": "3g2aL9AnHdFx"
      },
      "outputs": [
        {
          "ename": "SyntaxError",
          "evalue": "invalid syntax (2874674599.py, line 1)",
          "output_type": "error",
          "traceback": [
            "\u001b[1;36m  File \u001b[1;32m\"C:\\Users\\user\\AppData\\Local\\Temp\\ipykernel_18620\\2874674599.py\"\u001b[1;36m, line \u001b[1;32m1\u001b[0m\n\u001b[1;33m    print('What's your name?'')\u001b[0m\n\u001b[1;37m                ^\u001b[0m\n\u001b[1;31mSyntaxError\u001b[0m\u001b[1;31m:\u001b[0m invalid syntax\n"
          ]
        }
      ],
      "source": [
        "print('What's your name?'')\n",
        "# 따옴표 때문에 오류나므로"
      ]
    },
    {
      "cell_type": "code",
      "execution_count": 36,
      "metadata": {
        "id": "Qogii5XSHjPS"
      },
      "outputs": [
        {
          "name": "stdout",
          "output_type": "stream",
          "text": [
            "What's your name?\n",
            "whjat's your name?\n",
            "He said, \"Bond, James Bond.\"\n",
            "He said, \"Bond, James Bond.\"\n"
          ]
        }
      ],
      "source": [
        "# \\를 넣으면 그대로 출력 가능하다\n",
        "print(\"What's your name?\")\n",
        "print('whjat\\'s your name?')\n",
        "print('He said, \"Bond, James Bond.\"')\n",
        "print(\"He said, \\\"Bond, James Bond.\\\"\")"
      ]
    },
    {
      "cell_type": "code",
      "execution_count": 37,
      "metadata": {
        "id": "fh-nv85lH6RB"
      },
      "outputs": [
        {
          "name": "stdout",
          "output_type": "stream",
          "text": [
            "How can you prevent \\n from being printed?\n",
            "How can you prevent \n",
            " from being printed?\n",
            "A blackslash at the end of the line \\ indicate line continuation\n"
          ]
        }
      ],
      "source": [
        "print('How can you prevent \\\\n from being printed?')\n",
        "print('How can you prevent \\n from being printed?')\n",
        "print('A blackslash at the end of the line \\ indicate line continuation')"
      ]
    },
    {
      "cell_type": "code",
      "execution_count": 38,
      "metadata": {
        "id": "Zf4OmMLLIgWa"
      },
      "outputs": [
        {
          "name": "stdout",
          "output_type": "stream",
          "text": [
            "Object `for` not found.\n",
            "ss\n"
          ]
        }
      ],
      "source": [
        "text = input()\n",
        "What are you waiting for?\n",
        "print(text)"
      ]
    },
    {
      "attachments": {},
      "cell_type": "markdown",
      "metadata": {},
      "source": [
        "Keyboard Input"
      ]
    },
    {
      "cell_type": "code",
      "execution_count": 39,
      "metadata": {
        "id": "dfm6cS2DInO2"
      },
      "outputs": [
        {
          "name": "stdout",
          "output_type": "stream",
          "text": [
            "obama\n"
          ]
        },
        {
          "data": {
            "text/plain": [
              "'obama'"
            ]
          },
          "execution_count": 39,
          "metadata": {},
          "output_type": "execute_result"
        }
      ],
      "source": [
        "# 문자를 입력 받을 때\n",
        "name = input('What is your name? ')\n",
        "print(name)\n",
        "name"
      ]
    },
    {
      "cell_type": "code",
      "execution_count": 40,
      "metadata": {
        "id": "bLaI20BHJEdp"
      },
      "outputs": [
        {
          "data": {
            "text/plain": [
              "45"
            ]
          },
          "execution_count": 40,
          "metadata": {},
          "output_type": "execute_result"
        }
      ],
      "source": [
        "# 숫자를 입력 받을 때\n",
        "prompt = 'What is the airspeed velocity of a swallow?\\n'\n",
        "speed = int(input(prompt))\n",
        "speed"
      ]
    },
    {
      "cell_type": "code",
      "execution_count": 41,
      "metadata": {
        "id": "tTlbma0KJlsk"
      },
      "outputs": [
        {
          "name": "stdout",
          "output_type": "stream",
          "text": [
            "Last name: park\n",
            "First name(s) kyunggwan\n"
          ]
        }
      ],
      "source": [
        "fullName = input('enter a full name: ')\n",
        "n = fullName.rfind(' ')\n",
        "print('Last name:', fullName[n+1:])\n",
        "print('First name(s)', fullName[:n])"
      ]
    },
    {
      "attachments": {},
      "cell_type": "markdown",
      "metadata": {},
      "source": [
        "Indentation and Line Joining"
      ]
    },
    {
      "cell_type": "code",
      "execution_count": 13,
      "metadata": {
        "id": "ZEmN6YpEMFtw"
      },
      "outputs": [
        {
          "name": "stdout",
          "output_type": "stream",
          "text": [
            "Value is  5\n"
          ]
        }
      ],
      "source": [
        "i = 5\n",
        "print('Value is ', i)\n",
        "  # print('I repeat, the Value is ', i)\n",
        "  #들여쓰기 안 맞으면 오류 발생!"
      ]
    },
    {
      "cell_type": "code",
      "execution_count": 42,
      "metadata": {
        "id": "Z5EsHtt5KUGJ"
      },
      "outputs": [
        {
          "name": "stdout",
          "output_type": "stream",
          "text": [
            "The area of Texas is 268,820 square miles.\n",
            "the population of Texas is 8.56% of \\ the U.S.population.\n"
          ]
        }
      ],
      "source": [
        "# interpreter 번역가 ==> 규칙을 잘 맞춰 줘야한다.\n",
        "# 줄바꿀 때 문장 이어짐 여부가 명확하게 구분이 되면 별도의 표시가 없어도 오류 없음\n",
        "print('The area of {0} is {1:,} square miles.'.format('Texas', 268820))\n",
        "str1 = 'the population of {0} is {1:.2%} of \\ the U.S.population.' \n",
        "print(str1.format('Texas', 26448000. / 309000000))"
      ]
    },
    {
      "cell_type": "markdown",
      "metadata": {
        "id": "p6qILTJiMGP3"
      },
      "source": [
        "Operatos and Control Flow 조건문과 연산자\n"
      ]
    },
    {
      "attachments": {},
      "cell_type": "markdown",
      "metadata": {},
      "source": [
        "Operators"
      ]
    },
    {
      "cell_type": "code",
      "execution_count": 43,
      "metadata": {
        "id": "SjdlYCVGMKQJ"
      },
      "outputs": [
        {
          "data": {
            "text/plain": [
              "1.0"
            ]
          },
          "execution_count": 43,
          "metadata": {},
          "output_type": "execute_result"
        }
      ],
      "source": [
        "# 몫만 내고 싶을때, 나머지는 버림\n",
        "13 // 3\n",
        "3.5 // 2"
      ]
    },
    {
      "cell_type": "code",
      "execution_count": 44,
      "metadata": {
        "id": "DHcjoG_cMYCo"
      },
      "outputs": [
        {
          "data": {
            "text/plain": [
              "1"
            ]
          },
          "execution_count": 44,
          "metadata": {},
          "output_type": "execute_result"
        }
      ],
      "source": [
        "13 % 3"
      ]
    },
    {
      "cell_type": "code",
      "execution_count": 45,
      "metadata": {
        "id": "OaCvXGcqMbSo"
      },
      "outputs": [
        {
          "data": {
            "text/plain": [
              "1.5"
            ]
          },
          "execution_count": 45,
          "metadata": {},
          "output_type": "execute_result"
        }
      ],
      "source": [
        "#음수 나눗셈\n",
        "-25.5 % 2.25"
      ]
    },
    {
      "cell_type": "code",
      "execution_count": 46,
      "metadata": {
        "id": "7JCVHBACMl-Q"
      },
      "outputs": [
        {
          "data": {
            "text/plain": [
              "8"
            ]
          },
          "execution_count": 46,
          "metadata": {},
          "output_type": "execute_result"
        }
      ],
      "source": [
        "# 숫자의 이진표현  2를 왼쪽으로 두칸 가라 = * 2\n",
        "2 << 2"
      ]
    },
    {
      "cell_type": "code",
      "execution_count": 47,
      "metadata": {
        "id": "Z_cFRcIZM3yo"
      },
      "outputs": [
        {
          "data": {
            "text/plain": [
              "5"
            ]
          },
          "execution_count": 47,
          "metadata": {},
          "output_type": "execute_result"
        }
      ],
      "source": [
        "#Right Shift 이진수를 오른쪽으로 한칸 버림, 2로 나누기\n",
        "11 >> 1"
      ]
    },
    {
      "cell_type": "code",
      "execution_count": 48,
      "metadata": {
        "id": "pMVmjRmJM_Vp"
      },
      "outputs": [
        {
          "data": {
            "text/plain": [
              "1"
            ]
          },
          "execution_count": 48,
          "metadata": {},
          "output_type": "execute_result"
        }
      ],
      "source": [
        "5 & 3 # Bitwise AND   ==> AND는 같은부분만 나옴"
      ]
    },
    {
      "cell_type": "code",
      "execution_count": 49,
      "metadata": {
        "id": "-SKaralGNXKo"
      },
      "outputs": [
        {
          "data": {
            "text/plain": [
              "7"
            ]
          },
          "execution_count": 49,
          "metadata": {},
          "output_type": "execute_result"
        }
      ],
      "source": [
        "5 | 3 #Bitwise OR ==> OR은 모든 부분 출력"
      ]
    },
    {
      "cell_type": "code",
      "execution_count": 50,
      "metadata": {
        "id": "kLKUOszWNXX4"
      },
      "outputs": [
        {
          "data": {
            "text/plain": [
              "6"
            ]
          },
          "execution_count": 50,
          "metadata": {},
          "output_type": "execute_result"
        }
      ],
      "source": [
        "5 ^ 3 # Bitwise XOR ==> 다른 부분 출력"
      ]
    },
    {
      "cell_type": "code",
      "execution_count": 52,
      "metadata": {
        "id": "Crfkx3RINXkx"
      },
      "outputs": [
        {
          "data": {
            "text/plain": [
              "-6"
            ]
          },
          "execution_count": 52,
          "metadata": {},
          "output_type": "execute_result"
        }
      ],
      "source": [
        "~ 5 # Bitwise Invert(bit-wise inversion of x is -(x+1)) "
      ]
    },
    {
      "attachments": {},
      "cell_type": "markdown",
      "metadata": {},
      "source": [
        "Precedence and Order of Evaluation"
      ]
    },
    {
      "cell_type": "markdown",
      "metadata": {
        "id": "ltWkwnhLTcgw"
      },
      "source": [
        "Expressions 한 줄을 계산하는 것, 수식을 Expressions라고 한다."
      ]
    },
    {
      "cell_type": "code",
      "execution_count": 14,
      "metadata": {},
      "outputs": [
        {
          "name": "stdout",
          "output_type": "stream",
          "text": [
            "Area is 7\n",
            "Perimeter is 14\n"
          ]
        }
      ],
      "source": [
        "length = 5    # statement\n",
        "breadth = 2   # statement\n",
        "\n",
        "area = length + breadth   # expression\n",
        "\n",
        "print('Area is', area)\n",
        "print('Perimeter is', 2*(length + breadth))"
      ]
    },
    {
      "attachments": {},
      "cell_type": "markdown",
      "metadata": {},
      "source": [
        "Decision Structures"
      ]
    },
    {
      "cell_type": "code",
      "execution_count": 56,
      "metadata": {
        "id": "kNhhqXQLUATP"
      },
      "outputs": [
        {
          "name": "stdout",
          "output_type": "stream",
          "text": [
            "No, it is a little higher than that\n",
            "Done\n"
          ]
        }
      ],
      "source": [
        "number = 23\n",
        "guess = int(input('enter an integer: '))\n",
        "\n",
        "if(guess == number):\n",
        "  print('Congratulations, you guessed it.')\n",
        "  print('(but you do not win any prizes!')\n",
        "\n",
        "else:\n",
        "  if guess < number:\n",
        "    print('No, it is a little higher than that')\n",
        "  else:\n",
        "    print('No, it is a little lower than that')\n",
        "\n",
        "print('Done')"
      ]
    },
    {
      "cell_type": "code",
      "execution_count": 58,
      "metadata": {
        "id": "r2dpFJZAVEN4"
      },
      "outputs": [
        {
          "name": "stdout",
          "output_type": "stream",
          "text": [
            "Congratulations, you guessed it.\n",
            "(but you do not win any prizes!\n",
            "Done\n"
          ]
        }
      ],
      "source": [
        "# elif는 indentation이 훨씬 깔끔하다\n",
        "number = 23\n",
        "guess = int(input('enter an integer: '))\n",
        "\n",
        "if(guess == number):\n",
        "  print('Congratulations, you guessed it.')\n",
        "  print('(but you do not win any prizes!')\n",
        "elif guess < number:\n",
        "  print('No, it is a little higher than that')\n",
        "else:\n",
        "  print('No, it is a little lower than that')\n",
        "\n",
        "print('Done')"
      ]
    },
    {
      "cell_type": "code",
      "execution_count": 59,
      "metadata": {
        "id": "78CURVLrVbVY"
      },
      "outputs": [
        {
          "name": "stdout",
          "output_type": "stream",
          "text": [
            "The largest number is 7.\n"
          ]
        }
      ],
      "source": [
        "firstNumber = eval(input('Enter the first number: '))\n",
        "secondNumber = eval(input('Enter the second number: '))\n",
        "thirdNumber = eval(input('Enter the third number: '))\n",
        "\n",
        "largest = firstNumber\n",
        "if secondNumber > largest:\n",
        "  largest = secondNumber\n",
        "if thirdNumber > largest:\n",
        "  largest = thirdNumber\n",
        "print('The largest number is', str(largest) + '.')"
      ]
    },
    {
      "attachments": {},
      "cell_type": "markdown",
      "metadata": {},
      "source": [
        "The while Loop"
      ]
    },
    {
      "cell_type": "code",
      "execution_count": 61,
      "metadata": {
        "id": "m_62Qk2vWbUI"
      },
      "outputs": [
        {
          "name": "stdout",
          "output_type": "stream",
          "text": [
            "No, it is a little higher than that\n",
            "No, it is a little lower than that\n",
            "Congratulations, you guessed it.\n",
            "(but you do not win any prizes!\n",
            "The while loop is over.\n",
            "Done\n"
          ]
        }
      ],
      "source": [
        "# while\n",
        "number = 23\n",
        "running = True\n",
        "\n",
        "while running:\n",
        "    guess = int(input('enter an integer: '))\n",
        "\n",
        "    if(guess == number):\n",
        "      print('Congratulations, you guessed it.')\n",
        "      print('(but you do not win any prizes!')\n",
        "      running = False\n",
        "    elif guess < number:\n",
        "      print('No, it is a little higher than that')\n",
        "    else:\n",
        "      print('No, it is a little lower than that')\n",
        "else:\n",
        "  print('The while loop is over.')\n",
        "\n",
        "print('Done')"
      ]
    },
    {
      "cell_type": "code",
      "execution_count": 62,
      "metadata": {
        "id": "c0odydmAXmLQ"
      },
      "outputs": [
        {
          "name": "stdout",
          "output_type": "stream",
          "text": [
            "(Enter -1 to terminate entering number.)\n"
          ]
        }
      ],
      "source": [
        "# count, max, min이런거는 겹칠수 있어서 가급적이면 변수명으로 피해야하는데 그냥 공부중이므로 쓴다\n",
        "count = 0\n",
        "total = 0\n",
        "\n",
        "print('(Enter -1 to terminate entering number.)')\n",
        "num = int(input('Enter a nonnegative integer: '))\n",
        "min = num\n",
        "max = num\n",
        "while num != -1:\n",
        "  count += 1\n",
        "  total += num\n",
        "  if num < min:\n",
        "    min = num\n",
        "  if num > max:\n",
        "    max = num\n",
        "  num = int(input('Enter a nonnegative integer: '))"
      ]
    },
    {
      "attachments": {},
      "cell_type": "markdown",
      "metadata": {},
      "source": [
        "The for Loop"
      ]
    },
    {
      "cell_type": "code",
      "execution_count": 63,
      "metadata": {
        "id": "eVZ6dSewYrNw"
      },
      "outputs": [
        {
          "name": "stdout",
          "output_type": "stream",
          "text": [
            "1\n",
            "2\n",
            "3\n",
            "4\n",
            "The for loop is over\n"
          ]
        }
      ],
      "source": [
        "for i in range(1, 5):\n",
        "  print(i)\n",
        "else:\n",
        "  print('The for loop is over')"
      ]
    },
    {
      "cell_type": "code",
      "execution_count": 64,
      "metadata": {
        "id": "TieI6Ku8ZJav"
      },
      "outputs": [
        {
          "data": {
            "text/plain": [
              "range(0, 10)"
            ]
          },
          "execution_count": 64,
          "metadata": {},
          "output_type": "execute_result"
        }
      ],
      "source": [
        "range(0, 10)"
      ]
    },
    {
      "cell_type": "code",
      "execution_count": 65,
      "metadata": {
        "id": "gJ173FXUZM1H"
      },
      "outputs": [
        {
          "data": {
            "text/plain": [
              "[0, 1, 2, 3, 4, 5, 6, 7, 8, 9]"
            ]
          },
          "execution_count": 65,
          "metadata": {},
          "output_type": "execute_result"
        }
      ],
      "source": [
        "# 수정하려면 list로 바꿔야함\n",
        "list(range(0, 10))"
      ]
    },
    {
      "cell_type": "code",
      "execution_count": 66,
      "metadata": {
        "id": "uUv6SYW7Zw6f"
      },
      "outputs": [
        {
          "name": "stdout",
          "output_type": "stream",
          "text": [
            "*\n",
            "**\n",
            "***\n",
            "****\n",
            "*****\n",
            "******\n",
            "*******\n",
            "********\n",
            "*********\n",
            "**********\n",
            "***********\n",
            "************\n"
          ]
        }
      ],
      "source": [
        "numberofRows = int(input('Enter a number from 1 to 20: '))\n",
        "\n",
        "for i in range(numberofRows):\n",
        "  for j in range(i + 1):\n",
        "      print('*', end='')\n",
        "  print()"
      ]
    },
    {
      "cell_type": "code",
      "execution_count": 67,
      "metadata": {
        "id": "2hFlc5KKaa5w"
      },
      "outputs": [
        {
          "name": "stdout",
          "output_type": "stream",
          "text": [
            "The conversed word is amabo.\n"
          ]
        }
      ],
      "source": [
        "word = input('Enter a word: ')\n",
        "reversedWord =''\n",
        "\n",
        "for ch in word:\n",
        "  reversedWord = ch + reversedWord\n",
        "\n",
        "print('The conversed word is ' + reversedWord + '.')"
      ]
    },
    {
      "cell_type": "code",
      "execution_count": 68,
      "metadata": {
        "id": "cEr96i8Za4Sd"
      },
      "outputs": [
        {
          "name": "stdout",
          "output_type": "stream",
          "text": [
            "z\n",
            "e\n",
            "u\n",
            "s\n"
          ]
        }
      ],
      "source": [
        "for ch in \"zeus\":\n",
        "  print(ch)"
      ]
    },
    {
      "cell_type": "code",
      "execution_count": 71,
      "metadata": {
        "id": "xnOYvhTnblMw"
      },
      "outputs": [
        {
          "name": "stdout",
          "output_type": "stream",
          "text": [
            "John Adams\n",
            "John Quincy Adams\n",
            "John Tyler\n",
            "John F. Kennedy\n"
          ]
        }
      ],
      "source": [
        "firstName = input('Enter a first name: ')\n",
        "foundFlag = False\n",
        "infile = open('USPresidents.txt', 'r')\n",
        "for line in infile:\n",
        "  if line.startswith(firstName + ' '):\n",
        "    print(line.rstrip())\n",
        "    foundFlag = True\n",
        "infile.close()\n",
        "if not foundFlag:\n",
        "  print('No president had the first name', firstName + '.')"
      ]
    },
    {
      "cell_type": "code",
      "execution_count": 72,
      "metadata": {
        "id": "_2uILzrodE8_"
      },
      "outputs": [
        {
          "name": "stdout",
          "output_type": "stream",
          "text": [
            "Barack Obama\n"
          ]
        }
      ],
      "source": [
        "infile = open('USPresidents.txt', 'r')\n",
        "for line in infile:\n",
        "  pass\n",
        "print(line.rstrip())\n",
        "infile.close()"
      ]
    },
    {
      "attachments": {},
      "cell_type": "markdown",
      "metadata": {},
      "source": [
        "The break Statement\n",
        "- 반복문 탈출"
      ]
    },
    {
      "cell_type": "code",
      "execution_count": 15,
      "metadata": {},
      "outputs": [
        {
          "name": "stdout",
          "output_type": "stream",
          "text": [
            "Enter QUIT to terminate entering something\n",
            "Length of the string is 4\n",
            "Done\n"
          ]
        }
      ],
      "source": [
        "print('Enter QUIT to terminate entering something')\n",
        "while True:\n",
        "  s = input('Enter something : ')\n",
        "  if s == 'QUIT':\n",
        "    break\n",
        "  print('Length of the string is', len(s))\n",
        "print('Done')"
      ]
    },
    {
      "attachments": {},
      "cell_type": "markdown",
      "metadata": {},
      "source": [
        "The continue Statement"
      ]
    },
    {
      "cell_type": "code",
      "execution_count": 73,
      "metadata": {
        "id": "HIMu2j7Hg1-t"
      },
      "outputs": [
        {
          "name": "stdout",
          "output_type": "stream",
          "text": [
            "Too short\n",
            "Too short\n",
            "Too short\n",
            "Input is of sufficient length\n"
          ]
        }
      ],
      "source": [
        "while True:\n",
        "  s=input('Enter something : ')\n",
        "  if s == 'quit':\n",
        "    break\n",
        "  if len(s) < 3:\n",
        "    print('Too short')\n",
        "    continue\n",
        "  print('Input is of sufficient length')"
      ]
    },
    {
      "cell_type": "code",
      "execution_count": 16,
      "metadata": {},
      "outputs": [],
      "source": [
        "while True:\n",
        "  s = input('Enter something : ')\n",
        "  if s == 'quit':\n",
        "    break\n",
        "  elif len(s) < 3:\n",
        "    print('Too short')\n",
        "  else:\n",
        "    print('Input is of sufficient length')"
      ]
    },
    {
      "attachments": {},
      "cell_type": "markdown",
      "metadata": {},
      "source": [
        "Data Structures"
      ]
    },
    {
      "attachments": {},
      "cell_type": "markdown",
      "metadata": {},
      "source": [
        "List\n",
        "- 모든 타입이 요소가 될 수 있음\n",
        "- 각 요소의 타입이 같지 않아도 됨\n",
        "- [ ]로 표현\n",
        "- 요소별 구분자는 ','\n",
        "- 요소값 변경 가능\n",
        "- 전체 길이 변경 가능\n",
        "- 인덱싱 가능"
      ]
    },
    {
      "cell_type": "code",
      "execution_count": 74,
      "metadata": {
        "id": "ozHBtqRqhwB_"
      },
      "outputs": [],
      "source": [
        "team = ['Seahawks', 2014, 'CenturyLink Field']\n",
        "nums = [5, 10, 4, 5]\n",
        "words = ['spam', 'ni']"
      ]
    },
    {
      "cell_type": "code",
      "execution_count": 75,
      "metadata": {
        "id": "6AddzdXRi5b4"
      },
      "outputs": [
        {
          "data": {
            "text/plain": [
              "['spam', 'eggs']"
            ]
          },
          "execution_count": 75,
          "metadata": {},
          "output_type": "execute_result"
        }
      ],
      "source": [
        "words = ['spam', 'ni']\n",
        "words[1] = 'eggs'\n",
        "words"
      ]
    },
    {
      "attachments": {},
      "cell_type": "markdown",
      "metadata": {},
      "source": [
        "Objects and Classes\n",
        "- 객체란?\n",
        "- 클래스란?\n",
        "- 클래스와 객체의 차이\n",
        "- 클래스와 인스턴스의 차이"
      ]
    },
    {
      "cell_type": "code",
      "execution_count": 17,
      "metadata": {
        "id": "OYiDW73Ii_jf"
      },
      "outputs": [
        {
          "name": "stdout",
          "output_type": "stream",
          "text": [
            "None\n",
            "Simple Assignment\n",
            "shoplist is ['mango', 'carrot', 'banana']\n",
            "mylist is  ['mango', 'carrot', 'banana']\n",
            "Copy by making a full slice\n",
            "\n"
          ]
        }
      ],
      "source": [
        "a = [3, 2, 4, 1]\n",
        "print(a.sort())\n",
        "a\n",
        "a.append(5)\n",
        "list(('a','b'))\n",
        "print('Simple Assignment')\n",
        "shoplist = ['apple', 'mango','carrot', 'banana']\n",
        "\n",
        "# 이렇게 같다고 하면 같은 주소를 가르켜서 이름만 두개가 된다.\n",
        "mylist = shoplist\n",
        "del mylist[0]\n",
        "\n",
        "print('shoplist is', shoplist)\n",
        "print('mylist is ', mylist)\n",
        "\n",
        "# 이렇게 하면 리스트가 복사가 돼서 새로운 리스트를 생성한다.\n",
        "print('Copy by making a full slice')\n",
        "mylist = shoplist[:]\n",
        "x = [1, 2, 3, 4]\n",
        "# y는 x의 주소값을 준다\n",
        "y = x\n",
        "# z는 x 리스트를 복사한 리스트로 만든다. \n",
        "z = x[:]\n",
        "\n",
        "# x에 5라는 요소를 추가한다.\n",
        "x.append(5)\n",
        "# y는 x리스트의 주소값이므로, 5가 추가 된 x리스트들이 그대로 나온다.\n",
        "y\n",
        "# z는 x를 복사해서 생성되었으므로 영향이 없다.\n",
        "z\n",
        "# 리스트를 복사하는 다른 방법\n",
        "w = y.copy()\n",
        "del y[0]\n",
        "x\n",
        "y\n",
        "z\n",
        "w\n",
        "s = input()\n",
        "s = input()\n",
        "print(s)"
      ]
    },
    {
      "cell_type": "code",
      "execution_count": 77,
      "metadata": {
        "id": "SNMu96jVkhx-"
      },
      "outputs": [],
      "source": [
        "shoplist = ['apple', 'mango', 'carrot', 'banana']\n"
      ]
    },
    {
      "cell_type": "code",
      "execution_count": 78,
      "metadata": {
        "id": "L1oeB02ElW1X"
      },
      "outputs": [
        {
          "data": {
            "text/plain": [
              "['a', 'b', 'c']"
            ]
          },
          "execution_count": 78,
          "metadata": {},
          "output_type": "execute_result"
        }
      ],
      "source": [
        "# The split method turns a single string into a list of substrings\n",
        "'a,b,c'.split(',')"
      ]
    },
    {
      "cell_type": "code",
      "execution_count": 79,
      "metadata": {
        "id": "YlSx0_EDlvAH"
      },
      "outputs": [
        {
          "data": {
            "text/plain": [
              "['a', 'b', 'c']"
            ]
          },
          "execution_count": 79,
          "metadata": {},
          "output_type": "execute_result"
        }
      ],
      "source": [
        "'a**b**c'.split('**')"
      ]
    },
    {
      "cell_type": "code",
      "execution_count": 80,
      "metadata": {
        "id": "8yr9tXfqlzZb"
      },
      "outputs": [
        {
          "data": {
            "text/plain": [
              "['a', 'b', 'c']"
            ]
          },
          "execution_count": 80,
          "metadata": {},
          "output_type": "execute_result"
        }
      ],
      "source": [
        "'a*b*c'.split('*')"
      ]
    },
    {
      "cell_type": "code",
      "execution_count": 81,
      "metadata": {
        "id": "wCDngWicl3r_"
      },
      "outputs": [
        {
          "data": {
            "text/plain": [
              "['a', 'b', 'c']"
            ]
          },
          "execution_count": 81,
          "metadata": {},
          "output_type": "execute_result"
        }
      ],
      "source": [
        "'a\\nb\\nc'.split()"
      ]
    },
    {
      "cell_type": "code",
      "execution_count": 82,
      "metadata": {
        "id": "HFUTA-Xdl7_2"
      },
      "outputs": [
        {
          "data": {
            "text/plain": [
              "['a', 'b', 'c']"
            ]
          },
          "execution_count": 82,
          "metadata": {},
          "output_type": "execute_result"
        }
      ],
      "source": [
        "'a b c'.split()"
      ]
    },
    {
      "cell_type": "code",
      "execution_count": 83,
      "metadata": {
        "id": "GrdnwyJ2l-pX"
      },
      "outputs": [
        {
          "data": {
            "text/plain": [
              "['a b c']"
            ]
          },
          "execution_count": 83,
          "metadata": {},
          "output_type": "execute_result"
        }
      ],
      "source": [
        "'a b c'.split(',')"
      ]
    },
    {
      "cell_type": "code",
      "execution_count": 84,
      "metadata": {
        "id": "HwAodaacmNdO"
      },
      "outputs": [
        {
          "name": "stdout",
          "output_type": "stream",
          "text": [
            "To be or not to be.\n",
            "Snap, Crackle, Pop\n"
          ]
        }
      ],
      "source": [
        "# join 구분자를 넣어서 리스트의 요소들을 str로 합치기\n",
        "# 파일 경로를 만들 때 응용가능한 join\n",
        "\n",
        "line = ['To', 'be', 'or', 'not', 'to', 'be.']\n",
        "string = ' '.join(line)\n",
        "print(string)\n",
        "krispies = ['Snap', 'Crackle', 'Pop']\n",
        "print(', '.join(krispies))"
      ]
    },
    {
      "attachments": {},
      "cell_type": "markdown",
      "metadata": {},
      "source": [
        "Tuple : 읽기전용 리스트"
      ]
    },
    {
      "cell_type": "code",
      "execution_count": 85,
      "metadata": {
        "id": "AexLhaknmvPH"
      },
      "outputs": [],
      "source": [
        "# TUPLE은 순서가 있는 sequence다.\n",
        "# ()로 선언\n",
        "# 수정할 수 없다.\n",
        "# append, extend, or insert지원이 안된다.\n",
        "# 콤마로 나열해도 튜플로 인식함"
      ]
    },
    {
      "cell_type": "code",
      "execution_count": 18,
      "metadata": {
        "id": "P8Vnp5V9nIlu"
      },
      "outputs": [
        {
          "data": {
            "text/plain": [
              "(tuple, tuple, tuple)"
            ]
          },
          "execution_count": 18,
          "metadata": {},
          "output_type": "execute_result"
        }
      ],
      "source": [
        "t1 = ('a', 'b', 'c')\n",
        "t2 = 'a', 'b', 'c'\n",
        "t3 = 1,     # 쉼표가 붙어있기만 해도 튜플\n",
        "type(t1), type(t2), type(t3)"
      ]
    },
    {
      "cell_type": "code",
      "execution_count": 19,
      "metadata": {
        "id": "X_1JVDmXngYm"
      },
      "outputs": [
        {
          "name": "stdout",
          "output_type": "stream",
          "text": [
            "('monkey', 'camel', ('python', 'elephant', 'penguin'))\n",
            "penguin\n"
          ]
        }
      ],
      "source": [
        "# 어떤 타입의 원소도 삽입 가능하다. 튜플이 3번째 원소로 들어간다\n",
        "zoo = ('python', 'elephant', 'penguin')\n",
        "new_zoo = 'monkey', 'camel', zoo\n",
        "print(new_zoo)\n",
        "\n",
        "# 기존 동물원의 1번 인덱스 동물 찾기\n",
        "print(new_zoo[2] [2])"
      ]
    },
    {
      "cell_type": "code",
      "execution_count": 21,
      "metadata": {
        "id": "smj8wf_ToVuX"
      },
      "outputs": [
        {
          "data": {
            "text/plain": [
              "1"
            ]
          },
          "execution_count": 21,
          "metadata": {},
          "output_type": "execute_result"
        }
      ],
      "source": [
        "# list에서의 예시 확인\n",
        "l1 = [1,2,3]\n",
        "l2 = [4, 5, l1]\n",
        "\n",
        "l2[2][0]"
      ]
    },
    {
      "attachments": {},
      "cell_type": "markdown",
      "metadata": {},
      "source": [
        "Sequence\n",
        "- 멤버쉽 테스트\n",
        "- 인덱싱\n",
        "- 슬라이싱 : 시작은 포함, 끝은 제외 ':' 생략불가, 3번째 값은 step size"
      ]
    },
    {
      "cell_type": "code",
      "execution_count": 22,
      "metadata": {
        "id": "cbCD8pUDpvDb"
      },
      "outputs": [
        {
          "name": "stdout",
          "output_type": "stream",
          "text": [
            "[3, 5]\n",
            "[7, 6, 5, 4, 3, 2, 1]\n",
            "suez\n"
          ]
        }
      ],
      "source": [
        "# 마지막 2는 stepsize, 2~6번째 값을 2개씩 뛰면서 출력\n",
        "l = [1,2,3,4,5,6,7]\n",
        "print(l[2:6:2])\n",
        "print(l[::-1])\n",
        "print('zeus'[::-1])"
      ]
    },
    {
      "cell_type": "code",
      "execution_count": 90,
      "metadata": {
        "id": "AaP149oFqatW"
      },
      "outputs": [
        {
          "data": {
            "text/plain": [
              "'suez'"
            ]
          },
          "execution_count": 90,
          "metadata": {},
          "output_type": "execute_result"
        }
      ],
      "source": [
        "# string도 sequence라서 sequence함수들 써도 된다.\n",
        "'zeus'[::-1]"
      ]
    },
    {
      "cell_type": "code",
      "execution_count": 23,
      "metadata": {},
      "outputs": [
        {
          "name": "stdout",
          "output_type": "stream",
          "text": [
            "The 2010 population of the Midwest was 66.9 million.\n",
            "Total 2010 population of the U.s: 308.7 million.\n"
          ]
        }
      ],
      "source": [
        "regions = [('Northeast',55.3),\n",
        "          ('Midwest', 66.9),\n",
        "          ('South', 114.6),\n",
        "          ('West', 71.9)]\n",
        "print('The 2010 population of the', regions[1][0], 'was', regions[1][1], 'million.')\n",
        "\n",
        "totalPop = regions[0][1] + regions[1][1] + regions[2][1] + regions[3][1]\n",
        "print('Total 2010 population of the U.s: {0:.1f} million.'.format(totalPop))"
      ]
    },
    {
      "cell_type": "code",
      "execution_count": 24,
      "metadata": {},
      "outputs": [
        {
          "data": {
            "text/plain": [
              "['P', 'y', 't', 'h', 'o', 'n']"
            ]
          },
          "execution_count": 24,
          "metadata": {},
          "output_type": "execute_result"
        }
      ],
      "source": [
        "list(('a','b'))\n",
        "list(\"Python\")\n",
        "\"Python\".split()\n",
        "\"P y t h o n\".split()\n",
        "\"P y t h o n\".split(' ')"
      ]
    },
    {
      "attachments": {},
      "cell_type": "markdown",
      "metadata": {},
      "source": [
        "References(참조연산자)\n",
        "- mutable : change in place\n",
        "- immutable : cannot change in place(garbage collector 필요)"
      ]
    },
    {
      "cell_type": "code",
      "execution_count": 25,
      "metadata": {},
      "outputs": [
        {
          "name": "stdout",
          "output_type": "stream",
          "text": [
            "Simple Assignment\n",
            "shoplist is ['mango', 'carrot', 'banana']\n",
            "mylist is ['mango', 'carrot', 'banana']\n",
            "Copy by making a full slice\n",
            "shoplist is ['mango', 'carrot', 'banana']\n",
            "mylist is ['carrot', 'banana']\n"
          ]
        }
      ],
      "source": [
        "print('Simple Assignment')\n",
        "shoplist = ['apple', 'mango', 'carrot', 'banana']\n",
        "mylist = shoplist\n",
        "\n",
        "del mylist[0]\n",
        "print('shoplist is', shoplist)\n",
        "print('mylist is', mylist)\n",
        "# 여기서 mylist는 shoplist와 같은 객체를 가리키는 다른 이름일 뿐 복사되지 않음\n",
        "\n",
        "print('Copy by making a full slice')\n",
        "# sequence를 복사하려면 slicing을 활용해야함\n",
        "mylist = shoplist[:]\n",
        "\n",
        "del mylist[0]\n",
        "print('shoplist is', shoplist)\n",
        "print('mylist is', mylist)"
      ]
    },
    {
      "cell_type": "code",
      "execution_count": 26,
      "metadata": {},
      "outputs": [
        {
          "name": "stdout",
          "output_type": "stream",
          "text": [
            "[1, 2, 3, 4, 5]\n",
            "[1, 2, 3, 4, 5]\n",
            "[1, 2, 3, 4]\n",
            "[2, 3, 4, 5]\n",
            "[2, 3, 4, 5]\n",
            "[1, 2, 3, 4]\n",
            "[1, 2, 3, 4, 5]\n"
          ]
        }
      ],
      "source": [
        "x = [1,2,3,4]\n",
        "y = x\n",
        "z = x[:]\n",
        "\n",
        "x.append(5)\n",
        "print(x)\n",
        "print(y)\n",
        "print(z)\n",
        "\n",
        "w = y.copy()\n",
        "del y[0]\n",
        "print(x)\n",
        "print(y)\n",
        "print(z)\n",
        "print(w)"
      ]
    },
    {
      "attachments": {},
      "cell_type": "markdown",
      "metadata": {},
      "source": [
        "More about Strings"
      ]
    },
    {
      "cell_type": "code",
      "execution_count": 27,
      "metadata": {},
      "outputs": [
        {
          "name": "stdout",
          "output_type": "stream",
          "text": [
            "Yes, the sting starts with \"Swa\"\n",
            "Yes, it contains the character \"a\"\n",
            "Yes, it contains the string \"war\"\n",
            "Brazil_*_Russia_*_India_*_China\n"
          ]
        }
      ],
      "source": [
        "name = 'Swaroop'\n",
        "\n",
        "if name.startswith('Swa'):\n",
        "  print('Yes, the sting starts with \"Swa\"')\n",
        "if 'a' in name:\n",
        "  print('Yes, it contains the character \"a\"')\n",
        "if name.find('war') != -1:\n",
        "  print('Yes, it contains the string \"war\"')\n",
        "\n",
        "delimiter = '_*_'\n",
        "mylist = ['Brazil', 'Russia', 'India', 'China']\n",
        "print(delimiter.join(mylist))"
      ]
    }
  ],
  "metadata": {
    "colab": {
      "provenance": []
    },
    "kernelspec": {
      "display_name": "base",
      "language": "python",
      "name": "python3"
    },
    "language_info": {
      "codemirror_mode": {
        "name": "ipython",
        "version": 3
      },
      "file_extension": ".py",
      "mimetype": "text/x-python",
      "name": "python",
      "nbconvert_exporter": "python",
      "pygments_lexer": "ipython3",
      "version": "3.9.13 (main, Aug 25 2022, 23:51:50) [MSC v.1916 64 bit (AMD64)]"
    },
    "vscode": {
      "interpreter": {
        "hash": "ad2bdc8ecc057115af97d19610ffacc2b4e99fae6737bb82f5d7fb13d2f2c186"
      }
    }
  },
  "nbformat": 4,
  "nbformat_minor": 0
}
