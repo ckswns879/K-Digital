{
  "nbformat": 4,
  "nbformat_minor": 0,
  "metadata": {
    "colab": {
      "provenance": []
    },
    "kernelspec": {
      "name": "python3",
      "display_name": "Python 3"
    },
    "language_info": {
      "name": "python"
    }
  },
  "cells": [
    {
      "cell_type": "code",
      "execution_count": null,
      "metadata": {
        "id": "fD8KMwMDWJCd"
      },
      "outputs": [],
      "source": [
        "import numpy as np\n",
        "import matplotlib.pyplot as plt\n",
        "import random\n",
        "import math\n",
        "def sigmoid(x):\n",
        "    return 1 / (1 + math.exp(-x))\n",
        "\n",
        "x = np.arange(-5, 5, 0.01)\n",
        "sigmoid_x = [sigmoid(z) for z in x]\n",
        "tanh_x = [math.tanh(z) for z in x]\n",
        "\n",
        "plt.axhline(0, color='gray')\n",
        "plt.axvline(0, color='gray')\n",
        "plt.plot(x, sigmoid_x, 'b-', label='sigmoid')\n",
        "plt.plot(x, tanh_x, 'r--', label='tanh')\n",
        "plt.legend()\n",
        "plt.show()"
      ]
    }
  ]
}