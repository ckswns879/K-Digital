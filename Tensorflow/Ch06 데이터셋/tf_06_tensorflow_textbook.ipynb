{
  "nbformat": 4,
  "nbformat_minor": 0,
  "metadata": {
    "colab": {
      "provenance": [],
      "toc_visible": true
    },
    "kernelspec": {
      "name": "python3",
      "display_name": "Python 3"
    },
    "language_info": {
      "name": "python"
    }
  },
  "cells": [
    {
      "cell_type": "markdown",
      "source": [
        "# ch6. datasets\n",
        "\n",
        "[Module: tf.data](https://www.tensorflow.org/api_docs/python/tf/data)\n",
        "\n",
        "[TensorFlow Datasets](https://www.tensorflow.org/datasets/overview)\n",
        "\n",
        "[tf.data: Build TensorFlow input pipelines](https://www.tensorflow.org/guide/data)\n"
      ],
      "metadata": {
        "id": "UizP7AYB1sU2"
      }
    },
    {
      "cell_type": "code",
      "source": [
        "import tensorflow as tf\n",
        "import pathlib\n",
        "import os\n",
        "import matplotlib.pyplot as plt\n",
        "import pandas as pd\n",
        "import numpy as np\n",
        "\n",
        "np.set_printoptions(precision=4)"
      ],
      "metadata": {
        "id": "tIMlYQrG2ol2"
      },
      "execution_count": null,
      "outputs": []
    },
    {
      "cell_type": "markdown",
      "source": [
        "# 6.0 tf.data API\n",
        "\n",
        "tf.data API를 사용하면 단순하고 재사용 가능한 부분에서 복잡한 입력 파이프라인을 구축할 수 있음\n",
        "\n",
        "* 이미지: 데이터 집계, 이미지 변화, 랜덤 배치 등\n",
        "* 텍스트: symbol 추출, 사전 생성, 패딩 처리 등"
      ],
      "metadata": {
        "id": "W4aqlPD92tL0"
      }
    },
    {
      "cell_type": "markdown",
      "source": [
        "## 6.0.0 tf.data.Dataset 만드는 방법\n",
        "\n",
        "* data source 는 메모리(list 나 numpy 배열 등) 이나 파일(jpeg 나 csv) 로 부터 dataset 을 생성\n",
        "* data transformation은 하나 이상의 tf.data.Dataset 객체로부터 dataset 을 생성"
      ],
      "metadata": {
        "id": "_PHKKHicKfEu"
      }
    },
    {
      "cell_type": "markdown",
      "source": [
        "## 6.0.1 python list 로 tf.data.Dataset 생성하기"
      ],
      "metadata": {
        "id": "70o-uXU-3fEI"
      }
    },
    {
      "cell_type": "code",
      "source": [
        "natural_numbers = [1, 2, 3, 4, 5, 6, 7, 8, 9, 10]"
      ],
      "metadata": {
        "id": "tW1ehnol4wzb"
      },
      "execution_count": null,
      "outputs": []
    },
    {
      "cell_type": "code",
      "source": [
        "dataset = tf.data.Dataset.from_tensor_slices(natural_numbers)"
      ],
      "metadata": {
        "id": "AlXqHpuh42uD"
      },
      "execution_count": null,
      "outputs": []
    },
    {
      "cell_type": "code",
      "source": [
        "for num in dataset:\n",
        "  print(num)"
      ],
      "metadata": {
        "colab": {
          "base_uri": "https://localhost:8080/"
        },
        "id": "gChXZZyb5Kfe",
        "outputId": "5ec53e97-3f44-45b3-c691-f540c64987a2"
      },
      "execution_count": null,
      "outputs": [
        {
          "output_type": "stream",
          "name": "stdout",
          "text": [
            "tf.Tensor(1, shape=(), dtype=int32)\n",
            "tf.Tensor(2, shape=(), dtype=int32)\n",
            "tf.Tensor(3, shape=(), dtype=int32)\n",
            "tf.Tensor(4, shape=(), dtype=int32)\n",
            "tf.Tensor(5, shape=(), dtype=int32)\n",
            "tf.Tensor(6, shape=(), dtype=int32)\n",
            "tf.Tensor(7, shape=(), dtype=int32)\n",
            "tf.Tensor(8, shape=(), dtype=int32)\n",
            "tf.Tensor(9, shape=(), dtype=int32)\n",
            "tf.Tensor(10, shape=(), dtype=int32)\n"
          ]
        }
      ]
    },
    {
      "cell_type": "code",
      "source": [
        "dataset2 = tf.data.Dataset.from_tensors(natural_numbers)"
      ],
      "metadata": {
        "id": "5aym5vEm5TDf"
      },
      "execution_count": null,
      "outputs": []
    },
    {
      "cell_type": "code",
      "source": [
        "for num in dataset2:\n",
        "  print(num)"
      ],
      "metadata": {
        "colab": {
          "base_uri": "https://localhost:8080/"
        },
        "id": "OISrRmdL5Xz7",
        "outputId": "91091d61-537b-4fa0-b364-15414ffad928"
      },
      "execution_count": null,
      "outputs": [
        {
          "output_type": "stream",
          "name": "stdout",
          "text": [
            "tf.Tensor([ 1  2  3  4  5  6  7  8  9 10], shape=(10,), dtype=int32)\n"
          ]
        }
      ]
    },
    {
      "cell_type": "code",
      "source": [
        "for num in dataset.as_numpy_iterator():\n",
        "  print(num)"
      ],
      "metadata": {
        "colab": {
          "base_uri": "https://localhost:8080/"
        },
        "id": "493PWvZu5f01",
        "outputId": "cc0acf70-a08a-445d-f4e9-161bc3322907"
      },
      "execution_count": null,
      "outputs": [
        {
          "output_type": "stream",
          "name": "stdout",
          "text": [
            "1\n",
            "2\n",
            "3\n",
            "4\n",
            "5\n",
            "6\n",
            "7\n",
            "8\n",
            "9\n",
            "10\n"
          ]
        }
      ]
    },
    {
      "cell_type": "code",
      "source": [
        "for num in dataset.take(3):\n",
        "  print(num)"
      ],
      "metadata": {
        "colab": {
          "base_uri": "https://localhost:8080/"
        },
        "id": "EwFWc6H05lty",
        "outputId": "e84e2417-b989-475a-eceb-40401771b2ec"
      },
      "execution_count": null,
      "outputs": [
        {
          "output_type": "stream",
          "name": "stdout",
          "text": [
            "tf.Tensor(1, shape=(), dtype=int32)\n",
            "tf.Tensor(2, shape=(), dtype=int32)\n",
            "tf.Tensor(3, shape=(), dtype=int32)\n"
          ]
        }
      ]
    },
    {
      "cell_type": "code",
      "source": [
        "for num in dataset.filter(lambda x: 5 < x):\n",
        "  print(num)"
      ],
      "metadata": {
        "colab": {
          "base_uri": "https://localhost:8080/"
        },
        "id": "gHpcoUOk5swD",
        "outputId": "11e8ae78-9ba0-42e0-f0b7-174f951bd1b8"
      },
      "execution_count": null,
      "outputs": [
        {
          "output_type": "stream",
          "name": "stdout",
          "text": [
            "tf.Tensor(6, shape=(), dtype=int32)\n",
            "tf.Tensor(7, shape=(), dtype=int32)\n",
            "tf.Tensor(8, shape=(), dtype=int32)\n",
            "tf.Tensor(9, shape=(), dtype=int32)\n",
            "tf.Tensor(10, shape=(), dtype=int32)\n"
          ]
        }
      ]
    },
    {
      "cell_type": "code",
      "source": [
        "for num in dataset.map(lambda x: x**2):\n",
        "  print(num)"
      ],
      "metadata": {
        "colab": {
          "base_uri": "https://localhost:8080/"
        },
        "id": "gUZf6rFO52Gj",
        "outputId": "826fe519-f392-43fb-a719-1c6076178bcb"
      },
      "execution_count": null,
      "outputs": [
        {
          "output_type": "stream",
          "name": "stdout",
          "text": [
            "tf.Tensor(1, shape=(), dtype=int32)\n",
            "tf.Tensor(4, shape=(), dtype=int32)\n",
            "tf.Tensor(9, shape=(), dtype=int32)\n",
            "tf.Tensor(16, shape=(), dtype=int32)\n",
            "tf.Tensor(25, shape=(), dtype=int32)\n",
            "tf.Tensor(36, shape=(), dtype=int32)\n",
            "tf.Tensor(49, shape=(), dtype=int32)\n",
            "tf.Tensor(64, shape=(), dtype=int32)\n",
            "tf.Tensor(81, shape=(), dtype=int32)\n",
            "tf.Tensor(100, shape=(), dtype=int32)\n"
          ]
        }
      ]
    },
    {
      "cell_type": "code",
      "source": [
        "for num in dataset.shuffle(3):\n",
        "  print(num)"
      ],
      "metadata": {
        "colab": {
          "base_uri": "https://localhost:8080/"
        },
        "id": "ZEkHsqqW5-26",
        "outputId": "410f8114-9594-400e-ad51-4e3b87c5f6cd"
      },
      "execution_count": null,
      "outputs": [
        {
          "output_type": "stream",
          "name": "stdout",
          "text": [
            "tf.Tensor(2, shape=(), dtype=int32)\n",
            "tf.Tensor(4, shape=(), dtype=int32)\n",
            "tf.Tensor(5, shape=(), dtype=int32)\n",
            "tf.Tensor(6, shape=(), dtype=int32)\n",
            "tf.Tensor(3, shape=(), dtype=int32)\n",
            "tf.Tensor(7, shape=(), dtype=int32)\n",
            "tf.Tensor(9, shape=(), dtype=int32)\n",
            "tf.Tensor(8, shape=(), dtype=int32)\n",
            "tf.Tensor(10, shape=(), dtype=int32)\n",
            "tf.Tensor(1, shape=(), dtype=int32)\n"
          ]
        }
      ]
    },
    {
      "cell_type": "code",
      "source": [
        "for num in dataset.batch(3):\n",
        "  print(num)"
      ],
      "metadata": {
        "colab": {
          "base_uri": "https://localhost:8080/"
        },
        "id": "D8c-jgvj6N12",
        "outputId": "845db0f0-c990-4c52-ce67-6515938be3c9"
      },
      "execution_count": null,
      "outputs": [
        {
          "output_type": "stream",
          "name": "stdout",
          "text": [
            "tf.Tensor([1 2 3], shape=(3,), dtype=int32)\n",
            "tf.Tensor([4 5 6], shape=(3,), dtype=int32)\n",
            "tf.Tensor([7 8 9], shape=(3,), dtype=int32)\n",
            "tf.Tensor([10], shape=(1,), dtype=int32)\n"
          ]
        }
      ]
    },
    {
      "cell_type": "code",
      "source": [
        "for num in dataset\\\n",
        "          .map(lambda x: x**2)\\\n",
        "          .filter(lambda x: 5 < x)\\\n",
        "          .shuffle(3).batch(3):\n",
        "  print(num)"
      ],
      "metadata": {
        "colab": {
          "base_uri": "https://localhost:8080/"
        },
        "id": "PlbbN1936Ns2",
        "outputId": "35093e5f-b5af-405a-b505-60d2afbcd174"
      },
      "execution_count": null,
      "outputs": [
        {
          "output_type": "stream",
          "name": "stdout",
          "text": [
            "tf.Tensor([25  9 49], shape=(3,), dtype=int32)\n",
            "tf.Tensor([16 36 64], shape=(3,), dtype=int32)\n",
            "tf.Tensor([ 81 100], shape=(2,), dtype=int32)\n"
          ]
        }
      ]
    },
    {
      "cell_type": "markdown",
      "source": [
        "## Lab 004\n",
        "\n",
        "> 문제 10\n",
        "---\n",
        "1. 1부터 100까지 자연수를 list 로 만듭니다.\n",
        "2. list 를 이용해서 tf.data.Dataset 을 생성합니다.\n",
        "3. Dataset에서 홀수만 선택합니다.\n",
        "4. 랜덤하게 섞어서 5 개씩 50개의 자연수를 모두 출력합니다.\n",
        "\n",
        "**제출**\n",
        "\n",
        "구현한 코드가 담긴 colab 파일을 PLATO \"텐서플로 LAB 제출하기 게시판\"에 비밀글로 제출하세요.\n",
        "\n",
        "제목양식: [Lab 004 - 문제 10]\n"
      ],
      "metadata": {
        "id": "e0_HaQXZ7eaR"
      }
    },
    {
      "cell_type": "code",
      "source": [
        "numbers = range(1, 100)\n",
        "for num in tf.data.Dataset.from_tensor_slices(numbers).filter(lambda x: x % 2 != 0).shuffle(10).batch(5):\n",
        "  print(num)"
      ],
      "metadata": {
        "colab": {
          "base_uri": "https://localhost:8080/"
        },
        "id": "LGBD4od6KQm9",
        "outputId": "17cdef9c-14f9-4bee-9b95-508b734b2b9c"
      },
      "execution_count": null,
      "outputs": [
        {
          "output_type": "stream",
          "name": "stdout",
          "text": [
            "tf.Tensor([ 1  5 17 25 15], shape=(5,), dtype=int32)\n",
            "tf.Tensor([13  7 21  9 33], shape=(5,), dtype=int32)\n",
            "tf.Tensor([31 29 19 43 45], shape=(5,), dtype=int32)\n",
            "tf.Tensor([49 47 41 51 23], shape=(5,), dtype=int32)\n",
            "tf.Tensor([11 55 39 63 35], shape=(5,), dtype=int32)\n",
            "tf.Tensor([53 71 67  3 27], shape=(5,), dtype=int32)\n",
            "tf.Tensor([69 73 59 75 37], shape=(5,), dtype=int32)\n",
            "tf.Tensor([81 87 83 85 89], shape=(5,), dtype=int32)\n",
            "tf.Tensor([93 99 61 97 57], shape=(5,), dtype=int32)\n",
            "tf.Tensor([65 79 95 77 91], shape=(5,), dtype=int32)\n"
          ]
        }
      ]
    },
    {
      "cell_type": "markdown",
      "source": [
        "## 6.0.2 numpy array 로 dataset 생성하기"
      ],
      "metadata": {
        "id": "uBQAFTcX4pny"
      }
    },
    {
      "cell_type": "code",
      "source": [
        "tensor_dataset_from_numpy = tf.data.Dataset.from_tensors(np.array([1, 2, 3]))\n",
        "print('tensor_dataset_from_numpy', tensor_dataset_from_numpy)\n",
        "\n",
        "# tf.data.Dataset 객체는 파이썬의 iterable 임\n",
        "for elem in tensor_dataset_from_numpy:\n",
        "  print('element', elem)"
      ],
      "metadata": {
        "colab": {
          "base_uri": "https://localhost:8080/"
        },
        "id": "g_80y9XIQyZp",
        "outputId": "d532ef9f-5ad0-4250-bd42-b3ccffefec63"
      },
      "execution_count": null,
      "outputs": [
        {
          "output_type": "stream",
          "name": "stdout",
          "text": [
            "tensor_dataset_from_numpy <TensorDataset element_spec=TensorSpec(shape=(3,), dtype=tf.int64, name=None)>\n",
            "element tf.Tensor([1 2 3], shape=(3,), dtype=int64)\n"
          ]
        }
      ]
    },
    {
      "cell_type": "code",
      "source": [
        "tensor_slice_dataset2 = tf.data.Dataset.from_tensor_slices(np.array([[1, 2, 3], [4, 5, 6]]))\n",
        "print('tensor_slice_dataset2', tensor_slice_dataset2)\n",
        "\n",
        "# tf.data.Dataset 객체는 파이썬의 iterable 임\n",
        "for elem in tensor_slice_dataset2:\n",
        "  print('element', elem)"
      ],
      "metadata": {
        "colab": {
          "base_uri": "https://localhost:8080/"
        },
        "id": "6i2aDM_iXbFc",
        "outputId": "d4544806-e9e7-4769-9d0b-91838e34f1e2"
      },
      "execution_count": null,
      "outputs": [
        {
          "output_type": "stream",
          "name": "stdout",
          "text": [
            "tensor_slice_dataset2 <TensorSliceDataset element_spec=TensorSpec(shape=(3,), dtype=tf.int64, name=None)>\n",
            "element tf.Tensor([1 2 3], shape=(3,), dtype=int64)\n",
            "element tf.Tensor([4 5 6], shape=(3,), dtype=int64)\n"
          ]
        }
      ]
    },
    {
      "cell_type": "code",
      "source": [
        "train, test = tf.keras.datasets.fashion_mnist.load_data()\n",
        "images, labels = train\n",
        "print('images', type(images), images.shape)\n",
        "print('labels', type(labels), labels.shape)"
      ],
      "metadata": {
        "colab": {
          "base_uri": "https://localhost:8080/"
        },
        "id": "mFfQnCF5BoWk",
        "outputId": "712c3f44-56f5-4d1e-955a-6496db72cd4d"
      },
      "execution_count": null,
      "outputs": [
        {
          "output_type": "stream",
          "name": "stdout",
          "text": [
            "images <class 'numpy.ndarray'> (60000, 28, 28)\n",
            "labels <class 'numpy.ndarray'> (60000,)\n"
          ]
        }
      ]
    },
    {
      "cell_type": "markdown",
      "source": [
        "## Lab 005\n",
        "\n",
        "> 문제 11\n",
        "---\n",
        "1. 주어진 코드를 이용하여 fashion_mnist 데이터를 로드합니다. (데이터 형식은 numpy 배열)\n",
        "2. numpy 배열을 이용해서 tf.data.Dataset 을 생성합니다.\n",
        "3. Dataset에서 랜덤하게 섞어서 3개의 이미지 shape과 label (바지, 드레스, 셔츠, 신발 등) 을 출력합니다.\n",
        "\n",
        "\n",
        "**제출**\n",
        "\n",
        "구현한 코드가 담긴 colab 파일을 PLATO \"텐서플로 LAB 제출하기 게시판\"에 비밀글로 제출하세요.\n",
        "\n",
        "제목양식: [Lab 005 - 문제 11]\n"
      ],
      "metadata": {
        "id": "6iZppcs4JQpq"
      }
    },
    {
      "cell_type": "code",
      "source": [
        "import matplotlib.pyplot as plt\n",
        "#class_names = ['T-shirt/top', 'Trouser', 'Pullover', 'Dress', 'Coat',\n",
        "#               'Sandal', 'Shirt', 'Sneaker', 'Bag', 'Ankle boot']\n",
        "lables = {\n",
        "    0: 'T-shirt/top',\n",
        "    1: 'Trouser',\n",
        "    2: 'Pullover',\n",
        "    3: 'Dress', \n",
        "    4: 'Coat',\n",
        "    5: 'Sandal',\n",
        "    6: 'Shirt',\n",
        "    7: 'Sneaker',\n",
        "    8: 'Bag',\n",
        "    9: 'Ankle boot',\n",
        "}\n",
        "\n",
        "train_dataset = tf.data.Dataset.from_tensor_slices(train)\n",
        "\n",
        "for image, label in train_dataset.map(lambda x, y: (x/255, y)).shuffle(100).take(3):\n",
        "  print('image', image.shape, image)\n",
        "  print('label', label.shape, label)\n",
        "  plt.figure()\n",
        "  plt.imshow(image)"
      ],
      "metadata": {
        "id": "vn_wP60JFFiy"
      },
      "execution_count": null,
      "outputs": []
    },
    {
      "cell_type": "markdown",
      "source": [
        "# 6.1 테이블 데이터셋 (엑셀, csv 등)"
      ],
      "metadata": {
        "id": "i-SaVY6DWatC"
      }
    },
    {
      "cell_type": "markdown",
      "source": [
        "## 6.1.1 Boston_housing 데이터셋\n",
        "\n",
        "* 1970년대 보스톤의 주택 가격 데이터\n",
        "* train, test 는 각각 404개와 102개\n",
        "* 과제 002"
      ],
      "metadata": {
        "id": "EgOxoCP0Ww9v"
      }
    },
    {
      "cell_type": "code",
      "source": [
        "import tensorflow as tf\n",
        "from tensorflow.keras.datasets import boston_housing\n",
        "import numpy as np\n",
        "import matplotlib.pyplot as plt\n",
        "\n",
        "(x_train, y_train), (x_test, y_test) = boston_housing.load_data()\n",
        "##print(\"x_train.shape=\",x_train.shape) # (404, 13)\n",
        "##print(\"y_train.shape=\",y_train.shape) # (404,)\n",
        "##print(\"x_test.shape=\", x_test.shape)  # (102, 13)\n",
        "##print(\"y_test.shape=\", y_test.shape)  # (102,)\n",
        "\n",
        "model = tf.keras.Sequential()\n",
        "\n",
        "#1: 1-layer\n",
        "##model.add(tf.keras.layers.Dense(units=1, input_dim=x_train.shape[1]))# x_train.shape[1]=13\n",
        "\n",
        "#2:  3-layer\n",
        "model.add(tf.keras.layers.Dense(units=10, input_dim=x_train.shape[1]))\n",
        "model.add(tf.keras.layers.Dense(units=10))\n",
        "model.add(tf.keras.layers.Dense(units=1))\n",
        "model.summary()\n",
        "\n",
        "opt = tf.keras.optimizers.RMSprop(learning_rate=0.001)\n",
        "model.compile(optimizer=opt, loss='mse', metrics=['mae']) #mean absolute error\n",
        "ret = model.fit(x_train, y_train, epochs=100, validation_split=0.2, verbose=0)\n",
        "\n",
        "train_loss = model.evaluate(x_train, y_train, verbose=2)\n",
        "test_loss = model.evaluate(x_test, y_test, verbose=2)\n",
        "\n",
        "##loss = ret.history['loss']\n",
        "##plt.plot(loss)\n",
        "##plt.xlabel('epochs')\n",
        "##plt.ylabel('loss')\n",
        "##plt.show()\n",
        "\n",
        "y_pred = model.predict(x_test)\n",
        "##print(\"y_pred:\", y_pred)\n",
        "\n",
        "plt.ylabel(\"median value of owner-occupied homes in $1000s\")\n",
        "plt.plot(y_pred, \"r-\", label=\"y_pred\")\n",
        "plt.plot(y_test, \"b-\", label=\"y_test\")\n",
        "plt.legend(loc='best')\n",
        "plt.show()"
      ],
      "metadata": {
        "colab": {
          "base_uri": "https://localhost:8080/",
          "height": 638
        },
        "id": "HUpu4AHdW1i9",
        "outputId": "b7786519-a59b-4d96-9f4d-68d7ba757580"
      },
      "execution_count": null,
      "outputs": [
        {
          "output_type": "stream",
          "name": "stdout",
          "text": [
            "Downloading data from https://storage.googleapis.com/tensorflow/tf-keras-datasets/boston_housing.npz\n",
            "57026/57026 [==============================] - 0s 0us/step\n",
            "Model: \"sequential\"\n",
            "_________________________________________________________________\n",
            " Layer (type)                Output Shape              Param #   \n",
            "=================================================================\n",
            " dense (Dense)               (None, 10)                140       \n",
            "                                                                 \n",
            " dense_1 (Dense)             (None, 10)                110       \n",
            "                                                                 \n",
            " dense_2 (Dense)             (None, 1)                 11        \n",
            "                                                                 \n",
            "=================================================================\n",
            "Total params: 261\n",
            "Trainable params: 261\n",
            "Non-trainable params: 0\n",
            "_________________________________________________________________\n",
            "13/13 - 0s - loss: 56.7055 - mae: 6.1006 - 77ms/epoch - 6ms/step\n",
            "4/4 - 0s - loss: 63.4555 - mae: 6.3937 - 34ms/epoch - 8ms/step\n",
            "4/4 [==============================] - 0s 3ms/step\n"
          ]
        },
        {
          "output_type": "display_data",
          "data": {
            "text/plain": [
              "<Figure size 432x288 with 1 Axes>"
            ],
            "image/png": "[encoded data removed]"
          },
          "metadata": {
            "needs_background": "light"
          }
        }
      ]
    },
    {
      "cell_type": "markdown",
      "source": [
        "## 6.1.2 과제 002 Solution (tf.data.Dataset 버전)"
      ],
      "metadata": {
        "id": "Z8DKjd75XGix"
      }
    },
    {
      "cell_type": "code",
      "source": [
        "(x_train, y_train), (x_test, y_test) = boston_housing.load_data()\n",
        "\n",
        "def normalize(data):\n",
        "  mean = tf.reduce_mean(data, axis=0)\n",
        "  std = tf.math.reduce_std(data, axis=0)\n",
        "  return (data-mean)/std, mean, std\n",
        "\n",
        "x_train, x_train_mean, x_train_std = normalize(x_train)\n",
        "y_train, y_train_mean, y_train_std = normalize(y_train)\n",
        "x_test, x_test_mean, x_test_std = normalize(x_test)\n",
        "y_test, x_test_mean, x_test_std = normalize(y_test)\n",
        "\n",
        "plt.figure()\n",
        "plt.hist(x_train)\n",
        "\n",
        "plt.figure()\n",
        "plt.hist(y_train)"
      ],
      "metadata": {
        "colab": {
          "base_uri": "https://localhost:8080/",
          "height": 584
        },
        "id": "FCHpeP1fXRko",
        "outputId": "db08661a-0287-4b60-9ed6-2ffe37d568fe"
      },
      "execution_count": null,
      "outputs": [
        {
          "output_type": "execute_result",
          "data": {
            "text/plain": [
              "(array([ 15.,  49.,  74., 120.,  61.,  31.,  21.,   8.,   8.,  17.]),\n",
              " array([-1.891 , -1.4018, -0.9126, -0.4234,  0.0658,  0.5549,  1.0441,\n",
              "         1.5333,  2.0225,  2.5117,  3.0009]),\n",
              " <a list of 10 Patch objects>)"
            ]
          },
          "metadata": {},
          "execution_count": 179
        },
        {
          "output_type": "display_data",
          "data": {
            "text/plain": [
              "<Figure size 432x288 with 1 Axes>"
            ],
            "image/png": "[encoded data removed]"
          },
          "metadata": {
            "needs_background": "light"
          }
        },
        {
          "output_type": "display_data",
          "data": {
            "text/plain": [
              "<Figure size 432x288 with 1 Axes>"
            ],
            "image/png": "[encoded data removed]"
          },
          "metadata": {
            "needs_background": "light"
          }
        }
      ]
    },
    {
      "cell_type": "code",
      "source": [
        "\n",
        "model = tf.keras.Sequential([\n",
        "  tf.keras.layers.Dense(units=64, activation='relu', input_shape=(1,13)),\n",
        "  tf.keras.layers.Dense(units=32, activation='relu'),\n",
        "  tf.keras.layers.Dense(units=16, activation='relu'),  \n",
        "  tf.keras.layers.Dense(units=1)\n",
        "])\n",
        "print(model.summary())\n",
        "model.compile(optimizer='adam',loss='mse')\n",
        "\n",
        "AUTOTUNE = tf.data.AUTOTUNE\n",
        "ds = tf.data.Dataset.from_tensor_slices((tf.expand_dims(x_train, axis=1), tf.expand_dims(y_train, axis=1)))\n",
        "ds = ds.cache().shuffle(100).batch(32).prefetch(buffer_size=AUTOTUNE)\n",
        "history = model.fit(ds, epochs=30)"
      ],
      "metadata": {
        "colab": {
          "base_uri": "https://localhost:8080/"
        },
        "id": "ZA09lGXtXA1P",
        "outputId": "080acdf2-8bf7-4e77-c270-d6c88ab63caa"
      },
      "execution_count": null,
      "outputs": [
        {
          "output_type": "stream",
          "name": "stdout",
          "text": [
            "Model: \"sequential_28\"\n",
            "_________________________________________________________________\n",
            " Layer (type)                Output Shape              Param #   \n",
            "=================================================================\n",
            " dense_101 (Dense)           (None, 1, 64)             896       \n",
            "                                                                 \n",
            " dense_102 (Dense)           (None, 1, 32)             2080      \n",
            "                                                                 \n",
            " dense_103 (Dense)           (None, 1, 16)             528       \n",
            "                                                                 \n",
            " dense_104 (Dense)           (None, 1, 1)              17        \n",
            "                                                                 \n",
            "=================================================================\n",
            "Total params: 3,521\n",
            "Trainable params: 3,521\n",
            "Non-trainable params: 0\n",
            "_________________________________________________________________\n",
            "None\n",
            "Epoch 1/30\n",
            "13/13 [==============================] - 1s 3ms/step - loss: 0.9219\n",
            "Epoch 2/30\n",
            "13/13 [==============================] - 0s 3ms/step - loss: 0.5692\n",
            "Epoch 3/30\n",
            "13/13 [==============================] - 0s 3ms/step - loss: 0.3982\n",
            "Epoch 4/30\n",
            "13/13 [==============================] - 0s 4ms/step - loss: 0.2719\n",
            "Epoch 5/30\n",
            "13/13 [==============================] - 0s 3ms/step - loss: 0.2218\n",
            "Epoch 6/30\n",
            "13/13 [==============================] - 0s 3ms/step - loss: 0.1936\n",
            "Epoch 7/30\n",
            "13/13 [==============================] - 0s 3ms/step - loss: 0.1716\n",
            "Epoch 8/30\n",
            "13/13 [==============================] - 0s 3ms/step - loss: 0.1562\n",
            "Epoch 9/30\n",
            "13/13 [==============================] - 0s 3ms/step - loss: 0.1422\n",
            "Epoch 10/30\n",
            "13/13 [==============================] - 0s 2ms/step - loss: 0.1299\n",
            "Epoch 11/30\n",
            "13/13 [==============================] - 0s 2ms/step - loss: 0.1229\n",
            "Epoch 12/30\n",
            "13/13 [==============================] - 0s 3ms/step - loss: 0.1162\n",
            "Epoch 13/30\n",
            "13/13 [==============================] - 0s 3ms/step - loss: 0.1134\n",
            "Epoch 14/30\n",
            "13/13 [==============================] - 0s 3ms/step - loss: 0.1062\n",
            "Epoch 15/30\n",
            "13/13 [==============================] - 0s 3ms/step - loss: 0.0963\n",
            "Epoch 16/30\n",
            "13/13 [==============================] - 0s 3ms/step - loss: 0.0928\n",
            "Epoch 17/30\n",
            "13/13 [==============================] - 0s 2ms/step - loss: 0.0889\n",
            "Epoch 18/30\n",
            "13/13 [==============================] - 0s 3ms/step - loss: 0.0871\n",
            "Epoch 19/30\n",
            "13/13 [==============================] - 0s 2ms/step - loss: 0.0836\n",
            "Epoch 20/30\n",
            "13/13 [==============================] - 0s 2ms/step - loss: 0.0797\n",
            "Epoch 21/30\n",
            "13/13 [==============================] - 0s 3ms/step - loss: 0.0766\n",
            "Epoch 22/30\n",
            "13/13 [==============================] - 0s 3ms/step - loss: 0.0761\n",
            "Epoch 23/30\n",
            "13/13 [==============================] - 0s 3ms/step - loss: 0.0723\n",
            "Epoch 24/30\n",
            "13/13 [==============================] - 0s 2ms/step - loss: 0.0715\n",
            "Epoch 25/30\n",
            "13/13 [==============================] - 0s 2ms/step - loss: 0.0711\n",
            "Epoch 26/30\n",
            "13/13 [==============================] - 0s 3ms/step - loss: 0.0682\n",
            "Epoch 27/30\n",
            "13/13 [==============================] - 0s 3ms/step - loss: 0.0631\n",
            "Epoch 28/30\n",
            "13/13 [==============================] - 0s 2ms/step - loss: 0.0623\n",
            "Epoch 29/30\n",
            "13/13 [==============================] - 0s 3ms/step - loss: 0.0599\n",
            "Epoch 30/30\n",
            "13/13 [==============================] - 0s 2ms/step - loss: 0.0583\n"
          ]
        }
      ]
    },
    {
      "cell_type": "code",
      "source": [
        "print('history.params', history.params)\n",
        "print('history.history', history.history)\n",
        "plt.plot(history.history['loss'])\n",
        "plt.xlabel('epochs')\n",
        "plt.ylabel('mse')"
      ],
      "metadata": {
        "colab": {
          "base_uri": "https://localhost:8080/",
          "height": 352
        },
        "id": "I-Niae8sXqUV",
        "outputId": "dfb48261-f76b-4c36-cdb1-b91fce16720a"
      },
      "execution_count": null,
      "outputs": [
        {
          "output_type": "stream",
          "name": "stdout",
          "text": [
            "history.params {'verbose': 1, 'epochs': 30, 'steps': 13}\n",
            "history.history {'loss': [0.9219070076942444, 0.5691948533058167, 0.39819929003715515, 0.27194640040397644, 0.2217879295349121, 0.1935575008392334, 0.1716286838054657, 0.15619096159934998, 0.14222502708435059, 0.12985822558403015, 0.12290996313095093, 0.11621227115392685, 0.11338365823030472, 0.10624916851520538, 0.09634646773338318, 0.09277915954589844, 0.08888159692287445, 0.08709392696619034, 0.08363369852304459, 0.0797327533364296, 0.0765659436583519, 0.07606114447116852, 0.07229076325893402, 0.07154729217290878, 0.0710696429014206, 0.06822628527879715, 0.06305810809135437, 0.062339939177036285, 0.0598883330821991, 0.058264534920454025]}\n"
          ]
        },
        {
          "output_type": "execute_result",
          "data": {
            "text/plain": [
              "Text(0, 0.5, 'mse')"
            ]
          },
          "metadata": {},
          "execution_count": 158
        },
        {
          "output_type": "display_data",
          "data": {
            "text/plain": [
              "<Figure size 432x288 with 1 Axes>"
            ],
            "image/png": "[encoded data removed]"
          },
          "metadata": {
            "needs_background": "light"
          }
        }
      ]
    },
    {
      "cell_type": "code",
      "source": [
        "#ds_test = tf.data.Dataset.from_tensor_slices(tf.expand_dims(x_test, axis=1))\n",
        "#for d in ds_test:\n",
        "#  print(d.shape)\n",
        "y_pred = model.predict(tf.expand_dims(x_test, axis=1))\n",
        "#plt.plot(y_test, 'b.')\n",
        "#plt.plot(y_pred.squeeze(), 'r.')\n",
        "x_test_mean, \n",
        "plt.plot(y_test*x_test_std+x_test_mean, y_pred.squeeze()*x_test_std+x_test_mean, 'g.')\n",
        "plt.xlabel('y_test')\n",
        "plt.ylabel('y_pred')"
      ],
      "metadata": {
        "colab": {
          "base_uri": "https://localhost:8080/",
          "height": 316
        },
        "id": "hOahbroJJBa0",
        "outputId": "16d84184-af48-4246-96b1-74b184569fbc"
      },
      "execution_count": null,
      "outputs": [
        {
          "output_type": "stream",
          "name": "stdout",
          "text": [
            "4/4 [==============================] - 0s 5ms/step\n"
          ]
        },
        {
          "output_type": "execute_result",
          "data": {
            "text/plain": [
              "Text(0, 0.5, 'y_pred')"
            ]
          },
          "metadata": {},
          "execution_count": 180
        },
        {
          "output_type": "display_data",
          "data": {
            "text/plain": [
              "<Figure size 432x288 with 1 Axes>"
            ],
            "image/png": "[encoded data removed]"
          },
          "metadata": {
            "needs_background": "light"
          }
        }
      ]
    },
    {
      "cell_type": "markdown",
      "source": [
        "# 6.2 이미지 데이터셋"
      ],
      "metadata": {
        "id": "h36Ta5LQSemu"
      }
    },
    {
      "cell_type": "markdown",
      "source": [
        "## 6.2.1 MINST 데이터셋\n",
        "\n",
        "* 0~9까지의 숫자를 손으로 쓴 글자 이미지\n",
        "* 훈련 데이터 6만개, 테스트 데이터 1만개\n",
        "* 28 x 28, 1 채널"
      ],
      "metadata": {
        "id": "0XzAKcjNRbgD"
      }
    },
    {
      "cell_type": "code",
      "source": [
        "import tensorflow as tf\n",
        "import numpy as np\n",
        "import matplotlib.pyplot as plt\n",
        "#1\n",
        "(x_train, y_train), (x_test, y_test) = tf.keras.datasets.mnist.load_data()\n",
        "print(\"x_train.shape=\", x_train.shape) # (60000, 28, 28)\n",
        "print(\"y_train.shape=\", y_train.shape) # (60000,)\n",
        "print(\"x_test.shape=\",  x_test.shape)  # (10000, 28, 28)\n",
        "print(\"y_test.shape=\",  y_test.shape)  # (10000,)\n",
        "\n",
        "#2\n",
        "nlabel, count = np.unique(y_train, return_counts=True)\n",
        "print(\"nlabel:\", nlabel)\n",
        "print(\"count:\",  count)\n",
        "print(\"# of Class:\",  len(nlabel) )\n",
        "\n",
        "#3: display images\n",
        "print(\"y_train[:8]=\",y_train[:8])\n",
        "fig = plt.figure(figsize=(8, 4))\n",
        "for i in range(8):\n",
        "    plt.subplot(2, 4, i + 1)  \n",
        "    plt.imshow(x_train[i], cmap='gray')\n",
        "    plt.axis(\"off\")\n",
        "fig.tight_layout()\n",
        "plt.show()"
      ],
      "metadata": {
        "colab": {
          "base_uri": "https://localhost:8080/",
          "height": 475
        },
        "id": "sfZMNuP6RkrU",
        "outputId": "eacbfd25-226a-42f5-c10a-eee4f25f7cae"
      },
      "execution_count": null,
      "outputs": [
        {
          "output_type": "stream",
          "name": "stdout",
          "text": [
            "Downloading data from https://storage.googleapis.com/tensorflow/tf-keras-datasets/mnist.npz\n",
            "11490434/11490434 [==============================] - 0s 0us/step\n",
            "x_train.shape= (60000, 28, 28)\n",
            "y_train.shape= (60000,)\n",
            "x_test.shape= (10000, 28, 28)\n",
            "y_test.shape= (10000,)\n",
            "nlabel: [0 1 2 3 4 5 6 7 8 9]\n",
            "count: [5923 6742 5958 6131 5842 5421 5918 6265 5851 5949]\n",
            "# of Class: 10\n",
            "y_train[:8]= [5 0 4 1 9 2 1 3]\n"
          ]
        },
        {
          "output_type": "display_data",
          "data": {
            "text/plain": [
              "<Figure size 576x288 with 8 Axes>"
            ],
            "image/png": "[encoded data removed]"
          },
          "metadata": {
            "needs_background": "light"
          }
        }
      ]
    },
    {
      "cell_type": "code",
      "source": [
        "import tensorflow as tf\n",
        "import numpy as np\n",
        "import matplotlib.pyplot as plt\n",
        "#1\n",
        "(x_train, y_train), (x_test, y_test) = tf.keras.datasets.mnist.load_data()\n",
        "##print(\"x_train.shape=\", x_train.shape) # (60000, 28, 28)\n",
        "##print(\"y_train.shape=\", y_train.shape) # (60000,)\n",
        "##print(\"x_test.shape=\",  x_test.shape)  # (10000, 28, 28)\n",
        "##print(\"y_test.shape=\",  y_test.shape)  # (10000,)\n",
        "\n",
        "#2:normalize images\n",
        "x_train = x_train.astype('float32')\n",
        "x_test  = x_test.astype('float32')\n",
        "x_train /= 255.0 # [0.0, 1.0]\n",
        "x_test  /= 255.0\n",
        "\n",
        "#3: one-hot encoding\n",
        "y_train = tf.keras.utils.to_categorical(y_train) # (60000, 10)\n",
        "y_test = tf.keras.utils.to_categorical(y_test)   # (10000, 10)\n",
        "\n",
        "#4: x_train.shape = (60000, 28, 28)\n",
        "model = tf.keras.Sequential()\n",
        "model.add(tf.keras.layers.Flatten(input_shape=(28, 28)))\n",
        "model.add(tf.keras.layers.Dense(units=20, activation='sigmoid'))\n",
        "model.add(tf.keras.layers.Dense(units=10, activation='softmax'))\n",
        "model.summary()\n",
        "\n",
        "##model = tf.keras.Sequential()\n",
        "##model.add(tf.keras.layers.Input(shape = (28,28)))\n",
        "##model.add(tf.keras.layers.Flatten())\n",
        "##model.add(tf.keras.layers.Dense(units=20))\n",
        "##model.add(tf.keras.layers.Activation('sigmoid'))\n",
        "##model.add(tf.keras.layers.Dense(units=10))\n",
        "##model.add(tf.keras.layers.Activation('softmax'))\n",
        "##model.summary()\n",
        "\n",
        "opt = tf.keras.optimizers.RMSprop(learning_rate=0.01)\n",
        "model.compile(optimizer=opt, loss='categorical_crossentropy', metrics=['accuracy'])\n",
        "ret = model.fit(x_train, y_train, epochs=100, batch_size=400,\n",
        "                validation_split=0.2, verbose=0)\n",
        "\n",
        "#5\n",
        "y_pred = model.predict(x_train)\n",
        "y_label = np.argmax(y_pred, axis = 1)\n",
        "C = tf.math.confusion_matrix(np.argmax(y_train, axis = 1), y_label)\n",
        "print(\"confusion_matrix(C):\", C)\n",
        "\n",
        "train_loss, train_acc = model.evaluate(x_train, y_train, verbose=2)\n",
        "test_loss, test_acc = model.evaluate(x_test,  y_test, verbose=2)\n",
        "\n",
        "#6\n",
        "fig, ax = plt.subplots(1, 2, figsize=(10, 6))\n",
        "ax[0].plot(ret.history['loss'],  \"g-\")\n",
        "ax[0].set_title(\"train loss\")\n",
        "ax[0].set_xlabel('epochs')\n",
        "ax[0].set_ylabel('loss')\n",
        "\n",
        "ax[1].plot(ret.history['accuracy'],     \"b-\", label=\"train accuracy\")\n",
        "ax[1].plot(ret.history['val_accuracy'], \"r-\", label=\"val accuracy\")\n",
        "ax[1].set_title(\"accuracy\")\n",
        "ax[1].set_xlabel('epochs')\n",
        "ax[1].set_ylabel('accuracy')\n",
        "plt.legend(loc=\"best\")\n",
        "fig.tight_layout()\n",
        "plt.show()"
      ],
      "metadata": {
        "colab": {
          "base_uri": "https://localhost:8080/",
          "height": 956
        },
        "id": "tpagTTlgRsQe",
        "outputId": "577e9af6-0b17-40b3-e20f-6b57a0984502"
      },
      "execution_count": null,
      "outputs": [
        {
          "output_type": "stream",
          "name": "stdout",
          "text": [
            "Model: \"sequential_29\"\n",
            "_________________________________________________________________\n",
            " Layer (type)                Output Shape              Param #   \n",
            "=================================================================\n",
            " flatten_1 (Flatten)         (None, 784)               0         \n",
            "                                                                 \n",
            " dense_105 (Dense)           (None, 20)                15700     \n",
            "                                                                 \n",
            " dense_106 (Dense)           (None, 10)                210       \n",
            "                                                                 \n",
            "=================================================================\n",
            "Total params: 15,910\n",
            "Trainable params: 15,910\n",
            "Non-trainable params: 0\n",
            "_________________________________________________________________\n",
            "1875/1875 [==============================] - 3s 1ms/step\n",
            "confusion_matrix(C): tf.Tensor(\n",
            "[[5848    1   19    3   10   10   11    2   13    6]\n",
            " [   1 6651    8    3    3    3    3   16   49    5]\n",
            " [  12    6 5865   17   17    1   10   10   17    3]\n",
            " [   4    2   43 5979    8   35    3   10   38    9]\n",
            " [   2    5    8    1 5771    2   10    8    6   29]\n",
            " [  12    9   10   39   15 5271   20    9   22   14]\n",
            " [  10    1   13    3   15   12 5854    0    9    1]\n",
            " [   5    4   21   13   29    4    0 6150    3   36]\n",
            " [  18    2   18   30    9   22   13    5 5718   16]\n",
            " [   0    2    6    8   56    6    0   26   26 5819]], shape=(10, 10), dtype=int32)\n",
            "1875/1875 - 3s - loss: 0.0848 - accuracy: 0.9821 - 3s/epoch - 1ms/step\n",
            "313/313 - 0s - loss: 0.3166 - accuracy: 0.9407 - 428ms/epoch - 1ms/step\n"
          ]
        },
        {
          "output_type": "display_data",
          "data": {
            "text/plain": [
              "<Figure size 720x432 with 2 Axes>"
            ],
            "image/png": "[encoded data removed]"
          },
          "metadata": {
            "needs_background": "light"
          }
        }
      ]
    },
    {
      "cell_type": "markdown",
      "source": [
        "## 과제 003\n",
        "\n",
        "1. 주어진 코드 및 MNIST 데이터셋을 이용하여 tf.data.Dataset 을 생성합니다.\n",
        "2. 숫자 분류 모델을 학습 시킨 후, x_test 의 1,5,6,75,100 번째 이미지의 숫자를 예측해 보세요.\n",
        "3. 예측 결과는 해당 이미지와 예측된 숫자를 출력하시오. (예상결과 참조)\n",
        "\n",
        "*제출*\n",
        "\n",
        "구현한 코드가 담긴 colab 파일을 PLATO \"텐서플로 과제 제출 01\"에 제출하세요. (1/3까지)\n",
        "\n",
        "```python\n",
        "import tensorflow as tf\n",
        "import numpy as np\n",
        "\n",
        "# load mnist dataset\n",
        "(x_train, y_train), (x_test, y_test) = tf.keras.datasets.mnist.load_data()\n",
        "\n",
        "```\n",
        "\n",
        "힌트: \n",
        "\n",
        "[tensorflow tutorial](https://www.tensorflow.org/datasets/keras_example)\n",
        "\n",
        "예상결과:\n",
        "\n",
        "\n",
        "<img src=\"https://drive.google.com/uc?id=1sI4SFrPRjZCJDJUwEm1reeJHb5TXXR7c\" width=\"400\"/>"
      ],
      "metadata": {
        "id": "RBPG81i2l2g3"
      }
    },
    {
      "cell_type": "markdown",
      "source": [
        "## 6.2.2 Fashion_MNIST 데이터셋\n",
        "\n",
        "* 10 종류의 패션 아이템(신발, 티셔츠 등) 의 이미지\n",
        "* 훈련 데이터 6만개, 테스트 데이터 1만개\n",
        "* 28 x 28, 1 채널"
      ],
      "metadata": {
        "id": "r603qYkXR_VN"
      }
    },
    {
      "cell_type": "code",
      "source": [
        "import tensorflow as tf\n",
        "from tensorflow.keras.datasets import fashion_mnist\n",
        "import numpy as np\n",
        "import matplotlib.pyplot as plt\n",
        "\n",
        "#1\n",
        "(x_train, y_train), (x_test, y_test) = fashion_mnist.load_data()\n",
        "print(\"x_train.shape=\", x_train.shape) # (60000, 28, 28)\n",
        "print(\"y_train.shape=\", y_train.shape) # (60000,)\n",
        "print(\"x_test.shape=\",  x_test.shape)  # (10000, 28, 28)\n",
        "print(\"y_test.shape=\",  y_test.shape)  # (10000,)\n",
        "\n",
        "#2\n",
        "nlabel, count = np.unique(y_train, return_counts=True)\n",
        "print(\"nlabel:\", nlabel)\n",
        "print(\"count:\",  count)\n",
        "print(\"# of Class:\",  len(nlabel) ) # 10\n",
        "\n",
        "#3: display images\n",
        "label = ('T-shirt/top', 'Trouser', 'Pullover', 'Dress', 'Coat',\n",
        "          'Sandal', 'Shirt', 'Sneaker', 'Bag', 'Ankle boot')\n",
        "\n",
        "print(\"y_train[:8]=\", y_train[:8])\n",
        "fig = plt.figure(figsize=(8, 4))\n",
        "for i in range(8):\n",
        "    plt.subplot(2, 4, i + 1, )  \n",
        "    plt.imshow(x_train[i], cmap='gray')\n",
        "    plt.gca().set_title(label[y_train[i]])\n",
        "    plt.axis(\"off\")\n",
        "fig.tight_layout()\n",
        "plt.show()"
      ],
      "metadata": {
        "colab": {
          "base_uri": "https://localhost:8080/",
          "height": 440
        },
        "id": "WB0aGp2jSEea",
        "outputId": "ae750451-33c3-4152-f62a-bb7fa69b7d24"
      },
      "execution_count": null,
      "outputs": [
        {
          "output_type": "stream",
          "name": "stdout",
          "text": [
            "x_train.shape= (60000, 28, 28)\n",
            "y_train.shape= (60000,)\n",
            "x_test.shape= (10000, 28, 28)\n",
            "y_test.shape= (10000,)\n",
            "nlabel: [0 1 2 3 4 5 6 7 8 9]\n",
            "count: [6000 6000 6000 6000 6000 6000 6000 6000 6000 6000]\n",
            "# of Class: 10\n",
            "y_train[:8]= [9 0 0 3 0 2 7 2]\n"
          ]
        },
        {
          "output_type": "display_data",
          "data": {
            "text/plain": [
              "<Figure size 576x288 with 8 Axes>"
            ],
            "image/png": "[encoded data removed]"
          },
          "metadata": {
            "needs_background": "light"
          }
        }
      ]
    },
    {
      "cell_type": "code",
      "source": [
        "import tensorflow as tf\n",
        "from tensorflow.keras.datasets import fashion_mnist\n",
        "import numpy as np\n",
        "import matplotlib.pyplot as plt\n",
        "\n",
        "#1\n",
        "(x_train, y_train), (x_test, y_test) = fashion_mnist.load_data()\n",
        "##print(\"x_train.shape=\", x_train.shape) # (60000, 28, 28)\n",
        "##print(\"y_train.shape=\", y_train.shape) # (60000,)\n",
        "##print(\"x_test.shape=\",  x_test.shape)  # (10000, 28, 28)\n",
        "##print(\"y_test.shape=\",  y_test.shape)  # (10000,)\n",
        "\n",
        "#2:normalize images\n",
        "x_train = x_train.astype('float32')\n",
        "x_test  = x_test.astype('float32')\n",
        "x_train /= 255.0 # [0.0, 1.0]\n",
        "x_test  /= 255.0\n",
        "\n",
        "#3: one-hot encoding\n",
        "y_train = tf.keras.utils.to_categorical(y_train) # (60000, 10)\n",
        "y_test = tf.keras.utils.to_categorical(y_test)   # (10000, 10)\n",
        "\n",
        "#4: x_train.shape = (60000, 28, 28)\n",
        "model = tf.keras.Sequential()\n",
        "model.add(tf.keras.layers.Flatten(input_shape=(28, 28)))\n",
        "model.add(tf.keras.layers.Dense(units=20, activation='sigmoid'))\n",
        "model.add(tf.keras.layers.Dense(units=10, activation='softmax'))\n",
        "model.summary()\n",
        "\n",
        "opt = tf.keras.optimizers.RMSprop(learning_rate=0.01)\n",
        "model.compile(optimizer=opt, loss='categorical_crossentropy', metrics=['accuracy'])\n",
        "ret = model.fit(x_train, y_train, epochs=100, batch_size=400,\n",
        "                validation_split=0.2, verbose=2)\n",
        "\n",
        "#5\n",
        "y_pred = model.predict(x_train)\n",
        "y_label = np.argmax(y_pred, axis = 1)\n",
        "C = tf.math.confusion_matrix(np.argmax(y_train, axis = 1), y_label)\n",
        "print(\"confusion_matrix(C):\", C)\n",
        "train_loss, train_acc = model.evaluate(x_train, y_train, verbose=2)\n",
        "test_loss, test_acc = model.evaluate(x_test,  y_test, verbose=2)\n",
        "\n",
        "#6\n",
        "fig, ax = plt.subplots(1, 2, figsize=(10, 6))\n",
        "ax[0].plot(ret.history['loss'],  \"g-\")\n",
        "ax[0].set_title(\"train loss\")\n",
        "ax[0].set_xlabel('epochs')\n",
        "ax[0].set_ylabel('loss')\n",
        "\n",
        "ax[1].plot(ret.history['accuracy'],     \"b-\", label=\"train accuracy\")\n",
        "ax[1].plot(ret.history['val_accuracy'], \"r-\", label=\"val accuracy\")\n",
        "ax[1].set_title(\"accuracy\")\n",
        "ax[1].set_xlabel('epochs')\n",
        "ax[1].set_ylabel('accuracy')\n",
        "plt.legend(loc=\"best\")\n",
        "fig.tight_layout()\n",
        "plt.show()"
      ],
      "metadata": {
        "colab": {
          "base_uri": "https://localhost:8080/",
          "height": 1000
        },
        "id": "-MBEvK4DSI3b",
        "outputId": "35455caf-1fa4-44c1-fef9-6cef3cbffc12"
      },
      "execution_count": null,
      "outputs": [
        {
          "output_type": "stream",
          "name": "stdout",
          "text": [
            "Model: \"sequential_2\"\n",
            "_________________________________________________________________\n",
            " Layer (type)                Output Shape              Param #   \n",
            "=================================================================\n",
            " flatten_1 (Flatten)         (None, 784)               0         \n",
            "                                                                 \n",
            " dense_5 (Dense)             (None, 20)                15700     \n",
            "                                                                 \n",
            " dense_6 (Dense)             (None, 10)                210       \n",
            "                                                                 \n",
            "=================================================================\n",
            "Total params: 15,910\n",
            "Trainable params: 15,910\n",
            "Non-trainable params: 0\n",
            "_________________________________________________________________\n",
            "Epoch 1/100\n",
            "120/120 - 1s - loss: 0.8398 - accuracy: 0.7196 - val_loss: 0.5508 - val_accuracy: 0.7998 - 943ms/epoch - 8ms/step\n",
            "Epoch 2/100\n",
            "120/120 - 0s - loss: 0.5011 - accuracy: 0.8182 - val_loss: 0.4922 - val_accuracy: 0.8135 - 425ms/epoch - 4ms/step\n",
            "Epoch 3/100\n",
            "120/120 - 0s - loss: 0.4490 - accuracy: 0.8359 - val_loss: 0.4382 - val_accuracy: 0.8371 - 412ms/epoch - 3ms/step\n",
            "Epoch 4/100\n",
            "120/120 - 0s - loss: 0.4231 - accuracy: 0.8456 - val_loss: 0.4233 - val_accuracy: 0.8441 - 354ms/epoch - 3ms/step\n",
            "Epoch 5/100\n",
            "120/120 - 0s - loss: 0.4053 - accuracy: 0.8518 - val_loss: 0.3962 - val_accuracy: 0.8565 - 395ms/epoch - 3ms/step\n",
            "Epoch 6/100\n",
            "120/120 - 0s - loss: 0.3899 - accuracy: 0.8590 - val_loss: 0.4159 - val_accuracy: 0.8506 - 409ms/epoch - 3ms/step\n",
            "Epoch 7/100\n",
            "120/120 - 0s - loss: 0.3773 - accuracy: 0.8618 - val_loss: 0.4300 - val_accuracy: 0.8449 - 347ms/epoch - 3ms/step\n",
            "Epoch 8/100\n",
            "120/120 - 0s - loss: 0.3712 - accuracy: 0.8644 - val_loss: 0.3941 - val_accuracy: 0.8547 - 374ms/epoch - 3ms/step\n",
            "Epoch 9/100\n",
            "120/120 - 0s - loss: 0.3625 - accuracy: 0.8681 - val_loss: 0.3952 - val_accuracy: 0.8571 - 375ms/epoch - 3ms/step\n",
            "Epoch 10/100\n",
            "120/120 - 0s - loss: 0.3564 - accuracy: 0.8707 - val_loss: 0.4240 - val_accuracy: 0.8434 - 385ms/epoch - 3ms/step\n",
            "Epoch 11/100\n",
            "120/120 - 0s - loss: 0.3510 - accuracy: 0.8717 - val_loss: 0.3904 - val_accuracy: 0.8587 - 395ms/epoch - 3ms/step\n",
            "Epoch 12/100\n",
            "120/120 - 0s - loss: 0.3427 - accuracy: 0.8745 - val_loss: 0.3706 - val_accuracy: 0.8650 - 357ms/epoch - 3ms/step\n",
            "Epoch 13/100\n",
            "120/120 - 0s - loss: 0.3379 - accuracy: 0.8771 - val_loss: 0.3625 - val_accuracy: 0.8684 - 371ms/epoch - 3ms/step\n",
            "Epoch 14/100\n",
            "120/120 - 0s - loss: 0.3328 - accuracy: 0.8784 - val_loss: 0.3838 - val_accuracy: 0.8662 - 381ms/epoch - 3ms/step\n",
            "Epoch 15/100\n",
            "120/120 - 0s - loss: 0.3305 - accuracy: 0.8783 - val_loss: 0.3736 - val_accuracy: 0.8672 - 341ms/epoch - 3ms/step\n",
            "Epoch 16/100\n",
            "120/120 - 0s - loss: 0.3268 - accuracy: 0.8807 - val_loss: 0.3763 - val_accuracy: 0.8664 - 394ms/epoch - 3ms/step\n",
            "Epoch 17/100\n",
            "120/120 - 0s - loss: 0.3233 - accuracy: 0.8815 - val_loss: 0.3782 - val_accuracy: 0.8673 - 390ms/epoch - 3ms/step\n",
            "Epoch 18/100\n",
            "120/120 - 0s - loss: 0.3183 - accuracy: 0.8827 - val_loss: 0.3923 - val_accuracy: 0.8612 - 395ms/epoch - 3ms/step\n",
            "Epoch 19/100\n",
            "120/120 - 0s - loss: 0.3183 - accuracy: 0.8830 - val_loss: 0.3946 - val_accuracy: 0.8534 - 382ms/epoch - 3ms/step\n",
            "Epoch 20/100\n",
            "120/120 - 0s - loss: 0.3120 - accuracy: 0.8854 - val_loss: 0.3652 - val_accuracy: 0.8713 - 385ms/epoch - 3ms/step\n",
            "Epoch 21/100\n",
            "120/120 - 0s - loss: 0.3098 - accuracy: 0.8862 - val_loss: 0.3743 - val_accuracy: 0.8662 - 373ms/epoch - 3ms/step\n",
            "Epoch 22/100\n",
            "120/120 - 0s - loss: 0.3059 - accuracy: 0.8876 - val_loss: 0.3765 - val_accuracy: 0.8667 - 405ms/epoch - 3ms/step\n",
            "Epoch 23/100\n",
            "120/120 - 0s - loss: 0.3035 - accuracy: 0.8889 - val_loss: 0.3693 - val_accuracy: 0.8714 - 370ms/epoch - 3ms/step\n",
            "Epoch 24/100\n",
            "120/120 - 0s - loss: 0.3011 - accuracy: 0.8894 - val_loss: 0.3701 - val_accuracy: 0.8678 - 354ms/epoch - 3ms/step\n",
            "Epoch 25/100\n",
            "120/120 - 0s - loss: 0.3003 - accuracy: 0.8896 - val_loss: 0.3675 - val_accuracy: 0.8705 - 348ms/epoch - 3ms/step\n",
            "Epoch 26/100\n",
            "120/120 - 0s - loss: 0.2968 - accuracy: 0.8905 - val_loss: 0.3800 - val_accuracy: 0.8643 - 380ms/epoch - 3ms/step\n",
            "Epoch 27/100\n",
            "120/120 - 0s - loss: 0.2942 - accuracy: 0.8911 - val_loss: 0.3784 - val_accuracy: 0.8717 - 398ms/epoch - 3ms/step\n",
            "Epoch 28/100\n",
            "120/120 - 0s - loss: 0.2942 - accuracy: 0.8926 - val_loss: 0.3756 - val_accuracy: 0.8686 - 362ms/epoch - 3ms/step\n",
            "Epoch 29/100\n",
            "120/120 - 0s - loss: 0.2921 - accuracy: 0.8938 - val_loss: 0.3858 - val_accuracy: 0.8676 - 355ms/epoch - 3ms/step\n",
            "Epoch 30/100\n",
            "120/120 - 0s - loss: 0.2873 - accuracy: 0.8954 - val_loss: 0.3951 - val_accuracy: 0.8604 - 377ms/epoch - 3ms/step\n",
            "Epoch 31/100\n",
            "120/120 - 0s - loss: 0.2874 - accuracy: 0.8956 - val_loss: 0.3739 - val_accuracy: 0.8698 - 342ms/epoch - 3ms/step\n",
            "Epoch 32/100\n",
            "120/120 - 0s - loss: 0.2872 - accuracy: 0.8945 - val_loss: 0.3945 - val_accuracy: 0.8643 - 414ms/epoch - 3ms/step\n",
            "Epoch 33/100\n",
            "120/120 - 0s - loss: 0.2848 - accuracy: 0.8959 - val_loss: 0.3922 - val_accuracy: 0.8635 - 368ms/epoch - 3ms/step\n",
            "Epoch 34/100\n",
            "120/120 - 0s - loss: 0.2821 - accuracy: 0.8978 - val_loss: 0.3782 - val_accuracy: 0.8722 - 346ms/epoch - 3ms/step\n",
            "Epoch 35/100\n",
            "120/120 - 0s - loss: 0.2809 - accuracy: 0.8974 - val_loss: 0.3792 - val_accuracy: 0.8688 - 394ms/epoch - 3ms/step\n",
            "Epoch 36/100\n",
            "120/120 - 0s - loss: 0.2797 - accuracy: 0.8974 - val_loss: 0.3787 - val_accuracy: 0.8716 - 360ms/epoch - 3ms/step\n",
            "Epoch 37/100\n",
            "120/120 - 0s - loss: 0.2752 - accuracy: 0.8985 - val_loss: 0.4019 - val_accuracy: 0.8660 - 370ms/epoch - 3ms/step\n",
            "Epoch 38/100\n",
            "120/120 - 0s - loss: 0.2749 - accuracy: 0.8980 - val_loss: 0.4078 - val_accuracy: 0.8657 - 345ms/epoch - 3ms/step\n",
            "Epoch 39/100\n",
            "120/120 - 0s - loss: 0.2751 - accuracy: 0.8992 - val_loss: 0.3959 - val_accuracy: 0.8658 - 379ms/epoch - 3ms/step\n",
            "Epoch 40/100\n",
            "120/120 - 0s - loss: 0.2738 - accuracy: 0.8991 - val_loss: 0.3795 - val_accuracy: 0.8678 - 382ms/epoch - 3ms/step\n",
            "Epoch 41/100\n",
            "120/120 - 0s - loss: 0.2722 - accuracy: 0.8996 - val_loss: 0.3779 - val_accuracy: 0.8720 - 379ms/epoch - 3ms/step\n",
            "Epoch 42/100\n",
            "120/120 - 0s - loss: 0.2701 - accuracy: 0.8999 - val_loss: 0.3950 - val_accuracy: 0.8647 - 403ms/epoch - 3ms/step\n",
            "Epoch 43/100\n",
            "120/120 - 0s - loss: 0.2713 - accuracy: 0.9009 - val_loss: 0.3902 - val_accuracy: 0.8667 - 362ms/epoch - 3ms/step\n",
            "Epoch 44/100\n",
            "120/120 - 0s - loss: 0.2666 - accuracy: 0.9028 - val_loss: 0.4014 - val_accuracy: 0.8641 - 320ms/epoch - 3ms/step\n",
            "Epoch 45/100\n",
            "120/120 - 0s - loss: 0.2670 - accuracy: 0.9027 - val_loss: 0.4555 - val_accuracy: 0.8413 - 369ms/epoch - 3ms/step\n",
            "Epoch 46/100\n",
            "120/120 - 0s - loss: 0.2667 - accuracy: 0.9024 - val_loss: 0.3929 - val_accuracy: 0.8700 - 405ms/epoch - 3ms/step\n",
            "Epoch 47/100\n",
            "120/120 - 0s - loss: 0.2641 - accuracy: 0.9019 - val_loss: 0.3887 - val_accuracy: 0.8673 - 380ms/epoch - 3ms/step\n",
            "Epoch 48/100\n",
            "120/120 - 0s - loss: 0.2645 - accuracy: 0.9028 - val_loss: 0.3876 - val_accuracy: 0.8697 - 403ms/epoch - 3ms/step\n",
            "Epoch 49/100\n",
            "120/120 - 0s - loss: 0.2607 - accuracy: 0.9041 - val_loss: 0.4036 - val_accuracy: 0.8628 - 376ms/epoch - 3ms/step\n",
            "Epoch 50/100\n",
            "120/120 - 0s - loss: 0.2625 - accuracy: 0.9044 - val_loss: 0.3942 - val_accuracy: 0.8683 - 378ms/epoch - 3ms/step\n",
            "Epoch 51/100\n",
            "120/120 - 0s - loss: 0.2586 - accuracy: 0.9049 - val_loss: 0.3987 - val_accuracy: 0.8673 - 394ms/epoch - 3ms/step\n",
            "Epoch 52/100\n",
            "120/120 - 0s - loss: 0.2587 - accuracy: 0.9052 - val_loss: 0.3992 - val_accuracy: 0.8718 - 345ms/epoch - 3ms/step\n",
            "Epoch 53/100\n",
            "120/120 - 0s - loss: 0.2590 - accuracy: 0.9053 - val_loss: 0.4051 - val_accuracy: 0.8662 - 376ms/epoch - 3ms/step\n",
            "Epoch 54/100\n",
            "120/120 - 0s - loss: 0.2565 - accuracy: 0.9057 - val_loss: 0.4044 - val_accuracy: 0.8675 - 354ms/epoch - 3ms/step\n",
            "Epoch 55/100\n",
            "120/120 - 0s - loss: 0.2558 - accuracy: 0.9064 - val_loss: 0.4074 - val_accuracy: 0.8696 - 380ms/epoch - 3ms/step\n",
            "Epoch 56/100\n",
            "120/120 - 0s - loss: 0.2541 - accuracy: 0.9068 - val_loss: 0.4275 - val_accuracy: 0.8680 - 381ms/epoch - 3ms/step\n",
            "Epoch 57/100\n",
            "120/120 - 0s - loss: 0.2553 - accuracy: 0.9068 - val_loss: 0.3990 - val_accuracy: 0.8704 - 374ms/epoch - 3ms/step\n",
            "Epoch 58/100\n",
            "120/120 - 0s - loss: 0.2532 - accuracy: 0.9073 - val_loss: 0.4057 - val_accuracy: 0.8677 - 343ms/epoch - 3ms/step\n",
            "Epoch 59/100\n",
            "120/120 - 0s - loss: 0.2509 - accuracy: 0.9075 - val_loss: 0.4044 - val_accuracy: 0.8668 - 352ms/epoch - 3ms/step\n",
            "Epoch 60/100\n",
            "120/120 - 0s - loss: 0.2501 - accuracy: 0.9081 - val_loss: 0.4234 - val_accuracy: 0.8650 - 332ms/epoch - 3ms/step\n",
            "Epoch 61/100\n",
            "120/120 - 0s - loss: 0.2500 - accuracy: 0.9090 - val_loss: 0.4105 - val_accuracy: 0.8690 - 388ms/epoch - 3ms/step\n",
            "Epoch 62/100\n",
            "120/120 - 0s - loss: 0.2473 - accuracy: 0.9098 - val_loss: 0.3988 - val_accuracy: 0.8685 - 369ms/epoch - 3ms/step\n",
            "Epoch 63/100\n",
            "120/120 - 0s - loss: 0.2496 - accuracy: 0.9085 - val_loss: 0.4126 - val_accuracy: 0.8656 - 382ms/epoch - 3ms/step\n",
            "Epoch 64/100\n",
            "120/120 - 0s - loss: 0.2471 - accuracy: 0.9102 - val_loss: 0.4061 - val_accuracy: 0.8686 - 377ms/epoch - 3ms/step\n",
            "Epoch 65/100\n",
            "120/120 - 0s - loss: 0.2461 - accuracy: 0.9085 - val_loss: 0.4054 - val_accuracy: 0.8678 - 327ms/epoch - 3ms/step\n",
            "Epoch 66/100\n",
            "120/120 - 0s - loss: 0.2446 - accuracy: 0.9103 - val_loss: 0.4219 - val_accuracy: 0.8673 - 341ms/epoch - 3ms/step\n",
            "Epoch 67/100\n",
            "120/120 - 0s - loss: 0.2456 - accuracy: 0.9101 - val_loss: 0.4200 - val_accuracy: 0.8623 - 407ms/epoch - 3ms/step\n",
            "Epoch 68/100\n",
            "120/120 - 0s - loss: 0.2430 - accuracy: 0.9114 - val_loss: 0.4308 - val_accuracy: 0.8607 - 363ms/epoch - 3ms/step\n",
            "Epoch 69/100\n",
            "120/120 - 0s - loss: 0.2426 - accuracy: 0.9099 - val_loss: 0.4291 - val_accuracy: 0.8640 - 369ms/epoch - 3ms/step\n",
            "Epoch 70/100\n",
            "120/120 - 0s - loss: 0.2420 - accuracy: 0.9119 - val_loss: 0.4155 - val_accuracy: 0.8649 - 386ms/epoch - 3ms/step\n",
            "Epoch 71/100\n",
            "120/120 - 0s - loss: 0.2432 - accuracy: 0.9109 - val_loss: 0.4402 - val_accuracy: 0.8608 - 382ms/epoch - 3ms/step\n",
            "Epoch 72/100\n",
            "120/120 - 0s - loss: 0.2423 - accuracy: 0.9111 - val_loss: 0.4320 - val_accuracy: 0.8612 - 402ms/epoch - 3ms/step\n",
            "Epoch 73/100\n",
            "120/120 - 0s - loss: 0.2400 - accuracy: 0.9125 - val_loss: 0.4270 - val_accuracy: 0.8637 - 338ms/epoch - 3ms/step\n",
            "Epoch 74/100\n",
            "120/120 - 0s - loss: 0.2389 - accuracy: 0.9119 - val_loss: 0.4090 - val_accuracy: 0.8656 - 364ms/epoch - 3ms/step\n",
            "Epoch 75/100\n",
            "120/120 - 0s - loss: 0.2387 - accuracy: 0.9134 - val_loss: 0.4185 - val_accuracy: 0.8703 - 409ms/epoch - 3ms/step\n",
            "Epoch 76/100\n",
            "120/120 - 0s - loss: 0.2373 - accuracy: 0.9128 - val_loss: 0.4210 - val_accuracy: 0.8681 - 342ms/epoch - 3ms/step\n",
            "Epoch 77/100\n",
            "120/120 - 0s - loss: 0.2378 - accuracy: 0.9128 - val_loss: 0.4257 - val_accuracy: 0.8629 - 361ms/epoch - 3ms/step\n",
            "Epoch 78/100\n",
            "120/120 - 0s - loss: 0.2364 - accuracy: 0.9135 - val_loss: 0.4334 - val_accuracy: 0.8627 - 399ms/epoch - 3ms/step\n",
            "Epoch 79/100\n",
            "120/120 - 0s - loss: 0.2349 - accuracy: 0.9146 - val_loss: 0.4306 - val_accuracy: 0.8681 - 353ms/epoch - 3ms/step\n",
            "Epoch 80/100\n",
            "120/120 - 0s - loss: 0.2372 - accuracy: 0.9135 - val_loss: 0.4193 - val_accuracy: 0.8662 - 377ms/epoch - 3ms/step\n",
            "Epoch 81/100\n",
            "120/120 - 1s - loss: 0.2344 - accuracy: 0.9131 - val_loss: 0.4436 - val_accuracy: 0.8630 - 508ms/epoch - 4ms/step\n",
            "Epoch 82/100\n",
            "120/120 - 1s - loss: 0.2344 - accuracy: 0.9142 - val_loss: 0.4397 - val_accuracy: 0.8689 - 562ms/epoch - 5ms/step\n",
            "Epoch 83/100\n",
            "120/120 - 1s - loss: 0.2336 - accuracy: 0.9150 - val_loss: 0.4455 - val_accuracy: 0.8577 - 504ms/epoch - 4ms/step\n",
            "Epoch 84/100\n",
            "120/120 - 0s - loss: 0.2331 - accuracy: 0.9156 - val_loss: 0.4333 - val_accuracy: 0.8643 - 366ms/epoch - 3ms/step\n",
            "Epoch 85/100\n",
            "120/120 - 0s - loss: 0.2309 - accuracy: 0.9147 - val_loss: 0.4384 - val_accuracy: 0.8666 - 399ms/epoch - 3ms/step\n",
            "Epoch 86/100\n",
            "120/120 - 0s - loss: 0.2311 - accuracy: 0.9158 - val_loss: 0.4370 - val_accuracy: 0.8637 - 358ms/epoch - 3ms/step\n",
            "Epoch 87/100\n",
            "120/120 - 0s - loss: 0.2311 - accuracy: 0.9149 - val_loss: 0.4299 - val_accuracy: 0.8676 - 395ms/epoch - 3ms/step\n",
            "Epoch 88/100\n",
            "120/120 - 0s - loss: 0.2280 - accuracy: 0.9171 - val_loss: 0.4750 - val_accuracy: 0.8533 - 363ms/epoch - 3ms/step\n",
            "Epoch 89/100\n",
            "120/120 - 0s - loss: 0.2307 - accuracy: 0.9150 - val_loss: 0.4464 - val_accuracy: 0.8628 - 349ms/epoch - 3ms/step\n",
            "Epoch 90/100\n",
            "120/120 - 0s - loss: 0.2286 - accuracy: 0.9155 - val_loss: 0.4368 - val_accuracy: 0.8622 - 389ms/epoch - 3ms/step\n",
            "Epoch 91/100\n",
            "120/120 - 0s - loss: 0.2276 - accuracy: 0.9173 - val_loss: 0.4710 - val_accuracy: 0.8612 - 367ms/epoch - 3ms/step\n",
            "Epoch 92/100\n",
            "120/120 - 0s - loss: 0.2298 - accuracy: 0.9160 - val_loss: 0.4411 - val_accuracy: 0.8650 - 345ms/epoch - 3ms/step\n",
            "Epoch 93/100\n",
            "120/120 - 0s - loss: 0.2261 - accuracy: 0.9171 - val_loss: 0.4492 - val_accuracy: 0.8598 - 358ms/epoch - 3ms/step\n",
            "Epoch 94/100\n",
            "120/120 - 0s - loss: 0.2282 - accuracy: 0.9159 - val_loss: 0.4374 - val_accuracy: 0.8670 - 361ms/epoch - 3ms/step\n",
            "Epoch 95/100\n",
            "120/120 - 0s - loss: 0.2273 - accuracy: 0.9163 - val_loss: 0.4438 - val_accuracy: 0.8681 - 367ms/epoch - 3ms/step\n",
            "Epoch 96/100\n",
            "120/120 - 0s - loss: 0.2252 - accuracy: 0.9178 - val_loss: 0.4489 - val_accuracy: 0.8658 - 319ms/epoch - 3ms/step\n",
            "Epoch 97/100\n",
            "120/120 - 0s - loss: 0.2258 - accuracy: 0.9173 - val_loss: 0.4465 - val_accuracy: 0.8659 - 363ms/epoch - 3ms/step\n",
            "Epoch 98/100\n",
            "120/120 - 0s - loss: 0.2232 - accuracy: 0.9195 - val_loss: 0.4387 - val_accuracy: 0.8649 - 386ms/epoch - 3ms/step\n",
            "Epoch 99/100\n",
            "120/120 - 0s - loss: 0.2234 - accuracy: 0.9189 - val_loss: 0.4579 - val_accuracy: 0.8623 - 387ms/epoch - 3ms/step\n",
            "Epoch 100/100\n",
            "120/120 - 0s - loss: 0.2231 - accuracy: 0.9187 - val_loss: 0.4813 - val_accuracy: 0.8607 - 375ms/epoch - 3ms/step\n",
            "1875/1875 [==============================] - 2s 924us/step\n",
            "confusion_matrix(C): tf.Tensor(\n",
            "[[5174   15  128  342   42    2  269    0   28    0]\n",
            " [   2 5915    7   66    9    0    1    0    0    0]\n",
            " [  53    2 4947   60  820    2  111    0    5    0]\n",
            " [  73   24   50 5549  259    1   34    1    9    0]\n",
            " [   4    7  315  108 5507    1   48    0   10    0]\n",
            " [   2    2    1    0    5 5910    1   47    6   26]\n",
            " [ 773    9  587  245 1023    1 3327    0   35    0]\n",
            " [   0    0    0    2    0   34    0 5868    1   95]\n",
            " [  33    6   38   46   87    3   29   14 5744    0]\n",
            " [   0    4    0    0    0   21    0  112    0 5863]], shape=(10, 10), dtype=int32)\n",
            "1875/1875 - 2s - loss: 0.3069 - accuracy: 0.8967 - 2s/epoch - 926us/step\n",
            "313/313 - 0s - loss: 0.5294 - accuracy: 0.8490 - 292ms/epoch - 934us/step\n"
          ]
        },
        {
          "output_type": "display_data",
          "data": {
            "text/plain": [
              "<Figure size 720x432 with 2 Axes>"
            ],
            "image/png": "[encoded data removed]"
          },
          "metadata": {
            "needs_background": "light"
          }
        }
      ]
    },
    {
      "cell_type": "markdown",
      "source": [
        "## 6.2.3 CIFAR-10 데이터셋\n",
        "\n",
        "* 10 종류의 사물 (개구리, 트럭 등) 의 컬러 이미지\n",
        "* 훈련 데이터 5만개, 테스트 데이터 1만개\n",
        "* 32 x 32, 3 채널(RGB)"
      ],
      "metadata": {
        "id": "t4qT0PcJUSFS"
      }
    },
    {
      "cell_type": "code",
      "source": [
        "import tensorflow as tf\n",
        "from tensorflow.keras.datasets import cifar10\n",
        "import numpy as np\n",
        "import matplotlib.pyplot as plt\n",
        "#1\n",
        "(x_train, y_train), (x_test, y_test) = cifar10.load_data()\n",
        "print(\"x_train.shape=\", x_train.shape) # (50000, 32, 32, 3)\n",
        "print(\"y_train.shape=\", y_train.shape) # (50000, 1)\n",
        "print(\"x_test.shape=\",  x_test.shape)  # (10000, 32, 32, 3)\n",
        "print(\"y_test.shape=\",  y_test.shape)  # (10000, 1)\n",
        "\n",
        "#2\n",
        "y_train = y_train.flatten() \n",
        "y_test  = y_test.flatten()\n",
        "print(\"y_train.shape=\", y_train.shape) # (50000,)\n",
        "print(\"y_test.shape=\",  y_test.shape)  # (10000,)\n",
        "\n",
        "#3\n",
        "nlabel, count = np.unique(y_train, return_counts=True)\n",
        "print(\"nlabel:\", nlabel)\n",
        "print(\"count:\",  count)\n",
        "print(\"# of Class:\",  len(nlabel) )\n",
        "\n",
        "#4\n",
        "label = ('Airplane', 'Automobile', 'Bird', 'Cat', 'Deer',\n",
        "         'Dog', 'Frog', 'Horse', 'Ship', 'Truck')\n",
        "print(\"y_train[:8]=\",y_train[:8])\n",
        "\n",
        "fig = plt.figure(figsize=(8, 4))\n",
        "for i in range(8):\n",
        "    plt.subplot(2, 4, i + 1, )  \n",
        "    plt.imshow(x_train[i], cmap='gray')\n",
        "    plt.gca().set_title(label[y_train[i]])\n",
        "    plt.axis(\"off\")\n",
        "fig.tight_layout()\n",
        "plt.show()"
      ],
      "metadata": {
        "colab": {
          "base_uri": "https://localhost:8080/",
          "height": 511
        },
        "id": "vl_ebqvTUQ6S",
        "outputId": "ad03a646-94d8-4f5c-f95f-d1b00e970f25"
      },
      "execution_count": null,
      "outputs": [
        {
          "output_type": "stream",
          "name": "stdout",
          "text": [
            "Downloading data from https://www.cs.toronto.edu/~kriz/cifar-10-python.tar.gz\n",
            "170498071/170498071 [==============================] - 2s 0us/step\n",
            "x_train.shape= (50000, 32, 32, 3)\n",
            "y_train.shape= (50000, 1)\n",
            "x_test.shape= (10000, 32, 32, 3)\n",
            "y_test.shape= (10000, 1)\n",
            "y_train.shape= (50000,)\n",
            "y_test.shape= (10000,)\n",
            "nlabel: [0 1 2 3 4 5 6 7 8 9]\n",
            "count: [5000 5000 5000 5000 5000 5000 5000 5000 5000 5000]\n",
            "# of Class: 10\n",
            "y_train[:8]= [6 9 9 4 1 1 2 7]\n"
          ]
        },
        {
          "output_type": "display_data",
          "data": {
            "text/plain": [
              "<Figure size 576x288 with 8 Axes>"
            ],
            "image/png": "[encoded data removed]"
          },
          "metadata": {
            "needs_background": "light"
          }
        }
      ]
    },
    {
      "cell_type": "code",
      "source": [
        "import tensorflow as tf\n",
        "from tensorflow.keras.datasets import cifar10\n",
        "import numpy as np\n",
        "import matplotlib.pyplot as plt\n",
        "\n",
        "#1\n",
        "(x_train, y_train), (x_test, y_test) = cifar10.load_data()\n",
        "##print(\"x_train.shape=\", x_train.shape) # (50000, 32, 32, 3)\n",
        "##print(\"y_train.shape=\", y_train.shape) # (50000, 1)\n",
        "##print(\"x_test.shape=\",  x_test.shape)  # (10000, 32, 32, 3)\n",
        "##print(\"y_test.shape=\",  y_test.shape)  # (10000, 1)\n",
        "\n",
        "#2:normalize images\n",
        "x_train = x_train.astype('float32')\n",
        "x_test  = x_test.astype('float32')\n",
        "def normalize_image(image): # 3-channel\n",
        "    mean=  np.mean(image, axis = (0, 1, 2))\n",
        "    std =  np.std(image,  axis = (0, 1, 2))\n",
        "    image = (image-mean)/std\n",
        "    return image\n",
        "x_train= normalize_image(x_train) # range: N(mean=0, std=1]\n",
        "x_test = normalize_image(x_test)\n",
        "\n",
        "#3: flattenning images(x_train, x_test)\n",
        "# using this flattenning, do not use Flatten layer in model\n",
        "ndim  = x_train.shape[1]*x_train.shape[2]*x_train.shape[3] # 32*32*3=3072\n",
        "x_train = x_train.reshape(-1, ndim)  # Flatten\n",
        "x_test  = x_test.reshape(-1,  ndim)  # Flatten\n",
        "##print(\"x_train.shape=\", x_train.shape) # (50000, 3072)\n",
        "##print(\"x_test.shape=\",  x_test.shape)  # (10000, 3072)\n",
        "\n",
        "#4: preprocessing the target(y_train, y_test)\n",
        "y_train = y_train.flatten() \n",
        "y_test  = y_test.flatten()\n",
        "##print(\"y_train.shape=\", y_train.shape) # (50000,)\n",
        "##print(\"y_test.shape=\",  y_test.shape)  # (10000,)\n",
        "\n",
        "# one-hot encoding: 'mse', 'categorical_crossentropy'\n",
        "y_train = tf.keras.utils.to_categorical(y_train) # (50000, 10)\n",
        "y_test = tf.keras.utils.to_categorical(y_test)   # (10000, 10)\n",
        "\n",
        "#5\n",
        "model = tf.keras.Sequential()\n",
        "#x_train.shape = (50000, 3072)\n",
        "model.add(tf.keras.layers.Dense(units=50,  input_dim = ndim, activation='sigmoid'))\n",
        "model.add(tf.keras.layers.Dense(units=10, activation='softmax'))\n",
        "\n",
        "# x_train.shape = (50000, 32, 32, 3)\n",
        "##model.add(tf.keras.layers.Flatten(input_shape=(32, 32, 3)))\n",
        "##model.add(tf.keras.layers.Dense(units=50, activation='sigmoid'))\n",
        "##model.add(tf.keras.layers.Dense(units=10, activation='softmax'))\n",
        "model.summary()\n",
        "\n",
        "opt = tf.keras.optimizers.RMSprop(learning_rate=0.01)\n",
        "model.compile(optimizer=opt, loss='categorical_crossentropy', metrics=['accuracy'])\n",
        "ret = model.fit(x_train, y_train, epochs=100, batch_size=400, \n",
        "               validation_split=0.2, verbose=2)\n",
        "\n",
        "#6\n",
        "y_pred = model.predict(x_train)\n",
        "y_label = np.argmax(y_pred, axis = 1)\n",
        "C = tf.math.confusion_matrix(np.argmax(y_train, axis = 1), y_label)\n",
        "print(\"confusion_matrix(C):\", C)\n",
        "\n",
        "train_loss, train_acc = model.evaluate(x_train, y_train, verbose=2)\n",
        "test_loss, test_acc = model.evaluate(x_test,  y_test, verbose=2)\n",
        "\n",
        "#7: plot accuracy and loss\n",
        "fig, ax = plt.subplots(1, 2, figsize=(10, 6))\n",
        "ax[0].plot(ret.history['loss'],  \"g-\")\n",
        "ax[0].set_title(\"train loss\")\n",
        "ax[0].set_xlabel('epochs')\n",
        "ax[0].set_ylabel('loss')\n",
        "\n",
        "ax[1].plot(ret.history['accuracy'],     \"b-\", label=\"train accuracy\")\n",
        "ax[1].plot(ret.history['val_accuracy'], \"r-\", label=\"val accuracy\")\n",
        "ax[1].set_title(\"accuracy\")\n",
        "ax[1].set_xlabel('epochs')\n",
        "ax[1].set_ylabel('accuracy')\n",
        "plt.legend(loc=\"best\")\n",
        "fig.tight_layout()\n",
        "plt.show()"
      ],
      "metadata": {
        "colab": {
          "base_uri": "https://localhost:8080/",
          "height": 1000
        },
        "id": "PhYm7tSmUfUd",
        "outputId": "3aff867f-5287-40d3-d789-4b67e4f47390"
      },
      "execution_count": null,
      "outputs": [
        {
          "output_type": "stream",
          "name": "stdout",
          "text": [
            "Model: \"sequential_3\"\n",
            "_________________________________________________________________\n",
            " Layer (type)                Output Shape              Param #   \n",
            "=================================================================\n",
            " dense_7 (Dense)             (None, 50)                153650    \n",
            "                                                                 \n",
            " dense_8 (Dense)             (None, 10)                510       \n",
            "                                                                 \n",
            "=================================================================\n",
            "Total params: 154,160\n",
            "Trainable params: 154,160\n",
            "Non-trainable params: 0\n",
            "_________________________________________________________________\n",
            "Epoch 1/100\n",
            "100/100 - 2s - loss: 1.9198 - accuracy: 0.3234 - val_loss: 1.8694 - val_accuracy: 0.3364 - 2s/epoch - 15ms/step\n",
            "Epoch 2/100\n",
            "100/100 - 1s - loss: 1.8098 - accuracy: 0.3661 - val_loss: 1.8164 - val_accuracy: 0.3640 - 1s/epoch - 12ms/step\n",
            "Epoch 3/100\n",
            "100/100 - 1s - loss: 1.7874 - accuracy: 0.3714 - val_loss: 1.8098 - val_accuracy: 0.3624 - 1s/epoch - 12ms/step\n",
            "Epoch 4/100\n",
            "100/100 - 1s - loss: 1.7654 - accuracy: 0.3801 - val_loss: 1.7985 - val_accuracy: 0.3729 - 1s/epoch - 15ms/step\n",
            "Epoch 5/100\n",
            "100/100 - 2s - loss: 1.7555 - accuracy: 0.3853 - val_loss: 1.7851 - val_accuracy: 0.3807 - 2s/epoch - 23ms/step\n",
            "Epoch 6/100\n",
            "100/100 - 2s - loss: 1.7442 - accuracy: 0.3922 - val_loss: 1.7870 - val_accuracy: 0.3804 - 2s/epoch - 18ms/step\n",
            "Epoch 7/100\n",
            "100/100 - 1s - loss: 1.7363 - accuracy: 0.3934 - val_loss: 1.7882 - val_accuracy: 0.3731 - 1s/epoch - 15ms/step\n",
            "Epoch 8/100\n",
            "100/100 - 2s - loss: 1.7255 - accuracy: 0.3992 - val_loss: 1.7965 - val_accuracy: 0.3778 - 2s/epoch - 20ms/step\n",
            "Epoch 9/100\n",
            "100/100 - 1s - loss: 1.7214 - accuracy: 0.4006 - val_loss: 1.7833 - val_accuracy: 0.3820 - 1s/epoch - 15ms/step\n",
            "Epoch 10/100\n",
            "100/100 - 1s - loss: 1.7086 - accuracy: 0.4047 - val_loss: 1.7855 - val_accuracy: 0.3775 - 1s/epoch - 14ms/step\n",
            "Epoch 11/100\n",
            "100/100 - 1s - loss: 1.7134 - accuracy: 0.4017 - val_loss: 1.7674 - val_accuracy: 0.3828 - 1s/epoch - 14ms/step\n",
            "Epoch 12/100\n",
            "100/100 - 1s - loss: 1.7036 - accuracy: 0.4033 - val_loss: 1.7737 - val_accuracy: 0.3848 - 1s/epoch - 14ms/step\n",
            "Epoch 13/100\n",
            "100/100 - 2s - loss: 1.6975 - accuracy: 0.4098 - val_loss: 1.7665 - val_accuracy: 0.3886 - 2s/epoch - 16ms/step\n",
            "Epoch 14/100\n",
            "100/100 - 1s - loss: 1.6958 - accuracy: 0.4105 - val_loss: 1.7626 - val_accuracy: 0.3851 - 1s/epoch - 12ms/step\n",
            "Epoch 15/100\n",
            "100/100 - 1s - loss: 1.6877 - accuracy: 0.4111 - val_loss: 1.7585 - val_accuracy: 0.3865 - 1s/epoch - 11ms/step\n",
            "Epoch 16/100\n",
            "100/100 - 1s - loss: 1.6830 - accuracy: 0.4157 - val_loss: 1.7568 - val_accuracy: 0.3871 - 1s/epoch - 12ms/step\n",
            "Epoch 17/100\n",
            "100/100 - 1s - loss: 1.6824 - accuracy: 0.4137 - val_loss: 1.7512 - val_accuracy: 0.3940 - 1s/epoch - 13ms/step\n",
            "Epoch 18/100\n",
            "100/100 - 2s - loss: 1.6743 - accuracy: 0.4167 - val_loss: 1.7526 - val_accuracy: 0.3947 - 2s/epoch - 16ms/step\n",
            "Epoch 19/100\n",
            "100/100 - 1s - loss: 1.6698 - accuracy: 0.4154 - val_loss: 1.7540 - val_accuracy: 0.3890 - 1s/epoch - 13ms/step\n",
            "Epoch 20/100\n",
            "100/100 - 1s - loss: 1.6664 - accuracy: 0.4214 - val_loss: 1.7453 - val_accuracy: 0.3998 - 1s/epoch - 11ms/step\n",
            "Epoch 21/100\n",
            "100/100 - 1s - loss: 1.6560 - accuracy: 0.4256 - val_loss: 1.7372 - val_accuracy: 0.4001 - 1s/epoch - 11ms/step\n",
            "Epoch 22/100\n",
            "100/100 - 1s - loss: 1.6627 - accuracy: 0.4228 - val_loss: 1.7558 - val_accuracy: 0.3960 - 1s/epoch - 11ms/step\n",
            "Epoch 23/100\n",
            "100/100 - 1s - loss: 1.6566 - accuracy: 0.4261 - val_loss: 1.7531 - val_accuracy: 0.3925 - 1s/epoch - 11ms/step\n",
            "Epoch 24/100\n",
            "100/100 - 1s - loss: 1.6526 - accuracy: 0.4237 - val_loss: 1.7492 - val_accuracy: 0.3950 - 1s/epoch - 11ms/step\n",
            "Epoch 25/100\n",
            "100/100 - 2s - loss: 1.6491 - accuracy: 0.4275 - val_loss: 1.7474 - val_accuracy: 0.3961 - 2s/epoch - 15ms/step\n",
            "Epoch 26/100\n",
            "100/100 - 2s - loss: 1.6461 - accuracy: 0.4263 - val_loss: 1.7252 - val_accuracy: 0.4011 - 2s/epoch - 19ms/step\n",
            "Epoch 27/100\n",
            "100/100 - 1s - loss: 1.6371 - accuracy: 0.4298 - val_loss: 1.7288 - val_accuracy: 0.3997 - 1s/epoch - 11ms/step\n",
            "Epoch 28/100\n",
            "100/100 - 1s - loss: 1.6410 - accuracy: 0.4288 - val_loss: 1.7365 - val_accuracy: 0.4006 - 1s/epoch - 15ms/step\n",
            "Epoch 29/100\n",
            "100/100 - 2s - loss: 1.6318 - accuracy: 0.4317 - val_loss: 1.7387 - val_accuracy: 0.4005 - 2s/epoch - 17ms/step\n",
            "Epoch 30/100\n",
            "100/100 - 1s - loss: 1.6297 - accuracy: 0.4343 - val_loss: 1.7407 - val_accuracy: 0.4015 - 1s/epoch - 11ms/step\n",
            "Epoch 31/100\n",
            "100/100 - 1s - loss: 1.6339 - accuracy: 0.4315 - val_loss: 1.7460 - val_accuracy: 0.3937 - 1s/epoch - 11ms/step\n",
            "Epoch 32/100\n",
            "100/100 - 1s - loss: 1.6298 - accuracy: 0.4304 - val_loss: 1.7353 - val_accuracy: 0.4005 - 1s/epoch - 11ms/step\n",
            "Epoch 33/100\n",
            "100/100 - 1s - loss: 1.6310 - accuracy: 0.4354 - val_loss: 1.7445 - val_accuracy: 0.3984 - 1s/epoch - 11ms/step\n",
            "Epoch 34/100\n",
            "100/100 - 1s - loss: 1.6189 - accuracy: 0.4375 - val_loss: 1.7408 - val_accuracy: 0.3989 - 1s/epoch - 12ms/step\n",
            "Epoch 35/100\n",
            "100/100 - 1s - loss: 1.6242 - accuracy: 0.4330 - val_loss: 1.7435 - val_accuracy: 0.4072 - 1s/epoch - 12ms/step\n",
            "Epoch 36/100\n",
            "100/100 - 1s - loss: 1.6134 - accuracy: 0.4411 - val_loss: 1.7364 - val_accuracy: 0.4061 - 1s/epoch - 11ms/step\n",
            "Epoch 37/100\n",
            "100/100 - 1s - loss: 1.6166 - accuracy: 0.4395 - val_loss: 1.7285 - val_accuracy: 0.4068 - 1s/epoch - 11ms/step\n",
            "Epoch 38/100\n",
            "100/100 - 2s - loss: 1.6155 - accuracy: 0.4381 - val_loss: 1.7308 - val_accuracy: 0.4015 - 2s/epoch - 16ms/step\n",
            "Epoch 39/100\n",
            "100/100 - 3s - loss: 1.6114 - accuracy: 0.4412 - val_loss: 1.7282 - val_accuracy: 0.4074 - 3s/epoch - 26ms/step\n",
            "Epoch 40/100\n",
            "100/100 - 2s - loss: 1.6032 - accuracy: 0.4408 - val_loss: 1.7218 - val_accuracy: 0.4091 - 2s/epoch - 17ms/step\n",
            "Epoch 41/100\n",
            "100/100 - 1s - loss: 1.6033 - accuracy: 0.4434 - val_loss: 1.7303 - val_accuracy: 0.4023 - 1s/epoch - 11ms/step\n",
            "Epoch 42/100\n",
            "100/100 - 1s - loss: 1.6047 - accuracy: 0.4435 - val_loss: 1.7338 - val_accuracy: 0.4002 - 1s/epoch - 11ms/step\n",
            "Epoch 43/100\n",
            "100/100 - 1s - loss: 1.5980 - accuracy: 0.4453 - val_loss: 1.7323 - val_accuracy: 0.4051 - 1s/epoch - 11ms/step\n",
            "Epoch 44/100\n",
            "100/100 - 1s - loss: 1.5960 - accuracy: 0.4468 - val_loss: 1.7311 - val_accuracy: 0.4072 - 1s/epoch - 11ms/step\n",
            "Epoch 45/100\n",
            "100/100 - 1s - loss: 1.5910 - accuracy: 0.4476 - val_loss: 1.7317 - val_accuracy: 0.4005 - 1s/epoch - 11ms/step\n",
            "Epoch 46/100\n",
            "100/100 - 1s - loss: 1.5878 - accuracy: 0.4456 - val_loss: 1.7261 - val_accuracy: 0.4019 - 1s/epoch - 11ms/step\n",
            "Epoch 47/100\n",
            "100/100 - 1s - loss: 1.5871 - accuracy: 0.4481 - val_loss: 1.7150 - val_accuracy: 0.4026 - 1s/epoch - 11ms/step\n",
            "Epoch 48/100\n",
            "100/100 - 1s - loss: 1.5819 - accuracy: 0.4475 - val_loss: 1.7321 - val_accuracy: 0.4057 - 1s/epoch - 11ms/step\n",
            "Epoch 49/100\n",
            "100/100 - 1s - loss: 1.5871 - accuracy: 0.4480 - val_loss: 1.7201 - val_accuracy: 0.4030 - 1s/epoch - 11ms/step\n",
            "Epoch 50/100\n",
            "100/100 - 1s - loss: 1.5773 - accuracy: 0.4500 - val_loss: 1.7210 - val_accuracy: 0.4110 - 1s/epoch - 11ms/step\n",
            "Epoch 51/100\n",
            "100/100 - 1s - loss: 1.5793 - accuracy: 0.4506 - val_loss: 1.7243 - val_accuracy: 0.4082 - 1s/epoch - 11ms/step\n",
            "Epoch 52/100\n",
            "100/100 - 1s - loss: 1.5800 - accuracy: 0.4514 - val_loss: 1.7331 - val_accuracy: 0.4051 - 1s/epoch - 11ms/step\n",
            "Epoch 53/100\n",
            "100/100 - 1s - loss: 1.5737 - accuracy: 0.4523 - val_loss: 1.7246 - val_accuracy: 0.4022 - 1s/epoch - 11ms/step\n",
            "Epoch 54/100\n",
            "100/100 - 1s - loss: 1.5748 - accuracy: 0.4523 - val_loss: 1.7251 - val_accuracy: 0.4002 - 1s/epoch - 11ms/step\n",
            "Epoch 55/100\n",
            "100/100 - 1s - loss: 1.5692 - accuracy: 0.4544 - val_loss: 1.7259 - val_accuracy: 0.4134 - 1s/epoch - 11ms/step\n",
            "Epoch 56/100\n",
            "100/100 - 1s - loss: 1.5683 - accuracy: 0.4551 - val_loss: 1.7270 - val_accuracy: 0.4069 - 1s/epoch - 11ms/step\n",
            "Epoch 57/100\n",
            "100/100 - 1s - loss: 1.5687 - accuracy: 0.4550 - val_loss: 1.7194 - val_accuracy: 0.4104 - 1s/epoch - 11ms/step\n",
            "Epoch 58/100\n",
            "100/100 - 1s - loss: 1.5667 - accuracy: 0.4561 - val_loss: 1.7292 - val_accuracy: 0.4092 - 1s/epoch - 11ms/step\n",
            "Epoch 59/100\n",
            "100/100 - 1s - loss: 1.5676 - accuracy: 0.4557 - val_loss: 1.7156 - val_accuracy: 0.4107 - 1s/epoch - 11ms/step\n",
            "Epoch 60/100\n",
            "100/100 - 1s - loss: 1.5604 - accuracy: 0.4591 - val_loss: 1.7213 - val_accuracy: 0.4085 - 1s/epoch - 11ms/step\n",
            "Epoch 61/100\n",
            "100/100 - 1s - loss: 1.5582 - accuracy: 0.4599 - val_loss: 1.7283 - val_accuracy: 0.4071 - 1s/epoch - 12ms/step\n",
            "Epoch 62/100\n",
            "100/100 - 1s - loss: 1.5516 - accuracy: 0.4584 - val_loss: 1.7181 - val_accuracy: 0.4088 - 1s/epoch - 11ms/step\n",
            "Epoch 63/100\n",
            "100/100 - 1s - loss: 1.5541 - accuracy: 0.4615 - val_loss: 1.7186 - val_accuracy: 0.4052 - 1s/epoch - 11ms/step\n",
            "Epoch 64/100\n",
            "100/100 - 1s - loss: 1.5536 - accuracy: 0.4604 - val_loss: 1.7211 - val_accuracy: 0.4079 - 1s/epoch - 11ms/step\n",
            "Epoch 65/100\n",
            "100/100 - 1s - loss: 1.5511 - accuracy: 0.4630 - val_loss: 1.7213 - val_accuracy: 0.4097 - 1s/epoch - 11ms/step\n",
            "Epoch 66/100\n",
            "100/100 - 1s - loss: 1.5489 - accuracy: 0.4636 - val_loss: 1.7176 - val_accuracy: 0.4140 - 1s/epoch - 11ms/step\n",
            "Epoch 67/100\n",
            "100/100 - 1s - loss: 1.5508 - accuracy: 0.4623 - val_loss: 1.7259 - val_accuracy: 0.4074 - 1s/epoch - 11ms/step\n",
            "Epoch 68/100\n",
            "100/100 - 1s - loss: 1.5486 - accuracy: 0.4611 - val_loss: 1.7078 - val_accuracy: 0.4151 - 1s/epoch - 12ms/step\n",
            "Epoch 69/100\n",
            "100/100 - 1s - loss: 1.5412 - accuracy: 0.4658 - val_loss: 1.7211 - val_accuracy: 0.4102 - 1s/epoch - 11ms/step\n",
            "Epoch 70/100\n",
            "100/100 - 1s - loss: 1.5455 - accuracy: 0.4612 - val_loss: 1.7232 - val_accuracy: 0.4028 - 1s/epoch - 11ms/step\n",
            "Epoch 71/100\n",
            "100/100 - 1s - loss: 1.5429 - accuracy: 0.4642 - val_loss: 1.7213 - val_accuracy: 0.4032 - 1s/epoch - 11ms/step\n",
            "Epoch 72/100\n",
            "100/100 - 1s - loss: 1.5493 - accuracy: 0.4640 - val_loss: 1.7302 - val_accuracy: 0.4026 - 1s/epoch - 11ms/step\n",
            "Epoch 73/100\n",
            "100/100 - 1s - loss: 1.5381 - accuracy: 0.4651 - val_loss: 1.7245 - val_accuracy: 0.4061 - 1s/epoch - 11ms/step\n",
            "Epoch 74/100\n",
            "100/100 - 1s - loss: 1.5412 - accuracy: 0.4638 - val_loss: 1.7252 - val_accuracy: 0.4090 - 1s/epoch - 11ms/step\n",
            "Epoch 75/100\n",
            "100/100 - 1s - loss: 1.5407 - accuracy: 0.4672 - val_loss: 1.7247 - val_accuracy: 0.4129 - 1s/epoch - 11ms/step\n",
            "Epoch 76/100\n",
            "100/100 - 1s - loss: 1.5429 - accuracy: 0.4652 - val_loss: 1.7261 - val_accuracy: 0.4050 - 1s/epoch - 11ms/step\n",
            "Epoch 77/100\n",
            "100/100 - 1s - loss: 1.5372 - accuracy: 0.4676 - val_loss: 1.7374 - val_accuracy: 0.4035 - 1s/epoch - 11ms/step\n",
            "Epoch 78/100\n",
            "100/100 - 1s - loss: 1.5362 - accuracy: 0.4664 - val_loss: 1.7187 - val_accuracy: 0.4085 - 1s/epoch - 12ms/step\n",
            "Epoch 79/100\n",
            "100/100 - 1s - loss: 1.5288 - accuracy: 0.4696 - val_loss: 1.7403 - val_accuracy: 0.4096 - 1s/epoch - 12ms/step\n",
            "Epoch 80/100\n",
            "100/100 - 1s - loss: 1.5449 - accuracy: 0.4652 - val_loss: 1.7106 - val_accuracy: 0.4162 - 1s/epoch - 11ms/step\n",
            "Epoch 81/100\n",
            "100/100 - 1s - loss: 1.5230 - accuracy: 0.4728 - val_loss: 1.7159 - val_accuracy: 0.4095 - 1s/epoch - 12ms/step\n",
            "Epoch 82/100\n",
            "100/100 - 1s - loss: 1.5266 - accuracy: 0.4724 - val_loss: 1.7331 - val_accuracy: 0.4078 - 1s/epoch - 12ms/step\n",
            "Epoch 83/100\n",
            "100/100 - 1s - loss: 1.5228 - accuracy: 0.4700 - val_loss: 1.7214 - val_accuracy: 0.4060 - 1s/epoch - 11ms/step\n",
            "Epoch 84/100\n",
            "100/100 - 1s - loss: 1.5292 - accuracy: 0.4702 - val_loss: 1.7210 - val_accuracy: 0.4140 - 1s/epoch - 11ms/step\n",
            "Epoch 85/100\n",
            "100/100 - 1s - loss: 1.5270 - accuracy: 0.4703 - val_loss: 1.7116 - val_accuracy: 0.4177 - 1s/epoch - 11ms/step\n",
            "Epoch 86/100\n",
            "100/100 - 1s - loss: 1.5211 - accuracy: 0.4714 - val_loss: 1.7335 - val_accuracy: 0.4125 - 1s/epoch - 11ms/step\n",
            "Epoch 87/100\n",
            "100/100 - 1s - loss: 1.5211 - accuracy: 0.4703 - val_loss: 1.7321 - val_accuracy: 0.4077 - 1s/epoch - 11ms/step\n",
            "Epoch 88/100\n",
            "100/100 - 1s - loss: 1.5183 - accuracy: 0.4745 - val_loss: 1.7215 - val_accuracy: 0.4083 - 1s/epoch - 11ms/step\n",
            "Epoch 89/100\n",
            "100/100 - 1s - loss: 1.5179 - accuracy: 0.4748 - val_loss: 1.7194 - val_accuracy: 0.4132 - 1s/epoch - 11ms/step\n",
            "Epoch 90/100\n",
            "100/100 - 1s - loss: 1.5149 - accuracy: 0.4756 - val_loss: 1.7061 - val_accuracy: 0.4150 - 1s/epoch - 11ms/step\n",
            "Epoch 91/100\n",
            "100/100 - 1s - loss: 1.5087 - accuracy: 0.4788 - val_loss: 1.7137 - val_accuracy: 0.4115 - 1s/epoch - 11ms/step\n",
            "Epoch 92/100\n",
            "100/100 - 1s - loss: 1.5058 - accuracy: 0.4792 - val_loss: 1.7162 - val_accuracy: 0.4203 - 1s/epoch - 11ms/step\n",
            "Epoch 93/100\n",
            "100/100 - 1s - loss: 1.5054 - accuracy: 0.4766 - val_loss: 1.7107 - val_accuracy: 0.4196 - 1s/epoch - 11ms/step\n",
            "Epoch 94/100\n",
            "100/100 - 1s - loss: 1.5087 - accuracy: 0.4773 - val_loss: 1.7241 - val_accuracy: 0.4087 - 1s/epoch - 11ms/step\n",
            "Epoch 95/100\n",
            "100/100 - 1s - loss: 1.5066 - accuracy: 0.4773 - val_loss: 1.7217 - val_accuracy: 0.4132 - 1s/epoch - 12ms/step\n",
            "Epoch 96/100\n",
            "100/100 - 1s - loss: 1.5030 - accuracy: 0.4791 - val_loss: 1.7115 - val_accuracy: 0.4146 - 1s/epoch - 11ms/step\n",
            "Epoch 97/100\n",
            "100/100 - 1s - loss: 1.4981 - accuracy: 0.4795 - val_loss: 1.7190 - val_accuracy: 0.4087 - 1s/epoch - 11ms/step\n",
            "Epoch 98/100\n",
            "100/100 - 1s - loss: 1.4959 - accuracy: 0.4818 - val_loss: 1.7207 - val_accuracy: 0.4133 - 1s/epoch - 11ms/step\n",
            "Epoch 99/100\n",
            "100/100 - 1s - loss: 1.5036 - accuracy: 0.4789 - val_loss: 1.7243 - val_accuracy: 0.4170 - 1s/epoch - 11ms/step\n",
            "Epoch 100/100\n",
            "100/100 - 1s - loss: 1.5029 - accuracy: 0.4766 - val_loss: 1.7190 - val_accuracy: 0.4131 - 1s/epoch - 13ms/step\n",
            "1563/1563 [==============================] - 3s 2ms/step\n",
            "confusion_matrix(C): tf.Tensor(\n",
            "[[2511  207  328  133  124  142  123  280  864  288]\n",
            " [ 228 2877  136   94   68  129  203  210  427  628]\n",
            " [ 455  192 1684  224  594  379  614  559  211   88]\n",
            " [ 218  237  541  972  285 1104  799  401  249  194]\n",
            " [ 278  106  687  186 1794  301  658  725  162  103]\n",
            " [ 168  176  588  499  306 1916  547  500  205   95]\n",
            " [  72  117  383  292  402  440 2856  261   92   85]\n",
            " [ 207  121  327  172  348  332  206 2958  104  225]\n",
            " [ 514  259  107   81   70  124   61   89 3411  284]\n",
            " [ 337  883  104   96   72  101  214  281  468 2444]], shape=(10, 10), dtype=int32)\n",
            "1563/1563 - 2s - loss: 1.5334 - accuracy: 0.4685 - 2s/epoch - 1ms/step\n",
            "313/313 - 0s - loss: 1.7138 - accuracy: 0.4068 - 381ms/epoch - 1ms/step\n"
          ]
        },
        {
          "output_type": "display_data",
          "data": {
            "text/plain": [
              "<Figure size 720x432 with 2 Axes>"
            ],
            "image/png": "[encoded data removed]"
          },
          "metadata": {
            "needs_background": "light"
          }
        }
      ]
    },
    {
      "cell_type": "markdown",
      "source": [
        "## 6.2.4 CIFAR-100 데이터셋\n",
        "\n",
        "* 100 종류의 사물들의 컬러 이미지\n",
        "* 훈련 데이터 5만개, 테스트 데이터 1만개\n",
        "* 32 x 32, 3 채널(RGB)"
      ],
      "metadata": {
        "id": "Js42I95rUjMs"
      }
    },
    {
      "cell_type": "code",
      "source": [
        "import tensorflow as tf\n",
        "from tensorflow.keras.datasets import cifar100\n",
        "import numpy as np\n",
        "import matplotlib.pyplot as plt\n",
        "\n",
        "#1\n",
        "mode = 'coarse' # 'fine'\n",
        "(x_train, y_train), (x_test, y_test) = cifar100.load_data(label_mode=mode)\n",
        "print(\"x_train.shape=\", x_train.shape) # (50000, 32, 32, 3)\n",
        "print(\"y_train.shape=\", y_train.shape) # (50000, 1)\n",
        "print(\"x_test.shape=\",  x_test.shape)  # (10000, 32, 32, 3)\n",
        "print(\"y_test.shape=\",  y_test.shape)  # (10000, 1)\n",
        "\n",
        "#2\n",
        "y_train = y_train.flatten() \n",
        "y_test  = y_test.flatten()\n",
        "print(\"y_train.shape=\", y_train.shape) # (50000,)\n",
        "print(\"y_test.shape=\",  y_test.shape)  # (10000,)\n",
        "\n",
        "#3\n",
        "nlabel, count = np.unique(y_train, return_counts=True)\n",
        "print(\"nlabel:\", nlabel)\n",
        "print(\"count:\",  count)\n",
        "print(\"# of Class:\",  len(nlabel) )\n",
        "\n",
        "#4\n",
        "#https://github.com/SteffenBauer/KerasTools/blob/master/KerasTools/datasets/decode.py\n",
        "coarse_label = ('Aquatic mammal', 'Fish', \n",
        "               'Flower', 'Food container', \n",
        "               'Fruit or vegetable', 'Household electrical device', \n",
        "               'Household furniture', 'Insect', \n",
        "               'Large carnivore', 'Large man-made outdoor thing', \n",
        "               'Large natural outdoor scene', 'Large omnivore or herbivore',\n",
        "               'Medium-sized mammal', 'Non-insect invertebrate',\n",
        "               'People', 'Reptile', \n",
        "               'Small mammal', 'Tree',\n",
        "               'Vehicles Set 1', 'Vehicles Set 2')\n",
        "fine_label = ('Apple', 'Aquarium fish', 'Baby', 'Bear', 'Beaver', \n",
        "              'Bed', 'Bee', 'Beetle', 'Bicycle', 'Bottle', \n",
        "              'Bowl', 'Boy', 'Bridge', 'Bus', 'Butterfly', \n",
        "              'Camel', 'Can', 'Castle', 'Caterpillar', 'Cattle', \n",
        "              'Chair', 'Chimpanzee', 'Clock', 'Cloud', 'Cockroach', \n",
        "              'Couch', 'Crab', 'Crocodile', 'Cups', 'Dinosaur', \n",
        "              'Dolphin', 'Elephant', 'Flatfish', 'Forest', 'Fox', \n",
        "              'Girl', 'Hamster', 'House', 'Kangaroo', 'Computer keyboard',\n",
        "              'Lamp', 'Lawn-mower', 'Leopard', 'Lion', 'Lizard', \n",
        "              'Lobster', 'Man', 'Maple', 'Motorcycle', 'Mountain', \n",
        "              'Mouse', 'Mushrooms', 'Oak', 'Oranges', 'Orchids', \n",
        "              'Otter', 'Palm', 'Pears', 'Pickup truck', 'Pine', \n",
        "              'Plain', 'Plates', 'Poppies', 'Porcupine', 'Possum', \n",
        "              'Rabbit', 'Raccoon', 'Ray', 'Road', 'Rocket', \n",
        "              'Roses', 'Sea', 'Seal', 'Shark', 'Shrew', \n",
        "              'Skunk', 'Skyscraper', 'Snail', 'Snake', 'Spider', \n",
        "              'Squirrel', 'Streetcar', 'Sunflowers', 'Sweet peppers', 'Table', \n",
        "              'Tank', 'Telephone', 'Television', 'Tiger', 'Tractor', \n",
        "              'Train', 'Trout', 'Tulips', 'Turtle', 'Wardrobe', \n",
        "              'Whale', 'Willow', 'Wolf', 'Woman', 'Worm')\n",
        "\n",
        "print(\"y_train[:8]=\",y_train[:8])\n",
        "fig = plt.figure(figsize=(8, 4))\n",
        "for i in range(8):\n",
        "    plt.subplot(2, 4, i + 1, )  \n",
        "    plt.imshow(x_train[i], cmap='gray')\n",
        "    if mode == 'coarse':\n",
        "        title = coarse_label[y_train[i]]\n",
        "    else: # 'fine'\n",
        "        title = fine_label[y_train[i]]        \n",
        "    plt.gca().set_title(title)\n",
        "    plt.axis(\"off\")\n",
        "fig.tight_layout()\n",
        "plt.show()"
      ],
      "metadata": {
        "colab": {
          "base_uri": "https://localhost:8080/",
          "height": 509
        },
        "id": "Efkr5AYCUo91",
        "outputId": "c83149fa-f34e-4aac-b462-b71085b37709"
      },
      "execution_count": null,
      "outputs": [
        {
          "output_type": "stream",
          "name": "stdout",
          "text": [
            "Downloading data from https://www.cs.toronto.edu/~kriz/cifar-100-python.tar.gz\n",
            "169001437/169001437 [==============================] - 2s 0us/step\n",
            "x_train.shape= (50000, 32, 32, 3)\n",
            "y_train.shape= (50000, 1)\n",
            "x_test.shape= (10000, 32, 32, 3)\n",
            "y_test.shape= (10000, 1)\n",
            "y_train.shape= (50000,)\n",
            "y_test.shape= (10000,)\n",
            "nlabel: [ 0  1  2  3  4  5  6  7  8  9 10 11 12 13 14 15 16 17 18 19]\n",
            "count: [2500 2500 2500 2500 2500 2500 2500 2500 2500 2500 2500 2500 2500 2500\n",
            " 2500 2500 2500 2500 2500 2500]\n",
            "# of Class: 20\n",
            "y_train[:8]= [11 15  4 14  1  5 18  3]\n"
          ]
        },
        {
          "output_type": "display_data",
          "data": {
            "text/plain": [
              "<Figure size 576x288 with 8 Axes>"
            ],
            "image/png": "[encoded data removed]"
          },
          "metadata": {
            "needs_background": "light"
          }
        }
      ]
    },
    {
      "cell_type": "code",
      "source": [
        "import tensorflow as tf\n",
        "from tensorflow.keras.datasets import cifar100\n",
        "import numpy as np\n",
        "import matplotlib.pyplot as plt\n",
        "\n",
        "#1\n",
        "(x_train, y_train), (x_test, y_test) = cifar100.load_data() #' fine'\n",
        "##print(\"x_train.shape=\", x_train.shape) # (50000, 32, 32, 3)\n",
        "##print(\"y_train.shape=\", y_train.shape) # (50000, 1)\n",
        "##print(\"x_test.shape=\",  x_test.shape)  # (10000, 32, 32, 3)\n",
        "##print(\"y_test.shape=\",  y_test.shape)  # (10000, 1)\n",
        "\n",
        "#2:normalize images\n",
        "x_train = x_train.astype('float32')\n",
        "x_test  = x_test.astype('float32')\n",
        "def normalize_image(image): # 3-channel\n",
        "    mean=  np.mean(image, axis = (0, 1, 2))\n",
        "    std =  np.std(image,  axis = (0, 1, 2))\n",
        "    image = (image-mean)/std\n",
        "    return image\n",
        "x_train= normalize_image(x_train) # range: N(mean=0, std=1]\n",
        "x_test = normalize_image(x_test)\n",
        "\n",
        "#3\n",
        "nlabel, count = np.unique(y_train, return_counts=True)\n",
        "nClass = len(nlabel) # 'fine': 100, 'coarse':20\n",
        "\n",
        "#4: preprocessing the target(y_train, y_test)\n",
        "y_train = y_train.flatten() \n",
        "y_test  = y_test.flatten()\n",
        "##print(\"y_train.shape=\", y_train.shape) # (50000,)\n",
        "##print(\"y_test.shape=\",  y_test.shape)  # (10000,)\n",
        "\n",
        "# one-hot encoding: 'mse', 'categorical_crossentropy'\n",
        "y_train = tf.keras.utils.to_categorical(y_train) # (50000, nClass)\n",
        "y_test = tf.keras.utils.to_categorical(y_test)   # (10000, nClass)\n",
        "\n",
        "#5\n",
        "model = tf.keras.Sequential()\n",
        "model.add(tf.keras.layers.Flatten(input_shape=(32, 32, 3)))\n",
        "model.add(tf.keras.layers.Dense(units=100, activation='sigmoid'))\n",
        "model.add(tf.keras.layers.Dense(units=nClass, activation='softmax'))\n",
        "model.summary()\n",
        "\n",
        "opt = tf.keras.optimizers.RMSprop(learning_rate=0.001)\n",
        "model.compile(optimizer=opt, loss='categorical_crossentropy',\n",
        "              metrics=['accuracy'])\n",
        "ret = model.fit(x_train, y_train, epochs=200, batch_size=200, \n",
        "               validation_split=0.2, verbose=2)\n",
        "\n",
        "#6\n",
        "y_pred = model.predict(x_train)\n",
        "y_label = np.argmax(y_pred, axis = 1)\n",
        "C = tf.math.confusion_matrix(np.argmax(y_train, axis = 1), y_label)\n",
        "print(\"confusion_matrix(C):\", C)\n",
        "train_loss, train_acc = model.evaluate(x_train, y_train, verbose=2)\n",
        "test_loss, test_acc = model.evaluate(x_test,  y_test, verbose=2)\n",
        "\n",
        "#7: plot accuracy and loss\n",
        "fig, ax = plt.subplots(1, 2, figsize=(10, 6))\n",
        "ax[0].plot(ret.history['loss'],  \"g-\")\n",
        "ax[0].set_title(\"train loss\")\n",
        "ax[0].set_xlabel('epochs')\n",
        "ax[0].set_ylabel('loss')\n",
        "\n",
        "ax[1].plot(ret.history['accuracy'],     \"b-\", label=\"train accuracy\")\n",
        "ax[1].plot(ret.history['val_accuracy'], \"r-\", label=\"val accuracy\")\n",
        "ax[1].set_title(\"accuracy\")\n",
        "ax[1].set_xlabel('epochs')\n",
        "ax[1].set_ylabel('accuracy')\n",
        "plt.legend(loc=\"best\")\n",
        "fig.tight_layout()\n",
        "plt.show()"
      ],
      "metadata": {
        "colab": {
          "base_uri": "https://localhost:8080/",
          "height": 1000
        },
        "id": "Qljj0ZiDUtJ2",
        "outputId": "cc831124-4d2b-4e84-ee24-ed1a6f5b75ac"
      },
      "execution_count": null,
      "outputs": [
        {
          "output_type": "stream",
          "name": "stdout",
          "text": [
            "Model: \"sequential_4\"\n",
            "_________________________________________________________________\n",
            " Layer (type)                Output Shape              Param #   \n",
            "=================================================================\n",
            " flatten_2 (Flatten)         (None, 3072)              0         \n",
            "                                                                 \n",
            " dense_9 (Dense)             (None, 100)               307300    \n",
            "                                                                 \n",
            " dense_10 (Dense)            (None, 100)               10100     \n",
            "                                                                 \n",
            "=================================================================\n",
            "Total params: 317,400\n",
            "Trainable params: 317,400\n",
            "Non-trainable params: 0\n",
            "_________________________________________________________________\n",
            "Epoch 1/200\n",
            "200/200 - 3s - loss: 4.1178 - accuracy: 0.0983 - val_loss: 3.9150 - val_accuracy: 0.1292 - 3s/epoch - 14ms/step\n",
            "Epoch 2/200\n",
            "200/200 - 2s - loss: 3.7774 - accuracy: 0.1508 - val_loss: 3.7575 - val_accuracy: 0.1514 - 2s/epoch - 9ms/step\n",
            "Epoch 3/200\n",
            "200/200 - 2s - loss: 3.6364 - accuracy: 0.1702 - val_loss: 3.6787 - val_accuracy: 0.1634 - 2s/epoch - 9ms/step\n",
            "Epoch 4/200\n",
            "200/200 - 2s - loss: 3.5464 - accuracy: 0.1861 - val_loss: 3.6433 - val_accuracy: 0.1705 - 2s/epoch - 9ms/step\n",
            "Epoch 5/200\n",
            "200/200 - 2s - loss: 3.4791 - accuracy: 0.1996 - val_loss: 3.6232 - val_accuracy: 0.1711 - 2s/epoch - 9ms/step\n",
            "Epoch 6/200\n",
            "200/200 - 2s - loss: 3.4266 - accuracy: 0.2069 - val_loss: 3.6028 - val_accuracy: 0.1712 - 2s/epoch - 10ms/step\n",
            "Epoch 7/200\n",
            "200/200 - 2s - loss: 3.3764 - accuracy: 0.2158 - val_loss: 3.5921 - val_accuracy: 0.1808 - 2s/epoch - 9ms/step\n",
            "Epoch 8/200\n",
            "200/200 - 2s - loss: 3.3336 - accuracy: 0.2272 - val_loss: 3.5786 - val_accuracy: 0.1777 - 2s/epoch - 9ms/step\n",
            "Epoch 9/200\n",
            "200/200 - 2s - loss: 3.2931 - accuracy: 0.2325 - val_loss: 3.5832 - val_accuracy: 0.1804 - 2s/epoch - 10ms/step\n",
            "Epoch 10/200\n",
            "200/200 - 2s - loss: 3.2591 - accuracy: 0.2403 - val_loss: 3.5609 - val_accuracy: 0.1891 - 2s/epoch - 9ms/step\n",
            "Epoch 11/200\n",
            "200/200 - 2s - loss: 3.2216 - accuracy: 0.2475 - val_loss: 3.5616 - val_accuracy: 0.1892 - 2s/epoch - 9ms/step\n",
            "Epoch 12/200\n",
            "200/200 - 2s - loss: 3.1884 - accuracy: 0.2548 - val_loss: 3.5683 - val_accuracy: 0.1877 - 2s/epoch - 12ms/step\n",
            "Epoch 13/200\n",
            "200/200 - 2s - loss: 3.1567 - accuracy: 0.2590 - val_loss: 3.5711 - val_accuracy: 0.1866 - 2s/epoch - 10ms/step\n",
            "Epoch 14/200\n",
            "200/200 - 2s - loss: 3.1281 - accuracy: 0.2652 - val_loss: 3.5790 - val_accuracy: 0.1860 - 2s/epoch - 9ms/step\n",
            "Epoch 15/200\n",
            "200/200 - 2s - loss: 3.0985 - accuracy: 0.2704 - val_loss: 3.5708 - val_accuracy: 0.1855 - 2s/epoch - 9ms/step\n",
            "Epoch 16/200\n",
            "200/200 - 2s - loss: 3.0682 - accuracy: 0.2780 - val_loss: 3.5682 - val_accuracy: 0.1922 - 2s/epoch - 9ms/step\n",
            "Epoch 17/200\n",
            "200/200 - 2s - loss: 3.0433 - accuracy: 0.2831 - val_loss: 3.5710 - val_accuracy: 0.1900 - 2s/epoch - 9ms/step\n",
            "Epoch 18/200\n",
            "200/200 - 2s - loss: 3.0165 - accuracy: 0.2881 - val_loss: 3.5811 - val_accuracy: 0.1906 - 2s/epoch - 9ms/step\n",
            "Epoch 19/200\n",
            "200/200 - 2s - loss: 2.9898 - accuracy: 0.2936 - val_loss: 3.5870 - val_accuracy: 0.1871 - 2s/epoch - 9ms/step\n",
            "Epoch 20/200\n",
            "200/200 - 2s - loss: 2.9643 - accuracy: 0.2959 - val_loss: 3.5880 - val_accuracy: 0.1902 - 2s/epoch - 10ms/step\n",
            "Epoch 21/200\n",
            "200/200 - 2s - loss: 2.9407 - accuracy: 0.3035 - val_loss: 3.5885 - val_accuracy: 0.1863 - 2s/epoch - 9ms/step\n",
            "Epoch 22/200\n",
            "200/200 - 2s - loss: 2.9170 - accuracy: 0.3078 - val_loss: 3.5957 - val_accuracy: 0.1890 - 2s/epoch - 9ms/step\n",
            "Epoch 23/200\n",
            "200/200 - 2s - loss: 2.8934 - accuracy: 0.3135 - val_loss: 3.6107 - val_accuracy: 0.1938 - 2s/epoch - 9ms/step\n",
            "Epoch 24/200\n",
            "200/200 - 2s - loss: 2.8719 - accuracy: 0.3203 - val_loss: 3.6093 - val_accuracy: 0.1863 - 2s/epoch - 9ms/step\n",
            "Epoch 25/200\n",
            "200/200 - 2s - loss: 2.8480 - accuracy: 0.3215 - val_loss: 3.6260 - val_accuracy: 0.1864 - 2s/epoch - 9ms/step\n",
            "Epoch 26/200\n",
            "200/200 - 2s - loss: 2.8263 - accuracy: 0.3277 - val_loss: 3.6148 - val_accuracy: 0.1903 - 2s/epoch - 10ms/step\n",
            "Epoch 27/200\n",
            "200/200 - 2s - loss: 2.8032 - accuracy: 0.3316 - val_loss: 3.6272 - val_accuracy: 0.1891 - 2s/epoch - 10ms/step\n",
            "Epoch 28/200\n",
            "200/200 - 2s - loss: 2.7842 - accuracy: 0.3355 - val_loss: 3.6361 - val_accuracy: 0.1924 - 2s/epoch - 9ms/step\n",
            "Epoch 29/200\n",
            "200/200 - 2s - loss: 2.7638 - accuracy: 0.3395 - val_loss: 3.6415 - val_accuracy: 0.1899 - 2s/epoch - 10ms/step\n",
            "Epoch 30/200\n",
            "200/200 - 2s - loss: 2.7410 - accuracy: 0.3447 - val_loss: 3.6538 - val_accuracy: 0.1897 - 2s/epoch - 10ms/step\n",
            "Epoch 31/200\n",
            "200/200 - 2s - loss: 2.7237 - accuracy: 0.3464 - val_loss: 3.6579 - val_accuracy: 0.1881 - 2s/epoch - 9ms/step\n",
            "Epoch 32/200\n",
            "200/200 - 2s - loss: 2.7022 - accuracy: 0.3528 - val_loss: 3.6660 - val_accuracy: 0.1866 - 2s/epoch - 9ms/step\n",
            "Epoch 33/200\n",
            "200/200 - 2s - loss: 2.6833 - accuracy: 0.3569 - val_loss: 3.6703 - val_accuracy: 0.1896 - 2s/epoch - 10ms/step\n",
            "Epoch 34/200\n",
            "200/200 - 2s - loss: 2.6642 - accuracy: 0.3615 - val_loss: 3.6854 - val_accuracy: 0.1904 - 2s/epoch - 9ms/step\n",
            "Epoch 35/200\n",
            "200/200 - 2s - loss: 2.6473 - accuracy: 0.3652 - val_loss: 3.6922 - val_accuracy: 0.1892 - 2s/epoch - 9ms/step\n",
            "Epoch 36/200\n",
            "200/200 - 2s - loss: 2.6280 - accuracy: 0.3683 - val_loss: 3.7027 - val_accuracy: 0.1876 - 2s/epoch - 9ms/step\n",
            "Epoch 37/200\n",
            "200/200 - 2s - loss: 2.6117 - accuracy: 0.3727 - val_loss: 3.7098 - val_accuracy: 0.1862 - 2s/epoch - 9ms/step\n",
            "Epoch 38/200\n",
            "200/200 - 2s - loss: 2.5911 - accuracy: 0.3755 - val_loss: 3.7271 - val_accuracy: 0.1861 - 2s/epoch - 9ms/step\n",
            "Epoch 39/200\n",
            "200/200 - 2s - loss: 2.5773 - accuracy: 0.3776 - val_loss: 3.7313 - val_accuracy: 0.1840 - 2s/epoch - 9ms/step\n",
            "Epoch 40/200\n",
            "200/200 - 2s - loss: 2.5586 - accuracy: 0.3832 - val_loss: 3.7491 - val_accuracy: 0.1862 - 2s/epoch - 9ms/step\n",
            "Epoch 41/200\n",
            "200/200 - 2s - loss: 2.5429 - accuracy: 0.3873 - val_loss: 3.7698 - val_accuracy: 0.1795 - 2s/epoch - 9ms/step\n",
            "Epoch 42/200\n",
            "200/200 - 2s - loss: 2.5277 - accuracy: 0.3877 - val_loss: 3.7760 - val_accuracy: 0.1792 - 2s/epoch - 9ms/step\n",
            "Epoch 43/200\n",
            "200/200 - 2s - loss: 2.5108 - accuracy: 0.3956 - val_loss: 3.7673 - val_accuracy: 0.1816 - 2s/epoch - 10ms/step\n",
            "Epoch 44/200\n",
            "200/200 - 2s - loss: 2.4947 - accuracy: 0.3972 - val_loss: 3.7856 - val_accuracy: 0.1825 - 2s/epoch - 9ms/step\n",
            "Epoch 45/200\n",
            "200/200 - 2s - loss: 2.4775 - accuracy: 0.4020 - val_loss: 3.7933 - val_accuracy: 0.1833 - 2s/epoch - 9ms/step\n",
            "Epoch 46/200\n",
            "200/200 - 2s - loss: 2.4610 - accuracy: 0.4045 - val_loss: 3.8032 - val_accuracy: 0.1828 - 2s/epoch - 9ms/step\n",
            "Epoch 47/200\n",
            "200/200 - 2s - loss: 2.4491 - accuracy: 0.4076 - val_loss: 3.8161 - val_accuracy: 0.1826 - 2s/epoch - 10ms/step\n",
            "Epoch 48/200\n",
            "200/200 - 2s - loss: 2.4329 - accuracy: 0.4099 - val_loss: 3.8170 - val_accuracy: 0.1823 - 2s/epoch - 9ms/step\n",
            "Epoch 49/200\n",
            "200/200 - 2s - loss: 2.4177 - accuracy: 0.4130 - val_loss: 3.8492 - val_accuracy: 0.1758 - 2s/epoch - 9ms/step\n",
            "Epoch 50/200\n",
            "200/200 - 2s - loss: 2.4040 - accuracy: 0.4191 - val_loss: 3.8522 - val_accuracy: 0.1785 - 2s/epoch - 10ms/step\n",
            "Epoch 51/200\n",
            "200/200 - 2s - loss: 2.3909 - accuracy: 0.4199 - val_loss: 3.8514 - val_accuracy: 0.1807 - 2s/epoch - 9ms/step\n",
            "Epoch 52/200\n",
            "200/200 - 2s - loss: 2.3752 - accuracy: 0.4247 - val_loss: 3.8809 - val_accuracy: 0.1739 - 2s/epoch - 12ms/step\n",
            "Epoch 53/200\n",
            "200/200 - 2s - loss: 2.3631 - accuracy: 0.4263 - val_loss: 3.8793 - val_accuracy: 0.1784 - 2s/epoch - 9ms/step\n",
            "Epoch 54/200\n",
            "200/200 - 2s - loss: 2.3485 - accuracy: 0.4297 - val_loss: 3.8956 - val_accuracy: 0.1820 - 2s/epoch - 9ms/step\n",
            "Epoch 55/200\n",
            "200/200 - 2s - loss: 2.3348 - accuracy: 0.4327 - val_loss: 3.9081 - val_accuracy: 0.1778 - 2s/epoch - 9ms/step\n",
            "Epoch 56/200\n",
            "200/200 - 2s - loss: 2.3208 - accuracy: 0.4354 - val_loss: 3.9117 - val_accuracy: 0.1782 - 2s/epoch - 9ms/step\n",
            "Epoch 57/200\n",
            "200/200 - 2s - loss: 2.3077 - accuracy: 0.4401 - val_loss: 3.9193 - val_accuracy: 0.1768 - 2s/epoch - 9ms/step\n",
            "Epoch 58/200\n",
            "200/200 - 2s - loss: 2.2951 - accuracy: 0.4387 - val_loss: 3.9353 - val_accuracy: 0.1774 - 2s/epoch - 9ms/step\n",
            "Epoch 59/200\n",
            "200/200 - 2s - loss: 2.2825 - accuracy: 0.4430 - val_loss: 3.9462 - val_accuracy: 0.1800 - 2s/epoch - 9ms/step\n",
            "Epoch 60/200\n",
            "200/200 - 2s - loss: 2.2688 - accuracy: 0.4478 - val_loss: 3.9638 - val_accuracy: 0.1765 - 2s/epoch - 9ms/step\n",
            "Epoch 61/200\n",
            "200/200 - 2s - loss: 2.2607 - accuracy: 0.4510 - val_loss: 3.9725 - val_accuracy: 0.1757 - 2s/epoch - 9ms/step\n",
            "Epoch 62/200\n",
            "200/200 - 2s - loss: 2.2471 - accuracy: 0.4533 - val_loss: 3.9773 - val_accuracy: 0.1748 - 2s/epoch - 9ms/step\n",
            "Epoch 63/200\n",
            "200/200 - 2s - loss: 2.2338 - accuracy: 0.4560 - val_loss: 4.0029 - val_accuracy: 0.1753 - 2s/epoch - 9ms/step\n",
            "Epoch 64/200\n",
            "200/200 - 2s - loss: 2.2218 - accuracy: 0.4613 - val_loss: 4.0212 - val_accuracy: 0.1751 - 2s/epoch - 9ms/step\n",
            "Epoch 65/200\n",
            "200/200 - 2s - loss: 2.2099 - accuracy: 0.4599 - val_loss: 4.0333 - val_accuracy: 0.1712 - 2s/epoch - 9ms/step\n",
            "Epoch 66/200\n",
            "200/200 - 2s - loss: 2.1994 - accuracy: 0.4642 - val_loss: 4.0385 - val_accuracy: 0.1734 - 2s/epoch - 9ms/step\n",
            "Epoch 67/200\n",
            "200/200 - 2s - loss: 2.1884 - accuracy: 0.4657 - val_loss: 4.0580 - val_accuracy: 0.1728 - 2s/epoch - 9ms/step\n",
            "Epoch 68/200\n",
            "200/200 - 2s - loss: 2.1773 - accuracy: 0.4697 - val_loss: 4.0575 - val_accuracy: 0.1735 - 2s/epoch - 9ms/step\n",
            "Epoch 69/200\n",
            "200/200 - 3s - loss: 2.1655 - accuracy: 0.4719 - val_loss: 4.0724 - val_accuracy: 0.1730 - 3s/epoch - 13ms/step\n",
            "Epoch 70/200\n",
            "200/200 - 2s - loss: 2.1524 - accuracy: 0.4736 - val_loss: 4.0973 - val_accuracy: 0.1728 - 2s/epoch - 9ms/step\n",
            "Epoch 71/200\n",
            "200/200 - 2s - loss: 2.1429 - accuracy: 0.4776 - val_loss: 4.0904 - val_accuracy: 0.1716 - 2s/epoch - 9ms/step\n",
            "Epoch 72/200\n",
            "200/200 - 2s - loss: 2.1330 - accuracy: 0.4779 - val_loss: 4.1161 - val_accuracy: 0.1709 - 2s/epoch - 9ms/step\n",
            "Epoch 73/200\n",
            "200/200 - 2s - loss: 2.1220 - accuracy: 0.4827 - val_loss: 4.1107 - val_accuracy: 0.1730 - 2s/epoch - 9ms/step\n",
            "Epoch 74/200\n",
            "200/200 - 2s - loss: 2.1099 - accuracy: 0.4844 - val_loss: 4.1312 - val_accuracy: 0.1730 - 2s/epoch - 9ms/step\n",
            "Epoch 75/200\n",
            "200/200 - 2s - loss: 2.1043 - accuracy: 0.4854 - val_loss: 4.1367 - val_accuracy: 0.1738 - 2s/epoch - 9ms/step\n",
            "Epoch 76/200\n",
            "200/200 - 2s - loss: 2.0912 - accuracy: 0.4873 - val_loss: 4.1654 - val_accuracy: 0.1714 - 2s/epoch - 9ms/step\n",
            "Epoch 77/200\n",
            "200/200 - 2s - loss: 2.0809 - accuracy: 0.4900 - val_loss: 4.1690 - val_accuracy: 0.1720 - 2s/epoch - 9ms/step\n",
            "Epoch 78/200\n",
            "200/200 - 2s - loss: 2.0706 - accuracy: 0.4958 - val_loss: 4.1852 - val_accuracy: 0.1700 - 2s/epoch - 9ms/step\n",
            "Epoch 79/200\n",
            "200/200 - 2s - loss: 2.0595 - accuracy: 0.4959 - val_loss: 4.2112 - val_accuracy: 0.1710 - 2s/epoch - 9ms/step\n",
            "Epoch 80/200\n",
            "200/200 - 2s - loss: 2.0505 - accuracy: 0.4983 - val_loss: 4.2002 - val_accuracy: 0.1700 - 2s/epoch - 10ms/step\n",
            "Epoch 81/200\n",
            "200/200 - 2s - loss: 2.0408 - accuracy: 0.4992 - val_loss: 4.2204 - val_accuracy: 0.1732 - 2s/epoch - 9ms/step\n",
            "Epoch 82/200\n",
            "200/200 - 2s - loss: 2.0336 - accuracy: 0.5013 - val_loss: 4.2344 - val_accuracy: 0.1693 - 2s/epoch - 10ms/step\n",
            "Epoch 83/200\n",
            "200/200 - 2s - loss: 2.0219 - accuracy: 0.5057 - val_loss: 4.2449 - val_accuracy: 0.1670 - 2s/epoch - 10ms/step\n",
            "Epoch 84/200\n",
            "200/200 - 2s - loss: 2.0146 - accuracy: 0.5067 - val_loss: 4.2507 - val_accuracy: 0.1715 - 2s/epoch - 10ms/step\n",
            "Epoch 85/200\n",
            "200/200 - 2s - loss: 2.0051 - accuracy: 0.5092 - val_loss: 4.2881 - val_accuracy: 0.1644 - 2s/epoch - 11ms/step\n",
            "Epoch 86/200\n",
            "200/200 - 2s - loss: 1.9964 - accuracy: 0.5078 - val_loss: 4.2873 - val_accuracy: 0.1706 - 2s/epoch - 11ms/step\n",
            "Epoch 87/200\n",
            "200/200 - 2s - loss: 1.9860 - accuracy: 0.5143 - val_loss: 4.3101 - val_accuracy: 0.1625 - 2s/epoch - 11ms/step\n",
            "Epoch 88/200\n",
            "200/200 - 2s - loss: 1.9766 - accuracy: 0.5151 - val_loss: 4.3175 - val_accuracy: 0.1643 - 2s/epoch - 11ms/step\n",
            "Epoch 89/200\n",
            "200/200 - 2s - loss: 1.9681 - accuracy: 0.5185 - val_loss: 4.3362 - val_accuracy: 0.1671 - 2s/epoch - 11ms/step\n",
            "Epoch 90/200\n",
            "200/200 - 2s - loss: 1.9588 - accuracy: 0.5176 - val_loss: 4.3349 - val_accuracy: 0.1626 - 2s/epoch - 10ms/step\n",
            "Epoch 91/200\n",
            "200/200 - 2s - loss: 1.9518 - accuracy: 0.5202 - val_loss: 4.3452 - val_accuracy: 0.1663 - 2s/epoch - 11ms/step\n",
            "Epoch 92/200\n",
            "200/200 - 2s - loss: 1.9404 - accuracy: 0.5216 - val_loss: 4.3587 - val_accuracy: 0.1656 - 2s/epoch - 11ms/step\n",
            "Epoch 93/200\n",
            "200/200 - 2s - loss: 1.9337 - accuracy: 0.5262 - val_loss: 4.3663 - val_accuracy: 0.1683 - 2s/epoch - 11ms/step\n",
            "Epoch 94/200\n",
            "200/200 - 2s - loss: 1.9255 - accuracy: 0.5271 - val_loss: 4.3771 - val_accuracy: 0.1657 - 2s/epoch - 10ms/step\n",
            "Epoch 95/200\n",
            "200/200 - 2s - loss: 1.9204 - accuracy: 0.5295 - val_loss: 4.3981 - val_accuracy: 0.1621 - 2s/epoch - 11ms/step\n",
            "Epoch 96/200\n",
            "200/200 - 2s - loss: 1.9106 - accuracy: 0.5294 - val_loss: 4.4097 - val_accuracy: 0.1674 - 2s/epoch - 11ms/step\n",
            "Epoch 97/200\n",
            "200/200 - 2s - loss: 1.9028 - accuracy: 0.5333 - val_loss: 4.4275 - val_accuracy: 0.1651 - 2s/epoch - 12ms/step\n",
            "Epoch 98/200\n",
            "200/200 - 2s - loss: 1.8919 - accuracy: 0.5357 - val_loss: 4.4204 - val_accuracy: 0.1666 - 2s/epoch - 12ms/step\n",
            "Epoch 99/200\n",
            "200/200 - 2s - loss: 1.8861 - accuracy: 0.5377 - val_loss: 4.4549 - val_accuracy: 0.1610 - 2s/epoch - 11ms/step\n",
            "Epoch 100/200\n",
            "200/200 - 2s - loss: 1.8755 - accuracy: 0.5393 - val_loss: 4.4442 - val_accuracy: 0.1640 - 2s/epoch - 11ms/step\n",
            "Epoch 101/200\n",
            "200/200 - 2s - loss: 1.8669 - accuracy: 0.5423 - val_loss: 4.4600 - val_accuracy: 0.1644 - 2s/epoch - 12ms/step\n",
            "Epoch 102/200\n",
            "200/200 - 3s - loss: 1.8606 - accuracy: 0.5437 - val_loss: 4.4762 - val_accuracy: 0.1656 - 3s/epoch - 13ms/step\n",
            "Epoch 103/200\n",
            "200/200 - 2s - loss: 1.8520 - accuracy: 0.5441 - val_loss: 4.4978 - val_accuracy: 0.1618 - 2s/epoch - 12ms/step\n",
            "Epoch 104/200\n",
            "200/200 - 2s - loss: 1.8460 - accuracy: 0.5463 - val_loss: 4.5098 - val_accuracy: 0.1595 - 2s/epoch - 12ms/step\n",
            "Epoch 105/200\n",
            "200/200 - 2s - loss: 1.8379 - accuracy: 0.5483 - val_loss: 4.5124 - val_accuracy: 0.1644 - 2s/epoch - 10ms/step\n",
            "Epoch 106/200\n",
            "200/200 - 2s - loss: 1.8291 - accuracy: 0.5502 - val_loss: 4.5376 - val_accuracy: 0.1626 - 2s/epoch - 12ms/step\n",
            "Epoch 107/200\n",
            "200/200 - 2s - loss: 1.8235 - accuracy: 0.5501 - val_loss: 4.5470 - val_accuracy: 0.1639 - 2s/epoch - 10ms/step\n",
            "Epoch 108/200\n",
            "200/200 - 2s - loss: 1.8144 - accuracy: 0.5555 - val_loss: 4.5577 - val_accuracy: 0.1623 - 2s/epoch - 9ms/step\n",
            "Epoch 109/200\n",
            "200/200 - 2s - loss: 1.8107 - accuracy: 0.5555 - val_loss: 4.5680 - val_accuracy: 0.1629 - 2s/epoch - 10ms/step\n",
            "Epoch 110/200\n",
            "200/200 - 2s - loss: 1.8003 - accuracy: 0.5582 - val_loss: 4.5684 - val_accuracy: 0.1595 - 2s/epoch - 9ms/step\n",
            "Epoch 111/200\n",
            "200/200 - 2s - loss: 1.7984 - accuracy: 0.5571 - val_loss: 4.6149 - val_accuracy: 0.1609 - 2s/epoch - 10ms/step\n",
            "Epoch 112/200\n",
            "200/200 - 2s - loss: 1.7864 - accuracy: 0.5625 - val_loss: 4.5957 - val_accuracy: 0.1597 - 2s/epoch - 9ms/step\n",
            "Epoch 113/200\n",
            "200/200 - 2s - loss: 1.7794 - accuracy: 0.5637 - val_loss: 4.6279 - val_accuracy: 0.1579 - 2s/epoch - 9ms/step\n",
            "Epoch 114/200\n",
            "200/200 - 2s - loss: 1.7722 - accuracy: 0.5631 - val_loss: 4.6360 - val_accuracy: 0.1614 - 2s/epoch - 9ms/step\n",
            "Epoch 115/200\n",
            "200/200 - 2s - loss: 1.7666 - accuracy: 0.5656 - val_loss: 4.6572 - val_accuracy: 0.1599 - 2s/epoch - 9ms/step\n",
            "Epoch 116/200\n",
            "200/200 - 2s - loss: 1.7571 - accuracy: 0.5702 - val_loss: 4.6445 - val_accuracy: 0.1598 - 2s/epoch - 9ms/step\n",
            "Epoch 117/200\n",
            "200/200 - 2s - loss: 1.7510 - accuracy: 0.5700 - val_loss: 4.6553 - val_accuracy: 0.1610 - 2s/epoch - 9ms/step\n",
            "Epoch 118/200\n",
            "200/200 - 2s - loss: 1.7470 - accuracy: 0.5709 - val_loss: 4.6708 - val_accuracy: 0.1576 - 2s/epoch - 9ms/step\n",
            "Epoch 119/200\n",
            "200/200 - 2s - loss: 1.7377 - accuracy: 0.5757 - val_loss: 4.6863 - val_accuracy: 0.1595 - 2s/epoch - 9ms/step\n",
            "Epoch 120/200\n",
            "200/200 - 2s - loss: 1.7342 - accuracy: 0.5751 - val_loss: 4.6894 - val_accuracy: 0.1595 - 2s/epoch - 9ms/step\n",
            "Epoch 121/200\n",
            "200/200 - 3s - loss: 1.7248 - accuracy: 0.5778 - val_loss: 4.7255 - val_accuracy: 0.1564 - 3s/epoch - 13ms/step\n",
            "Epoch 122/200\n",
            "200/200 - 2s - loss: 1.7174 - accuracy: 0.5789 - val_loss: 4.7333 - val_accuracy: 0.1544 - 2s/epoch - 9ms/step\n",
            "Epoch 123/200\n",
            "200/200 - 2s - loss: 1.7139 - accuracy: 0.5785 - val_loss: 4.7393 - val_accuracy: 0.1595 - 2s/epoch - 9ms/step\n",
            "Epoch 124/200\n",
            "200/200 - 2s - loss: 1.7056 - accuracy: 0.5808 - val_loss: 4.7482 - val_accuracy: 0.1577 - 2s/epoch - 9ms/step\n",
            "Epoch 125/200\n",
            "200/200 - 2s - loss: 1.7011 - accuracy: 0.5812 - val_loss: 4.7535 - val_accuracy: 0.1563 - 2s/epoch - 9ms/step\n",
            "Epoch 126/200\n",
            "200/200 - 2s - loss: 1.6951 - accuracy: 0.5848 - val_loss: 4.7701 - val_accuracy: 0.1577 - 2s/epoch - 9ms/step\n",
            "Epoch 127/200\n",
            "200/200 - 2s - loss: 1.6887 - accuracy: 0.5860 - val_loss: 4.7911 - val_accuracy: 0.1578 - 2s/epoch - 9ms/step\n",
            "Epoch 128/200\n",
            "200/200 - 2s - loss: 1.6802 - accuracy: 0.5872 - val_loss: 4.7967 - val_accuracy: 0.1573 - 2s/epoch - 9ms/step\n",
            "Epoch 129/200\n",
            "200/200 - 2s - loss: 1.6720 - accuracy: 0.5896 - val_loss: 4.8214 - val_accuracy: 0.1554 - 2s/epoch - 9ms/step\n",
            "Epoch 130/200\n",
            "200/200 - 2s - loss: 1.6664 - accuracy: 0.5911 - val_loss: 4.8166 - val_accuracy: 0.1573 - 2s/epoch - 9ms/step\n",
            "Epoch 131/200\n",
            "200/200 - 2s - loss: 1.6634 - accuracy: 0.5911 - val_loss: 4.8378 - val_accuracy: 0.1575 - 2s/epoch - 9ms/step\n",
            "Epoch 132/200\n",
            "200/200 - 2s - loss: 1.6540 - accuracy: 0.5948 - val_loss: 4.8563 - val_accuracy: 0.1569 - 2s/epoch - 9ms/step\n",
            "Epoch 133/200\n",
            "200/200 - 2s - loss: 1.6520 - accuracy: 0.5928 - val_loss: 4.8577 - val_accuracy: 0.1570 - 2s/epoch - 9ms/step\n",
            "Epoch 134/200\n",
            "200/200 - 2s - loss: 1.6445 - accuracy: 0.5968 - val_loss: 4.8724 - val_accuracy: 0.1595 - 2s/epoch - 10ms/step\n",
            "Epoch 135/200\n",
            "200/200 - 2s - loss: 1.6402 - accuracy: 0.5958 - val_loss: 4.8700 - val_accuracy: 0.1577 - 2s/epoch - 9ms/step\n",
            "Epoch 136/200\n",
            "200/200 - 2s - loss: 1.6354 - accuracy: 0.5981 - val_loss: 4.8776 - val_accuracy: 0.1544 - 2s/epoch - 9ms/step\n",
            "Epoch 137/200\n",
            "200/200 - 2s - loss: 1.6268 - accuracy: 0.6005 - val_loss: 4.9063 - val_accuracy: 0.1548 - 2s/epoch - 9ms/step\n",
            "Epoch 138/200\n",
            "200/200 - 2s - loss: 1.6209 - accuracy: 0.6011 - val_loss: 4.9181 - val_accuracy: 0.1557 - 2s/epoch - 9ms/step\n",
            "Epoch 139/200\n",
            "200/200 - 2s - loss: 1.6153 - accuracy: 0.6018 - val_loss: 4.9405 - val_accuracy: 0.1536 - 2s/epoch - 9ms/step\n",
            "Epoch 140/200\n",
            "200/200 - 2s - loss: 1.6097 - accuracy: 0.6026 - val_loss: 4.9476 - val_accuracy: 0.1519 - 2s/epoch - 9ms/step\n",
            "Epoch 141/200\n",
            "200/200 - 2s - loss: 1.6052 - accuracy: 0.6046 - val_loss: 4.9628 - val_accuracy: 0.1521 - 2s/epoch - 9ms/step\n",
            "Epoch 142/200\n",
            "200/200 - 2s - loss: 1.5983 - accuracy: 0.6079 - val_loss: 4.9860 - val_accuracy: 0.1536 - 2s/epoch - 9ms/step\n",
            "Epoch 143/200\n",
            "200/200 - 2s - loss: 1.5914 - accuracy: 0.6086 - val_loss: 4.9893 - val_accuracy: 0.1548 - 2s/epoch - 9ms/step\n",
            "Epoch 144/200\n",
            "200/200 - 2s - loss: 1.5859 - accuracy: 0.6084 - val_loss: 4.9865 - val_accuracy: 0.1553 - 2s/epoch - 9ms/step\n",
            "Epoch 145/200\n",
            "200/200 - 2s - loss: 1.5805 - accuracy: 0.6115 - val_loss: 5.0009 - val_accuracy: 0.1518 - 2s/epoch - 9ms/step\n",
            "Epoch 146/200\n",
            "200/200 - 2s - loss: 1.5741 - accuracy: 0.6129 - val_loss: 5.0311 - val_accuracy: 0.1545 - 2s/epoch - 9ms/step\n",
            "Epoch 147/200\n",
            "200/200 - 2s - loss: 1.5723 - accuracy: 0.6148 - val_loss: 5.0108 - val_accuracy: 0.1527 - 2s/epoch - 9ms/step\n",
            "Epoch 148/200\n",
            "200/200 - 2s - loss: 1.5655 - accuracy: 0.6155 - val_loss: 5.0423 - val_accuracy: 0.1519 - 2s/epoch - 9ms/step\n",
            "Epoch 149/200\n",
            "200/200 - 2s - loss: 1.5585 - accuracy: 0.6183 - val_loss: 5.0574 - val_accuracy: 0.1514 - 2s/epoch - 9ms/step\n",
            "Epoch 150/200\n",
            "200/200 - 2s - loss: 1.5549 - accuracy: 0.6189 - val_loss: 5.0478 - val_accuracy: 0.1550 - 2s/epoch - 12ms/step\n",
            "Epoch 151/200\n",
            "200/200 - 2s - loss: 1.5492 - accuracy: 0.6208 - val_loss: 5.0771 - val_accuracy: 0.1519 - 2s/epoch - 11ms/step\n",
            "Epoch 152/200\n",
            "200/200 - 3s - loss: 1.5421 - accuracy: 0.6220 - val_loss: 5.0932 - val_accuracy: 0.1547 - 3s/epoch - 13ms/step\n",
            "Epoch 153/200\n",
            "200/200 - 3s - loss: 1.5364 - accuracy: 0.6219 - val_loss: 5.0971 - val_accuracy: 0.1527 - 3s/epoch - 16ms/step\n",
            "Epoch 154/200\n",
            "200/200 - 2s - loss: 1.5343 - accuracy: 0.6225 - val_loss: 5.1208 - val_accuracy: 0.1527 - 2s/epoch - 10ms/step\n",
            "Epoch 155/200\n",
            "200/200 - 2s - loss: 1.5298 - accuracy: 0.6247 - val_loss: 5.1288 - val_accuracy: 0.1526 - 2s/epoch - 12ms/step\n",
            "Epoch 156/200\n",
            "200/200 - 2s - loss: 1.5212 - accuracy: 0.6260 - val_loss: 5.1461 - val_accuracy: 0.1509 - 2s/epoch - 11ms/step\n",
            "Epoch 157/200\n",
            "200/200 - 2s - loss: 1.5190 - accuracy: 0.6271 - val_loss: 5.1535 - val_accuracy: 0.1520 - 2s/epoch - 9ms/step\n",
            "Epoch 158/200\n",
            "200/200 - 2s - loss: 1.5118 - accuracy: 0.6284 - val_loss: 5.1690 - val_accuracy: 0.1498 - 2s/epoch - 12ms/step\n",
            "Epoch 159/200\n",
            "200/200 - 2s - loss: 1.5092 - accuracy: 0.6313 - val_loss: 5.1632 - val_accuracy: 0.1569 - 2s/epoch - 11ms/step\n",
            "Epoch 160/200\n",
            "200/200 - 3s - loss: 1.5044 - accuracy: 0.6306 - val_loss: 5.1814 - val_accuracy: 0.1529 - 3s/epoch - 14ms/step\n",
            "Epoch 161/200\n",
            "200/200 - 2s - loss: 1.4971 - accuracy: 0.6331 - val_loss: 5.1997 - val_accuracy: 0.1492 - 2s/epoch - 10ms/step\n",
            "Epoch 162/200\n",
            "200/200 - 2s - loss: 1.4920 - accuracy: 0.6348 - val_loss: 5.2374 - val_accuracy: 0.1499 - 2s/epoch - 12ms/step\n",
            "Epoch 163/200\n",
            "200/200 - 2s - loss: 1.4883 - accuracy: 0.6335 - val_loss: 5.2177 - val_accuracy: 0.1533 - 2s/epoch - 10ms/step\n",
            "Epoch 164/200\n",
            "200/200 - 2s - loss: 1.4856 - accuracy: 0.6367 - val_loss: 5.2326 - val_accuracy: 0.1502 - 2s/epoch - 9ms/step\n",
            "Epoch 165/200\n",
            "200/200 - 2s - loss: 1.4801 - accuracy: 0.6359 - val_loss: 5.2340 - val_accuracy: 0.1520 - 2s/epoch - 9ms/step\n",
            "Epoch 166/200\n",
            "200/200 - 3s - loss: 1.4753 - accuracy: 0.6377 - val_loss: 5.2535 - val_accuracy: 0.1480 - 3s/epoch - 15ms/step\n",
            "Epoch 167/200\n",
            "200/200 - 3s - loss: 1.4688 - accuracy: 0.6398 - val_loss: 5.2627 - val_accuracy: 0.1489 - 3s/epoch - 13ms/step\n",
            "Epoch 168/200\n",
            "200/200 - 2s - loss: 1.4661 - accuracy: 0.6413 - val_loss: 5.2751 - val_accuracy: 0.1469 - 2s/epoch - 10ms/step\n",
            "Epoch 169/200\n",
            "200/200 - 2s - loss: 1.4599 - accuracy: 0.6396 - val_loss: 5.2806 - val_accuracy: 0.1473 - 2s/epoch - 11ms/step\n",
            "Epoch 170/200\n",
            "200/200 - 2s - loss: 1.4562 - accuracy: 0.6401 - val_loss: 5.2924 - val_accuracy: 0.1492 - 2s/epoch - 11ms/step\n",
            "Epoch 171/200\n",
            "200/200 - 2s - loss: 1.4523 - accuracy: 0.6449 - val_loss: 5.3331 - val_accuracy: 0.1497 - 2s/epoch - 10ms/step\n",
            "Epoch 172/200\n",
            "200/200 - 3s - loss: 1.4462 - accuracy: 0.6458 - val_loss: 5.3189 - val_accuracy: 0.1493 - 3s/epoch - 13ms/step\n",
            "Epoch 173/200\n",
            "200/200 - 2s - loss: 1.4412 - accuracy: 0.6486 - val_loss: 5.3334 - val_accuracy: 0.1496 - 2s/epoch - 10ms/step\n",
            "Epoch 174/200\n",
            "200/200 - 2s - loss: 1.4365 - accuracy: 0.6465 - val_loss: 5.3381 - val_accuracy: 0.1489 - 2s/epoch - 10ms/step\n",
            "Epoch 175/200\n",
            "200/200 - 2s - loss: 1.4359 - accuracy: 0.6486 - val_loss: 5.3681 - val_accuracy: 0.1463 - 2s/epoch - 12ms/step\n",
            "Epoch 176/200\n",
            "200/200 - 3s - loss: 1.4257 - accuracy: 0.6506 - val_loss: 5.3636 - val_accuracy: 0.1502 - 3s/epoch - 14ms/step\n",
            "Epoch 177/200\n",
            "200/200 - 2s - loss: 1.4234 - accuracy: 0.6493 - val_loss: 5.4004 - val_accuracy: 0.1475 - 2s/epoch - 11ms/step\n",
            "Epoch 178/200\n",
            "200/200 - 2s - loss: 1.4214 - accuracy: 0.6532 - val_loss: 5.3795 - val_accuracy: 0.1480 - 2s/epoch - 12ms/step\n",
            "Epoch 179/200\n",
            "200/200 - 2s - loss: 1.4157 - accuracy: 0.6515 - val_loss: 5.4046 - val_accuracy: 0.1474 - 2s/epoch - 9ms/step\n",
            "Epoch 180/200\n",
            "200/200 - 2s - loss: 1.4105 - accuracy: 0.6534 - val_loss: 5.4257 - val_accuracy: 0.1466 - 2s/epoch - 9ms/step\n",
            "Epoch 181/200\n",
            "200/200 - 2s - loss: 1.4049 - accuracy: 0.6557 - val_loss: 5.4354 - val_accuracy: 0.1484 - 2s/epoch - 12ms/step\n",
            "Epoch 182/200\n",
            "200/200 - 2s - loss: 1.3983 - accuracy: 0.6566 - val_loss: 5.4505 - val_accuracy: 0.1454 - 2s/epoch - 12ms/step\n",
            "Epoch 183/200\n",
            "200/200 - 2s - loss: 1.3995 - accuracy: 0.6582 - val_loss: 5.4570 - val_accuracy: 0.1471 - 2s/epoch - 11ms/step\n",
            "Epoch 184/200\n",
            "200/200 - 2s - loss: 1.3928 - accuracy: 0.6575 - val_loss: 5.4765 - val_accuracy: 0.1443 - 2s/epoch - 9ms/step\n",
            "Epoch 185/200\n",
            "200/200 - 2s - loss: 1.3866 - accuracy: 0.6614 - val_loss: 5.4922 - val_accuracy: 0.1488 - 2s/epoch - 9ms/step\n",
            "Epoch 186/200\n",
            "200/200 - 2s - loss: 1.3823 - accuracy: 0.6617 - val_loss: 5.4861 - val_accuracy: 0.1452 - 2s/epoch - 9ms/step\n",
            "Epoch 187/200\n",
            "200/200 - 2s - loss: 1.3775 - accuracy: 0.6612 - val_loss: 5.5024 - val_accuracy: 0.1503 - 2s/epoch - 9ms/step\n",
            "Epoch 188/200\n",
            "200/200 - 2s - loss: 1.3753 - accuracy: 0.6614 - val_loss: 5.5180 - val_accuracy: 0.1499 - 2s/epoch - 9ms/step\n",
            "Epoch 189/200\n",
            "200/200 - 2s - loss: 1.3724 - accuracy: 0.6620 - val_loss: 5.5370 - val_accuracy: 0.1454 - 2s/epoch - 9ms/step\n",
            "Epoch 190/200\n",
            "200/200 - 2s - loss: 1.3680 - accuracy: 0.6645 - val_loss: 5.5303 - val_accuracy: 0.1443 - 2s/epoch - 11ms/step\n",
            "Epoch 191/200\n",
            "200/200 - 2s - loss: 1.3632 - accuracy: 0.6660 - val_loss: 5.5526 - val_accuracy: 0.1429 - 2s/epoch - 12ms/step\n",
            "Epoch 192/200\n",
            "200/200 - 2s - loss: 1.3582 - accuracy: 0.6673 - val_loss: 5.5664 - val_accuracy: 0.1454 - 2s/epoch - 9ms/step\n",
            "Epoch 193/200\n",
            "200/200 - 2s - loss: 1.3562 - accuracy: 0.6676 - val_loss: 5.5762 - val_accuracy: 0.1476 - 2s/epoch - 9ms/step\n",
            "Epoch 194/200\n",
            "200/200 - 2s - loss: 1.3522 - accuracy: 0.6688 - val_loss: 5.5754 - val_accuracy: 0.1450 - 2s/epoch - 9ms/step\n",
            "Epoch 195/200\n",
            "200/200 - 2s - loss: 1.3463 - accuracy: 0.6697 - val_loss: 5.6007 - val_accuracy: 0.1445 - 2s/epoch - 10ms/step\n",
            "Epoch 196/200\n",
            "200/200 - 2s - loss: 1.3393 - accuracy: 0.6725 - val_loss: 5.6166 - val_accuracy: 0.1436 - 2s/epoch - 9ms/step\n",
            "Epoch 197/200\n",
            "200/200 - 2s - loss: 1.3400 - accuracy: 0.6718 - val_loss: 5.6418 - val_accuracy: 0.1435 - 2s/epoch - 9ms/step\n",
            "Epoch 198/200\n",
            "200/200 - 2s - loss: 1.3350 - accuracy: 0.6743 - val_loss: 5.6363 - val_accuracy: 0.1424 - 2s/epoch - 9ms/step\n",
            "Epoch 199/200\n",
            "200/200 - 2s - loss: 1.3290 - accuracy: 0.6744 - val_loss: 5.6430 - val_accuracy: 0.1451 - 2s/epoch - 10ms/step\n",
            "Epoch 200/200\n",
            "200/200 - 2s - loss: 1.3262 - accuracy: 0.6756 - val_loss: 5.6518 - val_accuracy: 0.1431 - 2s/epoch - 9ms/step\n",
            "1563/1563 [==============================] - 3s 2ms/step\n",
            "confusion_matrix(C): tf.Tensor(\n",
            "[[370   3   1 ...   0   3   1]\n",
            " [  8 290   2 ...   0   1   1]\n",
            " [  1   1 277 ...   4  15   2]\n",
            " ...\n",
            " [  0   1   4 ... 274   2   3]\n",
            " [  2   2  13 ...   1 289   3]\n",
            " [  0   2   4 ...   2   5 203]], shape=(100, 100), dtype=int32)\n",
            "1563/1563 - 2s - loss: 2.1265 - accuracy: 0.5894 - 2s/epoch - 2ms/step\n",
            "313/313 - 1s - loss: 5.6654 - accuracy: 0.1501 - 732ms/epoch - 2ms/step\n"
          ]
        },
        {
          "output_type": "display_data",
          "data": {
            "text/plain": [
              "<Figure size 720x432 with 2 Axes>"
            ],
            "image/png": "[encoded data removed]"
          },
          "metadata": {
            "needs_background": "light"
          }
        }
      ]
    },
    {
      "cell_type": "markdown",
      "source": [
        "# 6.3 텍스트 데이터셋"
      ],
      "metadata": {
        "id": "F4dRqIwTWJiZ"
      }
    },
    {
      "cell_type": "markdown",
      "source": [
        "## 6.3.0 텍스트 데이터 전처리\n",
        "\n",
        "* tokenize\n",
        "* padding\n",
        "* word embedding"
      ],
      "metadata": {
        "id": "4EvoK9HrRffd"
      }
    },
    {
      "cell_type": "code",
      "source": [
        "import tensorflow as tf\n",
        "\n",
        "# BTS 의 butter 가사\n",
        "\n",
        "butter = \"\"\"\n",
        "Smooth like butter/\n",
        "Like a criminal undercover/\n",
        "Gon' pop like trouble/\n",
        "Breakin' into your heart like that/\n",
        "Cool shade stunner/\n",
        "Yeah, I owe it all to my mother/\n",
        "Hot like summer/\n",
        "Yeah, I'm makin' you sweat like that/\n",
        "Break it down/\n",
        "\"\"\"\n",
        "print(butter.split(\"/\"))\n",
        "butter = butter.split(\"/\")\n",
        "butter = [line.split() for line in butter]\n",
        "butter"
      ],
      "metadata": {
        "id": "Pl9D0KzpKl3C",
        "colab": {
          "base_uri": "https://localhost:8080/"
        },
        "outputId": "677329d1-f591-4694-fb3d-ade17582f57a"
      },
      "execution_count": null,
      "outputs": [
        {
          "output_type": "stream",
          "name": "stdout",
          "text": [
            "['\\nSmooth like butter', '\\nLike a criminal undercover', \"\\nGon' pop like trouble\", \"\\nBreakin' into your heart like that\", '\\nCool shade stunner', '\\nYeah, I owe it all to my mother', '\\nHot like summer', \"\\nYeah, I'm makin' you sweat like that\", '\\nBreak it down', '\\n']\n"
          ]
        },
        {
          "output_type": "execute_result",
          "data": {
            "text/plain": [
              "[['Smooth', 'like', 'butter'],\n",
              " ['Like', 'a', 'criminal', 'undercover'],\n",
              " [\"Gon'\", 'pop', 'like', 'trouble'],\n",
              " [\"Breakin'\", 'into', 'your', 'heart', 'like', 'that'],\n",
              " ['Cool', 'shade', 'stunner'],\n",
              " ['Yeah,', 'I', 'owe', 'it', 'all', 'to', 'my', 'mother'],\n",
              " ['Hot', 'like', 'summer'],\n",
              " ['Yeah,', \"I'm\", \"makin'\", 'you', 'sweat', 'like', 'that'],\n",
              " ['Break', 'it', 'down'],\n",
              " []]"
            ]
          },
          "metadata": {},
          "execution_count": 1
        }
      ]
    },
    {
      "cell_type": "code",
      "source": [
        "# 학습에 사용할 단어장을 만들어 보자!\n",
        "tokenizer1 = tf.keras.preprocessing.text.Tokenizer()\n",
        "\n",
        "# Updates internal vocabulary based on a list of sequences.\n",
        "tokenizer1.fit_on_texts(butter)\n",
        "print('tokenizer1.index_docs', tokenizer1.index_docs)\n",
        "print('tokenizer1.index_word', tokenizer1.index_word)\n",
        "print('tokenizer1.word_index', tokenizer1.word_index)\n",
        "print('tokenizer1.word_docs', tokenizer1.word_docs)\n",
        "print('tokenizer1.word_counts', tokenizer1.word_counts)\n",
        "print('tokenizer1.word_counts', sorted(tokenizer1.word_counts.items(), key=lambda x: x[1], reverse=True))\n"
      ],
      "metadata": {
        "colab": {
          "base_uri": "https://localhost:8080/"
        },
        "id": "--xvI3phIIUh",
        "outputId": "ba2d167c-2550-4d79-e85c-469bf4735bb3"
      },
      "execution_count": null,
      "outputs": [
        {
          "output_type": "stream",
          "name": "stdout",
          "text": [
            "tokenizer1.index_docs defaultdict(<class 'int'>, {5: 1, 6: 1, 1: 6, 9: 1, 7: 1, 8: 1, 11: 1, 12: 1, 10: 1, 14: 1, 2: 2, 16: 1, 15: 1, 13: 1, 17: 1, 19: 1, 18: 1, 3: 2, 23: 1, 20: 1, 22: 1, 25: 1, 4: 2, 24: 1, 21: 1, 26: 1, 27: 1, 29: 1, 30: 1, 28: 1, 31: 1, 32: 1, 33: 1})\n",
            "tokenizer1.index_word {1: 'like', 2: 'that', 3: 'yeah,', 4: 'it', 5: 'smooth', 6: 'butter', 7: 'a', 8: 'criminal', 9: 'undercover', 10: \"gon'\", 11: 'pop', 12: 'trouble', 13: \"breakin'\", 14: 'into', 15: 'your', 16: 'heart', 17: 'cool', 18: 'shade', 19: 'stunner', 20: 'i', 21: 'owe', 22: 'all', 23: 'to', 24: 'my', 25: 'mother', 26: 'hot', 27: 'summer', 28: \"i'm\", 29: \"makin'\", 30: 'you', 31: 'sweat', 32: 'break', 33: 'down'}\n",
            "tokenizer1.word_index {'like': 1, 'that': 2, 'yeah,': 3, 'it': 4, 'smooth': 5, 'butter': 6, 'a': 7, 'criminal': 8, 'undercover': 9, \"gon'\": 10, 'pop': 11, 'trouble': 12, \"breakin'\": 13, 'into': 14, 'your': 15, 'heart': 16, 'cool': 17, 'shade': 18, 'stunner': 19, 'i': 20, 'owe': 21, 'all': 22, 'to': 23, 'my': 24, 'mother': 25, 'hot': 26, 'summer': 27, \"i'm\": 28, \"makin'\": 29, 'you': 30, 'sweat': 31, 'break': 32, 'down': 33}\n",
            "tokenizer1.word_docs defaultdict(<class 'int'>, {'smooth': 1, 'butter': 1, 'like': 6, 'undercover': 1, 'a': 1, 'criminal': 1, 'pop': 1, 'trouble': 1, \"gon'\": 1, 'into': 1, 'that': 2, 'heart': 1, 'your': 1, \"breakin'\": 1, 'cool': 1, 'stunner': 1, 'shade': 1, 'yeah,': 2, 'to': 1, 'i': 1, 'all': 1, 'mother': 1, 'it': 2, 'my': 1, 'owe': 1, 'hot': 1, 'summer': 1, \"makin'\": 1, 'you': 1, \"i'm\": 1, 'sweat': 1, 'break': 1, 'down': 1})\n",
            "tokenizer1.word_counts OrderedDict([('smooth', 1), ('like', 6), ('butter', 1), ('a', 1), ('criminal', 1), ('undercover', 1), (\"gon'\", 1), ('pop', 1), ('trouble', 1), (\"breakin'\", 1), ('into', 1), ('your', 1), ('heart', 1), ('that', 2), ('cool', 1), ('shade', 1), ('stunner', 1), ('yeah,', 2), ('i', 1), ('owe', 1), ('it', 2), ('all', 1), ('to', 1), ('my', 1), ('mother', 1), ('hot', 1), ('summer', 1), (\"i'm\", 1), (\"makin'\", 1), ('you', 1), ('sweat', 1), ('break', 1), ('down', 1)])\n",
            "tokenizer1.word_counts [('like', 6), ('that', 2), ('yeah,', 2), ('it', 2), ('smooth', 1), ('butter', 1), ('a', 1), ('criminal', 1), ('undercover', 1), (\"gon'\", 1), ('pop', 1), ('trouble', 1), (\"breakin'\", 1), ('into', 1), ('your', 1), ('heart', 1), ('cool', 1), ('shade', 1), ('stunner', 1), ('i', 1), ('owe', 1), ('all', 1), ('to', 1), ('my', 1), ('mother', 1), ('hot', 1), ('summer', 1), (\"i'm\", 1), (\"makin'\", 1), ('you', 1), ('sweat', 1), ('break', 1), ('down', 1)]\n"
          ]
        }
      ]
    },
    {
      "cell_type": "code",
      "source": [
        "# 단어장을 이용해 butter 가사를 숫자로 변경해 보자!\n",
        "encoded_butter=tokenizer1.texts_to_sequences(butter)\n",
        "tokenizer1.texts_to_sequences(butter)"
      ],
      "metadata": {
        "colab": {
          "base_uri": "https://localhost:8080/"
        },
        "id": "45omaaOh5lRA",
        "outputId": "8f4ca9a8-c98b-4d89-90e9-bce97a0ba808"
      },
      "execution_count": null,
      "outputs": [
        {
          "output_type": "execute_result",
          "data": {
            "text/plain": [
              "[[5, 1, 6],\n",
              " [1, 7, 8, 9],\n",
              " [10, 11, 1, 12],\n",
              " [13, 14, 15, 16, 1, 2],\n",
              " [17, 18, 19],\n",
              " [3, 20, 21, 4, 22, 23, 24, 25],\n",
              " [26, 1, 27],\n",
              " [3, 28, 29, 30, 31, 1, 2],\n",
              " [32, 4, 33],\n",
              " []]"
            ]
          },
          "metadata": {},
          "execution_count": 21
        }
      ]
    },
    {
      "cell_type": "code",
      "source": [
        "# OOV: Out-Of-Vocabulary\n",
        "# 사전에서 빈도수 높은 단어 5개만 사용\n",
        "# 사전에 없는 단어는? <OOV> 처리!\n",
        "tokenizer1 = tf.keras.preprocessing.text.Tokenizer(num_words=5, oov_token='<OOV>')\n",
        "tokenizer1.fit_on_texts(butter)\n",
        "print('tokenizer1.index_docs', tokenizer1.index_docs)\n",
        "print('tokenizer1.index_word', tokenizer1.index_word)\n",
        "print('tokenizer1.word_index', tokenizer1.word_index)\n",
        "encoded_butter = tokenizer1.texts_to_sequences(butter)\n",
        "encoded_butter"
      ],
      "metadata": {
        "id": "Ha10JAg6SvBS",
        "colab": {
          "base_uri": "https://localhost:8080/"
        },
        "outputId": "ae7e31bc-e22f-4fbd-a421-bba8dff3a1d6"
      },
      "execution_count": null,
      "outputs": [
        {
          "output_type": "stream",
          "name": "stdout",
          "text": [
            "tokenizer1.index_docs defaultdict(<class 'int'>, {6: 1, 7: 1, 2: 6, 10: 1, 8: 1, 9: 1, 12: 1, 13: 1, 11: 1, 15: 1, 3: 2, 17: 1, 16: 1, 14: 1, 18: 1, 20: 1, 19: 1, 4: 2, 24: 1, 21: 1, 23: 1, 26: 1, 5: 2, 25: 1, 22: 1, 27: 1, 28: 1, 30: 1, 31: 1, 29: 1, 32: 1, 33: 1, 34: 1})\n",
            "tokenizer1.index_word {1: '<OOV>', 2: 'like', 3: 'that', 4: 'yeah,', 5: 'it', 6: 'smooth', 7: 'butter', 8: 'a', 9: 'criminal', 10: 'undercover', 11: \"gon'\", 12: 'pop', 13: 'trouble', 14: \"breakin'\", 15: 'into', 16: 'your', 17: 'heart', 18: 'cool', 19: 'shade', 20: 'stunner', 21: 'i', 22: 'owe', 23: 'all', 24: 'to', 25: 'my', 26: 'mother', 27: 'hot', 28: 'summer', 29: \"i'm\", 30: \"makin'\", 31: 'you', 32: 'sweat', 33: 'break', 34: 'down'}\n",
            "tokenizer1.word_index {'<OOV>': 1, 'like': 2, 'that': 3, 'yeah,': 4, 'it': 5, 'smooth': 6, 'butter': 7, 'a': 8, 'criminal': 9, 'undercover': 10, \"gon'\": 11, 'pop': 12, 'trouble': 13, \"breakin'\": 14, 'into': 15, 'your': 16, 'heart': 17, 'cool': 18, 'shade': 19, 'stunner': 20, 'i': 21, 'owe': 22, 'all': 23, 'to': 24, 'my': 25, 'mother': 26, 'hot': 27, 'summer': 28, \"i'm\": 29, \"makin'\": 30, 'you': 31, 'sweat': 32, 'break': 33, 'down': 34}\n"
          ]
        },
        {
          "output_type": "execute_result",
          "data": {
            "text/plain": [
              "[[1, 2, 1],\n",
              " [2, 1, 1, 1],\n",
              " [1, 1, 2, 1],\n",
              " [1, 1, 1, 1, 2, 3],\n",
              " [1, 1, 1],\n",
              " [4, 1, 1, 1, 1, 1, 1, 1],\n",
              " [1, 2, 1],\n",
              " [4, 1, 1, 1, 1, 2, 3],\n",
              " [1, 1, 1],\n",
              " []]"
            ]
          },
          "metadata": {},
          "execution_count": 11
        }
      ]
    },
    {
      "cell_type": "code",
      "source": [
        "# 문장의 길이가 다르므로 일치시켜 보자! \n",
        "# (MNIST 이미지 데이터의 모양은 모두 28 x 28)\n",
        "from tensorflow.keras.preprocessing.sequence import pad_sequences\n",
        "encoded_butter=pad_sequences(encoded_butter)\n",
        "pad_sequences(encoded_butter)\n",
        "#pad_sequences(encoded_butter, padding='post')"
      ],
      "metadata": {
        "colab": {
          "base_uri": "https://localhost:8080/"
        },
        "id": "FqeSNWruIitv",
        "outputId": "45b8f85d-c16a-437c-97cb-f6f90e5194db"
      },
      "execution_count": null,
      "outputs": [
        {
          "output_type": "execute_result",
          "data": {
            "text/plain": [
              "array([[ 0,  0,  0,  0,  0,  5,  1,  6],\n",
              "       [ 0,  0,  0,  0,  1,  7,  8,  9],\n",
              "       [ 0,  0,  0,  0, 10, 11,  1, 12],\n",
              "       [ 0,  0, 13, 14, 15, 16,  1,  2],\n",
              "       [ 0,  0,  0,  0,  0, 17, 18, 19],\n",
              "       [ 3, 20, 21,  4, 22, 23, 24, 25],\n",
              "       [ 0,  0,  0,  0,  0, 26,  1, 27],\n",
              "       [ 0,  3, 28, 29, 30, 31,  1,  2],\n",
              "       [ 0,  0,  0,  0,  0, 32,  4, 33],\n",
              "       [ 0,  0,  0,  0,  0,  0,  0,  0]], dtype=int32)"
            ]
          },
          "metadata": {},
          "execution_count": 24
        }
      ]
    },
    {
      "cell_type": "code",
      "source": [
        "pad_sequences(encoded_butter, maxlen=6)"
      ],
      "metadata": {
        "colab": {
          "base_uri": "https://localhost:8080/"
        },
        "id": "gvA2_13uKdqA",
        "outputId": "3440af14-f65a-472c-ace4-cb7ab1b9bc98"
      },
      "execution_count": null,
      "outputs": [
        {
          "output_type": "execute_result",
          "data": {
            "text/plain": [
              "array([[ 0,  0,  0,  5,  1,  6],\n",
              "       [ 0,  0,  1,  7,  8,  9],\n",
              "       [ 0,  0, 10, 11,  1, 12],\n",
              "       [13, 14, 15, 16,  1,  2],\n",
              "       [ 0,  0,  0, 17, 18, 19],\n",
              "       [21,  4, 22, 23, 24, 25],\n",
              "       [ 0,  0,  0, 26,  1, 27],\n",
              "       [28, 29, 30, 31,  1,  2],\n",
              "       [ 0,  0,  0, 32,  4, 33],\n",
              "       [ 0,  0,  0,  0,  0,  0]], dtype=int32)"
            ]
          },
          "metadata": {},
          "execution_count": 23
        }
      ]
    },
    {
      "cell_type": "code",
      "source": [
        "# Dense Layer 에 입력으로 사용해 보자!\n",
        "# one-hot encoding\n",
        "from tensorflow.keras.utils import to_categorical\n",
        "to_categorical(encoded_butter[0])"
      ],
      "metadata": {
        "colab": {
          "base_uri": "https://localhost:8080/"
        },
        "id": "QGflC1tLK32z",
        "outputId": "a6effc08-973e-427b-aa34-ff36880a1daf"
      },
      "execution_count": null,
      "outputs": [
        {
          "output_type": "execute_result",
          "data": {
            "text/plain": [
              "array([[1., 0., 0., 0., 0., 0., 0.],\n",
              "       [1., 0., 0., 0., 0., 0., 0.],\n",
              "       [1., 0., 0., 0., 0., 0., 0.],\n",
              "       [1., 0., 0., 0., 0., 0., 0.],\n",
              "       [1., 0., 0., 0., 0., 0., 0.],\n",
              "       [0., 0., 0., 0., 0., 1., 0.],\n",
              "       [0., 1., 0., 0., 0., 0., 0.],\n",
              "       [0., 0., 0., 0., 0., 0., 1.]], dtype=float32)"
            ]
          },
          "metadata": {},
          "execution_count": 26
        }
      ]
    },
    {
      "cell_type": "markdown",
      "source": [
        "## Lab 006\n",
        "\n",
        "> 문제 12\n",
        "---\n",
        "1. 주어진 danawa 맥북 리뷰를 데이터를 tensorflow 를 이용하여 텍스트 전처리 합니다.\n",
        "2. 먼저, 빈도가 포함된 단어 사전을 구축합니다.\n",
        "3. 주어진 문장을 단어 사전의 인덱스(숫자)로 변경합니다.\n",
        "4. 숫자로 변경한 문장의 길이를 동일하게 맞춥니다.(패딩)\n",
        "5. 주어진 문장을 one-hot 인코딩 합니다.\n",
        "\n",
        "\n",
        "**제출**\n",
        "\n",
        "구현한 코드가 담긴 colab 파일을 PLATO \"텐서플로 LAB 제출하기 게시판\"에 비밀글로 제출하세요.\n",
        "\n",
        "제목양식: [Lab 006 - 문제 12]\n"
      ],
      "metadata": {
        "id": "D9lzuw-bkMeX"
      }
    },
    {
      "cell_type": "code",
      "source": [
        "reviews = [\n",
        "    \"8년 정도 사용하던 맥북을 바꿔줬어요. 요즘 휴대폰, 패드가 너무 잘나와서 맥북 쓸 일은 그렇게 많이 없긴 한데 그래도 없으면 불편하니 기변합니다. 프로 13인치 깡통은 에어에 비해 망작이라고들 말하는데 120만원대에 22개월 무이자라면 말이 다르죠ㅎㅎ 불편하다던 터치바도 생각보다 편리한 기능들이 많아서 꽤 마음에 듭니다. 터치 아이디도 편하구요. 전 모델은 팬이 없어서 발열이 심했는데 역시 팬이 있으니 발열도 심하지 않고 좋아요. 쾌적합니다.\",\n",
        "    \"어제밤11시50분이 넘어서 주문했는데 오늘오후3시에 받았어요^^배송 너무 빨라서 놀랐고 가격도 할인을 정말 많이 받아서 저렴하게 구입했어요^^ 물건은 말할것도 없이 포장도 꼼꼼하고 아들이 정말 좋아해요^^ 잘쓰겠습니다~ 대박나시고 건강하세요^ 감사합니다\",\n",
        "    \"맥북 사실때 주의 하셔야할 사항이 본체에 미세한 전기가 흐르는 사항 입니다. 이유는 접지가 없어서 그렇다고 하네요. 추가로 접지 가능한 플러그를 구매 하셔야 합니다. ㅠㅠ\",\n",
        "    \"하이마트는 배송이 빨라서 좋다 기대도 안했는데 빨리 옴 하이마트는 전국 하이마트 지점 재고 네트워크가 잘 되어 있어서 그래서 더 빠른 듯 굿굿 애플은 하이마트\",\n",
        "    \"구형 맥북 배터리 교환때문에 고민을 하던 찰나에 좋은 가격에 잘 구입했습니다. 역시 11번가 입니다\",\n",
        "    \"슈팅 배송 맞구요. 스페이스그레이 가볍지 않고 너무 예뻐요. 그랜드11절 기다린 보람이 있네요.\",\n",
        "    \"인터넷 서핑 동영상 음악 감상용으로 나쁘지않아요대신 영상작업이나 포토샵하기엔 아쉽습니다.\",\n",
        "    \"배송도 진짜 빠르고 정말 좋습니다 추천 드려요\",\n",
        "    \"좋은상품 저렴하게 잘 구매했습니다 감사합니다\",\n",
        "    \"역시 맥북 최고입니다!!\",\n",
        "    \"빠른배송에 만족합니다 잘 사용할게요\",\n",
        "    \"오 너무 잘샀아요강추해요!\"\n",
        "]\n",
        "reviews = [line.split() for line in reviews]\n",
        "tokenizer = tf.keras.preprocessing.text.Tokenizer()\n",
        "\n",
        "# Updates internal vocabulary based on a list of sequences.\n",
        "tokenizer.fit_on_texts(reviews)\n",
        "print('tokenizer.index_word', tokenizer.index_word)\n",
        "print('tokenizer.word_index', tokenizer.word_index)\n",
        "encoded_reviews=tokenizer.texts_to_sequences(reviews)\n",
        "encoded_reviews=tf.keras.preprocessing.sequence.pad_sequences(encoded_reviews)\n",
        "for review in encoded_reviews:\n",
        "  print(tf.keras.utils.to_categorical(review))"
      ],
      "metadata": {
        "colab": {
          "base_uri": "https://localhost:8080/"
        },
        "id": "CR-q5L4Dk6pN",
        "outputId": "bf7c07cd-6b00-4966-dcd0-ed9606c9640e"
      },
      "execution_count": null,
      "outputs": [
        {
          "output_type": "stream",
          "name": "stdout",
          "text": [
            "tokenizer.index_word {1: '너무', 2: '맥북', 3: '잘', 4: '역시', 5: '정말', 6: '많이', 7: '팬이', 8: '없어서', 9: '않고', 10: '빨라서', 11: '저렴하게', 12: '감사합니다', 13: '하이마트는', 14: '하이마트', 15: '8년', 16: '정도', 17: '사용하던', 18: '맥북을', 19: '바꿔줬어요.', 20: '요즘', 21: '휴대폰,', 22: '패드가', 23: '잘나와서', 24: '쓸', 25: '일은', 26: '그렇게', 27: '없긴', 28: '한데', 29: '그래도', 30: '없으면', 31: '불편하니', 32: '기변합니다.', 33: '프로', 34: '13인치', 35: '깡통은', 36: '에어에', 37: '비해', 38: '망작이라고들', 39: '말하는데', 40: '120만원대에', 41: '22개월', 42: '무이자라면', 43: '말이', 44: '다르죠ㅎㅎ', 45: '불편하다던', 46: '터치바도', 47: '생각보다', 48: '편리한', 49: '기능들이', 50: '많아서', 51: '꽤', 52: '마음에', 53: '듭니다.', 54: '터치', 55: '아이디도', 56: '편하구요.', 57: '전', 58: '모델은', 59: '발열이', 60: '심했는데', 61: '있으니', 62: '발열도', 63: '심하지', 64: '좋아요.', 65: '쾌적합니다.', 66: '어제밤11시50분이', 67: '넘어서', 68: '주문했는데', 69: '오늘오후3시에', 70: '받았어요^^배송', 71: '놀랐고', 72: '가격도', 73: '할인을', 74: '받아서', 75: '구입했어요^^', 76: '물건은', 77: '말할것도', 78: '없이', 79: '포장도', 80: '꼼꼼하고', 81: '아들이', 82: '좋아해요^^', 83: '잘쓰겠습니다~', 84: '대박나시고', 85: '건강하세요^', 86: '사실때', 87: '주의', 88: '하셔야할', 89: '사항이', 90: '본체에', 91: '미세한', 92: '전기가', 93: '흐르는', 94: '사항', 95: '입니다.', 96: '이유는', 97: '접지가', 98: '그렇다고', 99: '하네요.', 100: '추가로', 101: '접지', 102: '가능한', 103: '플러그를', 104: '구매', 105: '하셔야', 106: '합니다.', 107: 'ㅠㅠ', 108: '배송이', 109: '좋다', 110: '기대도', 111: '안했는데', 112: '빨리', 113: '옴', 114: '전국', 115: '지점', 116: '재고', 117: '네트워크가', 118: '되어', 119: '있어서', 120: '그래서', 121: '더', 122: '빠른', 123: '듯', 124: '굿굿', 125: '애플은', 126: '구형', 127: '배터리', 128: '교환때문에', 129: '고민을', 130: '하던', 131: '찰나에', 132: '좋은', 133: '가격에', 134: '구입했습니다.', 135: '11번가', 136: '입니다', 137: '슈팅', 138: '배송', 139: '맞구요.', 140: '스페이스그레이', 141: '가볍지', 142: '예뻐요.', 143: '그랜드11절', 144: '기다린', 145: '보람이', 146: '있네요.', 147: '인터넷', 148: '서핑', 149: '동영상', 150: '음악', 151: '감상용으로', 152: '나쁘지않아요대신', 153: '영상작업이나', 154: '포토샵하기엔', 155: '아쉽습니다.', 156: '배송도', 157: '진짜', 158: '빠르고', 159: '좋습니다', 160: '추천', 161: '드려요', 162: '좋은상품', 163: '구매했습니다', 164: '최고입니다!!', 165: '빠른배송에', 166: '만족합니다', 167: '사용할게요', 168: '오', 169: '잘샀아요강추해요!'}\n",
            "tokenizer.word_index {'너무': 1, '맥북': 2, '잘': 3, '역시': 4, '정말': 5, '많이': 6, '팬이': 7, '없어서': 8, '않고': 9, '빨라서': 10, '저렴하게': 11, '감사합니다': 12, '하이마트는': 13, '하이마트': 14, '8년': 15, '정도': 16, '사용하던': 17, '맥북을': 18, '바꿔줬어요.': 19, '요즘': 20, '휴대폰,': 21, '패드가': 22, '잘나와서': 23, '쓸': 24, '일은': 25, '그렇게': 26, '없긴': 27, '한데': 28, '그래도': 29, '없으면': 30, '불편하니': 31, '기변합니다.': 32, '프로': 33, '13인치': 34, '깡통은': 35, '에어에': 36, '비해': 37, '망작이라고들': 38, '말하는데': 39, '120만원대에': 40, '22개월': 41, '무이자라면': 42, '말이': 43, '다르죠ㅎㅎ': 44, '불편하다던': 45, '터치바도': 46, '생각보다': 47, '편리한': 48, '기능들이': 49, '많아서': 50, '꽤': 51, '마음에': 52, '듭니다.': 53, '터치': 54, '아이디도': 55, '편하구요.': 56, '전': 57, '모델은': 58, '발열이': 59, '심했는데': 60, '있으니': 61, '발열도': 62, '심하지': 63, '좋아요.': 64, '쾌적합니다.': 65, '어제밤11시50분이': 66, '넘어서': 67, '주문했는데': 68, '오늘오후3시에': 69, '받았어요^^배송': 70, '놀랐고': 71, '가격도': 72, '할인을': 73, '받아서': 74, '구입했어요^^': 75, '물건은': 76, '말할것도': 77, '없이': 78, '포장도': 79, '꼼꼼하고': 80, '아들이': 81, '좋아해요^^': 82, '잘쓰겠습니다~': 83, '대박나시고': 84, '건강하세요^': 85, '사실때': 86, '주의': 87, '하셔야할': 88, '사항이': 89, '본체에': 90, '미세한': 91, '전기가': 92, '흐르는': 93, '사항': 94, '입니다.': 95, '이유는': 96, '접지가': 97, '그렇다고': 98, '하네요.': 99, '추가로': 100, '접지': 101, '가능한': 102, '플러그를': 103, '구매': 104, '하셔야': 105, '합니다.': 106, 'ㅠㅠ': 107, '배송이': 108, '좋다': 109, '기대도': 110, '안했는데': 111, '빨리': 112, '옴': 113, '전국': 114, '지점': 115, '재고': 116, '네트워크가': 117, '되어': 118, '있어서': 119, '그래서': 120, '더': 121, '빠른': 122, '듯': 123, '굿굿': 124, '애플은': 125, '구형': 126, '배터리': 127, '교환때문에': 128, '고민을': 129, '하던': 130, '찰나에': 131, '좋은': 132, '가격에': 133, '구입했습니다.': 134, '11번가': 135, '입니다': 136, '슈팅': 137, '배송': 138, '맞구요.': 139, '스페이스그레이': 140, '가볍지': 141, '예뻐요.': 142, '그랜드11절': 143, '기다린': 144, '보람이': 145, '있네요.': 146, '인터넷': 147, '서핑': 148, '동영상': 149, '음악': 150, '감상용으로': 151, '나쁘지않아요대신': 152, '영상작업이나': 153, '포토샵하기엔': 154, '아쉽습니다.': 155, '배송도': 156, '진짜': 157, '빠르고': 158, '좋습니다': 159, '추천': 160, '드려요': 161, '좋은상품': 162, '구매했습니다': 163, '최고입니다!!': 164, '빠른배송에': 165, '만족합니다': 166, '사용할게요': 167, '오': 168, '잘샀아요강추해요!': 169}\n",
            "[[0. 0. 0. ... 0. 0. 0.]\n",
            " [0. 0. 0. ... 0. 0. 0.]\n",
            " [0. 0. 0. ... 0. 0. 0.]\n",
            " ...\n",
            " [0. 0. 0. ... 0. 0. 0.]\n",
            " [0. 0. 0. ... 0. 1. 0.]\n",
            " [0. 0. 0. ... 0. 0. 1.]]\n",
            "[[1. 0. 0. ... 0. 0. 0.]\n",
            " [1. 0. 0. ... 0. 0. 0.]\n",
            " [1. 0. 0. ... 0. 0. 0.]\n",
            " ...\n",
            " [0. 0. 0. ... 0. 1. 0.]\n",
            " [0. 0. 0. ... 0. 0. 1.]\n",
            " [0. 0. 0. ... 0. 0. 0.]]\n",
            "[[1. 0. 0. ... 0. 0. 0.]\n",
            " [1. 0. 0. ... 0. 0. 0.]\n",
            " [1. 0. 0. ... 0. 0. 0.]\n",
            " ...\n",
            " [0. 0. 0. ... 1. 0. 0.]\n",
            " [0. 0. 0. ... 0. 1. 0.]\n",
            " [0. 0. 0. ... 0. 0. 1.]]\n",
            "[[1. 0. 0. ... 0. 0. 0.]\n",
            " [1. 0. 0. ... 0. 0. 0.]\n",
            " [1. 0. 0. ... 0. 0. 0.]\n",
            " ...\n",
            " [0. 0. 0. ... 0. 1. 0.]\n",
            " [0. 0. 0. ... 0. 0. 1.]\n",
            " [0. 0. 0. ... 0. 0. 0.]]\n",
            "[[1. 0. 0. ... 0. 0. 0.]\n",
            " [1. 0. 0. ... 0. 0. 0.]\n",
            " [1. 0. 0. ... 0. 0. 0.]\n",
            " ...\n",
            " [0. 0. 0. ... 0. 0. 0.]\n",
            " [0. 0. 0. ... 0. 1. 0.]\n",
            " [0. 0. 0. ... 0. 0. 1.]]\n",
            "[[1. 0. 0. ... 0. 0. 0.]\n",
            " [1. 0. 0. ... 0. 0. 0.]\n",
            " [1. 0. 0. ... 0. 0. 0.]\n",
            " ...\n",
            " [0. 0. 0. ... 1. 0. 0.]\n",
            " [0. 0. 0. ... 0. 1. 0.]\n",
            " [0. 0. 0. ... 0. 0. 1.]]\n",
            "[[1. 0. 0. ... 0. 0. 0.]\n",
            " [1. 0. 0. ... 0. 0. 0.]\n",
            " [1. 0. 0. ... 0. 0. 0.]\n",
            " ...\n",
            " [0. 0. 0. ... 1. 0. 0.]\n",
            " [0. 0. 0. ... 0. 1. 0.]\n",
            " [0. 0. 0. ... 0. 0. 1.]]\n",
            "[[1. 0. 0. ... 0. 0. 0.]\n",
            " [1. 0. 0. ... 0. 0. 0.]\n",
            " [1. 0. 0. ... 0. 0. 0.]\n",
            " ...\n",
            " [0. 0. 0. ... 1. 0. 0.]\n",
            " [0. 0. 0. ... 0. 1. 0.]\n",
            " [0. 0. 0. ... 0. 0. 1.]]\n",
            "[[1. 0. 0. ... 0. 0. 0.]\n",
            " [1. 0. 0. ... 0. 0. 0.]\n",
            " [1. 0. 0. ... 0. 0. 0.]\n",
            " ...\n",
            " [0. 0. 0. ... 0. 0. 0.]\n",
            " [0. 0. 0. ... 0. 0. 1.]\n",
            " [0. 0. 0. ... 0. 0. 0.]]\n",
            "[[1. 0. 0. ... 0. 0. 0.]\n",
            " [1. 0. 0. ... 0. 0. 0.]\n",
            " [1. 0. 0. ... 0. 0. 0.]\n",
            " ...\n",
            " [0. 0. 0. ... 0. 0. 0.]\n",
            " [0. 0. 1. ... 0. 0. 0.]\n",
            " [0. 0. 0. ... 0. 0. 1.]]\n",
            "[[1. 0. 0. ... 0. 0. 0.]\n",
            " [1. 0. 0. ... 0. 0. 0.]\n",
            " [1. 0. 0. ... 0. 0. 0.]\n",
            " ...\n",
            " [0. 0. 0. ... 0. 1. 0.]\n",
            " [0. 0. 0. ... 0. 0. 0.]\n",
            " [0. 0. 0. ... 0. 0. 1.]]\n",
            "[[1. 0. 0. ... 0. 0. 0.]\n",
            " [1. 0. 0. ... 0. 0. 0.]\n",
            " [1. 0. 0. ... 0. 0. 0.]\n",
            " ...\n",
            " [0. 0. 0. ... 0. 1. 0.]\n",
            " [0. 1. 0. ... 0. 0. 0.]\n",
            " [0. 0. 0. ... 0. 0. 1.]]\n"
          ]
        }
      ]
    },
    {
      "cell_type": "markdown",
      "source": [
        "## 6.3.1 IMDB 데이터셋\n",
        "\n",
        "* 영화 리뷰 데이터\n",
        "* 훈련 데이터 2.5만개, 테스트 데이터 2.5만개\n",
        "* 긍정/부정"
      ],
      "metadata": {
        "id": "4RMQOXHJaCZF"
      }
    },
    {
      "cell_type": "code",
      "source": [
        "from tensorflow.keras.datasets import imdb\n",
        "import numpy as np\n",
        "\n",
        "#1\n",
        "##(x_train, y_train), (x_test, y_test) = imdb.load_data() # index_from=3\n",
        "\n",
        "#2\n",
        "(x_train, y_train), (x_test, y_test) = imdb.load_data(skip_top=15, num_words=101)\n",
        "\n",
        "##print(\"x_train.shape=\",x_train.shape) # (25000,)\n",
        "##print(\"y_train.shape=\",y_train.shape) # (25000,)\n",
        "##print(\"x_test.shape=\", x_test.shape)  # (25000,)\n",
        "##print(\"y_test.shape=\", y_test.shape)  # (25000,)\n",
        "\n",
        "#3\n",
        "##nlabel, count = np.unique(y_train, return_counts=True)\n",
        "##print(\"nlabel:\", nlabel)\n",
        "##print(\"count:\",  count)\n",
        "##print(\"# of Class:\",  len(nlabel) ) # 2\n",
        "\n",
        "print(\"max(x_train words):\", max(len(x) for x in x_train)) # 2494\n",
        "print(\"max(x_test words):\",  max(len(x) for x in x_test)) # 2315\n",
        "print(\"x_train[0]:\", x_train[0])\n",
        "print(\"y_train[0]:\", y_train[0])\n",
        "\n",
        "#4: decoding x_train[n], reverse from integers to words\n",
        "# ref: https://builtin.com/data-science/how-build-neural-network-keras\n",
        "n = 0\n",
        "index = imdb.get_word_index()\n",
        "reverse_index  = dict([(value, key) for (key, value) in index.items()]) \n",
        "review = \" \".join( [reverse_index.get(i-3, \"?\") for i in x_train[n]] )\n",
        "print(\"review of x_train[{}]:\\n{}\".format(n, review))"
      ],
      "metadata": {
        "colab": {
          "base_uri": "https://localhost:8080/"
        },
        "id": "zellXFDMWPID",
        "outputId": "b31633ea-de95-4f04-ad1e-f999b3bc6a5c"
      },
      "execution_count": null,
      "outputs": [
        {
          "output_type": "stream",
          "name": "stdout",
          "text": [
            "max(x_train words): 2494\n",
            "max(x_test words): 2315\n",
            "x_train[0]: [2, 2, 22, 16, 43, 2, 2, 2, 2, 65, 2, 2, 66, 2, 2, 2, 36, 2, 2, 25, 100, 43, 2, 2, 50, 2, 2, 2, 35, 2, 2, 2, 2, 2, 2, 2, 2, 2, 2, 2, 39, 2, 2, 2, 2, 17, 2, 38, 2, 2, 2, 2, 50, 16, 2, 2, 2, 19, 2, 22, 2, 2, 2, 2, 2, 22, 71, 87, 2, 16, 43, 2, 38, 76, 15, 2, 2, 2, 22, 17, 2, 17, 2, 16, 2, 18, 2, 2, 62, 2, 2, 2, 2, 2, 2, 2, 2, 2, 2, 16, 2, 66, 2, 33, 2, 2, 2, 16, 38, 2, 2, 25, 2, 51, 36, 2, 48, 25, 2, 33, 2, 22, 2, 2, 28, 77, 52, 2, 2, 2, 16, 82, 2, 2, 2, 2, 2, 2, 15, 2, 2, 2, 2, 2, 2, 2, 36, 71, 43, 2, 2, 26, 2, 2, 46, 2, 2, 2, 2, 2, 2, 88, 2, 2, 15, 2, 98, 32, 2, 56, 26, 2, 2, 2, 2, 18, 2, 2, 22, 21, 2, 2, 26, 2, 2, 2, 30, 2, 18, 51, 36, 28, 2, 92, 25, 2, 2, 2, 65, 16, 38, 2, 88, 2, 16, 2, 2, 16, 2, 2, 2, 32, 15, 16, 2, 19, 2, 32]\n",
            "y_train[0]: 1\n",
            "review of x_train[0]:\n",
            "? ? film was just ? ? ? ? story ? ? really ? ? ? they ? ? you could just ? ? there ? ? ? an ? ? ? ? ? ? ? ? ? ? ? from ? ? ? ? as ? so ? ? ? ? there was ? ? ? with ? film ? ? ? ? ? film were great ? was just ? so much that ? ? ? film as ? as ? was ? for ? ? would ? ? ? ? ? ? ? ? ? ? was ? really ? at ? ? ? was so ? ? you ? what they ? if you ? at ? film ? ? have been good ? ? ? was also ? ? ? ? ? ? that ? ? ? ? ? ? ? they were just ? ? are ? ? out ? ? ? ? ? ? because ? ? that ? them all ? up are ? ? ? ? for ? ? film but ? ? are ? ? ? be ? for what they have ? don't you ? ? ? story was so ? because ? was ? ? was ? ? ? all that was ? with ? all\n"
          ]
        }
      ]
    },
    {
      "cell_type": "code",
      "source": [
        "import tensorflow as tf\n",
        "import numpy as np\n",
        "#1\n",
        "texts = ['This is a film','This is not a film']\n",
        "top_words= 10 # maximum integer index + 1\n",
        "\n",
        "#2\n",
        "tokenizer = tf.keras.preprocessing.text.Tokenizer(num_words=top_words)\n",
        "tokenizer.fit_on_texts(texts)\n",
        "print(\"tokenizer.word_index:\",tokenizer.word_index)\n",
        "\n",
        "#3\n",
        "sequences = tokenizer.texts_to_sequences(texts)\n",
        "print(\"sequences:\",sequences)\n",
        "\n",
        "#4: each vector length: top_words = 10\n",
        "output_vector = tokenizer.sequences_to_matrix(sequences) # mode='binary'\n",
        "print(\"output_vector.shape=\", output_vector.shape) # (2, 10)\n",
        "print(output_vector)"
      ],
      "metadata": {
        "colab": {
          "base_uri": "https://localhost:8080/"
        },
        "id": "vw5hgsQgXX7A",
        "outputId": "80146061-3f53-4ff1-a3ff-5d9f6fad9ab1"
      },
      "execution_count": null,
      "outputs": [
        {
          "output_type": "stream",
          "name": "stdout",
          "text": [
            "tokenizer.word_index: {'this': 1, 'is': 2, 'a': 3, 'film': 4, 'not': 5}\n",
            "sequences: [[1, 2, 3, 4], [1, 2, 5, 3, 4]]\n",
            "output_vector.shape= (2, 10)\n",
            "[[0. 1. 1. 1. 1. 0. 0. 0. 0. 0.]\n",
            " [0. 1. 1. 1. 1. 1. 0. 0. 0. 0.]]\n"
          ]
        }
      ]
    },
    {
      "cell_type": "code",
      "source": [
        "import tensorflow as tf\n",
        "import numpy as np\n",
        "#1\n",
        "texts = ['This is a film','This is not a film']\n",
        "top_words    = 10  # maximum integer index + 1\n",
        "max_words    = 6  # sequences.shape[1]\n",
        "vecor_length = 3  # dimension of the dense embedding\n",
        "\n",
        "#2\n",
        "tokenizer = tf.keras.preprocessing.text.Tokenizer(num_words=top_words)\n",
        "tokenizer.fit_on_texts(texts)\n",
        "print(\"tokenizer.word_index:\",tokenizer.word_index)\n",
        "\n",
        "#3\n",
        "sequences = tokenizer.texts_to_sequences(texts)\n",
        "print(\"sequences:\",sequences)\n",
        "\n",
        "#4\n",
        "sequences = tf.keras.preprocessing.sequence.pad_sequences(sequences, max_words)\n",
        "print('sequences.shape=', sequences.shape)\n",
        "print(\"sequences:\", sequences)\n",
        "\n",
        "#5\n",
        "model = tf.keras.Sequential()\n",
        "model.add(tf.keras.layers.Embedding(input_dim =top_words, output_dim=vecor_length))\n",
        "##model.add(tf.keras.layers.Flatten()) # output_vector.shape = (2, 18)\n",
        "model.summary()\n",
        "\n",
        "#6\n",
        "output_vector = model.predict(sequences)\n",
        "print(\"output_vector.shape:\", output_vector.shape )\n",
        "print(\"output_vector:\", output_vector )"
      ],
      "metadata": {
        "colab": {
          "base_uri": "https://localhost:8080/"
        },
        "id": "3B2MKXKDXhcx",
        "outputId": "17ba01fe-f3ad-4991-e369-3b25724aedad"
      },
      "execution_count": null,
      "outputs": [
        {
          "output_type": "stream",
          "name": "stdout",
          "text": [
            "tokenizer.word_index: {'this': 1, 'is': 2, 'a': 3, 'film': 4, 'not': 5}\n",
            "sequences: [[1, 2, 3, 4], [1, 2, 5, 3, 4]]\n",
            "sequences.shape= (2, 6)\n",
            "sequences: [[0 0 1 2 3 4]\n",
            " [0 1 2 5 3 4]]\n",
            "Model: \"sequential_6\"\n",
            "_________________________________________________________________\n",
            " Layer (type)                Output Shape              Param #   \n",
            "=================================================================\n",
            " embedding (Embedding)       (None, None, 3)           30        \n",
            "                                                                 \n",
            "=================================================================\n",
            "Total params: 30\n",
            "Trainable params: 30\n",
            "Non-trainable params: 0\n",
            "_________________________________________________________________\n",
            "1/1 [==============================] - 0s 59ms/step\n",
            "output_vector.shape: (2, 6, 3)\n",
            "output_vector: [[[-0.0405 -0.0027  0.0142]\n",
            "  [-0.0405 -0.0027  0.0142]\n",
            "  [-0.0282  0.0443 -0.0176]\n",
            "  [ 0.0325  0.017   0.0003]\n",
            "  [-0.0263  0.0011  0.0333]\n",
            "  [ 0.0034  0.0499 -0.0218]]\n",
            "\n",
            " [[-0.0405 -0.0027  0.0142]\n",
            "  [-0.0282  0.0443 -0.0176]\n",
            "  [ 0.0325  0.017   0.0003]\n",
            "  [-0.019  -0.0195  0.0476]\n",
            "  [-0.0263  0.0011  0.0333]\n",
            "  [ 0.0034  0.0499 -0.0218]]]\n"
          ]
        }
      ]
    },
    {
      "cell_type": "code",
      "source": [
        "import tensorflow as tf\n",
        "from tensorflow.keras.datasets import imdb\n",
        "import numpy as np\n",
        "import matplotlib.pyplot as plt\n",
        "#1\n",
        "top_words    = 1000\n",
        "(x_train, y_train), (x_test, y_test) = imdb.load_data(num_words=top_words)\n",
        "##print(\"x_train.shape=\",x_train.shape) # (25000,)\n",
        "##print(\"x_test.shape=\", x_test.shape)  # (25000,)\n",
        "\n",
        "#2: binary encoding\n",
        "tokenizer = tf.keras.preprocessing.text.Tokenizer(num_words=top_words)\n",
        "x_train = tokenizer.sequences_to_matrix(x_train) # mode='binary'\n",
        "x_test = tokenizer.sequences_to_matrix(x_test)\n",
        "##print(\"x_train.shape=\",x_train.shape) # (25000, 1000)\n",
        "##print(\"x_test.shape=\", x_test.shape)  # (25000, 1000)\n",
        "\n",
        "# one-hot encoding: 'mse', 'categorical_crossentropy'  \n",
        "y_train = tf.keras.utils.to_categorical(y_train)\n",
        "y_test = tf.keras.utils.to_categorical(y_test)\n",
        "##print(\"y_train=\", y_train)\n",
        "##print(\"y_test=\", y_test)\n",
        "\n",
        "#3\n",
        "model = tf.keras.Sequential()\n",
        "model.add(tf.keras.layers.Dense(units=10, input_dim = top_words, activation='sigmoid'))\n",
        "model.add(tf.keras.layers.Dense(units=2, activation='softmax'))\n",
        "model.summary()\n",
        "\n",
        "opt = tf.keras.optimizers.RMSprop(learning_rate=0.01)\n",
        "model.compile(optimizer=opt, loss='categorical_crossentropy', metrics=['accuracy'])\n",
        "ret = model.fit(x_train, y_train, epochs=100, batch_size=1280, verbose=0)\n",
        "\n",
        "#4\n",
        "train_loss, train_acc = model.evaluate(x_train, y_train, verbose=2)\n",
        "test_loss, test_acc = model.evaluate(x_test,  y_test, verbose=2)"
      ],
      "metadata": {
        "colab": {
          "base_uri": "https://localhost:8080/"
        },
        "id": "X4KbahrCXkWx",
        "outputId": "b4c377a3-0335-407e-ea23-9550c12bce36"
      },
      "execution_count": null,
      "outputs": [
        {
          "output_type": "stream",
          "name": "stdout",
          "text": [
            "Model: \"sequential_7\"\n",
            "_________________________________________________________________\n",
            " Layer (type)                Output Shape              Param #   \n",
            "=================================================================\n",
            " dense_14 (Dense)            (None, 10)                10010     \n",
            "                                                                 \n",
            " dense_15 (Dense)            (None, 2)                 22        \n",
            "                                                                 \n",
            "=================================================================\n",
            "Total params: 10,032\n",
            "Trainable params: 10,032\n",
            "Non-trainable params: 0\n",
            "_________________________________________________________________\n",
            "782/782 - 1s - loss: 0.0461 - accuracy: 0.9851 - 1s/epoch - 2ms/step\n",
            "782/782 - 1s - loss: 0.7058 - accuracy: 0.8331 - 926ms/epoch - 1ms/step\n"
          ]
        }
      ]
    },
    {
      "cell_type": "code",
      "source": [
        "import tensorflow as tf\n",
        "from tensorflow.keras.datasets import imdb\n",
        "import numpy as np\n",
        "import matplotlib.pyplot as plt\n",
        "#1\n",
        "top_words    = 1000\n",
        "(x_train, y_train), (x_test, y_test) = imdb.load_data(num_words=top_words)\n",
        "##print(\"x_train.shape=\",x_train.shape) # (25000,)\n",
        "##print(\"x_test.shape=\", x_test.shape)  # (25000,)\n",
        "\n",
        "#2\n",
        "max_words = 100\n",
        "x_train= tf.keras.preprocessing.sequence.pad_sequences(x_train, maxlen=max_words)\n",
        "x_test = tf.keras.preprocessing.sequence.pad_sequences(x_test,  maxlen=max_words)\n",
        "####print(\"x_train.shape=\",x_train.shape) # (25000, 100)\n",
        "####print(\"x_test.shape=\", x_test.shape)  # (25000, 100)\n",
        "\n",
        "# one-hot encoding: 'mse', 'categorical_crossentropy'  \n",
        "y_train = tf.keras.utils.to_categorical(y_train)\n",
        "y_test = tf.keras.utils.to_categorical(y_test)\n",
        "##print(\"y_train=\", y_train)\n",
        "##print(\"y_test=\", y_test)\n",
        "\n",
        "#3\n",
        "vecor_length = 10   # dimension of the dense embedding\n",
        "model = tf.keras.Sequential()\n",
        "model.add(tf.keras.layers.Embedding(input_dim =top_words,\n",
        "                                    output_dim=vecor_length,\n",
        "                                    input_length=max_words))\n",
        "model.add(tf.keras.layers.Flatten())\n",
        "model.add(tf.keras.layers.Dense(units=10, activation='sigmoid'))\n",
        "model.add(tf.keras.layers.Dense(units=2, activation='softmax'))\n",
        "model.summary()\n",
        "\n",
        "opt = tf.keras.optimizers.RMSprop(learning_rate=0.01)\n",
        "model.compile(optimizer=opt, loss='categorical_crossentropy', metrics=['accuracy'])\n",
        "ret = model.fit(x_train, y_train, epochs=10, batch_size=128, verbose=0)\n",
        "loss = ret.history['loss']\n",
        "plt.plot(loss)\n",
        "plt.xlabel('epochs')\n",
        "plt.ylabel('loss')\n",
        "plt.show()\n",
        "\n",
        "#4\n",
        "train_loss, train_acc = model.evaluate(x_train, y_train, verbose=2)\n",
        "test_loss, test_acc = model.evaluate(x_test,  y_test, verbose=2)"
      ],
      "metadata": {
        "colab": {
          "base_uri": "https://localhost:8080/",
          "height": 616
        },
        "id": "1vk-VB7IXotE",
        "outputId": "fdd56181-ff9e-467a-c2e4-20ec0e95a4f0"
      },
      "execution_count": null,
      "outputs": [
        {
          "output_type": "stream",
          "name": "stdout",
          "text": [
            "Model: \"sequential_8\"\n",
            "_________________________________________________________________\n",
            " Layer (type)                Output Shape              Param #   \n",
            "=================================================================\n",
            " embedding_1 (Embedding)     (None, 100, 10)           10000     \n",
            "                                                                 \n",
            " flatten_3 (Flatten)         (None, 1000)              0         \n",
            "                                                                 \n",
            " dense_16 (Dense)            (None, 10)                10010     \n",
            "                                                                 \n",
            " dense_17 (Dense)            (None, 2)                 22        \n",
            "                                                                 \n",
            "=================================================================\n",
            "Total params: 20,032\n",
            "Trainable params: 20,032\n",
            "Non-trainable params: 0\n",
            "_________________________________________________________________\n"
          ]
        },
        {
          "output_type": "display_data",
          "data": {
            "text/plain": [
              "<Figure size 432x288 with 1 Axes>"
            ],
            "image/png": "[encoded data removed]"
          },
          "metadata": {
            "needs_background": "light"
          }
        },
        {
          "output_type": "stream",
          "name": "stdout",
          "text": [
            "782/782 - 1s - loss: 0.0816 - accuracy: 0.9796 - 778ms/epoch - 995us/step\n",
            "782/782 - 1s - loss: 0.7602 - accuracy: 0.7782 - 709ms/epoch - 907us/step\n"
          ]
        }
      ]
    },
    {
      "cell_type": "markdown",
      "source": [
        "## 6.3.2 Reuters 데이터셋\n",
        "\n",
        "* 로이터 뉴스 기사\n",
        "* 훈련 데이터 약 9천개, 테스트 데이터 약 2천개\n",
        "* 46 종류의 카테고리"
      ],
      "metadata": {
        "id": "C7vKSwDBaGnQ"
      }
    },
    {
      "cell_type": "code",
      "source": [
        "import tensorflow as tf\n",
        "from tensorflow.keras.datasets import reuters\n",
        "import numpy as np\n",
        "import matplotlib.pyplot as plt\n",
        "#1\n",
        "(x_train, y_train), (x_test, y_test) = reuters.load_data()\n",
        "\n",
        "#2\n",
        "##(x_train, y_train), (x_test, y_test) = reuters.load_data(skip_top=15, num_words=101)\n",
        "##print(\"x_train.shape=\",x_train.shape) # (8982,)\n",
        "##print(\"y_train.shape=\",y_train.shape) # (8982,)\n",
        "##print(\"x_test.shape=\", x_test.shape)  # (2246,)\n",
        "##print(\"y_test.shape=\", y_test.shape)  # (2246,)\n",
        "\n",
        "#3\n",
        "##nlabel, count = np.unique(y_train, return_counts=True)\n",
        "##print(\"nlabel:\", nlabel)\n",
        "##print(\"count:\",  count)\n",
        "##print(\"# of Class:\",  len(nlabel) ) # 46 \n",
        "\n",
        "##print(\"max(x_train words):\", max(len(x) for x in x_train))# 2376\n",
        "##print(\"max(x_test words):\",  max(len(x) for x in x_test)) # 1032\n",
        "\n",
        "#https://github.com/SteffenBauer/KerasTools/blob/master/KerasTools/datasets/decode.py\n",
        "label = ('cocoa','grain','veg-oil','earn','acq','wheat','copper','housing',\n",
        "              'money-supply','coffee','sugar','trade','reserves','ship','cotton',\n",
        "              'carcass','crude','nat-gas','cpi','money-fx','interest','gnp',\n",
        "              'meal-feed','alum','oilseed','gold','tin','strategic-metal',\n",
        "              'livestock','retail','ipi','iron-steel','rubber','heat','jobs',\n",
        "              'lei','bop','zinc','orange','pet-chem','dlr','gas','silver','wpi','hog','lead')\n",
        "##print(\"x_train[0]:\", x_train[0])\n",
        "\n",
        "#4: decoding x_train[n], reverse from integers to words\n",
        "# 0, 1, 2: 'padding', 'start of sequence', and 'unknown word'\n",
        "n = 0 # n = 584, it's cocoa news\n",
        "print(\"y_train[{}]={}\".format(n, y_train[n]))\n",
        "print(\"News label: {}\".format(label[y_train[n]]))\n",
        "\n",
        "index = reuters.get_word_index()\n",
        "reverse_index  = dict([(value, key) for (key, value) in index.items()]) \n",
        "review = \" \".join( [reverse_index.get(i-3, \"?\") for i in x_train[n]] )\n",
        "print(\"review of x_train[{}]:\\n{}\".format(n, review))"
      ],
      "metadata": {
        "colab": {
          "base_uri": "https://localhost:8080/"
        },
        "id": "5o_iTXqRaKl2",
        "outputId": "1557ac24-7aba-4c62-c7a0-cc738f0cd157"
      },
      "execution_count": null,
      "outputs": [
        {
          "output_type": "stream",
          "name": "stdout",
          "text": [
            "Downloading data from https://storage.googleapis.com/tensorflow/tf-keras-datasets/reuters.npz\n",
            "2110848/2110848 [==============================] - 0s 0us/step\n",
            "y_train[0]=3\n",
            "News label: earn\n",
            "Downloading data from https://storage.googleapis.com/tensorflow/tf-keras-datasets/reuters_word_index.json\n",
            "550378/550378 [==============================] - 0s 0us/step\n",
            "review of x_train[0]:\n",
            "? mcgrath rentcorp said as a result of its december acquisition of space co it expects earnings per share in 1987 of 1 15 to 1 30 dlrs per share up from 70 cts in 1986 the company said pretax net should rise to nine to 10 mln dlrs from six mln dlrs in 1986 and rental operation revenues to 19 to 22 mln dlrs from 12 5 mln dlrs it said cash flow per share this year should be 2 50 to three dlrs reuter 3\n"
          ]
        }
      ]
    },
    {
      "cell_type": "code",
      "source": [
        "import tensorflow as tf\n",
        "from tensorflow.keras.datasets import reuters\n",
        "import numpy as np\n",
        "import matplotlib.pyplot as plt\n",
        "#1\n",
        "top_words    = 1000\n",
        "(x_train, y_train), (x_test, y_test) = reuters.load_data(num_words=top_words)\n",
        "##print(\"x_train.shape=\",x_train.shape) # (8982,)\n",
        "##print(\"x_test.shape=\", x_test.shape)  # (2246,)\n",
        "\n",
        "#2: binary encoding\n",
        "tokenizer = tf.keras.preprocessing.text.Tokenizer(num_words=top_words)\n",
        "x_train = tokenizer.sequences_to_matrix(x_train) # mode='binary'\n",
        "x_test = tokenizer.sequences_to_matrix(x_test)\n",
        "##print(\"x_train.shape=\",x_train.shape) # (8982, 1000)\n",
        "##print(\"x_test.shape=\", x_test.shape)  # (2246, 1000)\n",
        "\n",
        "# one-hot encoding: 'mse', 'categorical_crossentropy'  \n",
        "y_train = tf.keras.utils.to_categorical(y_train)\n",
        "y_test = tf.keras.utils.to_categorical(y_test)\n",
        "##print(\"y_train=\", y_train)\n",
        "##print(\"y_test=\", y_test)\n",
        "\n",
        "#3\n",
        "model = tf.keras.Sequential()\n",
        "model.add(tf.keras.layers.Dense(units=10, input_dim = top_words, activation='sigmoid'))\n",
        "model.add(tf.keras.layers.Dense(units=46, activation='softmax'))\n",
        "model.summary()\n",
        "\n",
        "opt = tf.keras.optimizers.RMSprop(learning_rate=0.01)\n",
        "model.compile(optimizer=opt, loss='categorical_crossentropy', metrics=['accuracy'])\n",
        "ret = model.fit(x_train, y_train, epochs=100, batch_size=128, verbose=2)\n",
        "##loss = ret.history['loss']\n",
        "##plt.plot(loss)\n",
        "##plt.xlabel('epochs')\n",
        "##plt.ylabel('loss')\n",
        "##plt.show()\n",
        "\n",
        "#4\n",
        "train_loss, train_acc = model.evaluate(x_train, y_train, verbose=2)\n",
        "test_loss, test_acc = model.evaluate(x_test,  y_test, verbose=2)"
      ],
      "metadata": {
        "colab": {
          "base_uri": "https://localhost:8080/"
        },
        "id": "IWcYik9yaRK_",
        "outputId": "f6ed6054-4e5b-4719-84b8-24a70201fef7"
      },
      "execution_count": null,
      "outputs": [
        {
          "output_type": "stream",
          "name": "stdout",
          "text": [
            "Model: \"sequential_9\"\n",
            "_________________________________________________________________\n",
            " Layer (type)                Output Shape              Param #   \n",
            "=================================================================\n",
            " dense_18 (Dense)            (None, 10)                10010     \n",
            "                                                                 \n",
            " dense_19 (Dense)            (None, 46)                506       \n",
            "                                                                 \n",
            "=================================================================\n",
            "Total params: 10,516\n",
            "Trainable params: 10,516\n",
            "Non-trainable params: 0\n",
            "_________________________________________________________________\n",
            "Epoch 1/100\n",
            "71/71 - 1s - loss: 2.0029 - accuracy: 0.5507 - 509ms/epoch - 7ms/step\n",
            "Epoch 2/100\n",
            "71/71 - 0s - loss: 1.2696 - accuracy: 0.7027 - 137ms/epoch - 2ms/step\n",
            "Epoch 3/100\n",
            "71/71 - 0s - loss: 1.0534 - accuracy: 0.7502 - 124ms/epoch - 2ms/step\n",
            "Epoch 4/100\n",
            "71/71 - 0s - loss: 0.9247 - accuracy: 0.7830 - 142ms/epoch - 2ms/step\n",
            "Epoch 5/100\n",
            "71/71 - 0s - loss: 0.8255 - accuracy: 0.8106 - 119ms/epoch - 2ms/step\n",
            "Epoch 6/100\n",
            "71/71 - 0s - loss: 0.7502 - accuracy: 0.8246 - 142ms/epoch - 2ms/step\n",
            "Epoch 7/100\n",
            "71/71 - 0s - loss: 0.6869 - accuracy: 0.8410 - 121ms/epoch - 2ms/step\n",
            "Epoch 8/100\n",
            "71/71 - 0s - loss: 0.6357 - accuracy: 0.8509 - 133ms/epoch - 2ms/step\n",
            "Epoch 9/100\n",
            "71/71 - 0s - loss: 0.5927 - accuracy: 0.8597 - 137ms/epoch - 2ms/step\n",
            "Epoch 10/100\n",
            "71/71 - 0s - loss: 0.5549 - accuracy: 0.8688 - 125ms/epoch - 2ms/step\n",
            "Epoch 11/100\n",
            "71/71 - 0s - loss: 0.5229 - accuracy: 0.8765 - 136ms/epoch - 2ms/step\n",
            "Epoch 12/100\n",
            "71/71 - 0s - loss: 0.4941 - accuracy: 0.8857 - 117ms/epoch - 2ms/step\n",
            "Epoch 13/100\n",
            "71/71 - 0s - loss: 0.4701 - accuracy: 0.8912 - 126ms/epoch - 2ms/step\n",
            "Epoch 14/100\n",
            "71/71 - 0s - loss: 0.4471 - accuracy: 0.8961 - 117ms/epoch - 2ms/step\n",
            "Epoch 15/100\n",
            "71/71 - 0s - loss: 0.4271 - accuracy: 0.9011 - 128ms/epoch - 2ms/step\n",
            "Epoch 16/100\n",
            "71/71 - 0s - loss: 0.4092 - accuracy: 0.9046 - 154ms/epoch - 2ms/step\n",
            "Epoch 17/100\n",
            "71/71 - 0s - loss: 0.3927 - accuracy: 0.9118 - 128ms/epoch - 2ms/step\n",
            "Epoch 18/100\n",
            "71/71 - 0s - loss: 0.3789 - accuracy: 0.9147 - 122ms/epoch - 2ms/step\n",
            "Epoch 19/100\n",
            "71/71 - 0s - loss: 0.3655 - accuracy: 0.9182 - 144ms/epoch - 2ms/step\n",
            "Epoch 20/100\n",
            "71/71 - 0s - loss: 0.3529 - accuracy: 0.9204 - 121ms/epoch - 2ms/step\n",
            "Epoch 21/100\n",
            "71/71 - 0s - loss: 0.3399 - accuracy: 0.9250 - 122ms/epoch - 2ms/step\n",
            "Epoch 22/100\n",
            "71/71 - 0s - loss: 0.3325 - accuracy: 0.9270 - 134ms/epoch - 2ms/step\n",
            "Epoch 23/100\n",
            "71/71 - 0s - loss: 0.3241 - accuracy: 0.9291 - 135ms/epoch - 2ms/step\n",
            "Epoch 24/100\n",
            "71/71 - 0s - loss: 0.3152 - accuracy: 0.9308 - 131ms/epoch - 2ms/step\n",
            "Epoch 25/100\n",
            "71/71 - 0s - loss: 0.3064 - accuracy: 0.9334 - 119ms/epoch - 2ms/step\n",
            "Epoch 26/100\n",
            "71/71 - 0s - loss: 0.3015 - accuracy: 0.9348 - 134ms/epoch - 2ms/step\n",
            "Epoch 27/100\n",
            "71/71 - 0s - loss: 0.2931 - accuracy: 0.9358 - 112ms/epoch - 2ms/step\n",
            "Epoch 28/100\n",
            "71/71 - 0s - loss: 0.2890 - accuracy: 0.9374 - 118ms/epoch - 2ms/step\n",
            "Epoch 29/100\n",
            "71/71 - 0s - loss: 0.2835 - accuracy: 0.9384 - 124ms/epoch - 2ms/step\n",
            "Epoch 30/100\n",
            "71/71 - 0s - loss: 0.2789 - accuracy: 0.9401 - 121ms/epoch - 2ms/step\n",
            "Epoch 31/100\n",
            "71/71 - 0s - loss: 0.2753 - accuracy: 0.9398 - 135ms/epoch - 2ms/step\n",
            "Epoch 32/100\n",
            "71/71 - 0s - loss: 0.2701 - accuracy: 0.9397 - 115ms/epoch - 2ms/step\n",
            "Epoch 33/100\n",
            "71/71 - 0s - loss: 0.2638 - accuracy: 0.9408 - 117ms/epoch - 2ms/step\n",
            "Epoch 34/100\n",
            "71/71 - 0s - loss: 0.2597 - accuracy: 0.9427 - 134ms/epoch - 2ms/step\n",
            "Epoch 35/100\n",
            "71/71 - 0s - loss: 0.2565 - accuracy: 0.9423 - 126ms/epoch - 2ms/step\n",
            "Epoch 36/100\n",
            "71/71 - 0s - loss: 0.2520 - accuracy: 0.9446 - 122ms/epoch - 2ms/step\n",
            "Epoch 37/100\n",
            "71/71 - 0s - loss: 0.2496 - accuracy: 0.9432 - 126ms/epoch - 2ms/step\n",
            "Epoch 38/100\n",
            "71/71 - 0s - loss: 0.2458 - accuracy: 0.9430 - 130ms/epoch - 2ms/step\n",
            "Epoch 39/100\n",
            "71/71 - 0s - loss: 0.2425 - accuracy: 0.9460 - 139ms/epoch - 2ms/step\n",
            "Epoch 40/100\n",
            "71/71 - 0s - loss: 0.2418 - accuracy: 0.9443 - 127ms/epoch - 2ms/step\n",
            "Epoch 41/100\n",
            "71/71 - 0s - loss: 0.2382 - accuracy: 0.9440 - 128ms/epoch - 2ms/step\n",
            "Epoch 42/100\n",
            "71/71 - 0s - loss: 0.2353 - accuracy: 0.9447 - 135ms/epoch - 2ms/step\n",
            "Epoch 43/100\n",
            "71/71 - 0s - loss: 0.2335 - accuracy: 0.9452 - 110ms/epoch - 2ms/step\n",
            "Epoch 44/100\n",
            "71/71 - 0s - loss: 0.2302 - accuracy: 0.9463 - 140ms/epoch - 2ms/step\n",
            "Epoch 45/100\n",
            "71/71 - 0s - loss: 0.2300 - accuracy: 0.9468 - 128ms/epoch - 2ms/step\n",
            "Epoch 46/100\n",
            "71/71 - 0s - loss: 0.2274 - accuracy: 0.9470 - 148ms/epoch - 2ms/step\n",
            "Epoch 47/100\n",
            "71/71 - 0s - loss: 0.2259 - accuracy: 0.9471 - 119ms/epoch - 2ms/step\n",
            "Epoch 48/100\n",
            "71/71 - 0s - loss: 0.2235 - accuracy: 0.9471 - 127ms/epoch - 2ms/step\n",
            "Epoch 49/100\n",
            "71/71 - 0s - loss: 0.2216 - accuracy: 0.9480 - 135ms/epoch - 2ms/step\n",
            "Epoch 50/100\n",
            "71/71 - 0s - loss: 0.2198 - accuracy: 0.9477 - 119ms/epoch - 2ms/step\n",
            "Epoch 51/100\n",
            "71/71 - 0s - loss: 0.2170 - accuracy: 0.9475 - 132ms/epoch - 2ms/step\n",
            "Epoch 52/100\n",
            "71/71 - 0s - loss: 0.2166 - accuracy: 0.9472 - 135ms/epoch - 2ms/step\n",
            "Epoch 53/100\n",
            "71/71 - 0s - loss: 0.2144 - accuracy: 0.9467 - 134ms/epoch - 2ms/step\n",
            "Epoch 54/100\n",
            "71/71 - 0s - loss: 0.2139 - accuracy: 0.9468 - 131ms/epoch - 2ms/step\n",
            "Epoch 55/100\n",
            "71/71 - 0s - loss: 0.2129 - accuracy: 0.9487 - 126ms/epoch - 2ms/step\n",
            "Epoch 56/100\n",
            "71/71 - 0s - loss: 0.2125 - accuracy: 0.9468 - 126ms/epoch - 2ms/step\n",
            "Epoch 57/100\n",
            "71/71 - 0s - loss: 0.2085 - accuracy: 0.9488 - 132ms/epoch - 2ms/step\n",
            "Epoch 58/100\n",
            "71/71 - 0s - loss: 0.2092 - accuracy: 0.9486 - 134ms/epoch - 2ms/step\n",
            "Epoch 59/100\n",
            "71/71 - 0s - loss: 0.2061 - accuracy: 0.9487 - 220ms/epoch - 3ms/step\n",
            "Epoch 60/100\n",
            "71/71 - 0s - loss: 0.2061 - accuracy: 0.9495 - 214ms/epoch - 3ms/step\n",
            "Epoch 61/100\n",
            "71/71 - 0s - loss: 0.2057 - accuracy: 0.9501 - 115ms/epoch - 2ms/step\n",
            "Epoch 62/100\n",
            "71/71 - 0s - loss: 0.2052 - accuracy: 0.9492 - 218ms/epoch - 3ms/step\n",
            "Epoch 63/100\n",
            "71/71 - 0s - loss: 0.2044 - accuracy: 0.9497 - 220ms/epoch - 3ms/step\n",
            "Epoch 64/100\n",
            "71/71 - 0s - loss: 0.2033 - accuracy: 0.9490 - 177ms/epoch - 2ms/step\n",
            "Epoch 65/100\n",
            "71/71 - 0s - loss: 0.2034 - accuracy: 0.9486 - 229ms/epoch - 3ms/step\n",
            "Epoch 66/100\n",
            "71/71 - 0s - loss: 0.2015 - accuracy: 0.9498 - 194ms/epoch - 3ms/step\n",
            "Epoch 67/100\n",
            "71/71 - 0s - loss: 0.1995 - accuracy: 0.9482 - 164ms/epoch - 2ms/step\n",
            "Epoch 68/100\n",
            "71/71 - 0s - loss: 0.1985 - accuracy: 0.9493 - 201ms/epoch - 3ms/step\n",
            "Epoch 69/100\n",
            "71/71 - 0s - loss: 0.1995 - accuracy: 0.9485 - 176ms/epoch - 2ms/step\n",
            "Epoch 70/100\n",
            "71/71 - 0s - loss: 0.1965 - accuracy: 0.9496 - 180ms/epoch - 3ms/step\n",
            "Epoch 71/100\n",
            "71/71 - 0s - loss: 0.1972 - accuracy: 0.9498 - 170ms/epoch - 2ms/step\n",
            "Epoch 72/100\n",
            "71/71 - 0s - loss: 0.1962 - accuracy: 0.9503 - 157ms/epoch - 2ms/step\n",
            "Epoch 73/100\n",
            "71/71 - 0s - loss: 0.1951 - accuracy: 0.9495 - 157ms/epoch - 2ms/step\n",
            "Epoch 74/100\n",
            "71/71 - 0s - loss: 0.1945 - accuracy: 0.9492 - 171ms/epoch - 2ms/step\n",
            "Epoch 75/100\n",
            "71/71 - 0s - loss: 0.1926 - accuracy: 0.9513 - 142ms/epoch - 2ms/step\n",
            "Epoch 76/100\n",
            "71/71 - 0s - loss: 0.1942 - accuracy: 0.9499 - 163ms/epoch - 2ms/step\n",
            "Epoch 77/100\n",
            "71/71 - 0s - loss: 0.1904 - accuracy: 0.9506 - 151ms/epoch - 2ms/step\n",
            "Epoch 78/100\n",
            "71/71 - 0s - loss: 0.1925 - accuracy: 0.9508 - 171ms/epoch - 2ms/step\n",
            "Epoch 79/100\n",
            "71/71 - 0s - loss: 0.1920 - accuracy: 0.9510 - 186ms/epoch - 3ms/step\n",
            "Epoch 80/100\n",
            "71/71 - 0s - loss: 0.1921 - accuracy: 0.9505 - 186ms/epoch - 3ms/step\n",
            "Epoch 81/100\n",
            "71/71 - 0s - loss: 0.1882 - accuracy: 0.9515 - 163ms/epoch - 2ms/step\n",
            "Epoch 82/100\n",
            "71/71 - 0s - loss: 0.1894 - accuracy: 0.9509 - 169ms/epoch - 2ms/step\n",
            "Epoch 83/100\n",
            "71/71 - 0s - loss: 0.1901 - accuracy: 0.9497 - 150ms/epoch - 2ms/step\n",
            "Epoch 84/100\n",
            "71/71 - 0s - loss: 0.1874 - accuracy: 0.9525 - 115ms/epoch - 2ms/step\n",
            "Epoch 85/100\n",
            "71/71 - 0s - loss: 0.1885 - accuracy: 0.9526 - 131ms/epoch - 2ms/step\n",
            "Epoch 86/100\n",
            "71/71 - 0s - loss: 0.1876 - accuracy: 0.9491 - 143ms/epoch - 2ms/step\n",
            "Epoch 87/100\n",
            "71/71 - 0s - loss: 0.1854 - accuracy: 0.9519 - 131ms/epoch - 2ms/step\n",
            "Epoch 88/100\n",
            "71/71 - 0s - loss: 0.1855 - accuracy: 0.9506 - 130ms/epoch - 2ms/step\n",
            "Epoch 89/100\n",
            "71/71 - 0s - loss: 0.1848 - accuracy: 0.9529 - 119ms/epoch - 2ms/step\n",
            "Epoch 90/100\n",
            "71/71 - 0s - loss: 0.1858 - accuracy: 0.9520 - 128ms/epoch - 2ms/step\n",
            "Epoch 91/100\n",
            "71/71 - 0s - loss: 0.1835 - accuracy: 0.9515 - 119ms/epoch - 2ms/step\n",
            "Epoch 92/100\n",
            "71/71 - 0s - loss: 0.1843 - accuracy: 0.9507 - 109ms/epoch - 2ms/step\n",
            "Epoch 93/100\n",
            "71/71 - 0s - loss: 0.1836 - accuracy: 0.9527 - 120ms/epoch - 2ms/step\n",
            "Epoch 94/100\n",
            "71/71 - 0s - loss: 0.1832 - accuracy: 0.9512 - 135ms/epoch - 2ms/step\n",
            "Epoch 95/100\n",
            "71/71 - 0s - loss: 0.1835 - accuracy: 0.9518 - 123ms/epoch - 2ms/step\n",
            "Epoch 96/100\n",
            "71/71 - 0s - loss: 0.1801 - accuracy: 0.9529 - 124ms/epoch - 2ms/step\n",
            "Epoch 97/100\n",
            "71/71 - 0s - loss: 0.1816 - accuracy: 0.9502 - 120ms/epoch - 2ms/step\n",
            "Epoch 98/100\n",
            "71/71 - 0s - loss: 0.1806 - accuracy: 0.9520 - 142ms/epoch - 2ms/step\n",
            "Epoch 99/100\n",
            "71/71 - 0s - loss: 0.1799 - accuracy: 0.9520 - 125ms/epoch - 2ms/step\n",
            "Epoch 100/100\n",
            "71/71 - 0s - loss: 0.1803 - accuracy: 0.9519 - 120ms/epoch - 2ms/step\n",
            "281/281 - 0s - loss: 0.1590 - accuracy: 0.9589 - 335ms/epoch - 1ms/step\n",
            "71/71 - 0s - loss: 2.2428 - accuracy: 0.7177 - 71ms/epoch - 1ms/step\n"
          ]
        }
      ]
    },
    {
      "cell_type": "code",
      "source": [
        "import tensorflow as tf\n",
        "from tensorflow.keras.datasets import reuters\n",
        "import numpy as np\n",
        "import matplotlib.pyplot as plt\n",
        "\n",
        "#1\n",
        "top_words    = 1000\n",
        "(x_train, y_train), (x_test, y_test) = reuters.load_data(num_words=top_words)\n",
        "##print(\"x_train.shape=\",x_train.shape) # (8982,)\n",
        "##print(\"x_test.shape=\", x_test.shape)  # (2246,)\n",
        " \n",
        "#2\n",
        "max_words = 100\n",
        "x_train= tf.keras.preprocessing.sequence.pad_sequences(x_train, maxlen=max_words)\n",
        "x_test = tf.keras.preprocessing.sequence.pad_sequences(x_test,  maxlen=max_words)\n",
        "####print(\"x_train.shape=\",x_train.shape) # (8982, 100)\n",
        "####print(\"x_test.shape=\", x_test.shape)  # (2246, 100)\n",
        "\n",
        "# one-hot encoding: 'mse', 'categorical_crossentropy'  \n",
        "y_train = tf.keras.utils.to_categorical(y_train)\n",
        "y_test = tf.keras.utils.to_categorical(y_test)\n",
        "##print(\"y_train=\", y_train)\n",
        "##print(\"y_test=\", y_test)\n",
        "\n",
        "#3\n",
        "vecor_length = 10    # dimension of the dense embedding\n",
        "model = tf.keras.Sequential()\n",
        "model.add(tf.keras.layers.Embedding(input_dim =top_words,\n",
        "                                    output_dim=vecor_length,\n",
        "                                    input_length=max_words))\n",
        "model.add(tf.keras.layers.Flatten())\n",
        "model.add(tf.keras.layers.Dense(units=10, activation='sigmoid'))\n",
        "model.add(tf.keras.layers.Dense(units=46, activation='softmax'))\n",
        "model.summary()\n",
        "\n",
        "opt = tf.keras.optimizers.RMSprop(learning_rate=0.01)\n",
        "model.compile(optimizer=opt, loss='categorical_crossentropy', metrics=['accuracy'])\n",
        "ret = model.fit(x_train, y_train, epochs=100, batch_size=128, verbose=0)\n",
        "##loss = ret.history['loss']\n",
        "##plt.plot(loss)\n",
        "##plt.xlabel('epochs')\n",
        "##plt.ylabel('loss')\n",
        "##plt.show()\n",
        "\n",
        "#4\n",
        "train_loss, train_acc = model.evaluate(x_train, y_train, verbose=2)\n",
        "test_loss, test_acc = model.evaluate(x_test,  y_test, verbose=2)"
      ],
      "metadata": {
        "colab": {
          "base_uri": "https://localhost:8080/"
        },
        "id": "T4mSJozLaVdU",
        "outputId": "25e29893-2a50-4c65-f057-2ba84c366950"
      },
      "execution_count": null,
      "outputs": [
        {
          "output_type": "stream",
          "name": "stdout",
          "text": [
            "Model: \"sequential_10\"\n",
            "_________________________________________________________________\n",
            " Layer (type)                Output Shape              Param #   \n",
            "=================================================================\n",
            " embedding_2 (Embedding)     (None, 100, 10)           10000     \n",
            "                                                                 \n",
            " flatten_4 (Flatten)         (None, 1000)              0         \n",
            "                                                                 \n",
            " dense_20 (Dense)            (None, 10)                10010     \n",
            "                                                                 \n",
            " dense_21 (Dense)            (None, 46)                506       \n",
            "                                                                 \n",
            "=================================================================\n",
            "Total params: 20,516\n",
            "Trainable params: 20,516\n",
            "Non-trainable params: 0\n",
            "_________________________________________________________________\n",
            "281/281 - 0s - loss: 0.1936 - accuracy: 0.9469 - 325ms/epoch - 1ms/step\n",
            "71/71 - 0s - loss: 3.9898 - accuracy: 0.5980 - 75ms/epoch - 1ms/step\n"
          ]
        }
      ]
    }
  ]
}