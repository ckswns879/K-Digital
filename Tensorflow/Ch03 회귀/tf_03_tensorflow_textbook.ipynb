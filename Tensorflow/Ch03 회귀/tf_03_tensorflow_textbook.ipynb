{
  "nbformat": 4,
  "nbformat_minor": 0,
  "metadata": {
    "colab": {
      "provenance": [],
      "toc_visible": true
    },
    "kernelspec": {
      "name": "python3",
      "display_name": "Python 3"
    },
    "language_info": {
      "name": "python"
    }
  },
  "cells": [
    {
      "cell_type": "code",
      "source": [
        "import tensorflow as tf\n",
        "import pandas as pd\n",
        "import matplotlib.pyplot as plt\n",
        "import numpy as np"
      ],
      "metadata": {
        "id": "pVE-EXIwz8bl"
      },
      "execution_count": 1,
      "outputs": []
    },
    {
      "cell_type": "markdown",
      "source": [
        "# 2.7 linear algebra"
      ],
      "metadata": {
        "id": "_BiBqFm52drj"
      }
    },
    {
      "cell_type": "code",
      "source": [
        "# https://www.tensorflow.org/api_docs/python/tf/linalg\n",
        "# Operations for linear algebra.\n",
        "\n",
        "import tensorflow as tf\n",
        "#1 L2 norm (유클리디언 거리)\n",
        "# https://www.tensorflow.org/api_docs/python/tf/norm\n",
        "\n",
        "a = tf.constant([1, 2], dtype=tf.float32)\n",
        "print('a', a)\n",
        "print('tf.norm(a)', tf.norm(a)) # tf.linalg.norm(a)\n",
        "\n",
        "#2 transpose\n",
        "A = tf.constant([[1, 2], [3, 4]], dtype=tf.float32)\n",
        "print('A', A)\n",
        "print('tf.linalg.matrix_transpose(A)', tf.linalg.matrix_transpose(A))\n",
        "\n",
        "#3 determinant\n",
        "print('tf.linalg.det(A)', tf.linalg.det(A))\n",
        "\n",
        "#4 inverse matrix\n",
        "B =  tf.linalg.inv(A) \n",
        "print('B', B)\n",
        "\n",
        "#5 matrix multiplication\n",
        "print('tf.matmul(A, B)', tf.matmul(A, B))  # tf.linalg.matmul(A, B)\n"
      ],
      "metadata": {
        "id": "1r7f-gFB40DX"
      },
      "execution_count": null,
      "outputs": []
    },
    {
      "cell_type": "markdown",
      "source": [
        "**matrix equation**\n",
        "\n",
        "Ax = b\n",
        "\n",
        "==> x = A<sup>-1</sup> x b\n",
        "\n",
        "A<sup>-1</sup> = $\\frac{1}{DET(A)}$ A"
      ],
      "metadata": {
        "id": "rDWfJGOn5zUP"
      }
    },
    {
      "cell_type": "code",
      "source": [
        "#1 Ax = b\n",
        "A = tf.constant([[1, 2],\n",
        "                 [3, -5]], dtype=tf.float32)\n",
        "\n",
        "b = tf.constant([[4], \n",
        "                 [1]], dtype=tf.float32)\n",
        "\n",
        "#2 DET(A)\n",
        "print(tf.linalg.det(A))\n",
        "\n",
        "def solve(A, b):\n",
        "  # x = A^-1 x b\n",
        "  x1 = tf.matmul(tf.linalg.inv(A), b)\n",
        "  print('x1', x1)\n",
        "\n",
        "  # https://www.tensorflow.org/api_docs/python/tf/linalg/solve\n",
        "  # Solves systems of linear equations.\n",
        "  x2 = tf.linalg.solve(A, b)  # x = 2, y = 1\n",
        "  print(x1, x2)\n",
        "\n",
        "  return x1, x2\n",
        "\n",
        "print(solve(A, b))"
      ],
      "metadata": {
        "id": "SLoqrqqM6wJ_"
      },
      "execution_count": null,
      "outputs": []
    },
    {
      "cell_type": "markdown",
      "source": [
        "**LU decomposition**\n",
        "\n",
        "A = LU 로 분해하여\n",
        "\n",
        "Ax = b 를 푸는 과정에 활용해 보면,\n",
        "\n",
        "=> LUx = b\n",
        "\n",
        "=> Ux = Z  로 놓고\n",
        "\n",
        "=> LZ = b  를 풀고\n",
        "\n",
        "=> Ux = z 를 풀면\n",
        "\n",
        "x 를 구할 수 있음 \n",
        "(역행렬 방법과 비교하여 빠르고, 메모리 적게 사용해서 계산 가능)"
      ],
      "metadata": {
        "id": "l9xUGEXn8puD"
      }
    },
    {
      "cell_type": "code",
      "source": [
        "A = tf.constant([[1, 2],\n",
        "                 [3, -5]], dtype=tf.float32)\n",
        "\n",
        "b = tf.constant([[4], \n",
        "                 [1]], dtype=tf.float32)\n",
        "\n",
        "# https://www.tensorflow.org/api_docs/python/tf/linalg/lu\n",
        "# Computes the LU decomposition of one or more square matrices.\n",
        "\n",
        "lu, p = tf.linalg.lu(A)\n",
        "print('tf.linalg.lu(A)', lu, p)\n",
        "\n",
        "x = tf.linalg.lu_solve(lu, p, b)\n",
        "print('x', x)\n",
        "\n",
        "# L = tf.linalg.band_part(lu,-1,0) - tf.linalg.diag(tf.linalg.diag_part(lu)) + tf.linalg.diag(tf.ones(shape = lu.shape[0],))\n",
        "# U = tf.linalg.band_part(lu, 0, -1)\n",
        "# permu_operator = tf.linalg.LinearOperatorPermutation(p)\n",
        "# P = permu_operator.to_dense()\n",
        "\n",
        "# print('L', L)\n",
        "# print('U', U)\n",
        "\n",
        "# AA = tf.matmul(P, tf.matmul(L,U), transpose_a = True)\n",
        "# print('AA', AA)\n",
        "\n",
        "# AAA = tf.linalg.lu_reconstruct(lu, p)\n",
        "# print('AAA', AAA)"
      ],
      "metadata": {
        "id": "pi3HiAi59fXt"
      },
      "execution_count": null,
      "outputs": []
    },
    {
      "cell_type": "markdown",
      "source": [
        "**least squares**\n",
        "\n",
        "(0, 6), (1, 0), (2, 0) 을 지나는 가장 가까운 직선의 방정식은?\n",
        "\n",
        "6 = a x 0 + b\n",
        "\n",
        "0 = a x 1 + b\n",
        "\n",
        "0 = a x 2 + b\n",
        "\n",
        "위 수식을 모두 만족하는 a 는 존재하는가? \n",
        "\n",
        "=> 존재하지 않으면 **차이가 최소(에러가 최소)**가 되는 근사값 $\\hat{a}$ 을 구해보자!\n",
        "\n",
        "Error<sup>2</sup> = (6 - (a x 0 + b))<sup>2</sup> + (0 - (a x 1 + b))<sup>2</sup> + (0 - (a x 2 + b))<sup>2</sup>\n",
        "\n",
        "=> 행렬로 풀려면 공식 이용\n",
        "\n",
        "$X = \\begin{bmatrix}\\hat{a}\\\\\n",
        "\\hat{b}\n",
        "\\end{bmatrix}$\n",
        "\n",
        "(A<sup>T</sup>A)X = A<sup>T</sup>b\n",
        "\n",
        "(참고: https://en.wikipedia.org/wiki/Linear_least_squares)\n",
        "\n",
        "\n",
        "=> 2차 방정식이므로 $\\hat{a}$ 과 $\\hat{b}$ 에 대해 미분하자!\n"
      ],
      "metadata": {
        "id": "4SNn22puAZmm"
      }
    },
    {
      "cell_type": "markdown",
      "source": [
        "# 2.8 gradient decent\n",
        "\n",
        "수학에서 경사 하강법은 미분 가능 함수의 로컬 최소값을 찾기 위한 1차 반복 최적화 알고리즘입니다. \n",
        "\n",
        "알고리즘: 현재 지점에서 함수의 기울기의 반대 방향(빼줌)으로 반복되는 단계를 수행하는 것이며, 그 결과로 local minimum을 찾을 수 있습니다.\n",
        "\n",
        "$x = x - lr * dx$\n",
        "\n",
        "\n",
        "[gradient decent](https://en.wikipedia.org/wiki/Gradient_descent)\n",
        "\n",
        "\n",
        "<img src=\"https://drive.google.com/uc?id=1H77kMZ1UhsB3N7HRXJ77StzJzTyXodf0\" width=\"400\"/>\n",
        "\n",
        "[Animation](https://medium.com/onfido-tech/machine-learning-101-be2e0a86c96a)\n"
      ],
      "metadata": {
        "id": "tQYksr0Z_N8a"
      }
    },
    {
      "cell_type": "markdown",
      "source": [
        "\n",
        "예) \n",
        "\n",
        "<img src=\"https://drive.google.com/uc?id=1vcxLliVPoM6Lw6HfFEQAFiXDf3J0CjL_\" width=\"200\"/>\n",
        "\n",
        "\n",
        "$ F = (x-1)^2$\n",
        "\n",
        "=> $x^2 -2x + 1$\n",
        "\n",
        "[2차 함수](https://www.geogebra.org/m/xgdQkfk3)\n",
        "\n"
      ],
      "metadata": {
        "id": "mAdWjUPAA7sH"
      }
    },
    {
      "cell_type": "code",
      "source": [
        "def f(x):\n",
        "  return x**2 - 2*x + 1  \n",
        "\n",
        "def f_prime(x):\n",
        "  h = 0.01\n",
        "  return (f(x+h)-f(x)) / h\n",
        "\n",
        "def f_prime2(x):\n",
        "  return 2*x - 2\n",
        "\n",
        "all_x = tf.linspace(-5,5,100)\n",
        "all_y = f(all_x)\n",
        "\n",
        "x = tf.Variable(-4.) # initial value\n",
        "LR = 0.1\n",
        "\n",
        "x_history, y_history = [], []\n",
        "for _ in range(100):\n",
        "  y = f(x)\n",
        "  step = LR*f_prime(x)\n",
        "\n",
        "  x_history.append(x.numpy())\n",
        "  y_history.append(y.numpy())\n",
        "\n",
        "  x.assign_sub(step)  # x = x - lr*dx\n",
        "\n",
        "fig, ax = plt.subplots(figsize=(5,5))\n",
        "ax.plot(all_x, all_y)\n",
        "ax.scatter(x_history, y_history)\n",
        "plt.xlabel('$x$')\n",
        "plt.ylabel('$y=x^2-2x+1$')"
      ],
      "metadata": {
        "id": "w7EJ3u3DETMt",
        "colab": {
          "base_uri": "https://localhost:8080/",
          "height": 352
        },
        "outputId": "fe4a8aff-0b10-4bf9-9fc5-2972040fdfe0"
      },
      "execution_count": null,
      "outputs": [
        {
          "output_type": "execute_result",
          "data": {
            "text/plain": [
              "Text(0, 0.5, '$y=x^2-2x+1$')"
            ]
          },
          "metadata": {},
          "execution_count": 115
        },
        {
          "output_type": "display_data",
          "data": {
            "text/plain": [
              "<Figure size 360x360 with 1 Axes>"
            ],
            "image/png": "[encoded data removed]"
          },
          "metadata": {
            "needs_background": "light"
          }
        }
      ]
    },
    {
      "cell_type": "markdown",
      "source": [
        "# 과제 001\n",
        "\n",
        "주어진 함수를 이용하여 gradient descent 를 직접 구현하고 그래프를 그리시오.\n",
        "\n",
        "\n",
        "**제출**\n",
        "\n",
        "구현한 코드가 담긴 colab 파일을 PLATO \"텐서플로 과제 제출 01\"에 제출하세요. (12/27까지)\n",
        "\n",
        "```\n",
        "def f(x):\n",
        "    return x**4 - 3*x**3 +2\n",
        "\n",
        "def fprime(x): \n",
        "    h = 0.001\n",
        "    return (f(x+h) - f(x))/h\n",
        "```\n",
        "\n",
        "* 힌트: 교과서 44p를 **참고**"
      ],
      "metadata": {
        "id": "bea_5I3I0ZNi"
      }
    },
    {
      "cell_type": "markdown",
      "source": [
        "# ch3. regression\n",
        "\n",
        "통계에서 선형 회귀는 스칼라 응답(e.g.,키)와 하나 이상의 설명 변수(e.g.,몸무게) 간의 관계를 모델링하기 위한 선형 접근 방식입니다.\n",
        "\n",
        "주로 어떤 값을 예측하기 위해 많이 사용합니다.\n",
        "\n",
        "예를 들어, 100명의 키와 몸무게 데이터가 엑셀과 같이 row, column의 테이블 데이터 형식으로 주어질 때, 몸무게를 입력하면 키를 예측하거나 그 반대의 경우를 예측하는 경우에 사용할 수 있습니다.\n",
        "\n",
        "* simple linear regression: 몸무게 하나로 키를 예측할 때\n",
        "* multiple linear regression: 몸무게와 나이로 키를 예측할 때\n",
        "\n",
        "[선형회귀](https://en.wikipedia.org/wiki/Linear_regression)\n",
        "\n"
      ],
      "metadata": {
        "id": "Q9ZWR-b55Kjq"
      }
    },
    {
      "cell_type": "code",
      "source": [
        "import tensorflow as tf\n",
        "import pandas as pd\n",
        "import matplotlib.pyplot as plt\n",
        "import numpy as np"
      ],
      "metadata": {
        "id": "6fbaUQMqDcd2"
      },
      "execution_count": null,
      "outputs": []
    },
    {
      "cell_type": "markdown",
      "source": [
        "\n",
        "# 3.1 mean squared error"
      ],
      "metadata": {
        "id": "E6hE1RFTOmk3"
      }
    },
    {
      "cell_type": "markdown",
      "source": [
        "\n",
        "\n",
        "$$MSE = \\frac{1}{n}\\sum_{i=1}^{n}(y-\\hat{y})^2$$\n",
        "\n",
        "**왜 MSE 인가?**\n",
        "\n",
        "* 1차원이면 \n",
        "\n",
        "> 미분이 안되거나, loss 의 합이 0인 경우에 잘못된 결과를 도출할 수 있음\n",
        "\n",
        "* 3 차원 이상이면 \n",
        "\n",
        "> overfit 될 수 있고, 여러 개의 local optimal points 존재할 수 있음\n",
        "\n",
        "\n"
      ],
      "metadata": {
        "id": "plrcAI0qM54F"
      }
    },
    {
      "cell_type": "code",
      "source": [
        "def MSE(y, t):\n",
        "  return tf.reduce_mean(tf.square(y - t))   # (y - t)**2\n",
        "\n",
        "# https://www.tensorflow.org/api_docs/python/tf/keras/losses/MeanSquaredError\n",
        "# Computes the mean of squares of errors between labels and predictions.\n",
        "tf_MSE = tf.keras.losses.MeanSquaredError()\n",
        "\n",
        "t = tf.constant([1, 2, 3, 4], dtype=tf.float32)    \n",
        "\n",
        "y1 = tf.constant([0.5, 1, 1.5, 2])\n",
        "y2 = tf.constant([0.5, 1.5, 2.5, 3.5])\n",
        "\n",
        "print(\"MSE(t, y1)\", MSE(t, y1))\n",
        "print(\"MSE(t, y2)\", MSE(t, y2))\n",
        "\n",
        "print(\"tf_MSE(t, y1)\", tf_MSE(t, y1))\n",
        "print(\"tf_MSE(t, y2)\", tf_MSE(t, y2))"
      ],
      "metadata": {
        "id": "scMY5STt28Ya"
      },
      "execution_count": null,
      "outputs": []
    },
    {
      "cell_type": "markdown",
      "source": [
        "# 3.2 automatic differentiation\n",
        "\n",
        "* 자동으로 미분하기 위해 forward pass 동안 어떤 연산이 어떤 순서로 발생하는지 기억해야 함\n",
        "\n",
        "* 그런 다음 backward pass 중에 gradient 를 계산하기 위해 이 연산 목록을 역순으로 순회함\n",
        "\n",
        "* 이를 위해 tf.GradientTape 을 사용함\n",
        "\n",
        "[자동미분](https://www.tensorflow.org/guide/autodiff)"
      ],
      "metadata": {
        "id": "eLYfkA2FTaqE"
      }
    },
    {
      "cell_type": "code",
      "source": [
        "x = tf.Variable(2.0) # tf.Variable(2.0, trainable=True)\n",
        "y = tf.Variable(3.0) # tf.Variable(3.0, trainable=True)\n",
        "\n",
        "# https://www.tensorflow.org/api_docs/python/tf/GradientTape\n",
        "# Record operations for automatic differentiation.\n",
        "\n",
        "with tf.GradientTape() as tape:\n",
        "    z = x**2 + y**2\n",
        "\n",
        "# dx = 2x -> 4\n",
        "# dy = 2y -> 6\n",
        "dx, dy = tape.gradient(z, [x, y])\n",
        "print('dx=', dx.numpy())\n",
        "print('dy=', dy.numpy())\n",
        "\n",
        "x = tf.Variable(3.0)\n",
        "\n",
        "with tf.GradientTape() as tape:\n",
        "  y = x**2\n",
        "\n",
        "# dy = 2x * dx => 6\n",
        "dy_dx = tape.gradient(y, x)\n",
        "print('dy_dx.numpy()', dy_dx.numpy())"
      ],
      "metadata": {
        "id": "A4-z64FdXnAg"
      },
      "execution_count": null,
      "outputs": []
    },
    {
      "cell_type": "code",
      "source": [
        "# multiple variables\n",
        "W = tf.Variable(tf.random.normal((3, 2)), name='w')\n",
        "b = tf.Variable(tf.zeros(2, dtype=tf.float32), name='b')\n",
        "x = [[1., 2., 3.]]\n",
        "\n",
        "with tf.GradientTape(persistent=True) as tape:\n",
        "  # Since python >= 3.5 the @ operator is supported (see PEP 465). \n",
        "  # In TensorFlow, it simply calls the tf.matmul() function\n",
        "  y = x @ W + b\n",
        "  loss = tf.reduce_mean(y**2)\n",
        "\n",
        "[dl_dW, dl_db] = tape.gradient(loss, [W, b])\n",
        "\n",
        "print('W', W)\n",
        "print('b', b)\n",
        "print('dl_dw', dl_dW)\n",
        "print('dl_db', dl_db)\n",
        "\n",
        "my_vars = {\n",
        "    'W': W,\n",
        "    'b': b\n",
        "}\n",
        "\n",
        "grad = tape.gradient(loss, my_vars)\n",
        "print('grad[W]', grad['W'])\n",
        "print('grad[b]', grad['b'])"
      ],
      "metadata": {
        "id": "NaDND0z-U-JM"
      },
      "execution_count": null,
      "outputs": []
    },
    {
      "cell_type": "markdown",
      "source": [
        "# 3.3 MSE with SGD\n",
        "\n",
        "gradient descent 는 계산량이 많아 데이터가 많으면 느리다 (보통 GPU 메모리가 부족함 ㅠㅠ)\n",
        "\n",
        "* f 의 도함수를 구한 후 관찰값의 개수만큼 모두 계산함\n",
        "* $x_{1}, x_{2}, x_{3}...$ 등으로 n 개의 features 로 f 값을 계산 시 n개 각각 계산해야 함\n",
        "* epochs이 100 번이라면, 1000 * n * 100 미\n",
        "\n",
        "반면에, Stochastic Gradient Descent 는 \n",
        "\n",
        "* **실제 기울기(전체 데이터 세트에서 계산)를 추정치(데이터 세트에서 임의로 하나 선택하여 계산)로 대체하여 근사함** \n",
        "\n",
        "* 고차원 최적화 문제에서 계산 부담을 줄여줌 \n",
        "\n",
        "* but, zig-zag 패턴 및 수렴 속도가 엄청(?) 느려질 수 있고, 하나 고른 데이터가 outlier 일 경우에 영향을 많이 받을 수 있음\n",
        "\n",
        "* mini-batch 전략으로 보완함\n",
        "\n",
        "[확률적 경사 하강법](https://en.wikipedia.org/wiki/Stochastic_gradient_descent)\n"
      ],
      "metadata": {
        "id": "4FSLtAhk6BRE"
      }
    },
    {
      "cell_type": "code",
      "source": [
        "#Mini Batch Gradient Descent\n",
        "def f(x, w, b):\n",
        "  return w*x + b\n",
        "\n",
        "def MSE(y, t):\n",
        "  return tf.reduce_mean((y-t)**2)\n",
        "\n",
        "def w_grad_MSE(y, t, w, b):\n",
        "  return 2*tf.reduce_mean((y-t_batch)*x_batch)\n",
        "\n",
        "def b_grad_MSE(y, t, w, b):\n",
        "  return 2*tf.reduce_mean((y-t_batch))\n",
        "\n",
        "x = tf.range(-10,10, dtype=tf.float32)\n",
        "t = tf.range(-10,10, dtype=tf.float32)\n",
        "\n",
        "print('x', x)\n",
        "print('t', t)\n",
        "\n",
        "w = tf.Variable(tf.random.normal([]))\n",
        "b = tf.Variable(tf.random.normal([]))\n",
        "\n",
        "#w = tf.Variable(0.5)\n",
        "#b = tf.Variable(0.0)\n",
        "\n",
        "print('w', w)\n",
        "print('b', b)\n",
        "\n",
        "lr = 0.01  # 0.01, learning rate\n",
        "loss_list = []\n",
        "\n",
        "train_size = tf.size(t) # 12\n",
        "batch_size = 4\n",
        "\n",
        "# mini batch SGD\n",
        "K = train_size // batch_size # 3\n",
        "\n",
        "for epoch in range(100):\n",
        "    loss = 0\n",
        "    for step in range(K):\n",
        "        mask = np.random.choice(train_size, batch_size)\n",
        "        #print(mask)\n",
        "        # https://www.tensorflow.org/api_docs/python/tf/gather\n",
        "        # Gather slices from params axis axis according to indices. \n",
        "        x_batch = tf.gather(x, indices=mask)\n",
        "        t_batch = tf.gather(t, indices=mask)\n",
        "        \n",
        "        y_batch = f(x_batch, w, b) #w*x_batch + b\n",
        "        loss = MSE(y_batch, t_batch) # calculate MSE\n",
        "        dw = w_grad_MSE(y_batch, t_batch, w, b)\n",
        "        db = b_grad_MSE(y_batch, t_batch, w, b)\n",
        "        #dw = 2*tf.reduce_mean((y-t_batch)*x_batch) # gradients\n",
        "        #db = 2*tf.reduce_mean((y-t_batch))\n",
        "        #print('dw', dw)\n",
        "        #print('db', db)\n",
        "        w.assign_sub(lr*dw)\n",
        "        b.assign_sub(lr*db)\n",
        "        \n",
        "    loss /= tf.cast(K, dtype=tf.float32)   # average loss\n",
        "    loss_list.append(loss.numpy())\n",
        "    if not epoch%10:\n",
        "        print(\"epoch={}: w={:>8.4f}. b={:>8.4f}, loss={:>8.4f}\".format(epoch, w.numpy(), b.numpy(), loss.numpy()))\n",
        "\n",
        "print(\"w={:>8.4f}. b={:>8.4f}, loss={:>8.4f}\".format(w.numpy(), b.numpy(), loss.numpy()))\n",
        "\n",
        "plt.plot(loss_list)\n",
        "plt.xlabel('epochs')\n",
        "plt.ylabel('loss')\n",
        "plt.show() "
      ],
      "metadata": {
        "id": "V_eMWI0zGAyq",
        "colab": {
          "base_uri": "https://localhost:8080/",
          "height": 620
        },
        "outputId": "ae8c5ab6-c659-497c-cc00-7df5c4acd09a"
      },
      "execution_count": null,
      "outputs": [
        {
          "output_type": "stream",
          "name": "stdout",
          "text": [
            "x tf.Tensor(\n",
            "[-10.  -9.  -8.  -7.  -6.  -5.  -4.  -3.  -2.  -1.   0.   1.   2.   3.\n",
            "   4.   5.   6.   7.   8.   9.], shape=(20,), dtype=float32)\n",
            "t tf.Tensor(\n",
            "[-10.  -9.  -8.  -7.  -6.  -5.  -4.  -3.  -2.  -1.   0.   1.   2.   3.\n",
            "   4.   5.   6.   7.   8.   9.], shape=(20,), dtype=float32)\n",
            "w <tf.Variable 'Variable:0' shape=() dtype=float32, numpy=-1.0393536>\n",
            "b <tf.Variable 'Variable:0' shape=() dtype=float32, numpy=-0.75106287>\n",
            "epoch=0: w=  0.9083. b= -0.6019, loss=  0.1337\n",
            "epoch=10: w=  0.9913. b= -0.2193, loss=  0.0115\n",
            "epoch=20: w=  1.0015. b= -0.0818, loss=  0.0014\n",
            "epoch=30: w=  0.9968. b= -0.0300, loss=  0.0002\n",
            "epoch=40: w=  1.0003. b= -0.0116, loss=  0.0000\n",
            "epoch=50: w=  0.9997. b= -0.0046, loss=  0.0000\n",
            "epoch=60: w=  0.9999. b= -0.0016, loss=  0.0000\n",
            "epoch=70: w=  1.0000. b= -0.0006, loss=  0.0000\n",
            "epoch=80: w=  1.0000. b= -0.0002, loss=  0.0000\n",
            "epoch=90: w=  1.0000. b= -0.0001, loss=  0.0000\n",
            "w=  1.0000. b= -0.0000, loss=  0.0000\n"
          ]
        },
        {
          "output_type": "display_data",
          "data": {
            "text/plain": [
              "<Figure size 432x288 with 1 Axes>"
            ],
            "image/png": "[encoded data removed]"
          },
          "metadata": {
            "needs_background": "light"
          }
        }
      ]
    },
    {
      "cell_type": "code",
      "source": [
        "#Mini Batch Gradient Descent\n",
        "def f(x, w, b):\n",
        "  return w*x + b\n",
        "\n",
        "def MSE(y, t):\n",
        "  return tf.reduce_mean((y-t)**2)\n",
        "\n",
        "x = tf.range(-10, 10, dtype=tf.float32)\n",
        "t = tf.range(-10, 10, dtype=tf.float32)\n",
        "\n",
        "print('x', x)\n",
        "print('t', t)\n",
        "\n",
        "w = tf.Variable(tf.random.normal([]))\n",
        "b = tf.Variable(tf.random.normal([]))\n",
        "\n",
        "#w = tf.Variable(0.5)\n",
        "#b = tf.Variable(0.0)\n",
        "\n",
        "print('w', w)\n",
        "print('b', b)\n",
        "\n",
        "lr = 0.01  # 0.01, learning rate\n",
        "loss_list = []\n",
        "\n",
        "train_size = tf.size(t) # 12\n",
        "batch_size = 4\n",
        "\n",
        "# mini batch SGD\n",
        "K = train_size // batch_size # 3\n",
        "\n",
        "for epoch in range(100):\n",
        "    loss = 0\n",
        "    for step in range(K):\n",
        "        mask = np.random.choice(train_size, batch_size)\n",
        "        #print(mask)\n",
        "        # https://www.tensorflow.org/api_docs/python/tf/gather\n",
        "        # Gather slices from params axis axis according to indices. \n",
        "        x_batch = tf.gather(x, indices=mask)\n",
        "        t_batch = tf.gather(t, indices=mask)\n",
        "        with tf.GradientTape() as tape:\n",
        "          y_batch = f(x_batch, w, b) #w*x_batch + b\n",
        "          loss = MSE(y_batch, t_batch) # calculate MSE & loss_mean\n",
        "        \n",
        "        [dw, db] = tape.gradient(loss, [w,b])\n",
        "        # dW = 2*tf.reduce_mean((y-t_batch)*x_batch) # gradients\n",
        "        # dB = 2*tf.reduce_mean((y-t_batch))\n",
        "        #print('dW', dW)\n",
        "        #print('dB', dB)\n",
        "        w.assign_sub(lr*dw)\n",
        "        b.assign_sub(lr*db)\n",
        "        \n",
        "    loss /= tf.cast(K, dtype=tf.float32)   # average loss\n",
        "    loss_list.append(loss.numpy())\n",
        "    if not epoch%10:\n",
        "        print(\"epoch={}: w={:>8.4f}. b={:>8.4f}, loss={:>8.4f}\".format(epoch, w.numpy(), b.numpy(), loss.numpy()))\n",
        "\n",
        "print(\"w={:>8.4f}. b={:>8.4f}, loss={:>8.4f}\".format(w.numpy(), b.numpy(), loss.numpy()))\n",
        "\n",
        "plt.plot(loss_list)\n",
        "plt.xlabel('epochs')\n",
        "plt.ylabel('loss')\n",
        "plt.show() "
      ],
      "metadata": {
        "colab": {
          "base_uri": "https://localhost:8080/",
          "height": 616
        },
        "id": "6QEEtOLa3Gom",
        "outputId": "f8714f5d-915b-4d8e-d3c6-3ea9f52dd4d9"
      },
      "execution_count": null,
      "outputs": [
        {
          "output_type": "stream",
          "name": "stdout",
          "text": [
            "x tf.Tensor(\n",
            "[-10.  -9.  -8.  -7.  -6.  -5.  -4.  -3.  -2.  -1.   0.   1.   2.   3.\n",
            "   4.   5.   6.   7.   8.   9.], shape=(20,), dtype=float32)\n",
            "t tf.Tensor(\n",
            "[-10.  -9.  -8.  -7.  -6.  -5.  -4.  -3.  -2.  -1.   0.   1.   2.   3.\n",
            "   4.   5.   6.   7.   8.   9.], shape=(20,), dtype=float32)\n",
            "w <tf.Variable 'Variable:0' shape=() dtype=float32, numpy=-0.97757286>\n",
            "b <tf.Variable 'Variable:0' shape=() dtype=float32, numpy=-0.17506047>\n",
            "epoch=0: w=  0.9712. b= -0.2232, loss=  0.0053\n",
            "epoch=10: w=  0.9921. b= -0.0802, loss=  0.0014\n",
            "epoch=20: w=  0.9981. b= -0.0280, loss=  0.0001\n",
            "epoch=30: w=  1.0001. b= -0.0100, loss=  0.0000\n",
            "epoch=40: w=  1.0000. b= -0.0038, loss=  0.0000\n",
            "epoch=50: w=  0.9999. b= -0.0014, loss=  0.0000\n",
            "epoch=60: w=  1.0000. b= -0.0005, loss=  0.0000\n",
            "epoch=70: w=  1.0000. b= -0.0002, loss=  0.0000\n",
            "epoch=80: w=  1.0000. b= -0.0001, loss=  0.0000\n",
            "epoch=90: w=  1.0000. b= -0.0000, loss=  0.0000\n",
            "w=  1.0000. b= -0.0000, loss=  0.0000\n"
          ]
        },
        {
          "output_type": "display_data",
          "data": {
            "text/plain": [
              "<Figure size 432x288 with 1 Axes>"
            ],
            "image/png": "[encoded data removed]"
          },
          "metadata": {
            "needs_background": "light"
          }
        }
      ]
    },
    {
      "cell_type": "markdown",
      "source": [
        "## 3.3.1 tf.keras optimizers\n",
        "\n",
        "### SGD: Gradient descent (with momentum) optimizer.\n",
        "\n",
        "$$\\vec{v_{t}} = \\rho\\cdot\\vec{v_{t-1}} - lr\\cdot\\vec{dw}$$ \n",
        "$$w = w + v_{t}$$\n",
        "\n",
        "```python\n",
        "tf.keras.optimizers.SGD(\n",
        "    learning_rate=0.01,  \n",
        "    momentum=0.0,        \n",
        "    ...\n",
        ")\n",
        "```\n",
        "### Adagrad\n",
        "\n",
        "learning rate 에 지금까지 계산한 gradient 제곱값의 누적합(G)를 나눠서 갱신함\n",
        "\n",
        "기울기가 급격하게 변화할 때 lr 값이 작아지고, 반대일 때 커진다.\n",
        "\n",
        "학습을 많이할 수록 learning rate가 점점 작아짐\n",
        "\n",
        "$$w = w - lr\\cdot\\frac{1}{\\sqrt{G+\\epsilon}}\\cdot dw$$\n",
        "\n",
        "```python\n",
        "tf.keras.optimizers.Adagrad(\n",
        "    learning_rate=0.001,\n",
        "    epsilon=1e-07,\n",
        "    ...\n",
        ")\n",
        "```\n",
        "\n",
        "### RMSprop\n",
        "\n",
        "Adagrad의 G를 구할 때, 직전 단계의 G 누적합에 $\\rho$ 값으로 반영 비율을 조절함 \n",
        "\n",
        "$$G_{t}\\prime = \\rho \\cdot G_{t-1} + (1-\\rho)\\cdot (dw_{t})^2$$\n",
        "\n",
        "$$w = w - lr\\cdot\\frac{1}{\\sqrt{G\\prime+\\epsilon}}\\cdot dw$$\n",
        "\n",
        "```python\n",
        "tf.keras.optimizers.experimental.RMSprop(\n",
        "    learning_rate=0.001,\n",
        "    rho=0.9,\n",
        "    ...\n",
        ")\n",
        "```\n",
        "\n",
        "### Adam\n",
        "\n",
        "RMSprop 방법에 momentum 을 추가한 방법임 \n",
        "\n",
        "현재 가장 널리 사용되고 있는 최적화 알고리즘\n",
        "\n",
        "```python\n",
        "tf.keras.optimizers.Adam(\n",
        "    learning_rate=0.001,\n",
        "    beta_1=0.9,\n",
        "    beta_2=0.999,\n",
        "    ...\n",
        ")\n",
        "\n",
        "```\n",
        "\n",
        "<img src=\"https://user-images.githubusercontent.com/11681225/50016682-39742a80-000d-11e9-81da-ab0406610b9c.gif\">\n",
        "\n",
        "<img src=\"https://user-images.githubusercontent.com/11681225/49325458-fc785480-f585-11e8-8d2a-9012d6024c6e.gif\">\n",
        "\n",
        "[멋진 설명(33-50p)](https://www.slideshare.net/yongho/ss-79607172)\n",
        "\n",
        "[Animation 참조](https://github.com/ilguyi/optimizers.numpy)\n"
      ],
      "metadata": {
        "id": "qif2NTMDfnQw"
      }
    },
    {
      "cell_type": "code",
      "source": [
        "x = tf.Variable(2.0)\n",
        "y = tf.Variable(3.0)\n",
        "\n",
        "# https://www.tensorflow.org/api_docs/python/tf/keras/optimizers/experimental/SGD\n",
        "# Gradient descent (with momentum) optimizer.\n",
        "opt = tf.keras.optimizers.SGD(learning_rate=0.1) # learning_rate=0.001\n",
        "#opt = tf.keras.optimizers.Adam(learning_rate=0.1) \n",
        "#opt = tf.keras.optimizers.RMSprop(learning_rate=0.1)\n",
        "\n",
        "loss_list = [ ]\n",
        "for epoch in range(100):\n",
        "  with tf.GradientTape() as tape:\n",
        "    loss = x**2 + y**2               \n",
        "  loss_list.append(loss.numpy())\n",
        "  #if loss < 0.001: break\n",
        "  dx, dy = tape.gradient(loss, [x, y])\n",
        "  grads_and_vars = zip([dx, dy], [x, y])\n",
        "  opt.apply_gradients(grads_and_vars)\n",
        "\n",
        "  if not epoch%10:\n",
        "    print(\"epoch={}: w={:>8.4f}. b={:>8.4f}, loss={:>8.4f}\".format(epoch, x.numpy(), y.numpy(), loss.numpy()))\n",
        "\n",
        "                \n",
        "print(\"w={:>8.4f}. b={:>8.4f}, loss={:>8.4f}\".format(x.numpy(), y.numpy(), loss.numpy()))\n",
        "\t\n",
        "plt.plot(loss_list)\n",
        "plt.show()"
      ],
      "metadata": {
        "colab": {
          "base_uri": "https://localhost:8080/",
          "height": 460
        },
        "id": "1hj5EPe1gLe1",
        "outputId": "c7d916da-6e25-4ad5-e920-24b843e60ffd"
      },
      "execution_count": null,
      "outputs": [
        {
          "output_type": "stream",
          "name": "stdout",
          "text": [
            "epoch=0: w=  1.9000. b=  2.9000, loss= 13.0000\n",
            "epoch=10: w=  0.9331. b=  1.9189, loss=  5.1067\n",
            "epoch=20: w=  0.1602. b=  1.0389, loss=  1.3025\n",
            "epoch=30: w= -0.2240. b=  0.3641, loss=  0.2184\n",
            "epoch=40: w= -0.2219. b= -0.0349, loss=  0.0547\n",
            "epoch=50: w= -0.0595. b= -0.1733, loss=  0.0343\n",
            "epoch=60: w=  0.0484. b= -0.1454, loss=  0.0251\n",
            "epoch=70: w=  0.0472. b= -0.0623, loss=  0.0075\n",
            "epoch=80: w=  0.0041. b=  0.0018, loss=  0.0001\n",
            "epoch=90: w= -0.0155. b=  0.0244, loss=  0.0008\n",
            "w= -0.0084. b=  0.0193, loss=  0.0005\n"
          ]
        },
        {
          "output_type": "display_data",
          "data": {
            "text/plain": [
              "<Figure size 432x288 with 1 Axes>"
            ],
            "image/png": "[encoded data removed]"
          },
          "metadata": {
            "needs_background": "light"
          }
        }
      ]
    },
    {
      "cell_type": "code",
      "source": [
        "# def MSE(y, t):\n",
        "#     return tf.reduce_mean((y-t)**2)\n",
        "\n",
        "tf_MSE = tf.keras.losses.MeanSquaredError()\n",
        "optimizer = tf.keras.optimizers.SGD(learning_rate=0.001)\n",
        "\n",
        "x = tf.range(20, dtype=tf.float32)\n",
        "t = tf.range(20, dtype=tf.float32)\n",
        "\n",
        "w = tf.Variable(0.5)\n",
        "b = tf.Variable(0.0)\n",
        "\n",
        "lr = 0.001  # 0.01, learning rate\n",
        "loss_list = []\n",
        "\n",
        "train_size = tf.size(t) # 12\n",
        "batch_size = 4\n",
        "\n",
        "# mini batch SGD\n",
        "K = train_size // batch_size # 3\n",
        "\n",
        "for epoch in range(100):\n",
        "    loss = 0\n",
        "    for step in range(K):\n",
        "        mask = np.random.choice(train_size, batch_size)\n",
        "        #print(mask)\n",
        "        x_batch = tf.gather(x, indices=mask)\n",
        "        t_batch = tf.gather(t, indices=mask)\n",
        "        with tf.GradientTape() as tape:\n",
        "          y = w*x_batch + b                          # calculate the output\n",
        "          loss += tf_MSE(y, t_batch) # calculate MSE\n",
        "        optimizer.minimize(loss, [w, b], tape=tape)\n",
        "        #dW = 2*tf.reduce_mean((y-t_batch)*x_batch) # gradients\n",
        "        #dB = 2*tf.reduce_mean((y-t_batch))\n",
        "        #print('dW', dW)\n",
        "        #print('dB', dB)\n",
        "        #w.assign_sub(lr*dW)\n",
        "        #b.assign_sub(lr*dB)\n",
        "        \n",
        "    loss /= tf.cast(K, dtype=tf.float32)   # average loss\n",
        "    loss_list.append(loss.numpy())\n",
        "    if not epoch%10:\n",
        "        print(\"epoch={}: w={:>8.4f}. b={:>8.4f}, loss={:>8.4f}\".format(epoch, w.numpy(), b.numpy(), loss.numpy()))\n",
        "\n",
        "print(\"w={:>8.4f}. b={:>8.4f}, loss={:>8.4f}\".format(w.numpy(), b.numpy(), loss.numpy()))\n",
        "\n",
        "plt.plot(loss_list)\n",
        "plt.show() "
      ],
      "metadata": {
        "id": "_3Y4SMgOa4YC"
      },
      "execution_count": null,
      "outputs": []
    },
    {
      "cell_type": "markdown",
      "source": [
        "# 3.4 simple linear regression"
      ],
      "metadata": {
        "id": "OynmCv0DZiOt"
      }
    },
    {
      "cell_type": "code",
      "source": [
        "# https://www.tensorflow.org/tutorials/keras/regression\n",
        "# Predict fuel efficiency with the Auto MPG dataset\n",
        "\n",
        "url = 'http://archive.ics.uci.edu/ml/machine-learning-databases/auto-mpg/auto-mpg.data'\n",
        "column_names = ['MPG', 'Cylinders', 'Displacement', 'Horsepower', 'Weight',\n",
        "                'Acceleration', 'Model Year', 'Origin']\n",
        "\n",
        "raw_dataset = pd.read_csv(url, names=column_names,\n",
        "                          na_values='?', comment='\\t',\n",
        "                          sep=' ', skipinitialspace=True)\n",
        "MPG_dataset = raw_dataset.copy()\n",
        "MPG_dataset.head()\n"
      ],
      "metadata": {
        "colab": {
          "base_uri": "https://localhost:8080/",
          "height": 267
        },
        "id": "973J3NpjJ9rS",
        "outputId": "6883e9a7-13e2-4377-ef13-0e1cc1ca70ce"
      },
      "execution_count": null,
      "outputs": [
        {
          "output_type": "execute_result",
          "data": {
            "text/plain": [
              "    MPG  Cylinders  Displacement  Horsepower  Weight  Acceleration  \\\n",
              "0  18.0          8         307.0       130.0  3504.0          12.0   \n",
              "1  15.0          8         350.0       165.0  3693.0          11.5   \n",
              "2  18.0          8         318.0       150.0  3436.0          11.0   \n",
              "3  16.0          8         304.0       150.0  3433.0          12.0   \n",
              "4  17.0          8         302.0       140.0  3449.0          10.5   \n",
              "\n",
              "   Model Year  Origin  \n",
              "0          70       1  \n",
              "1          70       1  \n",
              "2          70       1  \n",
              "3          70       1  \n",
              "4          70       1  "
            ],
            "text/html": [
              "\n",
              "  <div id=\"df-955b51a5-f78b-4bac-8faf-93f8ba54911a\">\n",
              "    <div class=\"colab-df-container\">\n",
              "      <div>\n",
              "<style scoped>\n",
              "    .dataframe tbody tr th:only-of-type {\n",
              "        vertical-align: middle;\n",
              "    }\n",
              "\n",
              "    .dataframe tbody tr th {\n",
              "        vertical-align: top;\n",
              "    }\n",
              "\n",
              "    .dataframe thead th {\n",
              "        text-align: right;\n",
              "    }\n",
              "</style>\n",
              "<table border=\"1\" class=\"dataframe\">\n",
              "  <thead>\n",
              "    <tr style=\"text-align: right;\">\n",
              "      <th></th>\n",
              "      <th>MPG</th>\n",
              "      <th>Cylinders</th>\n",
              "      <th>Displacement</th>\n",
              "      <th>Horsepower</th>\n",
              "      <th>Weight</th>\n",
              "      <th>Acceleration</th>\n",
              "      <th>Model Year</th>\n",
              "      <th>Origin</th>\n",
              "    </tr>\n",
              "  </thead>\n",
              "  <tbody>\n",
              "    <tr>\n",
              "      <th>0</th>\n",
              "      <td>18.0</td>\n",
              "      <td>8</td>\n",
              "      <td>307.0</td>\n",
              "      <td>130.0</td>\n",
              "      <td>3504.0</td>\n",
              "      <td>12.0</td>\n",
              "      <td>70</td>\n",
              "      <td>1</td>\n",
              "    </tr>\n",
              "    <tr>\n",
              "      <th>1</th>\n",
              "      <td>15.0</td>\n",
              "      <td>8</td>\n",
              "      <td>350.0</td>\n",
              "      <td>165.0</td>\n",
              "      <td>3693.0</td>\n",
              "      <td>11.5</td>\n",
              "      <td>70</td>\n",
              "      <td>1</td>\n",
              "    </tr>\n",
              "    <tr>\n",
              "      <th>2</th>\n",
              "      <td>18.0</td>\n",
              "      <td>8</td>\n",
              "      <td>318.0</td>\n",
              "      <td>150.0</td>\n",
              "      <td>3436.0</td>\n",
              "      <td>11.0</td>\n",
              "      <td>70</td>\n",
              "      <td>1</td>\n",
              "    </tr>\n",
              "    <tr>\n",
              "      <th>3</th>\n",
              "      <td>16.0</td>\n",
              "      <td>8</td>\n",
              "      <td>304.0</td>\n",
              "      <td>150.0</td>\n",
              "      <td>3433.0</td>\n",
              "      <td>12.0</td>\n",
              "      <td>70</td>\n",
              "      <td>1</td>\n",
              "    </tr>\n",
              "    <tr>\n",
              "      <th>4</th>\n",
              "      <td>17.0</td>\n",
              "      <td>8</td>\n",
              "      <td>302.0</td>\n",
              "      <td>140.0</td>\n",
              "      <td>3449.0</td>\n",
              "      <td>10.5</td>\n",
              "      <td>70</td>\n",
              "      <td>1</td>\n",
              "    </tr>\n",
              "  </tbody>\n",
              "</table>\n",
              "</div>\n",
              "      <button class=\"colab-df-convert\" onclick=\"convertToInteractive('df-955b51a5-f78b-4bac-8faf-93f8ba54911a')\"\n",
              "              title=\"Convert this dataframe to an interactive table.\"\n",
              "              style=\"display:none;\">\n",
              "        \n",
              "  <svg xmlns=\"http://www.w3.org/2000/svg\" height=\"24px\"viewBox=\"0 0 24 24\"\n",
              "       width=\"24px\">\n",
              "    <path d=\"M0 0h24v24H0V0z\" fill=\"none\"/>\n",
              "    <path d=\"M18.56 5.44l.94 2.06.94-2.06 2.06-.94-2.06-.94-.94-2.06-.94 2.06-2.06.94zm-11 1L8.5 8.5l.94-2.06 2.06-.94-2.06-.94L8.5 2.5l-.94 2.06-2.06.94zm10 10l.94 2.06.94-2.06 2.06-.94-2.06-.94-.94-2.06-.94 2.06-2.06.94z\"/><path d=\"M17.41 7.96l-1.37-1.37c-.4-.4-.92-.59-1.43-.59-.52 0-1.04.2-1.43.59L10.3 9.45l-7.72 7.72c-.78.78-.78 2.05 0 2.83L4 21.41c.39.39.9.59 1.41.59.51 0 1.02-.2 1.41-.59l7.78-7.78 2.81-2.81c.8-.78.8-2.07 0-2.86zM5.41 20L4 18.59l7.72-7.72 1.47 1.35L5.41 20z\"/>\n",
              "  </svg>\n",
              "      </button>\n",
              "      \n",
              "  <style>\n",
              "    .colab-df-container {\n",
              "      display:flex;\n",
              "      flex-wrap:wrap;\n",
              "      gap: 12px;\n",
              "    }\n",
              "\n",
              "    .colab-df-convert {\n",
              "      background-color: #E8F0FE;\n",
              "      border: none;\n",
              "      border-radius: 50%;\n",
              "      cursor: pointer;\n",
              "      display: none;\n",
              "      fill: #1967D2;\n",
              "      height: 32px;\n",
              "      padding: 0 0 0 0;\n",
              "      width: 32px;\n",
              "    }\n",
              "\n",
              "    .colab-df-convert:hover {\n",
              "      background-color: #E2EBFA;\n",
              "      box-shadow: 0px 1px 2px rgba(60, 64, 67, 0.3), 0px 1px 3px 1px rgba(60, 64, 67, 0.15);\n",
              "      fill: #174EA6;\n",
              "    }\n",
              "\n",
              "    [theme=dark] .colab-df-convert {\n",
              "      background-color: #3B4455;\n",
              "      fill: #D2E3FC;\n",
              "    }\n",
              "\n",
              "    [theme=dark] .colab-df-convert:hover {\n",
              "      background-color: #434B5C;\n",
              "      box-shadow: 0px 1px 3px 1px rgba(0, 0, 0, 0.15);\n",
              "      filter: drop-shadow(0px 1px 2px rgba(0, 0, 0, 0.3));\n",
              "      fill: #FFFFFF;\n",
              "    }\n",
              "  </style>\n",
              "\n",
              "      <script>\n",
              "        const buttonEl =\n",
              "          document.querySelector('#df-955b51a5-f78b-4bac-8faf-93f8ba54911a button.colab-df-convert');\n",
              "        buttonEl.style.display =\n",
              "          google.colab.kernel.accessAllowed ? 'block' : 'none';\n",
              "\n",
              "        async function convertToInteractive(key) {\n",
              "          const element = document.querySelector('#df-955b51a5-f78b-4bac-8faf-93f8ba54911a');\n",
              "          const dataTable =\n",
              "            await google.colab.kernel.invokeFunction('convertToInteractive',\n",
              "                                                     [key], {});\n",
              "          if (!dataTable) return;\n",
              "\n",
              "          const docLinkHtml = 'Like what you see? Visit the ' +\n",
              "            '<a target=\"_blank\" href=https://colab.research.google.com/notebooks/data_table.ipynb>data table notebook</a>'\n",
              "            + ' to learn more about interactive tables.';\n",
              "          element.innerHTML = '';\n",
              "          dataTable['output_type'] = 'display_data';\n",
              "          await google.colab.output.renderOutput(dataTable, element);\n",
              "          const docLink = document.createElement('div');\n",
              "          docLink.innerHTML = docLinkHtml;\n",
              "          element.appendChild(docLink);\n",
              "        }\n",
              "      </script>\n",
              "    </div>\n",
              "  </div>\n",
              "  "
            ]
          },
          "metadata": {},
          "execution_count": 128
        }
      ]
    },
    {
      "cell_type": "code",
      "source": [
        "print(MPG_dataset.isna().sum())\n",
        "MPG_dataset = MPG_dataset.dropna()"
      ],
      "metadata": {
        "colab": {
          "base_uri": "https://localhost:8080/"
        },
        "id": "Jv_ktwsZPYX-",
        "outputId": "09b432f6-18aa-434e-add9-5689238dcf8a"
      },
      "execution_count": null,
      "outputs": [
        {
          "output_type": "stream",
          "name": "stdout",
          "text": [
            "MPG             0\n",
            "Cylinders       0\n",
            "Displacement    0\n",
            "Horsepower      6\n",
            "Weight          0\n",
            "Acceleration    0\n",
            "Model Year      0\n",
            "Origin          0\n",
            "dtype: int64\n"
          ]
        }
      ]
    },
    {
      "cell_type": "code",
      "source": [
        "import seaborn as sns\n",
        "\n",
        "train_dataset = MPG_dataset.sample(frac=0.8, random_state=0)\n",
        "test_dataset = MPG_dataset.drop(train_dataset.index)\n",
        "sns.pairplot(train_dataset[['MPG', 'Cylinders', 'Displacement', 'Weight']], diag_kind='kde')\n"
      ],
      "metadata": {
        "colab": {
          "base_uri": "https://localhost:8080/",
          "height": 715
        },
        "id": "KmaVwB5pKO5t",
        "outputId": "6af1b495-559c-412c-d3ef-10f5c09f9156"
      },
      "execution_count": null,
      "outputs": [
        {
          "output_type": "execute_result",
          "data": {
            "text/plain": [
              "<seaborn.axisgrid.PairGrid at 0x7fadb37e2a00>"
            ]
          },
          "metadata": {},
          "execution_count": 130
        },
        {
          "output_type": "display_data",
          "data": {
            "text/plain": [
              "<Figure size 720x720 with 20 Axes>"
            ],
            "image/png": "[encoded data removed]"
          },
          "metadata": {
            "needs_background": "light"
          }
        }
      ]
    },
    {
      "cell_type": "code",
      "source": [
        "train_dataset.corr() # miles per gallon "
      ],
      "metadata": {
        "colab": {
          "base_uri": "https://localhost:8080/",
          "height": 382
        },
        "id": "lyqdT_RbKjvt",
        "outputId": "e2550ec1-56a7-4e29-9a4f-b42de12f7795"
      },
      "execution_count": null,
      "outputs": [
        {
          "output_type": "execute_result",
          "data": {
            "text/plain": [
              "                   MPG  Cylinders  Displacement  Horsepower    Weight  \\\n",
              "MPG           1.000000  -0.770246     -0.800383   -0.764545 -0.819802   \n",
              "Cylinders    -0.770246   1.000000      0.946806    0.844247  0.893869   \n",
              "Displacement -0.800383   0.946806      1.000000    0.902151  0.929876   \n",
              "Horsepower   -0.764545   0.844247      0.902151    1.000000  0.857417   \n",
              "Weight       -0.819802   0.893869      0.929876    0.857417  1.000000   \n",
              "Acceleration  0.395955  -0.506000     -0.545912   -0.699720 -0.412728   \n",
              "Model Year    0.574117  -0.338375     -0.363671   -0.394927 -0.284673   \n",
              "Origin        0.569716  -0.560802     -0.613082   -0.449111 -0.579281   \n",
              "\n",
              "              Acceleration  Model Year    Origin  \n",
              "MPG               0.395955    0.574117  0.569716  \n",
              "Cylinders        -0.506000   -0.338375 -0.560802  \n",
              "Displacement     -0.545912   -0.363671 -0.613082  \n",
              "Horsepower       -0.699720   -0.394927 -0.449111  \n",
              "Weight           -0.412728   -0.284673 -0.579281  \n",
              "Acceleration      1.000000    0.276164  0.212413  \n",
              "Model Year        0.276164    1.000000  0.190277  \n",
              "Origin            0.212413    0.190277  1.000000  "
            ],
            "text/html": [
              "\n",
              "  <div id=\"df-a3546a1c-6652-4759-99bb-c697cdc42d98\">\n",
              "    <div class=\"colab-df-container\">\n",
              "      <div>\n",
              "<style scoped>\n",
              "    .dataframe tbody tr th:only-of-type {\n",
              "        vertical-align: middle;\n",
              "    }\n",
              "\n",
              "    .dataframe tbody tr th {\n",
              "        vertical-align: top;\n",
              "    }\n",
              "\n",
              "    .dataframe thead th {\n",
              "        text-align: right;\n",
              "    }\n",
              "</style>\n",
              "<table border=\"1\" class=\"dataframe\">\n",
              "  <thead>\n",
              "    <tr style=\"text-align: right;\">\n",
              "      <th></th>\n",
              "      <th>MPG</th>\n",
              "      <th>Cylinders</th>\n",
              "      <th>Displacement</th>\n",
              "      <th>Horsepower</th>\n",
              "      <th>Weight</th>\n",
              "      <th>Acceleration</th>\n",
              "      <th>Model Year</th>\n",
              "      <th>Origin</th>\n",
              "    </tr>\n",
              "  </thead>\n",
              "  <tbody>\n",
              "    <tr>\n",
              "      <th>MPG</th>\n",
              "      <td>1.000000</td>\n",
              "      <td>-0.770246</td>\n",
              "      <td>-0.800383</td>\n",
              "      <td>-0.764545</td>\n",
              "      <td>-0.819802</td>\n",
              "      <td>0.395955</td>\n",
              "      <td>0.574117</td>\n",
              "      <td>0.569716</td>\n",
              "    </tr>\n",
              "    <tr>\n",
              "      <th>Cylinders</th>\n",
              "      <td>-0.770246</td>\n",
              "      <td>1.000000</td>\n",
              "      <td>0.946806</td>\n",
              "      <td>0.844247</td>\n",
              "      <td>0.893869</td>\n",
              "      <td>-0.506000</td>\n",
              "      <td>-0.338375</td>\n",
              "      <td>-0.560802</td>\n",
              "    </tr>\n",
              "    <tr>\n",
              "      <th>Displacement</th>\n",
              "      <td>-0.800383</td>\n",
              "      <td>0.946806</td>\n",
              "      <td>1.000000</td>\n",
              "      <td>0.902151</td>\n",
              "      <td>0.929876</td>\n",
              "      <td>-0.545912</td>\n",
              "      <td>-0.363671</td>\n",
              "      <td>-0.613082</td>\n",
              "    </tr>\n",
              "    <tr>\n",
              "      <th>Horsepower</th>\n",
              "      <td>-0.764545</td>\n",
              "      <td>0.844247</td>\n",
              "      <td>0.902151</td>\n",
              "      <td>1.000000</td>\n",
              "      <td>0.857417</td>\n",
              "      <td>-0.699720</td>\n",
              "      <td>-0.394927</td>\n",
              "      <td>-0.449111</td>\n",
              "    </tr>\n",
              "    <tr>\n",
              "      <th>Weight</th>\n",
              "      <td>-0.819802</td>\n",
              "      <td>0.893869</td>\n",
              "      <td>0.929876</td>\n",
              "      <td>0.857417</td>\n",
              "      <td>1.000000</td>\n",
              "      <td>-0.412728</td>\n",
              "      <td>-0.284673</td>\n",
              "      <td>-0.579281</td>\n",
              "    </tr>\n",
              "    <tr>\n",
              "      <th>Acceleration</th>\n",
              "      <td>0.395955</td>\n",
              "      <td>-0.506000</td>\n",
              "      <td>-0.545912</td>\n",
              "      <td>-0.699720</td>\n",
              "      <td>-0.412728</td>\n",
              "      <td>1.000000</td>\n",
              "      <td>0.276164</td>\n",
              "      <td>0.212413</td>\n",
              "    </tr>\n",
              "    <tr>\n",
              "      <th>Model Year</th>\n",
              "      <td>0.574117</td>\n",
              "      <td>-0.338375</td>\n",
              "      <td>-0.363671</td>\n",
              "      <td>-0.394927</td>\n",
              "      <td>-0.284673</td>\n",
              "      <td>0.276164</td>\n",
              "      <td>1.000000</td>\n",
              "      <td>0.190277</td>\n",
              "    </tr>\n",
              "    <tr>\n",
              "      <th>Origin</th>\n",
              "      <td>0.569716</td>\n",
              "      <td>-0.560802</td>\n",
              "      <td>-0.613082</td>\n",
              "      <td>-0.449111</td>\n",
              "      <td>-0.579281</td>\n",
              "      <td>0.212413</td>\n",
              "      <td>0.190277</td>\n",
              "      <td>1.000000</td>\n",
              "    </tr>\n",
              "  </tbody>\n",
              "</table>\n",
              "</div>\n",
              "      <button class=\"colab-df-convert\" onclick=\"convertToInteractive('df-a3546a1c-6652-4759-99bb-c697cdc42d98')\"\n",
              "              title=\"Convert this dataframe to an interactive table.\"\n",
              "              style=\"display:none;\">\n",
              "        \n",
              "  <svg xmlns=\"http://www.w3.org/2000/svg\" height=\"24px\"viewBox=\"0 0 24 24\"\n",
              "       width=\"24px\">\n",
              "    <path d=\"M0 0h24v24H0V0z\" fill=\"none\"/>\n",
              "    <path d=\"M18.56 5.44l.94 2.06.94-2.06 2.06-.94-2.06-.94-.94-2.06-.94 2.06-2.06.94zm-11 1L8.5 8.5l.94-2.06 2.06-.94-2.06-.94L8.5 2.5l-.94 2.06-2.06.94zm10 10l.94 2.06.94-2.06 2.06-.94-2.06-.94-.94-2.06-.94 2.06-2.06.94z\"/><path d=\"M17.41 7.96l-1.37-1.37c-.4-.4-.92-.59-1.43-.59-.52 0-1.04.2-1.43.59L10.3 9.45l-7.72 7.72c-.78.78-.78 2.05 0 2.83L4 21.41c.39.39.9.59 1.41.59.51 0 1.02-.2 1.41-.59l7.78-7.78 2.81-2.81c.8-.78.8-2.07 0-2.86zM5.41 20L4 18.59l7.72-7.72 1.47 1.35L5.41 20z\"/>\n",
              "  </svg>\n",
              "      </button>\n",
              "      \n",
              "  <style>\n",
              "    .colab-df-container {\n",
              "      display:flex;\n",
              "      flex-wrap:wrap;\n",
              "      gap: 12px;\n",
              "    }\n",
              "\n",
              "    .colab-df-convert {\n",
              "      background-color: #E8F0FE;\n",
              "      border: none;\n",
              "      border-radius: 50%;\n",
              "      cursor: pointer;\n",
              "      display: none;\n",
              "      fill: #1967D2;\n",
              "      height: 32px;\n",
              "      padding: 0 0 0 0;\n",
              "      width: 32px;\n",
              "    }\n",
              "\n",
              "    .colab-df-convert:hover {\n",
              "      background-color: #E2EBFA;\n",
              "      box-shadow: 0px 1px 2px rgba(60, 64, 67, 0.3), 0px 1px 3px 1px rgba(60, 64, 67, 0.15);\n",
              "      fill: #174EA6;\n",
              "    }\n",
              "\n",
              "    [theme=dark] .colab-df-convert {\n",
              "      background-color: #3B4455;\n",
              "      fill: #D2E3FC;\n",
              "    }\n",
              "\n",
              "    [theme=dark] .colab-df-convert:hover {\n",
              "      background-color: #434B5C;\n",
              "      box-shadow: 0px 1px 3px 1px rgba(0, 0, 0, 0.15);\n",
              "      filter: drop-shadow(0px 1px 2px rgba(0, 0, 0, 0.3));\n",
              "      fill: #FFFFFF;\n",
              "    }\n",
              "  </style>\n",
              "\n",
              "      <script>\n",
              "        const buttonEl =\n",
              "          document.querySelector('#df-a3546a1c-6652-4759-99bb-c697cdc42d98 button.colab-df-convert');\n",
              "        buttonEl.style.display =\n",
              "          google.colab.kernel.accessAllowed ? 'block' : 'none';\n",
              "\n",
              "        async function convertToInteractive(key) {\n",
              "          const element = document.querySelector('#df-a3546a1c-6652-4759-99bb-c697cdc42d98');\n",
              "          const dataTable =\n",
              "            await google.colab.kernel.invokeFunction('convertToInteractive',\n",
              "                                                     [key], {});\n",
              "          if (!dataTable) return;\n",
              "\n",
              "          const docLinkHtml = 'Like what you see? Visit the ' +\n",
              "            '<a target=\"_blank\" href=https://colab.research.google.com/notebooks/data_table.ipynb>data table notebook</a>'\n",
              "            + ' to learn more about interactive tables.';\n",
              "          element.innerHTML = '';\n",
              "          dataTable['output_type'] = 'display_data';\n",
              "          await google.colab.output.renderOutput(dataTable, element);\n",
              "          const docLink = document.createElement('div');\n",
              "          docLink.innerHTML = docLinkHtml;\n",
              "          element.appendChild(docLink);\n",
              "        }\n",
              "      </script>\n",
              "    </div>\n",
              "  </div>\n",
              "  "
            ]
          },
          "metadata": {},
          "execution_count": 131
        }
      ]
    },
    {
      "cell_type": "code",
      "source": [],
      "metadata": {
        "id": "C_eeUGg0cgkR"
      },
      "execution_count": null,
      "outputs": []
    },
    {
      "cell_type": "code",
      "source": [
        "def load_MPG_train_dataset(columns):\n",
        "  x = train_dataset[columns].to_numpy()\n",
        "  y = train_dataset[['MPG']].to_numpy()\n",
        "  return (x, y)\n",
        "\n",
        "def load_MPG_test_dataset(columns):\n",
        "  x = test_dataset[columns].to_numpy()\n",
        "  y = test_dataset[['MPG']].to_numpy()\n",
        "  return (x, y)"
      ],
      "metadata": {
        "id": "9lDIfwnHLTee"
      },
      "execution_count": null,
      "outputs": []
    },
    {
      "cell_type": "code",
      "source": [
        "# gradient descent\n",
        "x, y = load_MPG_train_dataset(['Horsepower'])\n",
        "\n",
        "w = tf.Variable(tf.random.normal([]))\n",
        "b = tf.Variable(tf.random.normal([]))\n",
        "\n",
        "loss_list = []\n",
        "\n",
        "tf_MSE = tf.keras.losses.MeanSquaredError()\n",
        "optimizer = tf.keras.optimizers.SGD(learning_rate=0.001)\n",
        "\n",
        "for epoch in range(100):\n",
        "  with tf.GradientTape() as tape:\n",
        "    y_hat = w * x + b\n",
        "    loss = tf_MSE(y_hat, y)\n",
        "  \n",
        "  dw, db = tape.gradient(loss, [w, b])\n",
        "  opt.apply_gradients([[dw, w], [db, b]])\n",
        "  loss_list.append(loss.numpy())\n",
        "\n",
        "  if not epoch%10:\n",
        "    print(\"epoch={}: w={:>8.4f}. b={:>8.4f}, loss={:>8.4f}\".format(epoch, w.numpy(), b.numpy(), loss.numpy()))\n",
        "       \n",
        "print(\"w={:>8.4f}. b={:>8.4f}, loss={:>8.4f}\".format(w.numpy(), b.numpy(), loss.numpy()))\n",
        "\t\n",
        "plt.plot(loss_list)\n",
        "plt.show()"
      ],
      "metadata": {
        "colab": {
          "base_uri": "https://localhost:8080/",
          "height": 460
        },
        "id": "jxAPtkfUOZcc",
        "outputId": "08930bc8-3618-4cc7-872f-8df980bf4c35"
      },
      "execution_count": null,
      "outputs": [
        {
          "output_type": "stream",
          "name": "stdout",
          "text": [
            "epoch=0: w= -0.1067. b= -0.4477, loss=221.5268\n",
            "epoch=10: w=  0.3401. b=  1.2423, loss=461.6804\n",
            "epoch=20: w=  0.1741. b=  2.7935, loss=273.0952\n",
            "epoch=30: w=  0.0977. b=  4.4836, loss=169.4108\n",
            "epoch=40: w=  0.0922. b=  6.1916, loss=167.8813\n",
            "epoch=50: w=  0.1036. b=  7.8376, loss=147.9783\n",
            "epoch=60: w=  0.1052. b=  9.3919, loss=131.8628\n",
            "epoch=70: w=  0.0943. b= 10.8543, loss=121.9529\n",
            "epoch=80: w=  0.0783. b= 12.2359, loss=112.7645\n",
            "epoch=90: w=  0.0638. b= 13.5474, loss=104.2938\n",
            "w=  0.0541. b= 14.6736, loss= 97.5409\n"
          ]
        },
        {
          "output_type": "display_data",
          "data": {
            "text/plain": [
              "<Figure size 432x288 with 1 Axes>"
            ],
            "image/png": "[encoded data removed]"
          },
          "metadata": {
            "needs_background": "light"
          }
        }
      ]
    },
    {
      "cell_type": "code",
      "source": [
        "# mini-batch gradient descent\n",
        "x, y = load_MPG_train_dataset(['Horsepower'])\n",
        "batch_size = 32\n",
        "dataset = tf.data.Dataset.from_tensor_slices((x, y))\n",
        "w = tf.Variable(tf.random.normal([]))\n",
        "b = tf.Variable(tf.random.normal([]))\n",
        "\n",
        "loss_list = []\n",
        "\n",
        "tf_MSE = tf.keras.losses.MeanSquaredError()\n",
        "optimizer = tf.keras.optimizers.Adam()\n",
        "\n",
        "for epoch in range(100):\n",
        "  dataset_train = dataset.shuffle(buffer_size=1024).batch(batch_size)\n",
        "  for step, (x_batch, y_batch) in enumerate(dataset_train):\n",
        "    #print('step', step)\n",
        "    #print('x_batch', x_batch.shape)\n",
        "    #print('y_batch', y_batch.shape)\n",
        "    with tf.GradientTape() as tape:\n",
        "      y_hat = w * x + b\n",
        "      loss = tf_MSE(y_hat, y)\n",
        "    \n",
        "    dw, db = tape.gradient(loss, [w, b])\n",
        "    opt.apply_gradients([[dw, w], [db, b]])\n",
        "    loss/=batch_size\n",
        "    loss_list.append(loss.numpy())\n",
        "\n",
        "  if not epoch%10:\n",
        "    print(\"epoch={}: w={:>8.4f}. b={:>8.4f}, loss={:>8.4f}\".format(epoch, w.numpy(), b.numpy(), loss.numpy()))\n",
        "       \n",
        "print(\"w={:>8.4f}. b={:>8.4f}, loss={:>8.4f}\".format(w.numpy(), b.numpy(), loss.numpy()))\n",
        "\n",
        "fig, axs = plt.subplots(1, 3, figsize=(15, 5))\n",
        "axs[0].plot(loss_list)\n",
        "axs[0].set(xlabel=\"epochs\", ylabel=\"loss\")\n",
        "\n",
        "axs[1].scatter(x, y)\n",
        "axs[1].plot(x, w*x+b, color='g')\n",
        "axs[1].set(xlabel=\"Horsepower\", ylabel=\"MPG\")\n",
        "\n",
        "x, y = load_MPG_test_dataset(['Horsepower'])\n",
        "axs[2].scatter(x, y)\n",
        "axs[2].plot(x, w*x+b, color='r')\n",
        "axs[2].set(xlabel=\"Horsepower\", ylabel=\"MPG\")\n",
        "print(\"loss={:>8.4f}\".format(tf_MSE(w*x+b, y)))\n",
        "\n"
      ],
      "metadata": {
        "colab": {
          "base_uri": "https://localhost:8080/",
          "height": 470
        },
        "id": "-PU_1IUxSpvP",
        "outputId": "c0b50249-8c4a-493b-863d-6db115864817"
      },
      "execution_count": null,
      "outputs": [
        {
          "output_type": "stream",
          "name": "stdout",
          "text": [
            "epoch=0: w=  1.2640. b=  3.5343, loss=521.6129\n",
            "epoch=10: w=  0.1310. b=  5.1933, loss=  5.0772\n",
            "epoch=20: w=  0.1119. b=  7.9338, loss=  4.4167\n",
            "epoch=30: w=  0.0896. b= 10.5683, loss=  3.8355\n",
            "epoch=40: w=  0.0683. b= 13.0949, loss=  3.3255\n",
            "epoch=50: w=  0.0479. b= 15.5083, loss=  2.8816\n",
            "epoch=60: w=  0.0286. b= 17.8038, loss=  2.4988\n",
            "epoch=70: w=  0.0102. b= 19.9773, loss=  2.1716\n",
            "epoch=80: w= -0.0070. b= 22.0255, loss=  1.8947\n",
            "epoch=90: w= -0.0232. b= 23.9459, loss=  1.6627\n",
            "w= -0.0369. b= 25.5636, loss=  1.4882\n",
            "loss= 52.6568\n"
          ]
        },
        {
          "output_type": "display_data",
          "data": {
            "text/plain": [
              "<Figure size 1080x360 with 3 Axes>"
            ],
            "image/png": "[encoded data removed]"
          },
          "metadata": {
            "needs_background": "light"
          }
        }
      ]
    },
    {
      "cell_type": "markdown",
      "source": [
        "# 3.5 multiple linear regression"
      ],
      "metadata": {
        "id": "i7GWC3OAZn66"
      }
    },
    {
      "cell_type": "code",
      "source": [
        "# mini-batch gradient descent\n",
        "x, y = load_MPG_train_dataset(column_names[1:])\n",
        "batch_size = 32\n",
        "dataset = tf.data.Dataset.from_tensor_slices((x, y))\n",
        "w = tf.Variable(tf.random.normal(shape=(x.shape[1],1)))\n",
        "b = tf.Variable(tf.random.normal([]))\n",
        "\n",
        "loss_list = []\n",
        "\n",
        "tf_MSE = tf.keras.losses.MeanSquaredError()\n",
        "optimizer = tf.keras.optimizers.Adam()\n",
        "\n",
        "for epoch in range(100):\n",
        "  dataset_train = dataset.shuffle(buffer_size=1024).batch(batch_size)\n",
        "  for step, (x_batch, y_batch) in enumerate(dataset_train):\n",
        "    #print('step', step)\n",
        "    #print('x_batch', x_batch.shape)\n",
        "    #print('y_batch', y_batch.shape)\n",
        "    with tf.GradientTape() as tape:\n",
        "      y_hat = x @ w + b\n",
        "      loss = tf_MSE(y_hat, y)\n",
        "    \n",
        "    dw, db = tape.gradient(loss, [w, b])\n",
        "    opt.apply_gradients([[dw, w], [db, b]])\n",
        "    loss/=batch_size\n",
        "    loss_list.append(loss.numpy())\n",
        "\n",
        "  if not epoch%10:\n",
        "    print(\"epoch={}: loss={:>8.4f}\".format(epoch, loss.numpy()))\n",
        "       \n",
        "print(\"loss={:>8.4f}\".format(loss.numpy()))\n",
        "\n",
        "fig, ax = plt.subplots(figsize=(15, 5))\n",
        "ax.plot(loss_list)\n",
        "ax.set(xlabel=\"epochs\", ylabel=\"loss\")\n",
        "\n",
        "#axs[1].scatter(x, y)\n",
        "#axs[1].plot(x, w*x+b, color='g')\n",
        "#axs[1].set(xlabel=\"Horsepower\", ylabel=\"MPG\")\n",
        "\n",
        "x, y = load_MPG_test_dataset(column_names[1:])\n",
        "#axs[2].scatter(x, y)\n",
        "#axs[2].plot(x, w*x+b, color='r')\n",
        "#axs[2].set(xlabel=\"Horsepower\", ylabel=\"MPG\")\n",
        "print(\"loss={:>8.4f}\".format(tf.reduce_mean(tf_MSE(x@w+b, y))))"
      ],
      "metadata": {
        "colab": {
          "base_uri": "https://localhost:8080/",
          "height": 469
        },
        "id": "2WEUCfGFc_51",
        "outputId": "91cb1386-182e-469c-8e71-469c5487e0a5"
      },
      "execution_count": null,
      "outputs": [
        {
          "output_type": "stream",
          "name": "stdout",
          "text": [
            "epoch=0: loss=3997.7549\n",
            "epoch=10: loss=  5.6558\n",
            "epoch=20: loss=  1.4936\n",
            "epoch=30: loss=  0.6310\n",
            "epoch=40: loss=  0.4496\n",
            "epoch=50: loss=  0.4089\n",
            "epoch=60: loss=  0.3977\n",
            "epoch=70: loss=  0.3933\n",
            "epoch=80: loss=  0.3909\n",
            "epoch=90: loss=  0.3891\n",
            "loss=  0.3876\n",
            "loss= 12.7825\n"
          ]
        },
        {
          "output_type": "display_data",
          "data": {
            "text/plain": [
              "<Figure size 1080x360 with 1 Axes>"
            ],
            "image/png": "[encoded data removed]"
          },
          "metadata": {
            "needs_background": "light"
          }
        }
      ]
    },
    {
      "cell_type": "markdown",
      "source": [
        "# 과제 002\n",
        "\n",
        "주어진 보스톤 주택 가격 데이터 셋을 이용하여 주택 가격을 예측하는 multiple variables regression 을 수행하는 프로그램을 직접 작성하시오.\n",
        "\n",
        "단, 아래 조건을 만족하여 구현하시오.\n",
        "\n",
        "* loss 함수: tensorflow 의 MSE \n",
        "* gradient 계산: tensorflow의 GradientTape()\n",
        "* optimizer: tensorflow의 Adam\n",
        "\n",
        "**제출**\n",
        "\n",
        "구현한 코드가 담긴 colab 파일을 PLATO \"텐서플로 과제 제출 01\"에 제출하세요. (12/27까지)\n",
        "\n",
        "```python\n",
        "import tensorflow as tf\n",
        "import pandas as pd\n",
        "import matplotlib.pyplot as plt\n",
        "import numpy as np\n",
        "\n",
        "# https://www.tensorflow.org/api_docs/python/tf/keras/datasets/boston_housing/load_data\n",
        "# features 설명 (http://lib.stat.cmu.edu/datasets/boston)\n",
        "# 보스톤 주택 가격(MEDV) 예측 (1인당 범죄율, 주택당 평균 방 개수, 학생대 교사 비율 등의 features 이용함)\n",
        "# MEDV(주택 가격 중앙값, 단위: $1,000)\n",
        "\n",
        "(x_train, y_train), (x_test, y_test) = tf.keras.datasets.boston_housing.load_data(\n",
        "    path='boston_housing.npz', test_split=0.2, seed=113\n",
        ")\n",
        "print('x_train.shape', 'y_train.shape', x_train.shape, y_train.shape)\n",
        "\n",
        "all_train_data = np.hstack((x_train, y_train.reshape((-1, 1))))\n",
        "column_names = ['CRIM', 'ZN', 'INDUS', 'CHAS', 'NOX', 'RM', 'AGE', 'DIS', 'RAD', 'TAX', 'PTRATIO', 'B', 'LSTAT', 'MEDV']\n",
        "df = pd.DataFrame(all_train_data, columns=column_names)\n",
        "df.head()\n",
        "sns.pairplot(df[['CRIM', 'ZN', 'INDUS', 'TAX', 'MEDV']], diag_kind='kde')\n",
        "```\n",
        "\n",
        "* 힌트:\n",
        "https://dschloe.github.io/python/tensorflow2.0/ch4_4_boston_housing_deeplearning/"
      ],
      "metadata": {
        "id": "Wvg5fPQK2Fo6"
      }
    }
  ]
}