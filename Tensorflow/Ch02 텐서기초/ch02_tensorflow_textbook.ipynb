{
  "cells": [
    {
      "cell_type": "markdown",
      "metadata": {
        "id": "i7xUOtsUea3_"
      },
      "source": [
        "# ch2. tensorflow basics"
      ]
    },
    {
      "cell_type": "markdown",
      "metadata": {
        "id": "IsKflSiqVl6j"
      },
      "source": [
        "# 2.0 import tensorflow module"
      ]
    },
    {
      "cell_type": "code",
      "execution_count": 1,
      "metadata": {
        "id": "DH1rP3pe2L3Y"
      },
      "outputs": [
        {
          "ename": "ModuleNotFoundError",
          "evalue": "No module named 'tensorflow'",
          "output_type": "error",
          "traceback": [
            "\u001b[1;31m---------------------------------------------------------------------------\u001b[0m",
            "\u001b[1;31mModuleNotFoundError\u001b[0m                       Traceback (most recent call last)",
            "\u001b[1;32m~\\AppData\\Local\\Temp\\ipykernel_8200\\1760616965.py\u001b[0m in \u001b[0;36m<module>\u001b[1;34m\u001b[0m\n\u001b[1;32m----> 1\u001b[1;33m \u001b[1;32mimport\u001b[0m \u001b[0mtensorflow\u001b[0m \u001b[1;32mas\u001b[0m \u001b[0mtf\u001b[0m\u001b[1;33m\u001b[0m\u001b[1;33m\u001b[0m\u001b[0m\n\u001b[0m\u001b[0;32m      2\u001b[0m \u001b[1;32mimport\u001b[0m \u001b[0mnumpy\u001b[0m \u001b[1;32mas\u001b[0m \u001b[0mnp\u001b[0m\u001b[1;33m\u001b[0m\u001b[1;33m\u001b[0m\u001b[0m\n\u001b[0;32m      3\u001b[0m \u001b[1;33m\u001b[0m\u001b[0m\n\u001b[0;32m      4\u001b[0m \u001b[0mprint\u001b[0m\u001b[1;33m(\u001b[0m\u001b[0mtf\u001b[0m\u001b[1;33m.\u001b[0m\u001b[0m__version__\u001b[0m\u001b[1;33m)\u001b[0m\u001b[1;33m\u001b[0m\u001b[1;33m\u001b[0m\u001b[0m\n",
            "\u001b[1;31mModuleNotFoundError\u001b[0m: No module named 'tensorflow'"
          ]
        }
      ],
      "source": [
        "import tensorflow as tf\n",
        "import numpy as np \n",
        "\n",
        "print(tf.__version__)"
      ]
    },
    {
      "cell_type": "markdown",
      "metadata": {
        "id": "etB4bkeeyNoG"
      },
      "source": [
        "# 2.1 tensor"
      ]
    },
    {
      "cell_type": "code",
      "execution_count": null,
      "metadata": {
        "id": "YCr_osYXyRCB"
      },
      "outputs": [],
      "source": [
        "# https://www.tensorflow.org/guide/tensor\n",
        "\n",
        "# Tensors are multi-dimensional arrays with a uniform type (called a dtype)\n",
        "# If you're familiar with NumPy, tensors are (kind of) like np.arrays.\n",
        "\n",
        "# All tensors are immutable like Python numbers and strings: \n",
        "# you can never update the contents of a tensor, only create a new one."
      ]
    },
    {
      "cell_type": "markdown",
      "metadata": {
        "id": "c_2ltF2wV4Gs"
      },
      "source": [
        "## 2.11 tf.constant"
      ]
    },
    {
      "cell_type": "code",
      "execution_count": null,
      "metadata": {
        "id": "mZUMHZ5-V1vw"
      },
      "outputs": [],
      "source": [
        "\n",
        "tensor_constant = tf.constant(1)\n",
        "\n",
        "print('tensor_constant - type', type(tensor_constant))\n",
        "print('tensor_constant', tensor_constant)\n",
        "print('tensor_constant.shape', tensor_constant.shape)\n",
        "print('tensor_constant.dtype', tensor_constant.dtype)\n",
        "\n",
        "# https://www.tensorflow.org/api_docs/python/tf/constant\n",
        "\n",
        "# Creates a constant tensor from a tensor-like object.\n",
        "# If the argument dtype is not specified, then the type is inferred from the type of value.\n",
        "\n",
        "t3 = tf.constant([1, 2, 3, 4, 5, 6])\n",
        "print('t3 size', tf.size(t3))\n",
        "print('t3 shape', tf.shape(t3))\n",
        "\n",
        "print('t3.shape', t3.shape)\n",
        "print('t3.dtype', t3.dtype)\n",
        "\n",
        "# If dtype is specified, the resulting tensor values are cast to the requested dtype.\n",
        "# https://www.tensorflow.org/api_docs/python/tf/dtypes\n",
        "\n",
        "t31 = tf.constant([1, 2, 3, 4, 5, 6], dtype=tf.float64)\n",
        "print('t31 size', tf.size(t31, out_type=tf.float64))\n",
        "print('t31 shape', tf.shape(t31))\n",
        "\n",
        "# If shape is set, the value is reshaped to match. \n",
        "# Scalars are expanded to fill the shape:\n",
        "\n",
        "# A \"matrix\" or \"rank-2\" tensor has two axes:\n",
        "t32 = tf.constant([1, 2, 3, 4, 5, 6], shape=(2, 3))\n",
        "print('t32', t32)\n",
        "\n"
      ]
    },
    {
      "cell_type": "markdown",
      "metadata": {
        "id": "GHlA00lZ6xfJ"
      },
      "source": [
        "## 2.12 shapes"
      ]
    },
    {
      "cell_type": "markdown",
      "metadata": {
        "id": "iYOaJJlo78QB"
      },
      "source": [
        "Tensors have shapes. Some vocabulary:\n",
        "\n",
        "* **Shape**: The length (number of elements) of each of the axes of a tensor.\n",
        "* **Rank**: Number of tensor axes. A scalar has rank 0, a vector has rank 1, a matrix is rank 2.\n",
        "* **Axis** or Dimension: A particular dimension of a tensor.\n",
        "* **Size**: The total number of items in the tensor, the product of the shape vector's elements."
      ]
    },
    {
      "cell_type": "code",
      "execution_count": null,
      "metadata": {
        "id": "ZYNXs0CC61ci"
      },
      "outputs": [],
      "source": [
        "\n",
        "# Here is a \"scalar\" or \"rank-0\" tensor . \n",
        "# A scalar contains a single value, and no \"axes\".\n",
        "\n",
        "rank_0_tensor = tf.constant(4)\n",
        "print('rank_0_tensor', rank_0_tensor, '\\n')\n",
        "\n",
        "# A \"vector\" or \"rank-1\" tensor is like a list of values. A vector has one axis:\n",
        "rank_1_tensor = tf.constant([2.0, 3.0, 4.0])\n",
        "print('rank_1_tensor', rank_1_tensor, '\\n')\n",
        "\n",
        "# Tensors may have more axes; here is a tensor with three axes:\n",
        "rank_3_tensor = tf.constant([\n",
        "  [[0, 1, 2, 3, 4],\n",
        "   [5, 6, 7, 8, 9]],\n",
        "  [[10, 11, 12, 13, 14],\n",
        "   [15, 16, 17, 18, 19]],\n",
        "  [[20, 21, 22, 23, 24],\n",
        "   [25, 26, 27, 28, 29]],])\n",
        "print('rank_3_tensor', rank_3_tensor, '\\n')\n",
        "\n",
        "# Typical axis order\n",
        "\n",
        "# While axes are often referred to by their indices, \n",
        "# you should always keep track of the meaning of each. \n",
        "# Often axes are ordered from global to local: \n",
        "\n",
        "# The batch axis first, followed by spatial dimensions, and features for each location last. \n",
        "# This way feature vectors are contiguous regions of memory.\n",
        "\n",
        "rank_4_tensor = tf.zeros([3, 2, 4, 5])\n",
        "print('rank_4_tensor', rank_4_tensor, '\\n')\n"
      ]
    },
    {
      "cell_type": "markdown",
      "metadata": {
        "id": "sF0Q8n6N04dO"
      },
      "source": [
        "<img src=\"https://drive.google.com/uc?id=1RIqj-vWJSGyzg307OtrBBgi2hmo8fF6T\" width=\"800\"/>"
      ]
    },
    {
      "cell_type": "markdown",
      "metadata": {
        "id": "fIbrUxtK3Jhm"
      },
      "source": [
        "<img src=\"https://drive.google.com/uc?id=1Vt0juPT0qj-dKw667NXdrQ_lKXJp7chd\" width=\"800\"/>"
      ]
    },
    {
      "cell_type": "markdown",
      "metadata": {
        "id": "zsBcHq7L3uXP"
      },
      "source": [
        "<img src=\"https://drive.google.com/uc?id=1gQQkRY1gYnd3OFQfr0ghd3U8qNLnsOSM\" width=\"800\"/>"
      ]
    },
    {
      "cell_type": "markdown",
      "metadata": {
        "id": "6MQvQQAn86Db"
      },
      "source": [
        "## 2.13 Slicing"
      ]
    },
    {
      "cell_type": "markdown",
      "metadata": {
        "id": "PCmOO_lF9Hdm"
      },
      "source": [
        "TensorFlow follows standard Python indexing rules, similar to indexing a list or a string in Python, and the basic rules for NumPy indexing.\n",
        "\n",
        "* indexes start at 0\n",
        "* negative indices count backwards from the end\n",
        "* colons, :, are used for slices: start:stop:step"
      ]
    },
    {
      "cell_type": "code",
      "execution_count": null,
      "metadata": {
        "id": "UYzyFKAi9C1Y"
      },
      "outputs": [],
      "source": [
        "rank_1_tensor = tf.constant([0, 1, 1, 2, 3, 5, 8, 13, 21, 34])\n",
        "print(rank_1_tensor.numpy())\n",
        "print(\"First:\", rank_1_tensor[0].numpy())\n",
        "print(\"Second:\", rank_1_tensor[1].numpy())\n",
        "print(\"Last:\", rank_1_tensor[-1].numpy())\n",
        "\n",
        "print(\"Everything:\", rank_1_tensor[:].numpy())\n",
        "print(\"Before 4:\", rank_1_tensor[:4].numpy())\n",
        "print(\"From 4 to the end:\", rank_1_tensor[4:].numpy())\n",
        "print(\"From 2, before 7:\", rank_1_tensor[2:7].numpy())\n",
        "print(\"Every other item:\", rank_1_tensor[::2].numpy())\n",
        "print(\"Reversed:\", rank_1_tensor[::-1].numpy())\n",
        "\n",
        "rank_2_tensor = tf.constant([1, 2, 3, 4, 5, 6], shape=(3,2), dtype=tf.dtypes.float32)\n",
        "print(rank_2_tensor.numpy())\n",
        "\n",
        "print(rank_2_tensor[1, 1].numpy())\n",
        "print(\"Second row:\", rank_2_tensor[1, :].numpy())\n",
        "print(\"Second column:\", rank_2_tensor[:, 1].numpy())\n",
        "print(\"Last row:\", rank_2_tensor[-1, :].numpy())\n",
        "print(\"First item in last column:\", rank_2_tensor[0, -1].numpy())\n",
        "print(\"Skip the first row:\")\n",
        "print(rank_2_tensor[1:, :].numpy(), \"\\n\")\n",
        "\n",
        "rank_3_tensor = tf.constant([\n",
        "  [[0, 1, 2, 3, 4],\n",
        "   [5, 6, 7, 8, 9]],\n",
        "  [[10, 11, 12, 13, 14],\n",
        "   [15, 16, 17, 18, 19]],\n",
        "  [[20, 21, 22, 23, 24],\n",
        "   [25, 26, 27, 28, 29]],])\n",
        "print(rank_3_tensor)\n",
        "print(rank_3_tensor[:, :, 4])"
      ]
    },
    {
      "cell_type": "markdown",
      "metadata": {
        "id": "m7U7wNuVWhMm"
      },
      "source": [
        "# 2.2 tf.Variable"
      ]
    },
    {
      "cell_type": "markdown",
      "metadata": {
        "id": "-AiuhH-OIrIR"
      },
      "source": [
        "* Variables are created and tracked via the tf.Variable class. \n",
        "* **A tf.Variable represents a tensor whose value can be changed by running ops on it.**\n",
        "* Specific ops allow you to read and modify the values of this tensor. \n",
        "* Higher level libraries like tf.keras use tf.Variable to store model parameters."
      ]
    },
    {
      "cell_type": "code",
      "execution_count": null,
      "metadata": {
        "id": "8XbDDYP74gBW"
      },
      "outputs": [],
      "source": [
        "\n",
        "# https://www.tensorflow.org/api_docs/python/tf/Variable\n",
        "# https://www.tensorflow.org/guide/variable\n",
        "\n",
        "my_variable = tf.Variable(2)\n",
        "print('my_variable', my_variable, '\\n')\n",
        "print('my_variable.type', type(my_variable), '\\n')\n",
        "print('my_variable.shape', my_variable.shape, '\\n')\n",
        "print('my_variable.dtype', my_variable.dtype, '\\n')\n",
        "\n",
        "# A variable looks and acts like a tensor, and, in fact, is a data structure backed by a tf.Tensor. \n",
        "# Like tensors, they have a dtype and a shape, and can be exported to NumPy.\n",
        "my_tensor = tf.constant([[1.0, 2.0], [3.0, 4.0]])\n",
        "my_variable = tf.Variable(my_tensor)\n",
        "print('my_variable', my_variable, '\\n')\n",
        "print(\"my_variable.shape: \", my_variable.shape, '\\n')\n",
        "print(\"my_variable.dtype: \", my_variable.dtype, '\\n')\n",
        "print(\"my_variable.numpy: \", my_variable.numpy(), '\\n')\n",
        "\n",
        "\n",
        "# tensor operators\n",
        "tv1 = tf.Variable([1,2,3])\n",
        "tv2 = tf.Variable([1,1,1])\n",
        "r1 = tv1 + tv2\n",
        "print('r1 = tv1 + tv2', type(r1), r1)\n",
        "\n",
        "tc1 = tf.constant([1,2,3])\n",
        "tc2 = tf.constant([1,1,1])\n",
        "r2 = tc1 + tc2\n",
        "print('r2 = tc1 + tc2', type(r2), r2)\n",
        "\n",
        "tc = tf.constant([1,2,3])\n",
        "tv = tf.Variable([1,1,1])\n",
        "r3 = tc + tv\n",
        "print('r3 = tc + tv', type(r3), r3)\n",
        "\n",
        "tv = tf.Variable([1,2,3])\n",
        "tc = tf.constant([1,1,1])\n",
        "r4 = tv + tc\n",
        "print('r4 = tv + tc', type(r4), r4)\n"
      ]
    },
    {
      "cell_type": "code",
      "execution_count": null,
      "metadata": {
        "id": "6cBZZpiJEXA6"
      },
      "outputs": [],
      "source": [
        "# Most tensor operations work on variables as expected, \n",
        "# although variables cannot be reshaped.\n",
        "\n",
        "print(\"Viewed as a tensor:\", tf.convert_to_tensor(my_variable), '\\n')\n",
        "print(\"Index of highest value:\", tf.math.argmax(my_variable), '\\n')\n",
        "\n",
        "# This creates a new tensor; it does not reshape the variable.\n",
        "print(\"Copying and reshaping: \", tf.reshape(my_variable, [1,4]), '\\n')\n",
        "print('my_variable', my_variable, '\\n')\n",
        "\n",
        "# As noted above, variables are backed by tensors. \n",
        "# You can reassign the tensor using tf.Variable.assign. \n",
        "# Calling assign does not (usually) allocate a new tensor;\n",
        "# instead, the existing tensor's memory is reused.\n",
        "\n",
        "a = tf.Variable([2.0, 3.0])\n",
        "print('a variable', a, '\\n')\n",
        "# This will keep the same dtype, float32\n",
        "a.assign([1, 2]) \n",
        "print('a.assign([1, 2])', a, '\\n')\n",
        "# Not allowed as it resizes the variable: \n",
        "try:\n",
        "  a.assign([1.0, 2.0, 3.0])\n",
        "except Exception as e:\n",
        "  print(f\"{type(e).__name__}: {e}\")\n",
        "\n",
        "\n",
        "# If you use a variable like a tensor in operations, \n",
        "# you will usually operate on the backing tensor.\n",
        "\n",
        "# Creating new variables from existing variables duplicates the backing tensors. \n",
        "# Two variables will not share the same memory.\n",
        "\n",
        "a = tf.Variable([2.0, 3.0])\n",
        "# Create b based on the value of a\n",
        "b = tf.Variable(a)\n",
        "a.assign([5, 6])\n",
        "\n",
        "# a and b are different\n",
        "print('a.numpy()', a.numpy(), '\\n')\n",
        "print('b.numpy()', b.numpy(), '\\n')\n",
        "\n",
        "# There are other versions of assign\n",
        "print('a.assign_add([2,3])', a.assign_add([2,3]).numpy(), '\\n')  # [7. 9.]\n",
        "print('a.assign_sub([7,9])', a.assign_sub([7,9]).numpy(), '\\n')  # [0. 0.]\n",
        "\n",
        "\n",
        "# In Python-based TensorFlow, tf.Variable instance have the same lifecycle as other Python objects. \n",
        "# When there are no references to a variable it is automatically deallocated.\n",
        "\n",
        "# Variables can also be named which can help you track and debug them. \n",
        "# You can give two variables the same name.\n",
        "\n",
        "# Create a and b; they will have the same name but will be backed by\n",
        "# different tensors.\n",
        "a = tf.Variable(my_tensor, name=\"Mark\")\n",
        "# A new variable with the same name, but different value\n",
        "# Note that the scalar add is broadcast\n",
        "b = tf.Variable(my_tensor + 1, name=\"Mark\")\n",
        "\n",
        "# These are elementwise-unequal, despite having the same name\n",
        "print(a == b)\n",
        "\n",
        "# v = tf.Variable([0.0])\n",
        "# with tf.GradientTape() as g:\n",
        "#     loss = tf.constant(v + v)\n",
        "# g.gradient(loss, v).numpy()\n",
        "\n",
        "# print('gradient', g.gradient)\n",
        "# print('watched_variables', g.watched_variables)"
      ]
    },
    {
      "cell_type": "markdown",
      "metadata": {
        "id": "mVaEX3oiXEeX"
      },
      "source": [
        "# 2.3 convert python objects to tensors"
      ]
    },
    {
      "cell_type": "markdown",
      "metadata": {
        "id": "2s3_bWVnHUnf"
      },
      "source": [
        "Most ops, like tf.matmul and tf.reshape take arguments of class tf.Tensor. \n",
        "\n",
        "However, you'll notice in the above case, Python objects shaped like tensors are accepted.\n",
        "\n",
        "**Most, but not all, ops call convert_to_tensor on non-tensor arguments.** \n",
        "\n",
        "There is a registry of conversions, and **most object classes like NumPy's ndarray, TensorShape, Python lists, and tf.Variable will all convert automatically.**"
      ]
    },
    {
      "cell_type": "code",
      "execution_count": null,
      "metadata": {
        "id": "6s2kdHRDXKAW"
      },
      "outputs": [],
      "source": [
        "# numpy array to tensor\n",
        "\n",
        "np_data = np.array([[1,2], [3,4]])\n",
        "constant_from_narray = tf.constant(np_data, dtype=tf.dtypes.int32)\n",
        "print('constant_from_numpy_array', type(constant_from_narray), constant_from_narray)\n",
        "variable_from_narray = tf.Variable(np_data, dtype=tf.dtypes.int32)\n",
        "print('variable_from_numpy_array', type(variable_from_narray), variable_from_narray)\n",
        "\n",
        "# python list to tensor\n",
        "data = [1,2,3]\n",
        "constant_from_list = tf.constant(data)\n",
        "print('constant_from_list', type(constant_from_list), constant_from_list)\n",
        "variable_from_list = tf.Variable(data)\n",
        "print('variable_from_list', type(variable_from_list), variable_from_list)\n"
      ]
    },
    {
      "cell_type": "markdown",
      "metadata": {
        "id": "CtmAAR2SYOY4"
      },
      "source": [
        "# Lab 001\n",
        "\n",
        "\n"
      ]
    },
    {
      "cell_type": "markdown",
      "metadata": {
        "id": "w6dvVR-SAhr0"
      },
      "source": [
        "> 문제 1\n",
        "---\n",
        "\n",
        "2 x 2 행렬을 나타내는 constant 를 정의하시오. \n",
        "\n",
        "단, 값은 1, 2, 3, 4 이며 타입은 float32 으로 하시오. \n",
        "\n",
        "* **출력형식**\n",
        "\n",
        "<tf.Tensor: shape=(2, 2), dtype=float32, numpy=array([[1., 2.],[3., 4.]], dtype=float32)>\n",
        "\n",
        "---"
      ]
    },
    {
      "cell_type": "code",
      "execution_count": null,
      "metadata": {
        "id": "abGEU9OTbYLH"
      },
      "outputs": [],
      "source": []
    },
    {
      "cell_type": "markdown",
      "metadata": {
        "id": "0vQ4R0qiAVnu"
      },
      "source": [
        "> 문제 2\n",
        "---\n",
        "np.array[[1,2,3],[4,5,6]] 을 Variable 로 정의하시오.\n",
        "\n",
        "* **출력형식**\n",
        "\n",
        "\n",
        "<tf.Variable 'Variable:0' shape=(2, 3) dtype=int64, numpy=array([[1, 2, 3],[4, 5, 6]])>\n",
        "\n",
        "---"
      ]
    },
    {
      "cell_type": "code",
      "execution_count": null,
      "metadata": {
        "id": "AXHJ8bW8bmNN"
      },
      "outputs": [],
      "source": []
    },
    {
      "cell_type": "markdown",
      "metadata": {
        "id": "2j3Q1IhaBf_e"
      },
      "source": [
        "> 문제 3\n",
        "---\n",
        "주어진 tensor 에서 특정 elements 를 추출하시오.\n",
        "\n",
        "* **주어진 tensor**\n",
        "\n",
        "```python\n",
        "t1 = tf.constant([0, 1, 2, 3, 4, 5, 6, 7])\n",
        "\n",
        "t2 = tf.constant([[0, 1, 2, 3, 4],\n",
        "                [5, 6, 7, 8, 9],\n",
        "                [10, 11, 12, 13, 14],\n",
        "                [15, 16, 17, 18, 19]])\n",
        "\n",
        "t3 = tf.constant([[[1, 3, 5, 7],\n",
        "                   [9, 11, 13, 15]],\n",
        "                  [[17, 19, 21, 23],\n",
        "                   [25, 27, 29, 31]]\n",
        "                  ])\n",
        "```\n",
        "\n",
        "* **출력형식**\n",
        "\n",
        "t1 tf.Tensor([1 2 3], shape=(3,), dtype=int32)\n",
        "\n",
        "t2 tf.Tensor( [[ 1 2] [ 6 7] [11 12]], shape=(3, 2), dtype=int32)\n",
        "\n",
        "t3 tf.Tensor([[[25 27]]], shape=(1, 1, 2), dtype=int32)\n",
        "\n",
        "---"
      ]
    },
    {
      "cell_type": "code",
      "execution_count": null,
      "metadata": {
        "id": "Bu1D4Zq3Bjnw"
      },
      "outputs": [],
      "source": []
    },
    {
      "cell_type": "markdown",
      "metadata": {
        "id": "g4rJMJ2pfWxy"
      },
      "source": [
        "# 2.4 create tensors"
      ]
    },
    {
      "cell_type": "code",
      "execution_count": null,
      "metadata": {
        "id": "WaYkUOO7Igna"
      },
      "outputs": [],
      "source": [
        "lst_data = [0,0,0,0,0]\n",
        "constant_data = tf.constant(lst_data)\n",
        "print(constant_data)\n",
        "\n",
        "# if data is very large?\n",
        "\n",
        "# https://www.tensorflow.org/api_docs/python/tf/zeros\n",
        "# Creates a tensor with all elements set to zero.\n",
        "constant_data_zero = tf.zeros(shape=(4,4,3))\n",
        "print('constant_data_zero', constant_data_zero)\n",
        "\n",
        "# https://www.tensorflow.org/api_docs/python/tf/zeros_like\n",
        "constant_data_zero_like = tf.zeros_like(constant_data)\n",
        "print('constant_data_zero_like', constant_data_zero_like)\n",
        "\n",
        "# https://www.tensorflow.org/api_docs/python/tf/ones\n",
        "# Creates a tensor with all elements set to one (1).\n",
        "constant_data_one = tf.ones(shape=(3,3,1))\n",
        "print('constant_data_one', constant_data_one)\n",
        "\n",
        "indices = [0, 1, 2, 3, 4]\n",
        "depth = 5\n",
        "constant_data_one_hot = tf.one_hot(indices, depth)\n",
        "print('constant_data_one_hot', constant_data_one_hot)\n",
        "\n",
        "# https://www.tensorflow.org/api_docs/python/tf/fill\n",
        "# Creates a tensor filled with a scalar value.\n",
        "constant_data_three = tf.fill([3,3,1], 3)\n",
        "print('constant_data_three', constant_data_three)\n",
        "\n",
        "# https://www.tensorflow.org/api_docs/python/tf/eye\n",
        "# Construct an identity matrix, or a batch of matrices.\n",
        "constant_data_identity = tf.eye(3)\n",
        "print(constant_data_identity)\n",
        "\n",
        "# https://www.tensorflow.org/api_docs/python/tf/range\n",
        "# Creates a sequence of numbers.\n",
        "print(tf.range(1, 10, 2, name=\"range\"))\n",
        "\n",
        "# https://www.tensorflow.org/api_docs/python/tf/linspace\n",
        "# Generates evenly-spaced values in an interval along a given axis.\n",
        "print(tf.linspace(1, 10, 10, name=\"linspace\"))\n",
        "\n",
        "t_array = tf.Variable([[1,2], [3,4]])\n",
        "print('t_array', t_array)\n",
        "\n",
        "# https://www.tensorflow.org/api_docs/python/tf/reshape\n",
        "# Reshapes a tensor.\n",
        "print('tf.reshape(t_array)', tf.reshape(t_array, shape=(1,4)))\n",
        "\n",
        "# https://www.tensorflow.org/api_docs/python/tf/transpose\n",
        "# Transposes a, where a is a Tensor.\n",
        "print('tf.transpose(t_array)', tf.transpose(t_array))\n",
        "\n",
        "\n",
        "t1 = [[1, 2, 3], [4, 5, 6]]\n",
        "t2 = [[7, 8, 9], [10, 11, 12]]\n",
        "print('t1', t1)\n",
        "print('t2', t2)\n",
        "\n",
        "# https://www.tensorflow.org/api_docs/python/tf/concat\n",
        "# Concatenates tensors along one dimension.\n",
        "print('tf.concat([t1, t2], 0)', tf.concat([t1, t2], 0))\n",
        "print('tf.concat([t1, t2], 1)', tf.concat([t1, t2], 1))\n",
        "\n",
        "print('tf.stack([t1, t2], 0)', tf.stack([t1, t2], 0))\n",
        "print('tf.stack([t1, t2], 1)', tf.stack([t1, t2], 1))"
      ]
    },
    {
      "cell_type": "markdown",
      "metadata": {
        "id": "lJy-52itlXrL"
      },
      "source": [
        "# 2.5 create tensors with random"
      ]
    },
    {
      "cell_type": "code",
      "execution_count": null,
      "metadata": {
        "id": "kKGlGtMYla_-"
      },
      "outputs": [],
      "source": [
        "# https://www.tensorflow.org/api_docs/python/tf/random\n",
        "# Public API for tf.random namespace.\n",
        "\n",
        "# https://www.tensorflow.org/api_docs/python/tf/random/set_seed\n",
        "# Sets the global random seed.\n",
        "tf.random.set_seed(5);\n",
        "\n",
        "# https://www.tensorflow.org/api_docs/python/tf/random/normal\n",
        "# Outputs random values from a normal distribution.\n",
        "\n",
        "# tf.random.normal(\n",
        "#     shape,\n",
        "#     mean=0.0,\n",
        "#     stddev=1.0,\n",
        "#     dtype=tf.dtypes.float32,\n",
        "#     seed=None,\n",
        "#     name=None\n",
        "# )\n",
        "\n",
        "print(tf.random.normal(shape=(3,3,1)))\n",
        "print(tf.random.normal((3,3,1)))\n",
        "\n",
        "tf.random.set_seed(5);\n",
        "print(tf.random.normal((3,3,1)))\n",
        "\n",
        "tf.random.set_seed(5);\n",
        "print(tf.random.normal((3,3,1)))\n",
        "\n",
        "t1 = tf.reshape(tf.random.shuffle(tf.range(12)), shape = (3, 4))\n",
        "print(t1)\n",
        "\n",
        "tensor_random_normal = tf.random.normal(mean=3, stddev=1, shape=(100,))\n",
        "print('tensor_random_normal', tensor_random_normal)\n",
        "\n",
        "import matplotlib.pyplot as plt\n",
        "fig, ax = plt.subplots(figsize=(5, 5))\n",
        "ax.hist(tensor_random_normal)\n",
        "\n",
        "# https://www.tensorflow.org/api_docs/python/tf/random/uniform\n",
        "# Outputs random values from a uniform distribution.\n",
        "\n",
        "tensor_random_uniform = tf.random.uniform(shape=(100,), minval=1, maxval=10)\n",
        "print('tensor_random_uniform', tensor_random_uniform)\n",
        "fig, ax = plt.subplots(figsize=(5, 5))\n",
        "ax.hist(tensor_random_uniform)"
      ]
    },
    {
      "cell_type": "markdown",
      "metadata": {
        "id": "NJSy8AEYkdto"
      },
      "source": [
        "# Lab 002"
      ]
    },
    {
      "cell_type": "markdown",
      "metadata": {
        "id": "tx-xRRRVk8QV"
      },
      "source": [
        "> 문제 4\n",
        "---\n",
        "shape 이 3 x 16 x 16 인 tensor를 생성하시오.\n",
        "\n",
        "단, 값은 모두 1로 설정하시오.\n",
        "\n",
        "* **출력형식**\n",
        "\n",
        "\n",
        "<tf.Tensor: shape=(3, 16, 16), dtype=float32, numpy=생략>\n",
        "\n",
        "---"
      ]
    },
    {
      "cell_type": "code",
      "execution_count": null,
      "metadata": {
        "id": "ikBWtBc-kckM"
      },
      "outputs": [],
      "source": []
    },
    {
      "cell_type": "markdown",
      "metadata": {
        "id": "Xs3noXsMl0jo"
      },
      "source": [
        "> 문제 5\n",
        "---\n",
        "shape 이 3 x 16 x 16 인 tensor를 3개 생성하시오.\n",
        "\n",
        "* 첫 번째 tensor는 값이 모두 0 \n",
        "* 두 번째 tensor는 값이 모두 1\n",
        "* 세 번째 tensor는 값이 모두 2\n",
        "\n",
        "단, 3개의 tensors를 하나의 tensor 에 저장하시오.\n",
        "\n",
        "* **출력형식**\n",
        "\n",
        "<tf.Tensor: shape=(3, 3, 16, 16), dtype=float32, numpy=생략>"
      ]
    },
    {
      "cell_type": "code",
      "execution_count": null,
      "metadata": {
        "id": "esB5XNFom7gD"
      },
      "outputs": [],
      "source": []
    },
    {
      "cell_type": "markdown",
      "metadata": {
        "id": "-d-iyaDToaSS"
      },
      "source": [
        "> 문제 6\n",
        "---\n",
        "shape 이 3 x 16 x 16 인 tensor (dtype=int32) 를 8개 생성하시오.\n",
        "\n",
        "* tensor의 값은 0~255 범위의 random 정수값\n",
        "\n",
        "단, 8개의 tensors를 하나의 tensor 에 저장하시오.\n",
        "\n",
        "* **출력형식**\n",
        "\n",
        "<tf.Tensor: shape=(8, 3, 16, 16), dtype=int32, numpy=생략>"
      ]
    },
    {
      "cell_type": "code",
      "execution_count": null,
      "metadata": {
        "id": "OK0RvJ8_pAp9"
      },
      "outputs": [],
      "source": []
    },
    {
      "cell_type": "markdown",
      "metadata": {
        "id": "0wB-IeXvCmTy"
      },
      "source": [
        "# 2.6 tensor operators"
      ]
    },
    {
      "cell_type": "markdown",
      "metadata": {
        "id": "zUwPtiQ6H9fW"
      },
      "source": [
        "TensorFlow provides a variety of math functions including:\n",
        "\n",
        "* **Basic arithmetic operators** and trigonometric functions.\n",
        "* Special math functions (like: tf.math.igamma and tf.math.zeta)\n",
        "* Complex number functions (like: tf.math.imag and tf.math.angle)\n",
        "* **Reductions and scans** (like: tf.math.reduce_mean and tf.math.cumsum)\n",
        "* Segment functions (like: tf.math.segment_sum)"
      ]
    },
    {
      "cell_type": "code",
      "execution_count": null,
      "metadata": {
        "id": "4Gjua5X5Ctuz"
      },
      "outputs": [],
      "source": [
        "# python list operators\n",
        "\n",
        "lst = [1, 2, 3]\n",
        "print('lst', lst)\n",
        "\n",
        "# list multiplication with int\n",
        "print('2 * lst', 2 * lst)\n",
        "\n",
        "# adding two lists\n",
        "print('lst+[4, 5]', lst + [4, 5])\n",
        "\n",
        "# element-wise multiplication\n",
        "print('list comprehension', [ x*4 for x in lst])\n",
        "\n",
        "import operator\n",
        "print('map(operator.mul, ...)', list(map(operator.mul, [4]*len(lst), lst)))\n",
        "\n",
        "# print([1, 2, 3] < 0)"
      ]
    },
    {
      "cell_type": "code",
      "execution_count": null,
      "metadata": {
        "id": "pWhNijX1DMh1"
      },
      "outputs": [],
      "source": [
        "# https://www.tensorflow.org/api_docs/python/tf/math\n",
        "\n",
        "# Basic arithmetic operators \n",
        "t1 = tf.ones(shape=(2,3))\n",
        "t_mul = 5 *t1\n",
        "print('t_mul', t_mul, '\\n')\n",
        "t_add = 5 + t1\n",
        "print('t_add', t_add, '\\n')\n",
        "t_sub = 5 - t1\n",
        "print('t_sub', t_sub, '\\n')\n",
        "t_div = t1 / 5\n",
        "print('t_div', t_div, '\\n')\n",
        "print('t1', t1, '\\n')\n",
        "\n",
        "t1 = tf.ones(shape=(2,3))\n",
        "print('tf.multiply(t1, 5)', tf.multiply(t1, 5), '\\n')\n",
        "print('tf.add(t1, 5)', tf.add(t1, 5), '\\n')\n",
        "print('tf.subtract(t1, 5)', tf.subtract(t1, 5), '\\n')\n",
        "print('tf.divide(t1, 5)', tf.divide(t1, 5), '\\n')\n",
        "print('t1', t1, '\\n')\n",
        "\n",
        "\n",
        "print(t1 < 1)\n",
        "print(t1 > 0)"
      ]
    },
    {
      "cell_type": "code",
      "execution_count": null,
      "metadata": {
        "id": "k9s4ZQU0IQrH"
      },
      "outputs": [],
      "source": [
        "# Reductions\n",
        "\n",
        "#1\n",
        "a = tf.reshape(tf.range(12), shape = (3, 4))\n",
        "print(a)\n",
        "\n",
        "#2 \n",
        "print(tf.reduce_min(a))\n",
        "print(tf.reduce_min(a, axis= 0))\n",
        "print(tf.reduce_min(a, axis= 1))\n",
        "\n",
        "#3\n",
        "print(tf.reduce_max(a))\n",
        "print(tf.reduce_max(a, axis= 0))\n",
        "print(tf.reduce_max(a, axis= 1))\n",
        "\n",
        "#4\n",
        "print(tf.reduce_sum(a))\n",
        "print(tf.reduce_sum(a, axis= 0))\n",
        "print(tf.reduce_sum(a, axis= 1))\n",
        "\n",
        "#5\n",
        "print(tf.reduce_mean(a))\n",
        "print(tf.reduce_mean(a, axis= 0))\n",
        "print(tf.reduce_mean(a, axis= 1))\n",
        "\n",
        "#6\n",
        "print(tf.reduce_prod(a))\n",
        "print(tf.reduce_prod(a, axis= 0))\n",
        "print(tf.reduce_prod(a, axis= 1))\n",
        "\n",
        "#7\n",
        "t1 = tf.reshape(tf.random.shuffle(tf.range(12)), shape = (3, 4))\n",
        "print(tf.argmin(a)) #  tf.argmin(a, axis =0)\n",
        "print(tf.argmin(a, axis =1))\n",
        "print(tf.argmax(a)) # tf.argmax(a, axis =0)\n",
        "print(tf.argmax(a, axis =1))\n",
        "\n",
        "#8\n",
        "a = tf.random.shuffle(tf.range(12))\n",
        "print(a)\n",
        "print(tf.sort(a)) # direction=\"ASCENDING\"\n",
        "print(tf.sort(a, direction=\"DESCENDING\"))\n",
        "\n",
        "a = tf.reshape(a, shape=(3, 4))\n",
        "print(a)\n",
        "print(tf.sort(a)) # tf.sort(a, axis = 1)\n",
        "print(tf.sort(a, axis = 0))"
      ]
    },
    {
      "cell_type": "markdown",
      "metadata": {
        "id": "9osxkZbF-NcE"
      },
      "source": [
        "# Lab 003\n",
        "\n"
      ]
    },
    {
      "cell_type": "markdown",
      "metadata": {
        "id": "ELUuSllBetDn"
      },
      "source": [
        "> 문제 7\n",
        "---\n",
        "shape 이 3 x 16 x 16 인 tensor (dtype=flaot32) 를 8개 생성하시오.\n",
        "\n",
        "* tensor의 값은 -1~1 범위의 random 실수값\n",
        "\n",
        "단, 8개의 tensors를 하나의 tensor 에 저장하시오.\n",
        "\n",
        "* **출력형식**\n",
        "\n",
        "<tf.Tensor: shape=(8, 3, 16, 16), dtype=int32, numpy=생략>"
      ]
    },
    {
      "cell_type": "code",
      "execution_count": null,
      "metadata": {
        "id": "P4DWueQmeubB"
      },
      "outputs": [],
      "source": []
    },
    {
      "cell_type": "markdown",
      "metadata": {
        "id": "0oWkAdgtd5dJ"
      },
      "source": [
        "> 문제 8\n",
        "---\n",
        "주어진 MPG dataset을 이용하여 아래 통계값을 구하시오.\n",
        "\n",
        "* 각 컬럼들의 합\n",
        "* 각 컬럼들의 평균\n",
        "* Horsepower 가 가장 큰 데이터의 인덱스 번호 (0부터 시작)\n",
        "* 가장 작은 MPG 값\n",
        "\n",
        "```python\n",
        "#pip install -q seaborn\n",
        "import matplotlib.pyplot as plt\n",
        "import numpy as np\n",
        "import pandas as pd\n",
        "#import seaborn as sns\n",
        "\n",
        "# Make NumPy printouts easier to read.\n",
        "np.set_printoptions(precision=3, suppress=True)\n",
        "import tensorflow as tf\n",
        "\n",
        "url = 'http://archive.ics.uci.edu/ml/machine-learning-databases/auto-mpg/auto-mpg.data'\n",
        "column_names = ['MPG', 'Cylinders', 'Displacement', 'Horsepower', 'Weight',\n",
        "                'Acceleration', 'Model Year', 'Origin']\n",
        "\n",
        "raw_dataset = pd.read_csv(url, names=column_names,\n",
        "                          na_values='?', comment='\\t',\n",
        "                          sep=' ', skipinitialspace=True)\n",
        "raw_dataset.head()\n",
        "dataset = tf.Variable(raw_dataset)\n",
        "\n",
        "```"
      ]
    },
    {
      "cell_type": "code",
      "execution_count": null,
      "metadata": {
        "id": "Kxr2r0QVYtMW"
      },
      "outputs": [],
      "source": []
    },
    {
      "cell_type": "markdown",
      "metadata": {
        "id": "bVYdiuNDexEl"
      },
      "source": [
        "> 문제 9\n",
        "---\n",
        "주어진 이미지를 이용하여 다음 값을 계산하시오.\n",
        "\n",
        "* 각 채널(RGB) 별 이미지의 평균값 (3개)\n",
        "* 각 채널(RGB)을 평균값으로 병합 (이미지 한개)\n",
        "\n",
        "```python\n",
        "import tensorflow as tf\n",
        "\n",
        "(x_train, y_train), (x_test, y_test) = tf.keras.datasets.cifar10.load_data()\n",
        "print(x_train.shape)\n",
        "print(x_train[0,].shape)\n",
        "image = x_train[3,]\n",
        "\n",
        "fig, ax = plt.subplots(figsize=(5,5))\n",
        "ax.imshow(image)\n",
        "\n",
        "```"
      ]
    },
    {
      "cell_type": "code",
      "execution_count": null,
      "metadata": {
        "colab": {
          "base_uri": "https://localhost:8080/",
          "height": 1000
        },
        "id": "9YlqruMre-Cq",
        "outputId": "48d8fed3-07a7-4336-9e14-6b95ab64acf0"
      },
      "outputs": [
        {
          "name": "stdout",
          "output_type": "stream",
          "text": [
            "(50000, 32, 32, 3)\n",
            "(32, 32, 3)\n",
            "(32, 32)\n",
            "(32, 32, 3)\n",
            "mean of channel r tf.Tensor(99, shape=(), dtype=uint8)\n",
            "mean of channel g tf.Tensor(83, shape=(), dtype=uint8)\n",
            "mean of channel b tf.Tensor(57, shape=(), dtype=uint8)\n",
            "mean of all channels tf.Tensor(\n",
            "[[21 30 31 ... 60 65 69]\n",
            " [24 26 23 ... 77 78 67]\n",
            " [28 30 46 ... 73 87 75]\n",
            " ...\n",
            " [69 73 70 ... 87 78 69]\n",
            " [70 72 75 ... 69 65 71]\n",
            " [77 74 73 ... 43 52 61]], shape=(32, 32), dtype=uint8)\n"
          ]
        },
        {
          "data": {
            "text/plain": [
              "<matplotlib.image.AxesImage at 0x7fa78d42f3d0>"
            ]
          },
          "execution_count": 243,
          "metadata": {},
          "output_type": "execute_result"
        },
        {
          "data": {
            "image/png": "[encoded data removed]",
            "text/plain": [
              "<Figure size 2160x2160 with 6 Axes>"
            ]
          },
          "metadata": {
            "needs_background": "light"
          },
          "output_type": "display_data"
        }
      ],
      "source": [
        "import tensorflow as tf\n",
        "\n",
        "(x_train, y_train), (x_test, y_test) = tf.keras.datasets.cifar10.load_data()\n",
        "print(x_train.shape)\n",
        "print(x_train[0,].shape)\n",
        "image = x_train[3,]\n",
        "\n",
        "fig, ax = plt.subplots(6, figsize=(30,30))\n",
        "ax[0].imshow(image)\n",
        "\n",
        "image_r = image[:,:,0]\n",
        "image_g = image[:,:,1]\n",
        "image_b = image[:,:,2]\n",
        "print(image_r.shape)\n",
        "\n",
        "ax[1].imshow(image_r, cmap='Reds')\n",
        "ax[2].imshow(image_g, cmap='Greens')\n",
        "ax[3].imshow(image_b, cmap='Blues')\n",
        "\n",
        "image_all = tf.stack([image_r, image_g, image_b], axis=2)\n",
        "print(image_all.shape)\n",
        "ax[4].imshow(image_all)\n",
        "\n",
        "print('mean of channel r', tf.reduce_mean(image_r))\n",
        "print('mean of channel g', tf.reduce_mean(image_g))\n",
        "print('mean of channel b', tf.reduce_mean(image_b))\n",
        "\n",
        "merged_image = tf.reduce_mean(image, axis=2)\n",
        "print('mean of all channels', merged_image)\n",
        "ax[5].imshow(merged_image)"
      ]
    },
    {
      "cell_type": "markdown",
      "metadata": {
        "id": "bxNd4R1sKu4-"
      },
      "source": [
        "# 2.7 linear algebra"
      ]
    },
    {
      "cell_type": "code",
      "execution_count": null,
      "metadata": {
        "id": "TWKCUNo7R7cg"
      },
      "outputs": [],
      "source": [
        "# https://www.tensorflow.org/api_docs/python/tf/linalg\n",
        "# Operations for linear algebra.\n",
        "\n",
        "\n",
        "import tensorflow as tf\n",
        "#1 norm\n",
        "a = tf.constant([1, 2, 3], dtype=tf.float32)\n",
        "print('a', a)\n",
        "print('tf.norm(a)', tf.norm(a)) # tf.linalg.norm(a)\n",
        "\n",
        "#2 transpose\n",
        "A = tf.constant([[1, 2], [3, 4]], dtype=tf.float32)\n",
        "print('A', A)\n",
        "print('tf.linalg.matrix_transpose(A)', tf.linalg.matrix_transpose(A))\n",
        "\n",
        "#3 determinant\n",
        "print('tf.linalg.det(A)', tf.linalg.det(A))\n",
        "\n",
        "#4 inverse matrix\n",
        "B =  tf.linalg.inv(A) \n",
        "print('B', B)\n",
        "\n",
        "#5 matrix multiplication\n",
        "print('tf.matmul(A, B)', tf.matmul(A, B))  # tf.linalg.matmul(A, B)\n"
      ]
    },
    {
      "cell_type": "markdown",
      "metadata": {
        "id": "yhPBrJ5fVi-j"
      },
      "source": [
        "matrix equation\n",
        "\n",
        "Ax = b\n",
        "\n",
        "==> x = A<sup>-1</sup> x b\n",
        "\n",
        "A<sup>-1</sup> = $\\frac{1}{DET(A)}$ A"
      ]
    },
    {
      "cell_type": "code",
      "execution_count": null,
      "metadata": {
        "id": "FI2hpimbUkHl"
      },
      "outputs": [],
      "source": [
        "\n",
        "#1 Ax = b\n",
        "\n",
        "\n",
        "A = tf.constant([[1, 4,  1],\n",
        "                 [1, 6, -1],\n",
        "                 [2, -1, 2]], dtype=tf.float32)\n",
        "\n",
        "b = tf.constant([[ 7],\n",
        "                 [13],\n",
        "                 [ 5]], dtype=tf.float32)\n",
        "\n",
        "#2 DET(A)\n",
        "print(tf.linalg.det(A))\n",
        "\n",
        "# x = A^-1 x b\n",
        "x = tf.matmul(tf.linalg.inv(A), b)\n",
        "print('x', x)\n",
        "\n",
        "#3\n",
        "def all_close(x, y, tol=1e-5):\n",
        "         return tf.reduce_sum(tf.square(x - y)) < tol\n",
        "print(all_close(tf.matmul(A, x), b))\n",
        "\n",
        "#4\n",
        "x = tf.linalg.solve(A, b)\n",
        "print(x)\n",
        "print(all_close(tf.matmul(A, x), b))\n"
      ]
    },
    {
      "cell_type": "markdown",
      "metadata": {
        "id": "uhI9LrsIeToB"
      },
      "source": [
        "LU decomposition\n",
        "\n",
        "A = LU 로 분해하여\n",
        "\n",
        "Ax = b linear equations 을 푸는 과정에 활용해 보면,\n",
        "\n",
        "=> LUx = b\n",
        "\n",
        "=> Ux = Z  로 놓고\n",
        "\n",
        "=> LZ = b  를 풀고\n",
        "\n",
        "=> Ux = z 를 풀면\n",
        "\n",
        "x 를 구할 수 있음 \n",
        "(역행렬 방법과 비교하여 빠르고, 메모리 적게 사용해서 계산 가능)"
      ]
    },
    {
      "cell_type": "code",
      "execution_count": null,
      "metadata": {
        "id": "3gneGOYgeTIm"
      },
      "outputs": [],
      "source": [
        "\n",
        "# A = tf.constant([[1,1,1],\n",
        "#              [4,3,-1],\n",
        "#              [3,5,3]], dtype=tf.float32)\n",
        "\n",
        "# A = tf.constant([[3,-7,-2, 2],\n",
        "#              [-3,5,1,0],\n",
        "#              [6,-4,0,-5],\n",
        "#              [-9,5,-5,12]], dtype=tf.float32)\n",
        "\n",
        "A = tf.constant([[1, 4,  1],\n",
        "                 [1, 6, -1],\n",
        "                 [2, -1, 2]], dtype=tf.float32)\n",
        "\n",
        "print('A', A)\n",
        "\n",
        "# https://www.tensorflow.org/api_docs/python/tf/linalg/lu\n",
        "# Computes the LU decomposition of one or more square matrices.\n",
        "\n",
        "# The input is a tensor of shape [..., M, M] \n",
        "# whose inner-most 2 dimensions form square matrices.\n",
        "\n",
        "# The input has to be invertible.\n",
        "\n",
        "# The output consists of two tensors LU and P \n",
        "# containing the LU decomposition of all input submatrices [..., :, :]. \n",
        "\n",
        "# LU encodes the lower triangular and upper triangular factors.\n",
        "\n",
        "lu, p = tf.linalg.lu(A)\n",
        "\n",
        "print('tf.linalg.lu(A)', lu, p)\n",
        "\n",
        "L = tf.linalg.band_part(lu,-1,0) - tf.linalg.diag(tf.linalg.diag_part(lu)) + tf.linalg.diag(tf.ones(shape = lu.shape[0],))\n",
        "U = tf.linalg.band_part(lu, 0, -1)\n",
        "permu_operator = tf.linalg.LinearOperatorPermutation(p)\n",
        "P = permu_operator.to_dense()\n",
        "\n",
        "print('L', L)\n",
        "print('U', U)\n",
        "\n",
        "AA = tf.matmul(P, tf.matmul(L,U), transpose_a = True)\n",
        "print('AA', AA)\n",
        "\n",
        "AAA = tf.linalg.lu_reconstruct(lu, p)\n",
        "print('AAA', AAA)\n",
        "\n",
        "#4: solve AX = b using PLUx = b\n",
        "b = tf.constant([[ 7],\n",
        "                 [13],\n",
        "                 [ 5]], dtype=tf.float32)\n",
        "\n",
        "tf.linalg.lu_solve(lu, p, b)"
      ]
    },
    {
      "cell_type": "markdown",
      "metadata": {
        "id": "3KTKtwLs1FWb"
      },
      "source": [
        "[1차 함수](https://www.geogebra.org/m/vu5eJ5K9)\n",
        "\n",
        "y = ax + b\n"
      ]
    },
    {
      "cell_type": "code",
      "execution_count": null,
      "metadata": {
        "id": "h46oGX0j21qz"
      },
      "outputs": [],
      "source": [
        "import matplotlib.pyplot as plt\n",
        "import tensorflow as tf\n",
        "\n",
        "x = tf.linspace(-5,5,10)\n",
        "y = 3*x+2\n",
        "fig, ax = plt.subplots(figsize=(5,5))\n",
        "ax.grid()\n",
        "ax.plot(x, y, '-r')"
      ]
    },
    {
      "cell_type": "markdown",
      "metadata": {
        "id": "4ylMKCbN3vEw"
      },
      "source": [
        "(0, 6), (1, 0), (2, 0) 을 지나는 가장 가까운 직선의 방정식은?\n",
        "\n",
        "6 = a x 0 + b\n",
        "\n",
        "0 = a x 1 + b\n",
        "\n",
        "0 = a x 2 + b\n",
        "\n",
        "위 수식을 모두 만족하는 a 는 존재하는가? \n",
        "\n",
        "=> 존재하지 않으면 **차이가 최소(에러가 최소)**가 되는 근사값 $\\hat{a}$ 을 구해보자!\n",
        "\n",
        "Error<sup>2</sup> = (6 - (a x 0 + b))<sup>2</sup> + (0 - (a x 1 + b))<sup>2</sup> + (0 - (a x 2 + b))<sup>2</sup>\n",
        "\n",
        "=> 2차 방정식이므로 $\\hat{a}$ 과 $\\hat{b}$ 에 대해 미분하자!\n",
        "\n",
        "=> 행렬로 풀려면 공식 이용\n",
        "\n",
        "$X = \\begin{bmatrix}\\hat{a}\\\\\n",
        "\\hat{b}\n",
        "\\end{bmatrix}$\n",
        "\n",
        "(A<sup>T</sup>A)X = A<sup>T</sup>b"
      ]
    },
    {
      "cell_type": "code",
      "execution_count": null,
      "metadata": {
        "id": "O5TddVK484rG"
      },
      "outputs": [],
      "source": [
        "A = tf.constant([[0, 1],\n",
        "\t\t [1, 1],\n",
        "\t\t [2, 1]], dtype=tf.float32)\n",
        "\n",
        "b = tf.constant([[ 6],\n",
        "                 [ 0],\n",
        "                 [ 0]], dtype=tf.float32)\n",
        "\n",
        "# Dividend ÷ Divisor = Quotient + Remainder\n",
        "\n",
        "At = tf.transpose(A)\n",
        "Dividend = tf.matmul(At, b)\n",
        "Divisor = tf.matmul(At, A)\n",
        "print('Dividend', Dividend)\n",
        "print('Divisor', Divisor)\n",
        "InvDivisor = tf.linalg.inv(Divisor)\n",
        "print('Inverse of Divisor', InvDivisor)\n",
        "X = tf.matmul(InvDivisor, Dividend)\n",
        "print('X', X)\n",
        "# a = X.numpy()[0]\n",
        "# b = X.numpy()[1]\n",
        "# print('a, b', a, b)\n",
        "tf.linalg.solve(Divisor, Dividend)\n",
        "\n",
        "# https://www.tensorflow.org/api_docs/python/tf/linalg/lstsq\n",
        "# Solves one or more linear least-squares problems.\n",
        "tf.linalg.lstsq(A, b)"
      ]
    },
    {
      "cell_type": "code",
      "execution_count": null,
      "metadata": {
        "id": "BNNNMmjo3nK1"
      },
      "outputs": [],
      "source": [
        "x = [0, 1, 2]\n",
        "y = [6, 0, 0]\n",
        "fig, ax = plt.subplots(figsize=(5,5))\n",
        "ax.grid()\n",
        "plt.xlim([-10, 10])\n",
        "plt.ylim([-10, 10])\n",
        "ax.scatter(x, y)\n",
        "xx = tf.linspace(-10, 10, 10)\n",
        "yy = -3 * xx + 5   # -3과 5는 어떻게 알 수 있었나?\n",
        "ax.plot(xx, yy, '--g')"
      ]
    },
    {
      "cell_type": "markdown",
      "metadata": {
        "id": "0oIlC_-QE4Wh"
      },
      "source": [
        "# 2.8 gradient decent"
      ]
    },
    {
      "cell_type": "markdown",
      "metadata": {
        "id": "U38MMo9XQG3-"
      },
      "source": [
        "\n",
        "Error = (y-$\\hat{y}$)<sup>2</sup>\n",
        "\n",
        "Mean Squared Error\n",
        "\n",
        "$$\\frac{1}{n}\\sum_{i=1}^{n}(y-\\hat{y})^2$$\n",
        "\n",
        "\n",
        "예) $x^2 -2x + 1$\n",
        "\n",
        "[2차 함수](https://www.geogebra.org/m/xgdQkfk3)\n"
      ]
    },
    {
      "cell_type": "code",
      "execution_count": null,
      "metadata": {
        "colab": {
          "base_uri": "https://localhost:8080/",
          "height": 356
        },
        "id": "2h4IhgOnSH1m",
        "outputId": "3942200a-2059-43f3-ddf4-3c5a8051868f"
      },
      "outputs": [
        {
          "name": "stdout",
          "output_type": "stream",
          "text": [
            "x <tf.Variable 'Variable:0' shape=() dtype=float32, numpy=4.0>\n"
          ]
        },
        {
          "data": {
            "text/plain": [
              "<matplotlib.collections.PathCollection at 0x7fa790df47c0>"
            ]
          },
          "execution_count": 195,
          "metadata": {},
          "output_type": "execute_result"
        },
        {
          "data": {
            "image/png": "[encoded data removed]",
            "text/plain": [
              "<Figure size 360x360 with 1 Axes>"
            ]
          },
          "metadata": {
            "needs_background": "light"
          },
          "output_type": "display_data"
        }
      ],
      "source": [
        "def f(x):\n",
        "  return x**2 - 2*x + 1\n",
        "\n",
        "def f_prime(x):\n",
        "  h = 0.01\n",
        "  return (f(x+h)-f(x)) / h\n",
        "\n",
        "def f_prime2(x):\n",
        "  return 2*x + 2\n",
        "\n",
        "all_x = tf.linspace(-5,5,100)\n",
        "all_y = f(all_x)\n",
        "\n",
        "x = tf.Variable(4.) # initial value\n",
        "LR = 0.1\n",
        "print('x', x)\n",
        "x_history, y_history = [], []\n",
        "for _ in range(100):\n",
        "  y = f(x)\n",
        "  step1 = LR*f_prime(x)\n",
        "  step2 = LR*f_prime2(x)\n",
        "  x_history.append(x.numpy())\n",
        "  y_history.append(y.numpy())\n",
        "\n",
        "  x.assign_sub(step1)\n",
        "\n",
        "fig, ax = plt.subplots(figsize=(5,5))\n",
        "ax.plot(all_x, all_y)\n",
        "ax.scatter(x_history, y_history)\n"
      ]
    }
  ],
  "metadata": {
    "colab": {
      "provenance": []
    },
    "kernelspec": {
      "display_name": "base",
      "language": "python",
      "name": "python3"
    },
    "language_info": {
      "codemirror_mode": {
        "name": "ipython",
        "version": 3
      },
      "file_extension": ".py",
      "mimetype": "text/x-python",
      "name": "python",
      "nbconvert_exporter": "python",
      "pygments_lexer": "ipython3",
      "version": "3.9.13"
    },
    "vscode": {
      "interpreter": {
        "hash": "ad2bdc8ecc057115af97d19610ffacc2b4e99fae6737bb82f5d7fb13d2f2c186"
      }
    }
  },
  "nbformat": 4,
  "nbformat_minor": 0
}
