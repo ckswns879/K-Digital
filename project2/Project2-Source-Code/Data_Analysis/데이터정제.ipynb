{
  "nbformat": 4,
  "nbformat_minor": 0,
  "metadata": {
    "colab": {
      "provenance": []
    },
    "kernelspec": {
      "name": "python3",
      "display_name": "Python 3"
    },
    "language_info": {
      "name": "python"
    }
  },
  "cells": [
    {
      "cell_type": "markdown",
      "source": [
        "데이터 불러오기"
      ],
      "metadata": {
        "id": "TCtsCC8eRzlO"
      }
    },
    {
      "cell_type": "code",
      "execution_count": null,
      "metadata": {
        "id": "lbqhjaes_BLH"
      },
      "outputs": [],
      "source": [
        "import pandas as pd\n",
        "data = pd.read_csv('/content/drive/MyDrive/동원산업통합_분류_1_RE.csv', encoding='cp949')"
      ]
    },
    {
      "cell_type": "code",
      "source": [
        "data.info()"
      ],
      "metadata": {
        "id": "gN4R12Cz7WYk"
      },
      "execution_count": null,
      "outputs": []
    },
    {
      "cell_type": "code",
      "source": [
        "data.count()"
      ],
      "metadata": {
        "id": "6cdqo1K94Cvr"
      },
      "execution_count": null,
      "outputs": []
    },
    {
      "cell_type": "markdown",
      "source": [
        "결측치 0으로 대체"
      ],
      "metadata": {
        "id": "U_giPU-dR4FI"
      }
    },
    {
      "cell_type": "code",
      "source": [
        "df = data.fillna(0)"
      ],
      "metadata": {
        "id": "_g6b5xfQLjat"
      },
      "execution_count": null,
      "outputs": []
    },
    {
      "cell_type": "markdown",
      "source": [
        "데이터 조회"
      ],
      "metadata": {
        "id": "ujp6alZrSBK-"
      }
    },
    {
      "cell_type": "code",
      "source": [
        "# head\n",
        "df.head()"
      ],
      "metadata": {
        "id": "xGoOQwepWg7O"
      },
      "execution_count": null,
      "outputs": []
    },
    {
      "cell_type": "code",
      "source": [
        "# column명\n",
        "df.columns"
      ],
      "metadata": {
        "id": "BBbQE6agMOkc",
        "colab": {
          "base_uri": "https://localhost:8080/"
        },
        "outputId": "35328752-c8e3-4fbe-c54e-7bdf4d080b64"
      },
      "execution_count": null,
      "outputs": [
        {
          "output_type": "execute_result",
          "data": {
            "text/plain": [
              "Index(['청구서번호', 'No.', 'Subject', 'Machinery', 'Assembly', '청구품목', 'Part No.1',\n",
              "       'Part No.2', 'key1', 'key2', '리드타임_음수제거', '청구량', '견적', '견적수량', '견적화폐',\n",
              "       '견적단가', '발주번호', '발주처', '발주', '발주수량', '발주금액', 'D/T', '미입고 기간', '리드타임',\n",
              "       '창고입고', '창고입고수량', 'Control No.', '입고창고', '창고출고', '창고출고수량', '출고선박',\n",
              "       '출고운반선', '선박입고', '선박입고수량', '완료 여부'],\n",
              "      dtype='object')"
            ]
          },
          "metadata": {},
          "execution_count": 7
        }
      ]
    },
    {
      "cell_type": "code",
      "source": [
        "# column별 정보\n",
        "df.info()"
      ],
      "metadata": {
        "id": "-rkMOnhbV5TR"
      },
      "execution_count": null,
      "outputs": []
    },
    {
      "cell_type": "code",
      "source": [
        "df.count()"
      ],
      "metadata": {
        "id": "aIfqVJGE7bq4"
      },
      "execution_count": null,
      "outputs": []
    },
    {
      "cell_type": "markdown",
      "source": [
        "데이터 타입 변경 및 데이터 전처리"
      ],
      "metadata": {
        "id": "eMN_g60BSVa1"
      }
    },
    {
      "cell_type": "code",
      "source": [
        "df['견적'] = pd.to_datetime(df['견적'])\n",
        "df['견적단가'] = df['견적단가'].astype('string')\n",
        "df['견적단가'] = df['견적단가'].str.replace('\"', '')\n",
        "df['견적단가'] = df['견적단가'].str.replace(',', '').astype('int64')\n",
        "df['발주'] = pd.to_datetime(df['발주'])\n",
        "df['발주금액'] = df['발주금액'].astype('string')\n",
        "df['발주금액'] = df['발주금액'].str.replace('\"', '')\n",
        "df['발주금액'] = df['발주금액'].str.replace(',', '').astype('int64')\n",
        "df['창고입고'] = pd.to_datetime(df['창고입고'])\n",
        "df['창고입고수량'] = pd.to_numeric(df['창고입고수량'])"
      ],
      "metadata": {
        "id": "IpRU6BRce_Cm"
      },
      "execution_count": null,
      "outputs": []
    },
    {
      "cell_type": "markdown",
      "source": [
        "데이터 정제"
      ],
      "metadata": {
        "id": "IiptnxixSgH0"
      }
    },
    {
      "cell_type": "code",
      "source": [
        "df1 = df[df['리드타임'] >= 0]\n",
        "df1 = df1[df['발주'] > '2000-01-01 00:00:00']\n",
        "df1 = df1[df['창고입고'] > '2000-01-01 00:00:00']"
      ],
      "metadata": {
        "colab": {
          "base_uri": "https://localhost:8080/"
        },
        "id": "VlMdHMf3MzPt",
        "outputId": "66b7328c-3c0c-4583-c30a-6145cdc19ed9"
      },
      "execution_count": null,
      "outputs": [
        {
          "output_type": "stream",
          "name": "stderr",
          "text": [
            "<ipython-input-23-125a6446321d>:2: UserWarning: Boolean Series key will be reindexed to match DataFrame index.\n",
            "  df1 = df1[df['발주'] > '2000-01-01 00:00:00']\n",
            "<ipython-input-23-125a6446321d>:3: UserWarning: Boolean Series key will be reindexed to match DataFrame index.\n",
            "  df1 = df1[df['창고입고'] > '2000-01-01 00:00:00']\n"
          ]
        }
      ]
    },
    {
      "cell_type": "markdown",
      "source": [
        "데이터 저장"
      ],
      "metadata": {
        "id": "IBMw5rXoSmWJ"
      }
    },
    {
      "cell_type": "code",
      "source": [
        "df1.to_csv(\"/content/데이터_전처리_파일.csv\", encoding='cp949')"
      ],
      "metadata": {
        "id": "z_OppfQ4eKtE"
      },
      "execution_count": null,
      "outputs": []
    },
    {
      "cell_type": "code",
      "source": [
        "df1.info()"
      ],
      "metadata": {
        "id": "tOK82G9rd1-i"
      },
      "execution_count": null,
      "outputs": []
    },
    {
      "cell_type": "code",
      "source": [
        "df1.count()"
      ],
      "metadata": {
        "id": "yxk01fH27jfp"
      },
      "execution_count": null,
      "outputs": []
    }
  ]
}