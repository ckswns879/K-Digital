{
  "cells": [
    {
      "cell_type": "code",
      "execution_count": 1,
      "metadata": {
        "id": "Ea7BFPBy3RtA"
      },
      "outputs": [],
      "source": [
        "import pandas as pd"
      ]
    },
    {
      "cell_type": "code",
      "execution_count": 2,
      "metadata": {
        "colab": {
          "base_uri": "https://localhost:8080/"
        },
        "id": "dv6MkjZFuP7b",
        "outputId": "82811be1-1dcb-42e0-a335-d945f33c35dc"
      },
      "outputs": [
        {
          "name": "stdout",
          "output_type": "stream",
          "text": [
            "Mounted at /content/drive\n"
          ]
        }
      ],
      "source": [
        "from google.colab import drive\n",
        "drive.mount('/content/drive')"
      ]
    },
    {
      "cell_type": "code",
      "execution_count": 3,
      "metadata": {
        "id": "pfG3bM75nM8U"
      },
      "outputs": [],
      "source": [
        "df = pd.read_csv('/content/drive/MyDrive/데이터_전처리_파일_선박명.csv', encoding='cp949')"
      ]
    },
    {
      "cell_type": "code",
      "execution_count": 4,
      "metadata": {
        "id": "Qf58PNEfjccV"
      },
      "outputs": [],
      "source": [
        "import tensorflow as tf\n",
        "from sklearn.feature_extraction.text import CountVectorizer\n",
        "from sklearn.preprocessing import LabelEncoder\n",
        "from sklearn.model_selection import train_test_split"
      ]
    },
    {
      "cell_type": "code",
      "execution_count": 5,
      "metadata": {
        "id": "fEzoKGfgje_9"
      },
      "outputs": [],
      "source": [
        "# 텍스트 데이터\n",
        "data = list(df['Subject'] + ' '+ df['Machinery']  + ' ' + df['Assembly'] + ' ' + df['청구품목'] + ' ' + df['Part No.1'])"
      ]
    },
    {
      "cell_type": "code",
      "execution_count": 6,
      "metadata": {
        "id": "sFnUJRwvjm3z"
      },
      "outputs": [],
      "source": [
        "# target 값\n",
        "target =list(df['key2'])"
      ]
    },
    {
      "cell_type": "code",
      "execution_count": 7,
      "metadata": {
        "id": "vlq7mjLij186"
      },
      "outputs": [],
      "source": [
        "# CountVectorizer를 이용하여 feature 벡터 생성\n",
        "vectorizer = CountVectorizer()\n",
        "X = vectorizer.fit_transform(data)"
      ]
    },
    {
      "cell_type": "code",
      "execution_count": 8,
      "metadata": {
        "id": "XjuU-Utvj6jL"
      },
      "outputs": [],
      "source": [
        "# LabelEncoder를 이용하여 target 값을 숫자로 인코딩\n",
        "le = LabelEncoder()\n",
        "y = le.fit_transform(target)"
      ]
    },
    {
      "cell_type": "code",
      "execution_count": 9,
      "metadata": {
        "id": "uf-Vw5Aoj_Dk"
      },
      "outputs": [],
      "source": [
        "# train, test 데이터 분리\n",
        "X_train, X_test, y_train, y_test = train_test_split(X, y, test_size=0.2, random_state=42)\n"
      ]
    },
    {
      "cell_type": "code",
      "execution_count": 10,
      "metadata": {
        "id": "jCY22Bkd3PBN"
      },
      "outputs": [],
      "source": [
        "from sklearn.metrics import accuracy_score # 정확도 함수"
      ]
    },
    {
      "cell_type": "code",
      "execution_count": 11,
      "metadata": {
        "id": "vmCA-Lgmx9dK"
      },
      "outputs": [],
      "source": [
        "from sklearn.metrics import recall_score, accuracy_score, precision_score, f1_score\n",
        "def print_metrics(y_test, X_test, model) :\n",
        "  # 테스트 데이터셋으로 예측\n",
        "  y_pred = model.predict(X_test)\n",
        "\n",
        "  # 각종 평가지표 계산\n",
        "  recall = recall_score(y_test, y_pred, average='macro')\n",
        "  accuracy = accuracy_score(y_test, y_pred)\n",
        "  precision = precision_score(y_test, y_pred, average='macro')\n",
        "  f1 = f1_score(y_test, y_pred, average='macro')\n",
        "\n",
        "  print(\"Recall: {:.4f}\".format(recall))\n",
        "  print(\"Accuracy: {:.4f}\".format(accuracy))\n",
        "  print(\"Precision: {:.4f}\".format(precision))\n",
        "  print(\"F1-score: {:.4f}\".format(f1))\n"
      ]
    },
    {
      "cell_type": "code",
      "execution_count": 13,
      "metadata": {
        "colab": {
          "base_uri": "https://localhost:8080/"
        },
        "id": "4aqD8Z0dOFTO",
        "outputId": "c0966396-aed2-44ca-bb56-46d5981d67cf"
      },
      "outputs": [
        {
          "name": "stdout",
          "output_type": "stream",
          "text": [
            "Recall: 0.8732\n",
            "Accuracy: 0.9094\n",
            "Precision: 0.9259\n",
            "F1-score: 0.8929\n"
          ]
        }
      ],
      "source": [
        "from sklearn.linear_model import LogisticRegression\n",
        "\n",
        "# Logistic Regression 모델 생성 및 학습\n",
        "lr = LogisticRegression(random_state=42, C=14, solver=\"liblinear\", penalty='l1', multi_class=\"ovr\", max_iter=1000)\n",
        "lr.fit(X_train, y_train)\n",
        "lr_pred = lr.predict(X_test)\n",
        "lr_acc = accuracy_score(y_test, lr_pred)\n",
        "print_metrics(y_test, X_test, lr)"
      ]
    },
    {
      "cell_type": "code",
      "execution_count": 14,
      "metadata": {
        "id": "RW_P3U1ARNhR"
      },
      "outputs": [],
      "source": [
        "# 피클로 모델 저장\n",
        "import pickle \n",
        "\n",
        "with open('model.pickle','wb') as fw:\n",
        "    pickle.dump(lr, fw)"
      ]
    }
  ],
  "metadata": {
    "colab": {
      "provenance": []
    },
    "gpuClass": "standard",
    "kernelspec": {
      "display_name": "Python 3",
      "name": "python3"
    },
    "language_info": {
      "name": "python"
    }
  },
  "nbformat": 4,
  "nbformat_minor": 0
}
