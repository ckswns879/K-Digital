{
  "cells": [
    {
      "cell_type": "code",
      "execution_count": 9,
      "metadata": {
        "id": "r4l1ixAC3NiD"
      },
      "outputs": [
        {
          "ename": "ModuleNotFoundError",
          "evalue": "No module named 'sklearn'",
          "output_type": "error",
          "traceback": [
            "\u001b[1;31m---------------------------------------------------------------------------\u001b[0m",
            "\u001b[1;31mModuleNotFoundError\u001b[0m                       Traceback (most recent call last)",
            "Cell \u001b[1;32mIn[9], line 2\u001b[0m\n\u001b[0;32m      1\u001b[0m \u001b[39mimport\u001b[39;00m \u001b[39mpandas\u001b[39;00m \u001b[39mas\u001b[39;00m \u001b[39mpd\u001b[39;00m\n\u001b[1;32m----> 2\u001b[0m \u001b[39mfrom\u001b[39;00m \u001b[39msklearn\u001b[39;00m\u001b[39m.\u001b[39;00m\u001b[39mfeature_extraction\u001b[39;00m\u001b[39m.\u001b[39;00m\u001b[39mtext\u001b[39;00m \u001b[39mimport\u001b[39;00m CountVectorizer\n\u001b[0;32m      3\u001b[0m \u001b[39mfrom\u001b[39;00m \u001b[39msklearn\u001b[39;00m\u001b[39m.\u001b[39;00m\u001b[39mmetrics\u001b[39;00m\u001b[39m.\u001b[39;00m\u001b[39mpairwise\u001b[39;00m \u001b[39mimport\u001b[39;00m cosine_similarity\n",
            "\u001b[1;31mModuleNotFoundError\u001b[0m: No module named 'sklearn'"
          ]
        }
      ],
      "source": [
        "import pandas as pd\n",
        "from sklearn.feature_extraction.text import CountVectorizer\n",
        "from sklearn.metrics.pairwise import cosine_similarity"
      ]
    },
    {
      "cell_type": "code",
      "execution_count": 20,
      "metadata": {
        "id": "NZnGHWIE3doy"
      },
      "outputs": [],
      "source": [
        "# 데이터 불러오기\n",
        "data = pd.read_csv('../데이터_전처리_파일.csv', encoding='cp949')"
      ]
    },
    {
      "cell_type": "code",
      "execution_count": 21,
      "metadata": {
        "id": "2nFJbsTtql2A"
      },
      "outputs": [],
      "source": [
        "def recommend_items(df, item):\n",
        "    # 청구서번호와 청구품목을 합친 새로운 항목을 만듦\n",
        "    df['번호_품목'] = df['청구서번호'] + \" \" + df['청구품목']\n",
        "\n",
        "    # CountVectorizer로 벡터화\n",
        "    count = CountVectorizer()\n",
        "    count_matrix = count.fit_transform(df['번호_품목'])\n",
        "\n",
        "    # 코사인 유사도 계산\n",
        "    cosine_sim = cosine_similarity(count_matrix, count_matrix)\n",
        "\n",
        "    # 유사한 청구품목 추천\n",
        "    idx = df.loc[df['번호_품목'] == item].index[0]\n",
        "    sim_scores = list(enumerate(cosine_sim[idx]))\n",
        "    sim_scores = sorted(sim_scores, key=lambda x: x[1], reverse=True)\n",
        "\n",
        "    # sim_scores 리스트에서 번호_품목이 추천값과 같은 것은 제외\n",
        "    sim_scores = [(i, score) for i, score in sim_scores if df.loc[i, '번호_품목'] != item]\n",
        "\n",
        "    sim_scores = sim_scores[:3]\n",
        "    item_indices = [i[0] for i in sim_scores]\n",
        "    similar_items = list(df['청구품목'].iloc[item_indices])\n",
        "\n",
        "    # 추천 상품 리스트의 길이를 일치시키기 위해 빈 값으로 채움\n",
        "    similar_items += [\"\"] * (3 - len(similar_items))\n",
        "\n",
        "    # 결과를 데이터프레임으로 변환하여 반환\n",
        "    result_df = pd.DataFrame({'추천 1': similar_items[0], '추천 2': similar_items[1], '추천 3': similar_items[2]}, index=[item])\n",
        "    return result_df\n"
      ]
    },
    {
      "cell_type": "code",
      "execution_count": null,
      "metadata": {
        "colab": {
          "base_uri": "https://localhost:8080/"
        },
        "id": "pw7ZFb8MqnJB",
        "outputId": "b4d2d28c-d352-4236-864c-8affd5affef8"
      },
      "outputs": [
        {
          "name": "stdout",
          "output_type": "stream",
          "text": [
            "                                               추천 1             추천 2  \\\n",
            "ADR-BS-ESP-2002002 COUPLING COMPLETE  COUPLING BUSH  MECHANICAL SEAL   \n",
            "\n",
            "                                                   추천 3  \n",
            "ADR-BS-ESP-2002002 COUPLING COMPLETE  FRICTION COUPLING  \n"
          ]
        }
      ],
      "source": [
        "result = recommend_items(data, 'ADR-BS-ESP-2002002 COUPLING COMPLETE')\n",
        "print(result)\n"
      ]
    },
    {
      "cell_type": "markdown",
      "metadata": {
        "id": "mBk6cT7zrMFD"
      },
      "source": [
        "91번 셀"
      ]
    }
  ],
  "metadata": {
    "colab": {
      "provenance": []
    },
    "gpuClass": "standard",
    "kernelspec": {
      "display_name": "Python 3",
      "language": "python",
      "name": "python3"
    },
    "language_info": {
      "codemirror_mode": {
        "name": "ipython",
        "version": 3
      },
      "file_extension": ".py",
      "mimetype": "text/x-python",
      "name": "python",
      "nbconvert_exporter": "python",
      "pygments_lexer": "ipython3",
      "version": "3.10.10"
    },
    "vscode": {
      "interpreter": {
        "hash": "7b1f2b33e866b0bf2409397e5f58ba9cdf170d3b7f64c8f359c79998e2f88ad4"
      }
    }
  },
  "nbformat": 4,
  "nbformat_minor": 0
}
