{
  "cells": [
    {
      "cell_type": "code",
      "execution_count": 67,
      "metadata": {
        "colab": {
          "base_uri": "https://localhost:8080/"
        },
        "id": "Z-C8mnyVrg0n",
        "outputId": "1adea3a3-e41d-4dab-e15b-109f5593fae5"
      },
      "outputs": [
        {
          "name": "stdout",
          "output_type": "stream",
          "text": [
            "Explained variance ratio: [0.47552077 0.39020331 0.11478173 0.01145613 0.00803807]\n",
            "Cumulative explained variance ratio: [0.47552077 0.86572408 0.98050581 0.99196193 1.        ]\n"
          ]
        }
      ],
      "source": [
        "import numpy as np\n",
        "import pandas as pd\n",
        "from sklearn.decomposition import PCA\n",
        "from sklearn.preprocessing import LabelEncoder\n",
        "from sklearn.preprocessing import StandardScaler\n",
        "\n",
        "# from google.colab import drive\n",
        "# drive.mount('/content/drive')\n",
        "\n",
        "data = pd.read_csv('/content/drive/MyDrive/데이터_전처리_파일.csv', encoding='cp949')\n",
        "\n",
        "# LabelEncoder를 이용해 Object형태의 칼럼을 숫자로 변환\n",
        "le = LabelEncoder()\n",
        "data.loc[:, 'Subject'] = le.fit_transform(data['Subject'])\n",
        "data.loc[:, 'Machinery'] = le.fit_transform(data['Machinery'])\n",
        "data.loc[:, 'Assembly'] = le.fit_transform(data['Assembly'])\n",
        "data.loc[:, '청구품목'] = le.fit_transform(data['청구품목'])\n",
        "data.loc[:, 'Part No.1'] = le.fit_transform(data['Part No.1'])\n",
        "data.loc[:, 'Part No.2'] = le.fit_transform(data['Part No.2'])\n",
        "data.loc[:, 'key1'] = le.fit_transform(data['key1'])\n",
        "data.loc[:, 'key2'] = le.fit_transform(data['key2'])\n",
        "data.loc[:, '견적화폐'] = le.fit_transform(data['견적화폐'])\n",
        "data.loc[:, 'D/T'] = le.fit_transform(data['D/T'])\n",
        "data.loc[:, 'Control No.'] = le.fit_transform(data['Control No.'])\n",
        "data.loc[:, '출고선박'] = le.fit_transform(data['출고선박'])\n",
        "data.loc[:, '출고운반선'] = le.fit_transform(data['출고운반선'])\n",
        "\n",
        "# 주성분 분석에 쓰일 칼럼 선택\n",
        "X = data[['리드타임_음수제거', 'Subject', '출고운반선', 'Control No.', 'Assembly']]\n",
        "\n",
        "# 주성분 분석 실행, 주성분 n개 출력\n",
        "pca = PCA(n_components=5)\n",
        "X_pca = pca.fit_transform(X)\n",
        "\n",
        "# 출력\n",
        "print('Explained variance ratio:', pca.explained_variance_ratio_)\n",
        "print('Cumulative explained variance ratio:', np.cumsum(pca.explained_variance_ratio_))"
      ]
    },
    {
      "cell_type": "markdown",
      "metadata": {
        "id": "MDyjmYMr1BZk"
      },
      "source": [
        "# 주성분 분석 결과\n",
        "- 리드타임에 영향을 가장 크게 주는 변수는 subject이며\n",
        "- 추가적으로 출고운반선, Control No.의 영향이 크다."
      ]
    }
  ],
  "metadata": {
    "colab": {
      "provenance": []
    },
    "kernelspec": {
      "display_name": "Python 3",
      "language": "python",
      "name": "python3"
    },
    "language_info": {
      "name": "python",
      "version": "3.10.10"
    },
    "vscode": {
      "interpreter": {
        "hash": "7b1f2b33e866b0bf2409397e5f58ba9cdf170d3b7f64c8f359c79998e2f88ad4"
      }
    }
  },
  "nbformat": 4,
  "nbformat_minor": 0
}
