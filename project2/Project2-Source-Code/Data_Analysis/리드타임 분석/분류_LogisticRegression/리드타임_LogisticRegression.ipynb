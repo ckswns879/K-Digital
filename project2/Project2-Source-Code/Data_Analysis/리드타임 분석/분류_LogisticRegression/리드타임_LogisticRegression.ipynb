{
  "nbformat": 4,
  "nbformat_minor": 0,
  "metadata": {
    "colab": {
      "provenance": []
    },
    "kernelspec": {
      "name": "python3",
      "display_name": "Python 3"
    },
    "language_info": {
      "name": "python"
    }
  },
  "cells": [
    {
      "cell_type": "markdown",
      "source": [
        "### Logistic Regression\n",
        "- 종속 변수가 이항 변수(binary variable)인 경우에 사용\n",
        "- 종속 변수가 이항 변수(binary variable)\n",
        "- 로지스틱 함수(Logistic Function)를 사용하여 확률을 예측\n",
        "- 비교적 간단하고 빠르게 학습\n",
        "- 이상치(outlier)에 민감\n",
        "- 다중 공선성(multicollinearity)이 있는 경우, 결과가 왜곡"
      ],
      "metadata": {
        "id": "sDDreDp6kqd8"
      }
    },
    {
      "cell_type": "code",
      "execution_count": 1,
      "metadata": {
        "id": "riWSeRc4jNh4"
      },
      "outputs": [],
      "source": [
        "#data analytics\n",
        "import pandas as pd\n",
        "from scipy.stats import pearsonr\n",
        "\n",
        "#sklearn\n",
        "import sklearn as sk\n",
        "from sklearn.feature_extraction.text import CountVectorizer\n",
        "from sklearn.preprocessing import LabelEncoder\n",
        "from sklearn.model_selection import train_test_split\n"
      ]
    },
    {
      "cell_type": "code",
      "source": [
        "from google.colab import drive\n",
        "drive.mount('/content/drive')\n",
        "df = pd.read_csv('/content/drive/MyDrive/데이터_전처리_파일.csv', encoding='cp949')"
      ],
      "metadata": {
        "colab": {
          "base_uri": "https://localhost:8080/"
        },
        "id": "dSJHNoBhjxLz",
        "outputId": "2cef1ed1-ea2f-4256-8bbe-49a3b8c9ccc4"
      },
      "execution_count": 4,
      "outputs": [
        {
          "output_type": "stream",
          "name": "stdout",
          "text": [
            "Drive already mounted at /content/drive; to attempt to forcibly remount, call drive.mount(\"/content/drive\", force_remount=True).\n"
          ]
        }
      ]
    },
    {
      "cell_type": "markdown",
      "source": [
        "## 머신러닝 학습\n",
        "- 상관관계가 높은 순서대로 변수 삽입\n",
        "- 견적화폐(0.33), Machinery(0.17), Subject(0.13) , Part No.1, key1, Assembly...\n",
        "- 주성분분석이 높은 변수 삽입\n",
        "- Subject, 출고운반선, Control No., Assembly ..."
      ],
      "metadata": {
        "id": "v-Xi1YMNkDJ7"
      }
    },
    {
      "cell_type": "code",
      "source": [
        "# 텍스트 데이터\n",
        "data = list( df['Subject'] + ' ' + df['출고운반선'] + ' ' + df['Control No.'] + ' ' + df['Machinery'])\n",
        "\n",
        "# target 값\n",
        "target =list(df['리드타임_음수제거'])\n",
        "\n",
        "# CountVectorizer를 이용하여 feature 벡터 생성\n",
        "vectorizer = CountVectorizer()\n",
        "X = vectorizer.fit_transform(data)\n",
        "\n",
        "# df[리드타임_음수제거]는 별도의 인코딩이 필요치않음\n",
        "y = target\n",
        "\n",
        "# train, test 데이터 분리\n",
        "X_train, X_test, y_train, y_test = train_test_split(X, y, test_size=0.2, random_state=42)\n",
        "\n",
        "# 정확도 함수\n",
        "from sklearn.metrics import accuracy_score \n",
        "from sklearn.metrics import recall_score, accuracy_score, precision_score, f1_score\n",
        "\n",
        "def print_metrics(y_test, X_test, model) :\n",
        "  # 테스트 데이터셋으로 예측\n",
        "  y_pred = model.predict(X_test)\n",
        "\n",
        "  # 각종 평가지표 계산\n",
        "  recall = recall_score(y_test, y_pred, average='macro')\n",
        "  accuracy = accuracy_score(y_test, y_pred)\n",
        "  precision = precision_score(y_test, y_pred, average='macro')\n",
        "  f1 = f1_score(y_test, y_pred, average='macro')\n",
        "\n",
        "  print(\"Recall: {:.4f}\".format(recall))\n",
        "  print(\"Accuracy: {:.4f}\".format(accuracy))\n",
        "  print(\"Precision: {:.4f}\".format(precision))\n",
        "  print(\"F1-score: {:.4f}\".format(f1))"
      ],
      "metadata": {
        "id": "sD8OMP2ajxN6"
      },
      "execution_count": 25,
      "outputs": []
    },
    {
      "cell_type": "code",
      "source": [
        "from sklearn.linear_model import LogisticRegression\n",
        "\n",
        "# Logistic Regression 모델 생성 및 학습\n",
        "lr = LogisticRegression(random_state=30, C=8, solver=\"liblinear\",  multi_class=\"ovr\", max_iter=100)\n",
        "lr.fit(X_train, y_train)\n",
        "lr_pred = lr.predict(X_test)\n",
        "lr_acc = accuracy_score(y_test, lr_pred)\n",
        "print_metrics(y_test, X_test, lr)\n"
      ],
      "metadata": {
        "colab": {
          "base_uri": "https://localhost:8080/"
        },
        "id": "Lb9SxAFkjxQa",
        "outputId": "c3e31aa5-3106-4a86-ffef-396b7abf55d5"
      },
      "execution_count": 26,
      "outputs": [
        {
          "output_type": "stream",
          "name": "stdout",
          "text": [
            "Recall: 0.8361\n",
            "Accuracy: 0.9347\n",
            "Precision: 0.8553\n",
            "F1-score: 0.8405\n"
          ]
        },
        {
          "output_type": "stream",
          "name": "stderr",
          "text": [
            "/usr/local/lib/python3.8/dist-packages/sklearn/metrics/_classification.py:1318: UndefinedMetricWarning: Recall is ill-defined and being set to 0.0 in labels with no true samples. Use `zero_division` parameter to control this behavior.\n",
            "  _warn_prf(average, modifier, msg_start, len(result))\n",
            "/usr/local/lib/python3.8/dist-packages/sklearn/metrics/_classification.py:1318: UndefinedMetricWarning: Precision is ill-defined and being set to 0.0 in labels with no predicted samples. Use `zero_division` parameter to control this behavior.\n",
            "  _warn_prf(average, modifier, msg_start, len(result))\n"
          ]
        }
      ]
    },
    {
      "cell_type": "code",
      "source": [
        "# 피클로 모델 저장\n",
        "import pickle \n",
        "with open('lead_LR.pickle','wb') as fw:\n",
        "    pickle.dump(lr, fw)"
      ],
      "metadata": {
        "id": "6hzRi_PnjxS6"
      },
      "execution_count": 27,
      "outputs": []
    },
    {
      "cell_type": "code",
      "source": [
        "# vectorizer 생성\n",
        "vectorizer = CountVectorizer()\n",
        "\n",
        "# feature 벡터 생성\n",
        "X = vectorizer.fit_transform(data)\n",
        "\n",
        "# vectorizer 객체 저장\n",
        "with open('lead_LR_vectorizer.pickle', 'wb') as fw:\n",
        "    pickle.dump(vectorizer, fw)"
      ],
      "metadata": {
        "id": "jf0UOfQejxU7"
      },
      "execution_count": 28,
      "outputs": []
    }
  ]
}