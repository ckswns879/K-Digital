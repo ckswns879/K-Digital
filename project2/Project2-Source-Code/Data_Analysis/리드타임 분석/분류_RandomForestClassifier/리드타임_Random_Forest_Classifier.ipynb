{
  "cells": [
    {
      "cell_type": "markdown",
      "source": [
        "# Random Forest Classifier 모델\n",
        "- 앙상블 모델이기 때문에 여러 개의 Decision Tree를 사용하여 학습하며, 이는 과적합을 방지\n",
        "- Decision Tree와 마찬가지로, 비선형적인 분류 문제에 적합\n",
        "- Feature importance를 측정할 수 있으므로, 변수 선택에 대한 정보를 제공\n",
        "- 대체로 높은 정확도를 보이지만, 데이터에 따라 성능 차이가 크게 나타남\n",
        "- 데이터가 많고 다양할수록 더욱 좋은 성능"
      ],
      "metadata": {
        "id": "vt5ABbGgQw5J"
      }
    },
    {
      "cell_type": "code",
      "execution_count": 1,
      "metadata": {
        "id": "2AmFvGfX6xr3"
      },
      "outputs": [],
      "source": [
        "#data analytics\n",
        "import pandas as pd\n",
        "from scipy.stats import pearsonr\n",
        "\n",
        "#sklearn\n",
        "import sklearn as sk\n",
        "from sklearn.feature_extraction.text import CountVectorizer\n",
        "from sklearn.preprocessing import LabelEncoder\n",
        "from sklearn.model_selection import train_test_split\n",
        "\n",
        "# # 토큰화\n",
        "# import nltk\n",
        "# nltk.download('punkt')"
      ]
    },
    {
      "cell_type": "code",
      "source": [
        "from google.colab import drive\n",
        "drive.mount('/content/drive')"
      ],
      "metadata": {
        "colab": {
          "base_uri": "https://localhost:8080/"
        },
        "id": "SW6mkzis7peW",
        "outputId": "aea5aa1f-9f61-4744-b260-9cddcb3a3d8b"
      },
      "execution_count": 2,
      "outputs": [
        {
          "output_type": "stream",
          "name": "stdout",
          "text": [
            "Mounted at /content/drive\n"
          ]
        }
      ]
    },
    {
      "cell_type": "code",
      "execution_count": 3,
      "metadata": {
        "id": "oAHbE2hj6xr4"
      },
      "outputs": [],
      "source": [
        "df = pd.read_csv('/content/drive/MyDrive/데이터_전처리_파일.csv', encoding='cp949')"
      ]
    },
    {
      "cell_type": "markdown",
      "metadata": {
        "id": "c77QBHto6xr6"
      },
      "source": [
        "## 머신러닝 학습\n",
        "- 상관관계가 높은 순서대로 변수 삽입\n",
        "- 견적화폐(0.33), Machinery(0.17), Subject(0.13) \n",
        "- Assembly, 출고운반선이 추가 됐을 때 더 높은 정확도를 가진다."
      ]
    },
    {
      "cell_type": "code",
      "execution_count": 16,
      "metadata": {
        "id": "OoJYu8Ee6xr6"
      },
      "outputs": [],
      "source": [
        "# 텍스트 데이터\n",
        "data = list( df['Subject'] + ' ' + df['출고운반선'] + ' ' + df['Control No.'] )\n",
        "\n",
        "# target 값\n",
        "target =list(df['리드타임_음수제거'])\n",
        "\n",
        "# CountVectorizer를 이용하여 feature 벡터 생성\n",
        "vectorizer = CountVectorizer()\n",
        "X = vectorizer.fit_transform(data)\n",
        "\n",
        "# df[리드타임_음수제거]는 별도의 인코딩이 필요치않음\n",
        "y = target\n",
        "\n",
        "# train, test 데이터 분리\n",
        "X_train, X_test, y_train, y_test = train_test_split(X, y, test_size=0.2, random_state=42)\n",
        "\n",
        "# 정확도 함수\n",
        "from sklearn.metrics import accuracy_score \n",
        "from sklearn.metrics import recall_score, accuracy_score, precision_score, f1_score\n",
        "\n",
        "def print_metrics(y_test, X_test, model) :\n",
        "  # 테스트 데이터셋으로 예측\n",
        "  y_pred = model.predict(X_test)\n",
        "\n",
        "  # 각종 평가지표 계산\n",
        "  recall = recall_score(y_test, y_pred, average='macro')\n",
        "  accuracy = accuracy_score(y_test, y_pred)\n",
        "  precision = precision_score(y_test, y_pred, average='macro')\n",
        "  f1 = f1_score(y_test, y_pred, average='macro')\n",
        "\n",
        "  print(\"Recall: {:.4f}\".format(recall))\n",
        "  print(\"Accuracy: {:.4f}\".format(accuracy))\n",
        "  print(\"Precision: {:.4f}\".format(precision))\n",
        "  print(\"F1-score: {:.4f}\".format(f1))"
      ]
    },
    {
      "cell_type": "markdown",
      "metadata": {
        "id": "hBhmUs_26xr7"
      },
      "source": [
        "### Random Forest Classifier모델\n"
      ]
    },
    {
      "cell_type": "code",
      "execution_count": 15,
      "metadata": {
        "colab": {
          "base_uri": "https://localhost:8080/"
        },
        "id": "Eo1BluXD6xr7",
        "outputId": "a42f46ba-0137-4bcb-b97a-b999ccf9df90"
      },
      "outputs": [
        {
          "output_type": "stream",
          "name": "stdout",
          "text": [
            "Recall: 0.8199\n",
            "Accuracy: 0.9281\n",
            "Precision: 0.8395\n",
            "F1-score: 0.8258\n"
          ]
        },
        {
          "output_type": "stream",
          "name": "stderr",
          "text": [
            "/usr/local/lib/python3.8/dist-packages/sklearn/metrics/_classification.py:1318: UndefinedMetricWarning: Recall is ill-defined and being set to 0.0 in labels with no true samples. Use `zero_division` parameter to control this behavior.\n",
            "  _warn_prf(average, modifier, msg_start, len(result))\n",
            "/usr/local/lib/python3.8/dist-packages/sklearn/metrics/_classification.py:1318: UndefinedMetricWarning: Precision is ill-defined and being set to 0.0 in labels with no predicted samples. Use `zero_division` parameter to control this behavior.\n",
            "  _warn_prf(average, modifier, msg_start, len(result))\n"
          ]
        }
      ],
      "source": [
        "from sklearn.ensemble import RandomForestClassifier\n",
        "\n",
        "# 랜덤 포레스트 모델 생성 및 학습\n",
        "rfc = RandomForestClassifier(n_estimators=7, random_state=42)\n",
        "rfc.fit(X_train, y_train)\n",
        "rfc_pred = rfc.predict(X_test)\n",
        "rfc_acc = accuracy_score(y_test, rfc_pred)\n",
        "print_metrics(y_test, X_test, rfc)"
      ]
    },
    {
      "cell_type": "code",
      "execution_count": 17,
      "metadata": {
        "id": "MQ21VGtK6xr8"
      },
      "outputs": [],
      "source": [
        "# 피클로 모델 저장\n",
        "import pickle \n",
        "with open('lead_RFC.pickle','wb') as fw:\n",
        "    pickle.dump(rfc, fw)"
      ]
    },
    {
      "cell_type": "code",
      "source": [
        "# vectorizer 생성\n",
        "vectorizer = CountVectorizer()\n",
        "\n",
        "# feature 벡터 생성\n",
        "X = vectorizer.fit_transform(data)\n",
        "\n",
        "# vectorizer 객체 저장\n",
        "with open('lead_RFC_vectorizer.pickle', 'wb') as fw:\n",
        "    pickle.dump(vectorizer, fw)"
      ],
      "metadata": {
        "id": "SiGGKwiavCU7"
      },
      "execution_count": 18,
      "outputs": []
    }
  ],
  "metadata": {
    "kernelspec": {
      "display_name": "Python 3",
      "language": "python",
      "name": "python3"
    },
    "language_info": {
      "codemirror_mode": {
        "name": "ipython",
        "version": 3
      },
      "file_extension": ".py",
      "mimetype": "text/x-python",
      "name": "python",
      "nbconvert_exporter": "python",
      "pygments_lexer": "ipython3",
      "version": "3.10.10"
    },
    "orig_nbformat": 4,
    "vscode": {
      "interpreter": {
        "hash": "7b1f2b33e866b0bf2409397e5f58ba9cdf170d3b7f64c8f359c79998e2f88ad4"
      }
    },
    "colab": {
      "provenance": []
    },
    "accelerator": "GPU",
    "gpuClass": "standard"
  },
  "nbformat": 4,
  "nbformat_minor": 0
}