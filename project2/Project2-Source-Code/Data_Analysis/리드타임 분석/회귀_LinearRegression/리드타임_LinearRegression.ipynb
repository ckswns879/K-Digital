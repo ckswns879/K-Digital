{
  "nbformat": 4,
  "nbformat_minor": 0,
  "metadata": {
    "colab": {
      "provenance": []
    },
    "kernelspec": {
      "name": "python3",
      "display_name": "Python 3"
    },
    "language_info": {
      "name": "python"
    }
  },
  "cells": [
    {
      "cell_type": "markdown",
      "source": [
        "# LinearRegression 모델\n",
        "- 독립 변수와 종속 변수 사이의 선형적인 관계를 모델링하는 모델"
      ],
      "metadata": {
        "id": "zBNCdugdOZdX"
      }
    },
    {
      "cell_type": "markdown",
      "source": [
        "## 모델의 특징\n",
        "- 간단하고 직관적인 모델: 변수 간의 선형적인 관계를 나타내는 간단한 모델로, 설명력이 높아질수록 모델이 설명하는 데이터에 대한 이해도가 높아짐\n",
        "\n",
        "- 계산이 빠르고 쉬움: 간단한 수학적 공식으로 계산가능\n",
        "\n",
        "- 오류에 민감: Linear Regression 모델은 이상치나 극단적인 값을 갖는 데이터에 민감하게 반응합니다. 이에 대한 대처는 데이터 전처리나 정규화 등의 방법을 사용해야 함.\n",
        "\n",
        "- 다중 공선성 문제: 설명 변수 간에 상관관계가 높은 경우, 다중 공선성 문제가 발생가능. 이를 해결하기 위해서는 변수 선택이나 차원 축소 등의 방법을 사용해야 함.\n",
        "\n",
        "- 예측력이 한계가 있음: 비선형적인 관계를 모델링해야 하는 경우에는 다른 모델을 사용해야 함."
      ],
      "metadata": {
        "id": "s6FhBL9pOkYR"
      }
    },
    {
      "cell_type": "code",
      "source": [
        "# 필요한 라이브러리\n",
        "#data analytics\n",
        "import pandas as pd\n",
        "\n",
        "#sklearn\n",
        "import sklearn as sk\n",
        "from sklearn.feature_extraction.text import CountVectorizer\n",
        "from sklearn.preprocessing import LabelEncoder\n",
        "from sklearn.model_selection import train_test_split\n"
      ],
      "metadata": {
        "id": "KaBnCSjzja2t"
      },
      "execution_count": 12,
      "outputs": []
    },
    {
      "cell_type": "code",
      "source": [
        "# 데이터 입력\n",
        "from google.colab import drive\n",
        "drive.mount('/content/drive')\n",
        "df = pd.read_csv('/content/drive/MyDrive/데이터_전처리_파일.csv', encoding='cp949')"
      ],
      "metadata": {
        "colab": {
          "base_uri": "https://localhost:8080/"
        },
        "id": "fkvZtM9kiCU2",
        "outputId": "97b9683d-bda2-4040-cf77-fb701aa6f442"
      },
      "execution_count": 13,
      "outputs": [
        {
          "output_type": "stream",
          "name": "stdout",
          "text": [
            "Drive already mounted at /content/drive; to attempt to forcibly remount, call drive.mount(\"/content/drive\", force_remount=True).\n"
          ]
        }
      ]
    },
    {
      "cell_type": "code",
      "source": [
        "# 숫자형 데이터는 문자형으로 통일\n",
        "# df['발주수량'] = df['발주수량'].astype(str)\n",
        "# df['견적단가'] = df['견적단가'].astype(str)"
      ],
      "metadata": {
        "id": "8n12tkXwuop3"
      },
      "execution_count": null,
      "outputs": []
    },
    {
      "cell_type": "code",
      "source": [
        "from sklearn.linear_model import LinearRegression\n",
        "from sklearn.metrics import mean_squared_error, r2_score\n",
        "# 텍스트 데이터\n",
        "data = list(df['Subject'] + ' ' + df['key1'] + ' ' + df['Control No.'] + ' ' +  df['Assembly'] )\n",
        "\n",
        "# target 값\n",
        "target =list(df['리드타임_음수제거'])\n",
        "\n",
        "# CountVectorizer를 이용하여 feature 벡터 생성\n",
        "vectorizer = CountVectorizer()\n",
        "X = vectorizer.fit_transform(data)\n",
        "\n",
        "# df[리드타임_음수제거]는 별도의 인코딩이 필요치않음\n",
        "y = target\n",
        "\n",
        "# train, test 데이터 분리\n",
        "X_train, X_test, y_train, y_test = train_test_split(X, y, test_size=0.2, random_state=42)\n",
        "\n",
        "# 모델 생성 및 학습\n",
        "model = LinearRegression()\n",
        "model.fit(X, y)\n",
        "\n",
        "# 학습된 모델로 예측\n",
        "y_pred = model.predict(X)\n",
        "\n",
        "# 모델 평가\n",
        "mse = mean_squared_error(y, y_pred)\n",
        "r2 = r2_score(y, y_pred)\n",
        "\n",
        "print(\"MSE: \", mse)\n",
        "print(\"R2 Score: \", r2)\n"
      ],
      "metadata": {
        "colab": {
          "base_uri": "https://localhost:8080/"
        },
        "id": "qlbuPD_sjwUO",
        "outputId": "44732182-8a4c-4b9a-a93a-13d90a5e4468"
      },
      "execution_count": 15,
      "outputs": [
        {
          "output_type": "stream",
          "name": "stdout",
          "text": [
            "MSE:  312.21484186421134\n",
            "R2 Score:  0.935750399784708\n"
          ]
        }
      ]
    },
    {
      "cell_type": "code",
      "source": [
        "# 피클로 모델 저장\n",
        "import pickle \n",
        "with open('lead_Linear.pickle','wb') as fw:\n",
        "    pickle.dump(model, fw)"
      ],
      "metadata": {
        "id": "Q66FnhxZG5zB"
      },
      "execution_count": 16,
      "outputs": []
    },
    {
      "cell_type": "code",
      "source": [
        "# vectorizer 생성\n",
        "vectorizer = CountVectorizer()\n",
        "\n",
        "# feature 벡터 생성\n",
        "X = vectorizer.fit_transform(data)\n",
        "\n",
        "# vectorizer 객체 저장\n",
        "with open('lead_linear_vectorizer.pickle', 'wb') as fw:\n",
        "    pickle.dump(vectorizer, fw)"
      ],
      "metadata": {
        "id": "cn9p0WzKHBOA"
      },
      "execution_count": 17,
      "outputs": []
    },
    {
      "cell_type": "markdown",
      "source": [
        "## LinearRegression모델은 상관관계 분석 보다 주성분 분석의 데이터들이 더 유효한값을 보여줌"
      ],
      "metadata": {
        "id": "W6Lcq7_kPQBB"
      }
    }
  ]
}