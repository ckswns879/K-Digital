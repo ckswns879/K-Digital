{
  "nbformat": 4,
  "nbformat_minor": 0,
  "metadata": {
    "colab": {
      "provenance": []
    },
    "kernelspec": {
      "name": "python3",
      "display_name": "Python 3"
    },
    "language_info": {
      "name": "python"
    }
  },
  "cells": [
    {
      "cell_type": "markdown",
      "source": [
        "# RandomForestRegressor 모델\n",
        "- 여러 개의 의사 결정 트리(Decision Tree)를 결합하여 과적합을 방지하고 일반화 성능을 높이는 앙상블(Ensemble) 모델 중 하나\n",
        "- 각각의 의사 결정 트리를 무작위로 선택한 부분 데이터셋으로 학습하고, 각 트리의 예측 결과를 종합하여 최종 예측을 수행"
      ],
      "metadata": {
        "id": "xlnq8kSUNKIJ"
      }
    },
    {
      "cell_type": "markdown",
      "source": [
        "### 모델의 특징\n",
        "- 과적합을 방지하여 일반화 성능을 높일 수 있다.\n",
        "- 다양한 종류의 데이터셋에 적용 가능하다.\n",
        "- 특성 중요도(Feature Importance)를 계산하여 변수의 중요도를 평가할 수 있다.\n",
        "- 다수의 트리를 사용하기 때문에 처리 속도가 느릴 수 있다.\n",
        "- 의사 결정 트리 모델과 달리 결과의 해석이 어렵다."
      ],
      "metadata": {
        "id": "HrMGM-_7NWgp"
      }
    },
    {
      "cell_type": "code",
      "execution_count": 35,
      "metadata": {
        "id": "bjBbFNDxBDwa"
      },
      "outputs": [],
      "source": [
        "# 필요한 라이브러리\n",
        "# data analytics\n",
        "import pandas as pd\n",
        "\n",
        "# sklearn\n",
        "import sklearn as sk\n",
        "from sklearn.feature_extraction.text import CountVectorizer\n",
        "from sklearn.preprocessing import LabelEncoder\n",
        "from sklearn.model_selection import train_test_split\n"
      ]
    },
    {
      "cell_type": "code",
      "source": [
        "# 데이터 입력\n",
        "from google.colab import drive\n",
        "drive.mount('/content/drive')\n",
        "df = pd.read_csv('/content/drive/MyDrive/데이터_전처리_파일.csv', encoding='cp949')"
      ],
      "metadata": {
        "colab": {
          "base_uri": "https://localhost:8080/"
        },
        "id": "bUqTZ6jjBNrX",
        "outputId": "12d8203d-1493-4bba-a903-f1b3f1a48204"
      },
      "execution_count": 36,
      "outputs": [
        {
          "output_type": "stream",
          "name": "stdout",
          "text": [
            "Drive already mounted at /content/drive; to attempt to forcibly remount, call drive.mount(\"/content/drive\", force_remount=True).\n"
          ]
        }
      ]
    },
    {
      "cell_type": "code",
      "source": [
        "from sklearn.ensemble import RandomForestRegressor\n",
        "from sklearn.metrics import mean_squared_error, r2_score\n",
        "\n",
        "# 텍스트 데이터\n",
        "data = list(df['Subject'] + ' ' + df['견적화폐'] + ' ' + df['Control No.'] + ' ' + df['Assembly'] )\n",
        "\n",
        "# target 값\n",
        "target = list(df['리드타임_음수제거'])\n",
        "\n",
        "# CountVectorizer를 이용하여 feature 벡터 생성\n",
        "vectorizer = CountVectorizer()\n",
        "X = vectorizer.fit_transform(data)\n",
        "\n",
        "# df[리드타임_음수제거]는 별도의 인코딩이 필요치않음\n",
        "y = target\n",
        "\n",
        "# train, test 데이터 분리\n",
        "X_train, X_test, y_train, y_test = train_test_split(X, y, test_size=0.2, random_state=42)\n",
        "\n",
        "# 모델 생성 및 학습\n",
        "model = RandomForestRegressor(n_estimators=7, random_state=40)\n",
        "model.fit(X_train, y_train)\n",
        "\n",
        "# 학습된 모델로 예측\n",
        "y_pred = model.predict(X_test)\n",
        "\n",
        "# 모델 평가\n",
        "mse = mean_squared_error(y_test, y_pred)\n",
        "r2 = r2_score(y_test, y_pred)\n",
        "\n",
        "print(\"MSE: \", mse)\n",
        "print(\"R2 Score: \", r2)\n"
      ],
      "metadata": {
        "colab": {
          "base_uri": "https://localhost:8080/"
        },
        "id": "rCMEP9hnBNtn",
        "outputId": "82802db5-81da-48f8-fc20-293702c07909"
      },
      "execution_count": 40,
      "outputs": [
        {
          "output_type": "stream",
          "name": "stdout",
          "text": [
            "MSE:  348.24651865873176\n",
            "R2 Score:  0.9274962918587235\n"
          ]
        }
      ]
    },
    {
      "cell_type": "code",
      "source": [
        "# 피클로 모델 저장\n",
        "import pickle \n",
        "with open('lead_RFR.pickle','wb') as fw:\n",
        "    pickle.dump(model, fw)"
      ],
      "metadata": {
        "id": "wPRf9QTxHjcJ"
      },
      "execution_count": 38,
      "outputs": []
    },
    {
      "cell_type": "code",
      "source": [
        "# vectorizer 생성\n",
        "vectorizer = CountVectorizer()\n",
        "\n",
        "# feature 벡터 생성\n",
        "X = vectorizer.fit_transform(data)\n",
        "\n",
        "# vectorizer 객체 저장\n",
        "with open('lead_RFR_vectorizer.pickle', 'wb') as fw:\n",
        "    pickle.dump(vectorizer, fw)"
      ],
      "metadata": {
        "id": "GJcYX2dtHk0v"
      },
      "execution_count": 39,
      "outputs": []
    },
    {
      "cell_type": "markdown",
      "source": [
        "## RandomForestRegressor 모델의 경우에는 상관분석의 영향을 많이 받는 변수들이 유효하게 작용했다.\n"
      ],
      "metadata": {
        "id": "ratz9HsLMGmR"
      }
    },
    {
      "cell_type": "markdown",
      "source": [
        "- 변수인 n_estimators는 RFR 모델에서 생성할 의사결정나무의 개수로, 값이 클수록 성능이 좋아진다.\n",
        "- 변수인 random_state 모델이 동일한 결과를 재현하기 위해 사용되는 난수 생성기의 시드(seed)값으로, 시드 값을 고정하면 학습할 때마다 동일한 결정 트리를 생성한다."
      ],
      "metadata": {
        "id": "I8bteuLeMeR5"
      }
    }
  ]
}